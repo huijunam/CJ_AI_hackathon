{
 "cells": [
  {
   "cell_type": "code",
   "execution_count": 1,
   "id": "20363d00",
   "metadata": {},
   "outputs": [],
   "source": [
    "import numpy as np\n",
    "import pandas as pd"
   ]
  },
  {
   "cell_type": "code",
   "execution_count": 2,
   "id": "f8285f22",
   "metadata": {},
   "outputs": [],
   "source": [
    "import pandas as pd\n",
    "\n",
    "data1 = pd.read_excel('8f3202096f1387c5.xlsx', engine='openpyxl')\n",
    "data2 = pd.read_excel('ad8cb80ea8623bbe.xlsx', engine='openpyxl')"
   ]
  },
  {
   "cell_type": "code",
   "execution_count": 3,
   "id": "d350d49c",
   "metadata": {},
   "outputs": [],
   "source": [
    "data1 = data1[['Sentence','Emotion']]\n",
    "data2 = data2[['Unnamed: 1','Unnamed: 2']]\n",
    "data2.drop([0],axis=0,inplace=True)\n",
    "data2.rename(columns={'Unnamed: 1':'Sentence','Unnamed: 2':'Emotion'},inplace=True)\n",
    "data2.replace('ㅍ','공포',inplace=True)\n",
    "data2.replace(['분','분ㄴ'],'분노',inplace=True)\n",
    "data2.replace(['ㅈ중립','중림','ㄴ중립','줄'],'분노',inplace=True)\n"
   ]
  },
  {
   "cell_type": "code",
   "execution_count": 4,
   "id": "421581f6",
   "metadata": {},
   "outputs": [],
   "source": [
    "# nan 제거\n",
    "data2 = data2.dropna(how='any')"
   ]
  },
  {
   "cell_type": "code",
   "execution_count": 5,
   "id": "b3259899",
   "metadata": {},
   "outputs": [
    {
     "data": {
      "text/plain": [
       "array(['분노', '혐오', '중립', '놀람', '행복', '공포', '슬픔'], dtype=object)"
      ]
     },
     "execution_count": 5,
     "metadata": {},
     "output_type": "execute_result"
    }
   ],
   "source": [
    "data1['Emotion'].unique()\n",
    "data2['Emotion'].unique()"
   ]
  },
  {
   "cell_type": "code",
   "execution_count": 6,
   "id": "95f1a37c",
   "metadata": {},
   "outputs": [],
   "source": [
    "data = pd.concat([data1,data2])"
   ]
  },
  {
   "cell_type": "code",
   "execution_count": 7,
   "id": "7046db31",
   "metadata": {},
   "outputs": [],
   "source": [
    "data = data.reset_index(drop=True)"
   ]
  },
  {
   "cell_type": "code",
   "execution_count": 8,
   "id": "6002954d",
   "metadata": {},
   "outputs": [
    {
     "data": {
      "text/plain": [
       "90116"
      ]
     },
     "execution_count": 8,
     "metadata": {},
     "output_type": "execute_result"
    }
   ],
   "source": [
    "data.drop_duplicates(['Sentence','Emotion'],inplace=True) # 중복행 제거\n",
    "len(data)"
   ]
  },
  {
   "cell_type": "code",
   "execution_count": 9,
   "id": "6fb2e7ba",
   "metadata": {},
   "outputs": [
    {
     "data": {
      "text/plain": [
       "중립    45641\n",
       "놀람     9866\n",
       "분노     9238\n",
       "슬픔     7167\n",
       "행복     7015\n",
       "혐오     5621\n",
       "공포     5568\n",
       "Name: Emotion, dtype: int64"
      ]
     },
     "execution_count": 9,
     "metadata": {},
     "output_type": "execute_result"
    }
   ],
   "source": [
    "data['Emotion'].value_counts()"
   ]
  },
  {
   "cell_type": "markdown",
   "id": "19e1d327",
   "metadata": {},
   "source": [
    "# 감성말뭉치"
   ]
  },
  {
   "cell_type": "code",
   "execution_count": 10,
   "id": "755a3c10",
   "metadata": {},
   "outputs": [
    {
     "data": {
      "text/plain": [
       "((51630, 13), (6641, 13))"
      ]
     },
     "execution_count": 10,
     "metadata": {},
     "output_type": "execute_result"
    }
   ],
   "source": [
    "data3 = pd.read_excel('training.xlsx', engine='openpyxl')\n",
    "data4 = pd.read_excel('validation.xlsx', engine='openpyxl')\n",
    "\n",
    "data3.shape, data4.shape"
   ]
  },
  {
   "cell_type": "code",
   "execution_count": 11,
   "id": "c4304738",
   "metadata": {},
   "outputs": [],
   "source": [
    "corpus = pd.concat([data3,data4], axis=0, ignore_index=True)"
   ]
  },
  {
   "cell_type": "code",
   "execution_count": 12,
   "id": "9f4aba38",
   "metadata": {},
   "outputs": [
    {
     "data": {
      "text/plain": [
       "Index(['Unnamed: 0', '연령', '성별', '상황키워드', '신체질환', '감정_대분류', '감정_소분류', '사람문장1',\n",
       "       '시스템문장1', '사람문장2', '시스템문장2', '사람문장3', '시스템문장3'],\n",
       "      dtype='object')"
      ]
     },
     "execution_count": 12,
     "metadata": {},
     "output_type": "execute_result"
    }
   ],
   "source": [
    "corpus.columns"
   ]
  },
  {
   "cell_type": "code",
   "execution_count": 13,
   "id": "7aad70f3",
   "metadata": {},
   "outputs": [],
   "source": [
    "corpus.drop(['Unnamed: 0','연령','성별','신체질환','시스템문장1','시스템문장2', '시스템문장3'], axis=1, inplace=True)"
   ]
  },
  {
   "cell_type": "code",
   "execution_count": 14,
   "id": "d05ca6a3",
   "metadata": {
    "scrolled": true
   },
   "outputs": [
    {
     "data": {
      "text/plain": [
       "불안    10433\n",
       "분노    10417\n",
       "상처    10150\n",
       "슬픔    10128\n",
       "당황     9804\n",
       "기쁨     7339\n",
       "Name: 감정_대분류, dtype: int64"
      ]
     },
     "execution_count": 14,
     "metadata": {},
     "output_type": "execute_result"
    }
   ],
   "source": [
    "corpus[\"감정_대분류\"].value_counts()"
   ]
  },
  {
   "cell_type": "code",
   "execution_count": 15,
   "id": "49fce601",
   "metadata": {},
   "outputs": [],
   "source": [
    "#행복\n",
    "corpus.loc[corpus[\"감정_소분류\"] == '만족스러운',\"감정_대분류\"]='행복'\n",
    "\n",
    "corpus.loc[corpus[\"감정_소분류\"] == '편안한',\"감정_대분류\"]='행복'\n",
    "\n",
    "corpus.loc[corpus[\"감정_소분류\"] == '신뢰하는',\"감정_대분류\"]='행복'\n",
    "\n",
    "corpus.loc[corpus[\"감정_소분류\"] == '안도',\"감정_대분류\"]='행복'\n",
    "\n",
    "corpus.loc[corpus[\"감정_소분류\"] == '기쁨',\"감정_대분류\"]='행복'\n",
    "\n",
    "corpus.loc[corpus[\"감정_소분류\"] == '감사하는',\"감정_대분류\"]='행복'\n",
    "\n",
    "corpus.loc[corpus[\"감정_소분류\"] == '신이 난',\"감정_대분류\"]='행복'\n",
    "\n",
    "corpus.loc[corpus[\"감정_소분류\"] == '자신하는',\"감정_대분류\"]='행복'\n",
    "\n",
    "corpus.loc[corpus[\"감정_소분류\"] == '느긋',\"감정_대분류\"]='행복'\n"
   ]
  },
  {
   "cell_type": "code",
   "execution_count": 16,
   "id": "7f6e210a",
   "metadata": {},
   "outputs": [],
   "source": [
    "#공포\n",
    "corpus.loc[corpus[\"감정_소분류\"] == '고립된',\"감정_대분류\"]='공포'\n",
    "\n",
    "corpus.loc[corpus[\"감정_소분류\"] == '혼란스러운',\"감정_대분류\"]='공포'\n",
    "\n",
    "corpus.loc[corpus[\"감정_소분류\"] == '두려운',\"감정_대분류\"]='공포'\n",
    "\n",
    "corpus.loc[corpus[\"감정_소분류\"] == '불안',\"감정_대분류\"]='공포'\n",
    "\n",
    "corpus.loc[corpus[\"감정_소분류\"] == '초조한',\"감정_대분류\"]='공포'\n",
    "\n",
    "corpus.loc[corpus[\"감정_소분류\"] == '당혹스러운',\"감정_대분류\"]='공포'\n"
   ]
  },
  {
   "cell_type": "code",
   "execution_count": 17,
   "id": "d3c5110e",
   "metadata": {},
   "outputs": [],
   "source": [
    "#슬픔\n",
    "corpus.loc[corpus[\"감정_소분류\"] == '좌절한',\"감정_대분류\"]='슬픔'\n",
    "\n",
    "corpus.loc[corpus[\"감정_소분류\"] == '눈물이 나는',\"감정_대분류\"]='슬픔'\n",
    "\n",
    "corpus.loc[corpus[\"감정_소분류\"] == '우울한',\"감정_대분류\"]='슬픔'\n",
    "\n",
    "corpus.loc[corpus[\"감정_소분류\"] == '슬픔',\"감정_대분류\"]='슬픔'\n",
    "\n",
    "corpus.loc[corpus[\"감정_소분류\"] == '상처',\"감정_대분류\"]='슬픔'\n",
    "\n",
    "corpus.loc[corpus[\"감정_소분류\"] == '실망한',\"감정_대분류\"]='슬픔'\n",
    "\n",
    "corpus.loc[corpus[\"감정_소분류\"] == '후회되는',\"감정_대분류\"]='슬픔'\n",
    "\n",
    "corpus.loc[corpus[\"감정_소분류\"] == '비통한',\"감정_대분류\"]='슬픔'\n",
    "\n",
    "corpus.loc[corpus[\"감정_소분류\"] == '낙담한',\"감정_대분류\"]='슬픔'\n",
    "\n",
    "corpus.loc[corpus[\"감정_소분류\"] == '버려진',\"감정_대분류\"]='슬픔'\n",
    "\n",
    "corpus.loc[corpus[\"감정_소분류\"] == '희생된',\"감정_대분류\"]='슬픔'\n",
    "\n",
    "corpus.loc[corpus[\"감정_소분류\"] == '고립된',\"감정_대분류\"]='슬픔'\n"
   ]
  },
  {
   "cell_type": "code",
   "execution_count": 18,
   "id": "bb2321ee",
   "metadata": {},
   "outputs": [],
   "source": [
    "#분노\n",
    "corpus.loc[corpus[\"감정_소분류\"] == '짜증내는',\"감정_대분류\"]='분노'\n",
    "\n",
    "corpus.loc[corpus[\"감정_소분류\"] == '분노',\"감정_대분류\"]='분노'\n",
    "\n",
    "corpus.loc[corpus[\"감정_소분류\"] == '구역질 나는',\"감정_대분류\"]='분노'\n",
    "\n",
    "corpus.loc[corpus[\"감정_소분류\"] == '환멸을 느끼는',\"감정_대분류\"]='분노'\n",
    "\n",
    "corpus.loc[corpus[\"감정_소분류\"] == '악의적인',\"감정_대분류\"]='분노'\n",
    "\n",
    "corpus.loc[corpus[\"감정_소분류\"] == '혐오스러운',\"감정_대분류\"]='분노'\n",
    "\n"
   ]
  },
  {
   "cell_type": "code",
   "execution_count": 19,
   "id": "a7afa303",
   "metadata": {},
   "outputs": [],
   "source": [
    "#제거\n",
    "index1 = corpus[corpus[\"감정_소분류\"] == '걱정스러운'].index\n",
    "index2 = corpus[corpus[\"감정_소분류\"] == '스트레스 받는'].index\n",
    "index3 = corpus[corpus[\"감정_소분류\"] == '노여워하는'].index\n",
    "index4 = corpus[corpus[\"감정_소분류\"] == '툴툴대는'].index\n",
    "index5 = corpus[corpus[\"감정_소분류\"] == '성가신'].index\n",
    "index6 = corpus[corpus[\"감정_소분류\"] == '한심한'].index\n",
    "index7 = corpus[corpus[\"감정_소분류\"] == '충격 받은'].index\n",
    "index8 = corpus[corpus[\"감정_소분류\"] == '안달하는'].index\n",
    "index9 = corpus[corpus[\"감정_소분류\"] == '배신당한'].index\n",
    "index10 = corpus[corpus[\"감정_소분류\"] == '질투하는'].index\n",
    "index11 = corpus[corpus[\"감정_소분류\"] == '괴로워하는'].index\n",
    "index12 = corpus[corpus[\"감정_소분류\"] == '외로운'].index\n",
    "index13 = corpus[corpus[\"감정_소분류\"] == '조심스러운'].index\n",
    "index14 = corpus[corpus[\"감정_소분류\"] == '회의적인'].index\n",
    "index15 = corpus[corpus[\"감정_소분류\"] == '취약한'].index\n",
    "index16 = corpus[corpus[\"감정_소분류\"] == '마비된'].index\n",
    "index17 = corpus[corpus[\"감정_소분류\"] == '염세적인'].index\n",
    "index18 = corpus[corpus[\"감정_소분류\"] == '열등감'].index\n",
    "index19 = corpus[corpus[\"감정_소분류\"] == '방어적인'].index\n",
    "index20 = corpus[corpus[\"감정_소분류\"] == '흥분'].index\n",
    "index21 = corpus.loc[corpus[\"감정_소분류\"] == '억울한'].index\n",
    "index22 = corpus[corpus[\"감정_소분류\"] == '죄책감의'].index\n",
    "index23 = corpus.loc[corpus[\"감정_소분류\"] == '가난한, 불우한'].index\n",
    "index24 = corpus[corpus[\"감정_소분류\"] == '부끄러운'].index\n",
    "index25 = corpus.loc[corpus[\"감정_소분류\"] == '당황'].index\n",
    "index26 = corpus.loc[corpus[\"감정_소분류\"] == '남의 시선을 의식하는'].index\n",
    "\n",
    "corpus.drop(index1, inplace=True)\n",
    "corpus.drop(index2, inplace=True)\n",
    "corpus.drop(index3, inplace=True)\n",
    "corpus.drop(index4, inplace=True)\n",
    "corpus.drop(index5, inplace=True)\n",
    "corpus.drop(index6, inplace=True)\n",
    "corpus.drop(index7, inplace=True)\n",
    "corpus.drop(index8, inplace=True)\n",
    "corpus.drop(index9, inplace=True)\n",
    "corpus.drop(index10, inplace=True)\n",
    "corpus.drop(index11, inplace=True)\n",
    "corpus.drop(index12, inplace=True)\n",
    "corpus.drop(index13, inplace=True)\n",
    "corpus.drop(index14, inplace=True)\n",
    "corpus.drop(index15, inplace=True)\n",
    "corpus.drop(index16, inplace=True)\n",
    "corpus.drop(index17, inplace=True)\n",
    "corpus.drop(index18, inplace=True)\n",
    "corpus.drop(index19, inplace=True)\n",
    "corpus.drop(index20, inplace=True)\n",
    "corpus.drop(index21, inplace=True)\n",
    "corpus.drop(index22, inplace=True)\n",
    "corpus.drop(index23, inplace=True)\n",
    "corpus.drop(index24, inplace=True)\n",
    "corpus.drop(index25, inplace=True)\n",
    "corpus.drop(index26, inplace=True)\n"
   ]
  },
  {
   "cell_type": "code",
   "execution_count": 20,
   "id": "da0ac4f1",
   "metadata": {},
   "outputs": [],
   "source": [
    "corpus.drop(['상황키워드','감정_소분류','사람문장2', '사람문장3'], axis=1, inplace=True)"
   ]
  },
  {
   "cell_type": "code",
   "execution_count": 21,
   "id": "7d281192",
   "metadata": {
    "scrolled": true
   },
   "outputs": [],
   "source": [
    "corpus.rename(columns={'감정_대분류':'Emotion'}, inplace=True)\n",
    "corpus.rename(columns={'사람문장1':'Sentence'}, inplace=True)"
   ]
  },
  {
   "cell_type": "code",
   "execution_count": 22,
   "id": "8bcfa1c3",
   "metadata": {},
   "outputs": [],
   "source": [
    "corpus = corpus[['Sentence','Emotion']]"
   ]
  },
  {
   "cell_type": "code",
   "execution_count": 23,
   "id": "c82d4678",
   "metadata": {},
   "outputs": [],
   "source": [
    "corpus = corpus.reset_index(drop=True)"
   ]
  },
  {
   "cell_type": "code",
   "execution_count": 24,
   "id": "779d9d93",
   "metadata": {},
   "outputs": [],
   "source": [
    "neutral_data = data[data[\"Emotion\"] == '중립']\n",
    "neutral_data = neutral_data.sample(10000)"
   ]
  },
  {
   "cell_type": "code",
   "execution_count": 25,
   "id": "a3325482",
   "metadata": {},
   "outputs": [],
   "source": [
    "data.drop(data[(data['Emotion'] =='중립')].index, inplace=True)"
   ]
  },
  {
   "cell_type": "code",
   "execution_count": 26,
   "id": "98b97191",
   "metadata": {},
   "outputs": [],
   "source": [
    "anger = corpus[corpus[\"Emotion\"] == '분노']\n",
    "anger = anger.sample(762)"
   ]
  },
  {
   "cell_type": "code",
   "execution_count": 27,
   "id": "b8ab913d",
   "metadata": {},
   "outputs": [],
   "source": [
    "sad = corpus[corpus[\"Emotion\"] == '슬픔']\n",
    "sad = sad.sample(2833)"
   ]
  },
  {
   "cell_type": "code",
   "execution_count": 28,
   "id": "2c82a344",
   "metadata": {},
   "outputs": [],
   "source": [
    "happy = corpus[corpus[\"Emotion\"] == '행복']\n",
    "happy= happy.sample(2985)"
   ]
  },
  {
   "cell_type": "code",
   "execution_count": 29,
   "id": "02f275de",
   "metadata": {},
   "outputs": [],
   "source": [
    "fear = corpus[corpus[\"Emotion\"] == '공포']\n",
    "fear= fear.sample(4432)"
   ]
  },
  {
   "cell_type": "markdown",
   "id": "87375626",
   "metadata": {},
   "source": [
    "# 혐오데이터"
   ]
  },
  {
   "cell_type": "code",
   "execution_count": 30,
   "id": "2f5637c9",
   "metadata": {},
   "outputs": [],
   "source": [
    "hate = pd.read_excel('hf_hate_data5.xlsx', engine='openpyxl')"
   ]
  },
  {
   "cell_type": "code",
   "execution_count": 31,
   "id": "e35c27ac",
   "metadata": {},
   "outputs": [],
   "source": [
    "hate = hate[hate[\"Emotion\"] == '혐오']\n",
    "hate = hate.sample(4379)"
   ]
  },
  {
   "cell_type": "markdown",
   "id": "7f87cb65",
   "metadata": {},
   "source": [
    "## 취합"
   ]
  },
  {
   "cell_type": "code",
   "execution_count": 32,
   "id": "3c6b5c0a",
   "metadata": {},
   "outputs": [],
   "source": [
    "data = pd.concat([data,neutral_data,anger,sad,happy,fear,hate], ignore_index=True)"
   ]
  },
  {
   "cell_type": "code",
   "execution_count": 33,
   "id": "ad315385",
   "metadata": {},
   "outputs": [
    {
     "data": {
      "text/plain": [
       "공포    10000\n",
       "분노    10000\n",
       "슬픔    10000\n",
       "행복    10000\n",
       "혐오    10000\n",
       "중립    10000\n",
       "놀람     9866\n",
       "Name: Emotion, dtype: int64"
      ]
     },
     "execution_count": 33,
     "metadata": {},
     "output_type": "execute_result"
    }
   ],
   "source": [
    "data[\"Emotion\"].value_counts()"
   ]
  },
  {
   "cell_type": "code",
   "execution_count": 34,
   "id": "092ccfcb",
   "metadata": {},
   "outputs": [
    {
     "data": {
      "text/html": [
       "<div>\n",
       "<style scoped>\n",
       "    .dataframe tbody tr th:only-of-type {\n",
       "        vertical-align: middle;\n",
       "    }\n",
       "\n",
       "    .dataframe tbody tr th {\n",
       "        vertical-align: top;\n",
       "    }\n",
       "\n",
       "    .dataframe thead th {\n",
       "        text-align: right;\n",
       "    }\n",
       "</style>\n",
       "<table border=\"1\" class=\"dataframe\">\n",
       "  <thead>\n",
       "    <tr style=\"text-align: right;\">\n",
       "      <th></th>\n",
       "      <th>Sentence</th>\n",
       "      <th>Emotion</th>\n",
       "    </tr>\n",
       "  </thead>\n",
       "  <tbody>\n",
       "    <tr>\n",
       "      <th>0</th>\n",
       "      <td>언니 동생으로 부르는게 맞는 일인가요..??</td>\n",
       "      <td>공포</td>\n",
       "    </tr>\n",
       "    <tr>\n",
       "      <th>1</th>\n",
       "      <td>그냥 내 느낌일뿐겠지?</td>\n",
       "      <td>공포</td>\n",
       "    </tr>\n",
       "    <tr>\n",
       "      <th>2</th>\n",
       "      <td>아직너무초기라서 그런거죠?</td>\n",
       "      <td>공포</td>\n",
       "    </tr>\n",
       "    <tr>\n",
       "      <th>3</th>\n",
       "      <td>유치원버스 사고 낫다던데</td>\n",
       "      <td>공포</td>\n",
       "    </tr>\n",
       "    <tr>\n",
       "      <th>4</th>\n",
       "      <td>근데 원래이런거맞나요</td>\n",
       "      <td>공포</td>\n",
       "    </tr>\n",
       "    <tr>\n",
       "      <th>...</th>\n",
       "      <td>...</td>\n",
       "      <td>...</td>\n",
       "    </tr>\n",
       "    <tr>\n",
       "      <th>69861</th>\n",
       "      <td>새벽시간대가 틀딱 좆족없는 리얼 백수 일베충만 있는시간이라 젤 꿀잼임</td>\n",
       "      <td>혐오</td>\n",
       "    </tr>\n",
       "    <tr>\n",
       "      <th>69862</th>\n",
       "      <td>목사들이 사기꾼들이란 게 민천하에 드러났다.</td>\n",
       "      <td>혐오</td>\n",
       "    </tr>\n",
       "    <tr>\n",
       "      <th>69863</th>\n",
       "      <td>똥남아 애들이 들어오는 건 좋다 이거야 근데 좆족 짱깨랑 무슬림 새끼들은 오지 마라 ㄹㅇ</td>\n",
       "      <td>혐오</td>\n",
       "    </tr>\n",
       "    <tr>\n",
       "      <th>69864</th>\n",
       "      <td>언냐들 원래 미투운동 말로만 나도 당했다 운동 아니었어? ㅠㅠ</td>\n",
       "      <td>혐오</td>\n",
       "    </tr>\n",
       "    <tr>\n",
       "      <th>69865</th>\n",
       "      <td>성 정체성이 확립되기 전인 9살 소년을 바로잡아 주기보다는 혼란의 삶으로 부추기는 ...</td>\n",
       "      <td>혐오</td>\n",
       "    </tr>\n",
       "  </tbody>\n",
       "</table>\n",
       "<p>69866 rows × 2 columns</p>\n",
       "</div>"
      ],
      "text/plain": [
       "                                                Sentence Emotion\n",
       "0                               언니 동생으로 부르는게 맞는 일인가요..??      공포\n",
       "1                                           그냥 내 느낌일뿐겠지?      공포\n",
       "2                                         아직너무초기라서 그런거죠?      공포\n",
       "3                                          유치원버스 사고 낫다던데      공포\n",
       "4                                            근데 원래이런거맞나요      공포\n",
       "...                                                  ...     ...\n",
       "69861             새벽시간대가 틀딱 좆족없는 리얼 백수 일베충만 있는시간이라 젤 꿀잼임      혐오\n",
       "69862                           목사들이 사기꾼들이란 게 민천하에 드러났다.      혐오\n",
       "69863  똥남아 애들이 들어오는 건 좋다 이거야 근데 좆족 짱깨랑 무슬림 새끼들은 오지 마라 ㄹㅇ      혐오\n",
       "69864                 언냐들 원래 미투운동 말로만 나도 당했다 운동 아니었어? ㅠㅠ      혐오\n",
       "69865  성 정체성이 확립되기 전인 9살 소년을 바로잡아 주기보다는 혼란의 삶으로 부추기는 ...      혐오\n",
       "\n",
       "[69866 rows x 2 columns]"
      ]
     },
     "execution_count": 34,
     "metadata": {},
     "output_type": "execute_result"
    }
   ],
   "source": [
    "data"
   ]
  },
  {
   "cell_type": "markdown",
   "id": "0624be34",
   "metadata": {},
   "source": [
    "emotion.to_excel('C:\\\\Users\\\\user\\\\ICT 해커톤\\\\감성말뭉치최종.xlsx')"
   ]
  }
 ],
 "metadata": {
  "kernelspec": {
   "display_name": "Python 3 (ipykernel)",
   "language": "python",
   "name": "python3"
  },
  "language_info": {
   "codemirror_mode": {
    "name": "ipython",
    "version": 3
   },
   "file_extension": ".py",
   "mimetype": "text/x-python",
   "name": "python",
   "nbconvert_exporter": "python",
   "pygments_lexer": "ipython3",
   "version": "3.11.4"
  }
 },
 "nbformat": 4,
 "nbformat_minor": 5
}

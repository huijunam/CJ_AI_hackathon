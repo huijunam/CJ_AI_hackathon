{
  "cells": [
    {
      "cell_type": "markdown",
      "metadata": {
        "id": "Q5usmPIrs9zV"
      },
      "source": [
        "# KoELECTRA\n",
        "\n",
        "### ElectraTokenizer & base_v3\n",
        "\n",
        "- 깃헙 블로그 주소:  https://github.com/monologg/KoELECTRA\n",
        "\n",
        "\n",
        "- ELECTRA는 Replaced Token Detection, 즉 generator에서 나온 token을 보고 discriminator에서 \"real\" token인지 \"fake\" token인지 판별하는 방법으로 학습을 합니다. 이 방법은 모든 input token에 대해 학습할 수 있다는 장점을 가지며, BERT 등과 비교했을 때 더 좋은 성능을 보였습니다.\n",
        "\n",
        "- KoELECTRA는 34GB의 한국어 text로 학습하였고, 이를 통해 나온 KoELECTRA-Base와 KoELECTRA-Small 두 가지 모델을 배포하게 되었습니다.\n",
        "\n",
        "- KoELECTRA는 Wordpiece 사용, 모델 s3 업로드 등을 통해 ***OS 상관없이 Transformers 라이브러리만 설치하면 곧바로 사용할 수 있습니다***.₩"
      ]
    },
    {
      "cell_type": "markdown",
      "metadata": {
        "id": "rC59LlxIuWoM"
      },
      "source": [
        "- 참고 블로그 : https://heegyukim.medium.com/huggingface-koelectra%EB%A1%9C-nsmc-%EA%B0%90%EC%84%B1%EB%B6%84%EB%A5%98%EB%AA%A8%EB%8D%B8%ED%95%99%EC%8A%B5%ED%95%98%EA%B8%B0-1a23a0c704af"
      ]
    },
    {
      "cell_type": "code",
      "execution_count": null,
      "metadata": {
        "colab": {
          "base_uri": "https://localhost:8080/"
        },
        "id": "oBBqRxtiMlXq",
        "outputId": "2570865a-c406-4aa0-d8cd-1374f0bde0f7"
      },
      "outputs": [
        {
          "name": "stdout",
          "output_type": "stream",
          "text": [
            "Collecting transformers\n",
            "  Downloading transformers-4.33.2-py3-none-any.whl (7.6 MB)\n",
            "\u001b[2K     \u001b[90m━━━━━━━━━━━━━━━━━━━━━━━━━━━━━━━━━━━━━━━━\u001b[0m \u001b[32m7.6/7.6 MB\u001b[0m \u001b[31m16.8 MB/s\u001b[0m eta \u001b[36m0:00:00\u001b[0m\n",
            "\u001b[?25hRequirement already satisfied: filelock in /usr/local/lib/python3.10/dist-packages (from transformers) (3.12.2)\n",
            "Collecting huggingface-hub<1.0,>=0.15.1 (from transformers)\n",
            "  Downloading huggingface_hub-0.17.1-py3-none-any.whl (294 kB)\n",
            "\u001b[2K     \u001b[90m━━━━━━━━━━━━━━━━━━━━━━━━━━━━━━━━━━━━━━\u001b[0m \u001b[32m294.8/294.8 kB\u001b[0m \u001b[31m17.2 MB/s\u001b[0m eta \u001b[36m0:00:00\u001b[0m\n",
            "\u001b[?25hRequirement already satisfied: numpy>=1.17 in /usr/local/lib/python3.10/dist-packages (from transformers) (1.23.5)\n",
            "Requirement already satisfied: packaging>=20.0 in /usr/local/lib/python3.10/dist-packages (from transformers) (23.1)\n",
            "Requirement already satisfied: pyyaml>=5.1 in /usr/local/lib/python3.10/dist-packages (from transformers) (6.0.1)\n",
            "Requirement already satisfied: regex!=2019.12.17 in /usr/local/lib/python3.10/dist-packages (from transformers) (2023.6.3)\n",
            "Requirement already satisfied: requests in /usr/local/lib/python3.10/dist-packages (from transformers) (2.31.0)\n",
            "Collecting tokenizers!=0.11.3,<0.14,>=0.11.1 (from transformers)\n",
            "  Downloading tokenizers-0.13.3-cp310-cp310-manylinux_2_17_x86_64.manylinux2014_x86_64.whl (7.8 MB)\n",
            "\u001b[2K     \u001b[90m━━━━━━━━━━━━━━━━━━━━━━━━━━━━━━━━━━━━━━━━\u001b[0m \u001b[32m7.8/7.8 MB\u001b[0m \u001b[31m41.2 MB/s\u001b[0m eta \u001b[36m0:00:00\u001b[0m\n",
            "\u001b[?25hCollecting safetensors>=0.3.1 (from transformers)\n",
            "  Downloading safetensors-0.3.3-cp310-cp310-manylinux_2_17_x86_64.manylinux2014_x86_64.whl (1.3 MB)\n",
            "\u001b[2K     \u001b[90m━━━━━━━━━━━━━━━━━━━━━━━━━━━━━━━━━━━━━━━━\u001b[0m \u001b[32m1.3/1.3 MB\u001b[0m \u001b[31m47.5 MB/s\u001b[0m eta \u001b[36m0:00:00\u001b[0m\n",
            "\u001b[?25hRequirement already satisfied: tqdm>=4.27 in /usr/local/lib/python3.10/dist-packages (from transformers) (4.66.1)\n",
            "Requirement already satisfied: fsspec in /usr/local/lib/python3.10/dist-packages (from huggingface-hub<1.0,>=0.15.1->transformers) (2023.6.0)\n",
            "Requirement already satisfied: typing-extensions>=3.7.4.3 in /usr/local/lib/python3.10/dist-packages (from huggingface-hub<1.0,>=0.15.1->transformers) (4.5.0)\n",
            "Requirement already satisfied: charset-normalizer<4,>=2 in /usr/local/lib/python3.10/dist-packages (from requests->transformers) (3.2.0)\n",
            "Requirement already satisfied: idna<4,>=2.5 in /usr/local/lib/python3.10/dist-packages (from requests->transformers) (3.4)\n",
            "Requirement already satisfied: urllib3<3,>=1.21.1 in /usr/local/lib/python3.10/dist-packages (from requests->transformers) (2.0.4)\n",
            "Requirement already satisfied: certifi>=2017.4.17 in /usr/local/lib/python3.10/dist-packages (from requests->transformers) (2023.7.22)\n",
            "Installing collected packages: tokenizers, safetensors, huggingface-hub, transformers\n",
            "Successfully installed huggingface-hub-0.17.1 safetensors-0.3.3 tokenizers-0.13.3 transformers-4.33.2\n"
          ]
        }
      ],
      "source": [
        "!pip install transformers"
      ]
    },
    {
      "cell_type": "code",
      "execution_count": null,
      "metadata": {
        "id": "0pkbSHibMOZg"
      },
      "outputs": [],
      "source": [
        "import pandas as pd\n",
        "import numpy as np\n",
        "import torch\n",
        "import torch.nn as nn\n",
        "import torch.nn.functional as F\n",
        "import torch.optim as optim\n",
        "from torch.utils.data import Dataset, DataLoader\n",
        "from sklearn.model_selection import train_test_split\n",
        "\n",
        "from transformers import ElectraModel, ElectraTokenizer, ElectraForPreTraining\n",
        "from transformers import AutoTokenizer, AutoModelForSequenceClassification, ElectraForSequenceClassification, AdamW\n",
        "from tqdm.notebook import tqdm\n",
        "\n"
      ]
    },
    {
      "cell_type": "code",
      "execution_count": null,
      "metadata": {
        "id": "lfaTaWGxdmlB"
      },
      "outputs": [],
      "source": [
        "# !pip install pytorch_lightning"
      ]
    },
    {
      "cell_type": "code",
      "execution_count": null,
      "metadata": {
        "id": "sJXc1JDgdjYE"
      },
      "outputs": [],
      "source": [
        "# import pytorch_lightning as pl\n",
        "# from pytorch_lightning import loggers as pl_loggers\n",
        "from sklearn.metrics import accuracy_score, precision_score, recall_score, f1_score"
      ]
    },
    {
      "cell_type": "code",
      "execution_count": null,
      "metadata": {
        "colab": {
          "base_uri": "https://localhost:8080/"
        },
        "id": "a4nkBogqNOAo",
        "outputId": "5f042e6d-7454-41cf-9ca1-7bf287385733"
      },
      "outputs": [
        {
          "name": "stdout",
          "output_type": "stream",
          "text": [
            "Mounted at /content/drive\n"
          ]
        }
      ],
      "source": [
        "#드라이브 연동\n",
        "from google.colab import drive\n",
        "drive.mount('/content/drive')\n"
      ]
    },
    {
      "cell_type": "code",
      "execution_count": null,
      "metadata": {
        "id": "9Ar2OciyNrrj"
      },
      "outputs": [],
      "source": [
        "# # Torch GPU 설정\n",
        "# device_type = 'cuda' if torch.cuda.is_available() else 'cpu'\n",
        "# device = torch.device(device_type)"
      ]
    },
    {
      "cell_type": "markdown",
      "metadata": {
        "id": "kMFCkHewi5tt"
      },
      "source": [
        "# 데이터 전처리"
      ]
    },
    {
      "cell_type": "code",
      "execution_count": null,
      "metadata": {
        "id": "Jo-gulw3N1ZG"
      },
      "outputs": [],
      "source": [
        "data1 = pd.read_excel(\"/content/drive/MyDrive/Prog_All/Data/ko_단발성_대화_데이터셋.xlsx\", engine='openpyxl')\n",
        "data2 = pd.read_excel(\"/content/drive/MyDrive/Prog_All/Data/ko_연속적_대화_데이터셋.xlsx\", engine='openpyxl')"
      ]
    },
    {
      "cell_type": "code",
      "execution_count": null,
      "metadata": {
        "colab": {
          "base_uri": "https://localhost:8080/"
        },
        "id": "bRuxBCOOONYM",
        "outputId": "dcca4ec7-c23c-4f66-d06b-8a9aa296a568"
      },
      "outputs": [
        {
          "name": "stderr",
          "output_type": "stream",
          "text": [
            "<ipython-input-8-8cd63477b64b>:3: SettingWithCopyWarning: \n",
            "A value is trying to be set on a copy of a slice from a DataFrame\n",
            "\n",
            "See the caveats in the documentation: https://pandas.pydata.org/pandas-docs/stable/user_guide/indexing.html#returning-a-view-versus-a-copy\n",
            "  data2.drop([0],axis=0,inplace=True)\n",
            "<ipython-input-8-8cd63477b64b>:4: SettingWithCopyWarning: \n",
            "A value is trying to be set on a copy of a slice from a DataFrame\n",
            "\n",
            "See the caveats in the documentation: https://pandas.pydata.org/pandas-docs/stable/user_guide/indexing.html#returning-a-view-versus-a-copy\n",
            "  data2.rename(columns={'Unnamed: 1':'Sentence','Unnamed: 2':'Emotion'},inplace=True)\n",
            "<ipython-input-8-8cd63477b64b>:5: SettingWithCopyWarning: \n",
            "A value is trying to be set on a copy of a slice from a DataFrame\n",
            "\n",
            "See the caveats in the documentation: https://pandas.pydata.org/pandas-docs/stable/user_guide/indexing.html#returning-a-view-versus-a-copy\n",
            "  data2.replace('ㅍ','공포',inplace=True)\n",
            "<ipython-input-8-8cd63477b64b>:6: SettingWithCopyWarning: \n",
            "A value is trying to be set on a copy of a slice from a DataFrame\n",
            "\n",
            "See the caveats in the documentation: https://pandas.pydata.org/pandas-docs/stable/user_guide/indexing.html#returning-a-view-versus-a-copy\n",
            "  data2.replace(['분','분ㄴ'],'분노',inplace=True)\n",
            "<ipython-input-8-8cd63477b64b>:7: SettingWithCopyWarning: \n",
            "A value is trying to be set on a copy of a slice from a DataFrame\n",
            "\n",
            "See the caveats in the documentation: https://pandas.pydata.org/pandas-docs/stable/user_guide/indexing.html#returning-a-view-versus-a-copy\n",
            "  data2.replace(['ㅈ중립','중림','ㄴ중립','줄'],'분노',inplace=True)\n"
          ]
        }
      ],
      "source": [
        "data1 = data1[['Sentence','Emotion']]\n",
        "data2 = data2[['Unnamed: 1','Unnamed: 2']]\n",
        "data2.drop([0],axis=0,inplace=True)\n",
        "data2.rename(columns={'Unnamed: 1':'Sentence','Unnamed: 2':'Emotion'},inplace=True)\n",
        "data2.replace('ㅍ','공포',inplace=True)\n",
        "data2.replace(['분','분ㄴ'],'분노',inplace=True)\n",
        "data2.replace(['ㅈ중립','중림','ㄴ중립','줄'],'분노',inplace=True)\n"
      ]
    },
    {
      "cell_type": "code",
      "execution_count": null,
      "metadata": {
        "id": "v7t_U5SeOhMf"
      },
      "outputs": [],
      "source": [
        "# nan 제거\n",
        "data2 = data2.dropna(how='any')"
      ]
    },
    {
      "cell_type": "code",
      "execution_count": null,
      "metadata": {
        "colab": {
          "base_uri": "https://localhost:8080/"
        },
        "id": "nIqARhPMOY-R",
        "outputId": "34f247d4-6b18-4836-f48a-dd376badedf4"
      },
      "outputs": [
        {
          "data": {
            "text/plain": [
              "array(['분노', '혐오', '중립', '놀람', '행복', '공포', '슬픔'], dtype=object)"
            ]
          },
          "execution_count": 10,
          "metadata": {},
          "output_type": "execute_result"
        }
      ],
      "source": [
        "data1['Emotion'].unique()\n",
        "data2['Emotion'].unique()"
      ]
    },
    {
      "cell_type": "code",
      "execution_count": null,
      "metadata": {
        "colab": {
          "base_uri": "https://localhost:8080/",
          "height": 363
        },
        "id": "oQ_rM9cSOoMU",
        "outputId": "9aa1ce56-c5c9-442b-d90f-39f0f1389ffb"
      },
      "outputs": [
        {
          "data": {
            "text/html": [
              "\n",
              "  <div id=\"df-ab5657de-98b0-44e1-aa41-3c456ed7c890\" class=\"colab-df-container\">\n",
              "    <div>\n",
              "<style scoped>\n",
              "    .dataframe tbody tr th:only-of-type {\n",
              "        vertical-align: middle;\n",
              "    }\n",
              "\n",
              "    .dataframe tbody tr th {\n",
              "        vertical-align: top;\n",
              "    }\n",
              "\n",
              "    .dataframe thead th {\n",
              "        text-align: right;\n",
              "    }\n",
              "</style>\n",
              "<table border=\"1\" class=\"dataframe\">\n",
              "  <thead>\n",
              "    <tr style=\"text-align: right;\">\n",
              "      <th></th>\n",
              "      <th>Sentence</th>\n",
              "      <th>Emotion</th>\n",
              "    </tr>\n",
              "  </thead>\n",
              "  <tbody>\n",
              "    <tr>\n",
              "      <th>95</th>\n",
              "      <td>너 왜 이렇게 뺀질뺀질해졌어? 옛날엔 안 그랬잖아?</td>\n",
              "      <td>중립</td>\n",
              "    </tr>\n",
              "    <tr>\n",
              "      <th>35955</th>\n",
              "      <td>네, 얼른 씻고 올게요.</td>\n",
              "      <td>중립</td>\n",
              "    </tr>\n",
              "    <tr>\n",
              "      <th>9402</th>\n",
              "      <td>미래의 몰카는 파리 로봇이 될것이다..</td>\n",
              "      <td>놀람</td>\n",
              "    </tr>\n",
              "    <tr>\n",
              "      <th>22247</th>\n",
              "      <td>너무너무 울고싶습니다..</td>\n",
              "      <td>슬픔</td>\n",
              "    </tr>\n",
              "    <tr>\n",
              "      <th>50471</th>\n",
              "      <td>저기, 혹시 저도 방해 되나요.</td>\n",
              "      <td>중립</td>\n",
              "    </tr>\n",
              "    <tr>\n",
              "      <th>5008</th>\n",
              "      <td>언제 올 건데?</td>\n",
              "      <td>중립</td>\n",
              "    </tr>\n",
              "    <tr>\n",
              "      <th>31965</th>\n",
              "      <td>전 아니에요. 사장님이 왕따잖아요!!</td>\n",
              "      <td>분노</td>\n",
              "    </tr>\n",
              "    <tr>\n",
              "      <th>1146</th>\n",
              "      <td>절 맘에들어하는게 거의 80%이상인데 겉도는남자는 왜그런걸까요???????</td>\n",
              "      <td>공포</td>\n",
              "    </tr>\n",
              "    <tr>\n",
              "      <th>52134</th>\n",
              "      <td>에에~? 하지만 경주로 가 봤자 딱히 할 것도 없잖아? 거기에 있는 거라곤 어차피 ...</td>\n",
              "      <td>슬픔</td>\n",
              "    </tr>\n",
              "    <tr>\n",
              "      <th>2846</th>\n",
              "      <td>제 모발이랑 차이날 정도로 얇은 머.리.카.락ㅡㅡ;;</td>\n",
              "      <td>공포</td>\n",
              "    </tr>\n",
              "  </tbody>\n",
              "</table>\n",
              "</div>\n",
              "    <div class=\"colab-df-buttons\">\n",
              "\n",
              "  <div class=\"colab-df-container\">\n",
              "    <button class=\"colab-df-convert\" onclick=\"convertToInteractive('df-ab5657de-98b0-44e1-aa41-3c456ed7c890')\"\n",
              "            title=\"Convert this dataframe to an interactive table.\"\n",
              "            style=\"display:none;\">\n",
              "\n",
              "  <svg xmlns=\"http://www.w3.org/2000/svg\" height=\"24px\" viewBox=\"0 -960 960 960\">\n",
              "    <path d=\"M120-120v-720h720v720H120Zm60-500h600v-160H180v160Zm220 220h160v-160H400v160Zm0 220h160v-160H400v160ZM180-400h160v-160H180v160Zm440 0h160v-160H620v160ZM180-180h160v-160H180v160Zm440 0h160v-160H620v160Z\"/>\n",
              "  </svg>\n",
              "    </button>\n",
              "\n",
              "  <style>\n",
              "    .colab-df-container {\n",
              "      display:flex;\n",
              "      gap: 12px;\n",
              "    }\n",
              "\n",
              "    .colab-df-convert {\n",
              "      background-color: #E8F0FE;\n",
              "      border: none;\n",
              "      border-radius: 50%;\n",
              "      cursor: pointer;\n",
              "      display: none;\n",
              "      fill: #1967D2;\n",
              "      height: 32px;\n",
              "      padding: 0 0 0 0;\n",
              "      width: 32px;\n",
              "    }\n",
              "\n",
              "    .colab-df-convert:hover {\n",
              "      background-color: #E2EBFA;\n",
              "      box-shadow: 0px 1px 2px rgba(60, 64, 67, 0.3), 0px 1px 3px 1px rgba(60, 64, 67, 0.15);\n",
              "      fill: #174EA6;\n",
              "    }\n",
              "\n",
              "    .colab-df-buttons div {\n",
              "      margin-bottom: 4px;\n",
              "    }\n",
              "\n",
              "    [theme=dark] .colab-df-convert {\n",
              "      background-color: #3B4455;\n",
              "      fill: #D2E3FC;\n",
              "    }\n",
              "\n",
              "    [theme=dark] .colab-df-convert:hover {\n",
              "      background-color: #434B5C;\n",
              "      box-shadow: 0px 1px 3px 1px rgba(0, 0, 0, 0.15);\n",
              "      filter: drop-shadow(0px 1px 2px rgba(0, 0, 0, 0.3));\n",
              "      fill: #FFFFFF;\n",
              "    }\n",
              "  </style>\n",
              "\n",
              "    <script>\n",
              "      const buttonEl =\n",
              "        document.querySelector('#df-ab5657de-98b0-44e1-aa41-3c456ed7c890 button.colab-df-convert');\n",
              "      buttonEl.style.display =\n",
              "        google.colab.kernel.accessAllowed ? 'block' : 'none';\n",
              "\n",
              "      async function convertToInteractive(key) {\n",
              "        const element = document.querySelector('#df-ab5657de-98b0-44e1-aa41-3c456ed7c890');\n",
              "        const dataTable =\n",
              "          await google.colab.kernel.invokeFunction('convertToInteractive',\n",
              "                                                    [key], {});\n",
              "        if (!dataTable) return;\n",
              "\n",
              "        const docLinkHtml = 'Like what you see? Visit the ' +\n",
              "          '<a target=\"_blank\" href=https://colab.research.google.com/notebooks/data_table.ipynb>data table notebook</a>'\n",
              "          + ' to learn more about interactive tables.';\n",
              "        element.innerHTML = '';\n",
              "        dataTable['output_type'] = 'display_data';\n",
              "        await google.colab.output.renderOutput(dataTable, element);\n",
              "        const docLink = document.createElement('div');\n",
              "        docLink.innerHTML = docLinkHtml;\n",
              "        element.appendChild(docLink);\n",
              "      }\n",
              "    </script>\n",
              "  </div>\n",
              "\n",
              "\n",
              "<div id=\"df-76a59672-ad3a-4e02-814c-2d0a4360c5e5\">\n",
              "  <button class=\"colab-df-quickchart\" onclick=\"quickchart('df-76a59672-ad3a-4e02-814c-2d0a4360c5e5')\"\n",
              "            title=\"Suggest charts.\"\n",
              "            style=\"display:none;\">\n",
              "\n",
              "<svg xmlns=\"http://www.w3.org/2000/svg\" height=\"24px\"viewBox=\"0 0 24 24\"\n",
              "     width=\"24px\">\n",
              "    <g>\n",
              "        <path d=\"M19 3H5c-1.1 0-2 .9-2 2v14c0 1.1.9 2 2 2h14c1.1 0 2-.9 2-2V5c0-1.1-.9-2-2-2zM9 17H7v-7h2v7zm4 0h-2V7h2v10zm4 0h-2v-4h2v4z\"/>\n",
              "    </g>\n",
              "</svg>\n",
              "  </button>\n",
              "\n",
              "<style>\n",
              "  .colab-df-quickchart {\n",
              "      --bg-color: #E8F0FE;\n",
              "      --fill-color: #1967D2;\n",
              "      --hover-bg-color: #E2EBFA;\n",
              "      --hover-fill-color: #174EA6;\n",
              "      --disabled-fill-color: #AAA;\n",
              "      --disabled-bg-color: #DDD;\n",
              "  }\n",
              "\n",
              "  [theme=dark] .colab-df-quickchart {\n",
              "      --bg-color: #3B4455;\n",
              "      --fill-color: #D2E3FC;\n",
              "      --hover-bg-color: #434B5C;\n",
              "      --hover-fill-color: #FFFFFF;\n",
              "      --disabled-bg-color: #3B4455;\n",
              "      --disabled-fill-color: #666;\n",
              "  }\n",
              "\n",
              "  .colab-df-quickchart {\n",
              "    background-color: var(--bg-color);\n",
              "    border: none;\n",
              "    border-radius: 50%;\n",
              "    cursor: pointer;\n",
              "    display: none;\n",
              "    fill: var(--fill-color);\n",
              "    height: 32px;\n",
              "    padding: 0;\n",
              "    width: 32px;\n",
              "  }\n",
              "\n",
              "  .colab-df-quickchart:hover {\n",
              "    background-color: var(--hover-bg-color);\n",
              "    box-shadow: 0 1px 2px rgba(60, 64, 67, 0.3), 0 1px 3px 1px rgba(60, 64, 67, 0.15);\n",
              "    fill: var(--button-hover-fill-color);\n",
              "  }\n",
              "\n",
              "  .colab-df-quickchart-complete:disabled,\n",
              "  .colab-df-quickchart-complete:disabled:hover {\n",
              "    background-color: var(--disabled-bg-color);\n",
              "    fill: var(--disabled-fill-color);\n",
              "    box-shadow: none;\n",
              "  }\n",
              "\n",
              "  .colab-df-spinner {\n",
              "    border: 2px solid var(--fill-color);\n",
              "    border-color: transparent;\n",
              "    border-bottom-color: var(--fill-color);\n",
              "    animation:\n",
              "      spin 1s steps(1) infinite;\n",
              "  }\n",
              "\n",
              "  @keyframes spin {\n",
              "    0% {\n",
              "      border-color: transparent;\n",
              "      border-bottom-color: var(--fill-color);\n",
              "      border-left-color: var(--fill-color);\n",
              "    }\n",
              "    20% {\n",
              "      border-color: transparent;\n",
              "      border-left-color: var(--fill-color);\n",
              "      border-top-color: var(--fill-color);\n",
              "    }\n",
              "    30% {\n",
              "      border-color: transparent;\n",
              "      border-left-color: var(--fill-color);\n",
              "      border-top-color: var(--fill-color);\n",
              "      border-right-color: var(--fill-color);\n",
              "    }\n",
              "    40% {\n",
              "      border-color: transparent;\n",
              "      border-right-color: var(--fill-color);\n",
              "      border-top-color: var(--fill-color);\n",
              "    }\n",
              "    60% {\n",
              "      border-color: transparent;\n",
              "      border-right-color: var(--fill-color);\n",
              "    }\n",
              "    80% {\n",
              "      border-color: transparent;\n",
              "      border-right-color: var(--fill-color);\n",
              "      border-bottom-color: var(--fill-color);\n",
              "    }\n",
              "    90% {\n",
              "      border-color: transparent;\n",
              "      border-bottom-color: var(--fill-color);\n",
              "    }\n",
              "  }\n",
              "</style>\n",
              "\n",
              "  <script>\n",
              "    async function quickchart(key) {\n",
              "      const quickchartButtonEl =\n",
              "        document.querySelector('#' + key + ' button');\n",
              "      quickchartButtonEl.disabled = true;  // To prevent multiple clicks.\n",
              "      quickchartButtonEl.classList.add('colab-df-spinner');\n",
              "      try {\n",
              "        const charts = await google.colab.kernel.invokeFunction(\n",
              "            'suggestCharts', [key], {});\n",
              "      } catch (error) {\n",
              "        console.error('Error during call to suggestCharts:', error);\n",
              "      }\n",
              "      quickchartButtonEl.classList.remove('colab-df-spinner');\n",
              "      quickchartButtonEl.classList.add('colab-df-quickchart-complete');\n",
              "    }\n",
              "    (() => {\n",
              "      let quickchartButtonEl =\n",
              "        document.querySelector('#df-76a59672-ad3a-4e02-814c-2d0a4360c5e5 button');\n",
              "      quickchartButtonEl.style.display =\n",
              "        google.colab.kernel.accessAllowed ? 'block' : 'none';\n",
              "    })();\n",
              "  </script>\n",
              "</div>\n",
              "    </div>\n",
              "  </div>\n"
            ],
            "text/plain": [
              "                                                Sentence Emotion\n",
              "95                         너 왜 이렇게 뺀질뺀질해졌어? 옛날엔 안 그랬잖아?       중립\n",
              "35955                                      네, 얼른 씻고 올게요.      중립\n",
              "9402                               미래의 몰카는 파리 로봇이 될것이다..      놀람\n",
              "22247                                      너무너무 울고싶습니다..      슬픔\n",
              "50471                                  저기, 혹시 저도 방해 되나요.      중립\n",
              "5008                                            언제 올 건데?      중립\n",
              "31965                               전 아니에요. 사장님이 왕따잖아요!!      분노\n",
              "1146           절 맘에들어하는게 거의 80%이상인데 겉도는남자는 왜그런걸까요???????      공포\n",
              "52134  에에~? 하지만 경주로 가 봤자 딱히 할 것도 없잖아? 거기에 있는 거라곤 어차피 ...      슬픔\n",
              "2846                       제 모발이랑 차이날 정도로 얇은 머.리.카.락ㅡㅡ;;      공포"
            ]
          },
          "execution_count": 11,
          "metadata": {},
          "output_type": "execute_result"
        }
      ],
      "source": [
        "data = pd.concat([data1,data2])\n",
        "data.sample(n=10)"
      ]
    },
    {
      "cell_type": "code",
      "execution_count": null,
      "metadata": {
        "colab": {
          "base_uri": "https://localhost:8080/"
        },
        "id": "mB1ibzn2Osiw",
        "outputId": "a86deab4-cc95-451b-e36d-d4c41fb6272d"
      },
      "outputs": [
        {
          "data": {
            "text/plain": [
              "90116"
            ]
          },
          "execution_count": 12,
          "metadata": {},
          "output_type": "execute_result"
        }
      ],
      "source": [
        "data.drop_duplicates(['Sentence','Emotion'],inplace=True) # 중복행 제거\n",
        "len(data)"
      ]
    },
    {
      "cell_type": "code",
      "execution_count": null,
      "metadata": {
        "id": "JCiq0G8qOwWQ"
      },
      "outputs": [],
      "source": [
        "num_labeling_dics ={\n",
        "    '공포': 0,\n",
        "    '놀람': 1,\n",
        "    '분노': 2,\n",
        "    '슬픔': 3,\n",
        "    '중립': 4,\n",
        "    '행복': 5,\n",
        "    '혐오': 6\n",
        "  }"
      ]
    },
    {
      "cell_type": "code",
      "execution_count": null,
      "metadata": {
        "id": "79ik5R5SPW7d"
      },
      "outputs": [],
      "source": [
        "# 감정 -> 숫자 레이블링\n",
        "for label_class in num_labeling_dics:\n",
        "    data.loc[(data['Emotion'] == label_class), 'Emotion'] = num_labeling_dics[label_class]"
      ]
    },
    {
      "cell_type": "code",
      "execution_count": null,
      "metadata": {
        "id": "-5FXfXvIPYYs"
      },
      "outputs": [],
      "source": [
        "# data_list = []\n",
        "# for q, label in zip(data['Sentence'], data['Emotion'])  :\n",
        "#     check_data = []\n",
        "#     check_data.append(q)\n",
        "#     check_data.append(str(label))\n",
        "#     data_list.append(check_data)"
      ]
    },
    {
      "cell_type": "code",
      "execution_count": null,
      "metadata": {
        "id": "XJquWr4fhVxc"
      },
      "outputs": [],
      "source": [
        "texts = []\n",
        "labels = []\n",
        "for q, label in zip(data['Sentence'], data['Emotion'])  :\n",
        "    texts.append(q)\n",
        "    labels.append((label))"
      ]
    },
    {
      "cell_type": "code",
      "execution_count": null,
      "metadata": {
        "id": "QOhEakD7hfYF"
      },
      "outputs": [],
      "source": [
        "texts"
      ]
    },
    {
      "cell_type": "code",
      "execution_count": null,
      "metadata": {
        "id": "h0ObFwt9hlJw"
      },
      "outputs": [],
      "source": [
        "labels"
      ]
    },
    {
      "cell_type": "code",
      "execution_count": null,
      "metadata": {
        "colab": {
          "base_uri": "https://localhost:8080/"
        },
        "id": "y2flpEFtP-gO",
        "outputId": "26beb018-8f61-4b48-9844-96bb32df815f"
      },
      "outputs": [
        {
          "data": {
            "text/plain": [
              "4    45641\n",
              "1     9866\n",
              "2     9238\n",
              "3     7167\n",
              "5     7015\n",
              "6     5621\n",
              "0     5568\n",
              "Name: Emotion, dtype: int64"
            ]
          },
          "execution_count": 19,
          "metadata": {},
          "output_type": "execute_result"
        }
      ],
      "source": [
        "data['Emotion'].value_counts()"
      ]
    },
    {
      "cell_type": "markdown",
      "metadata": {
        "id": "ClZT5rjwR1_1"
      },
      "source": [
        "# WandB"
      ]
    },
    {
      "cell_type": "code",
      "execution_count": null,
      "metadata": {
        "colab": {
          "base_uri": "https://localhost:8080/"
        },
        "id": "rwbDFZdYR1Mx",
        "outputId": "36e6573d-24e0-4007-8c44-a0aa6084cdc6"
      },
      "outputs": [
        {
          "name": "stdout",
          "output_type": "stream",
          "text": [
            "Collecting wandb\n",
            "  Downloading wandb-0.15.10-py3-none-any.whl (2.1 MB)\n",
            "\u001b[2K     \u001b[90m━━━━━━━━━━━━━━━━━━━━━━━━━━━━━━━━━━━━━━━━\u001b[0m \u001b[32m2.1/2.1 MB\u001b[0m \u001b[31m8.1 MB/s\u001b[0m eta \u001b[36m0:00:00\u001b[0m\n",
            "\u001b[?25hRequirement already satisfied: Click!=8.0.0,>=7.1 in /usr/local/lib/python3.10/dist-packages (from wandb) (8.1.7)\n",
            "Collecting GitPython!=3.1.29,>=1.0.0 (from wandb)\n",
            "  Downloading GitPython-3.1.36-py3-none-any.whl (189 kB)\n",
            "\u001b[2K     \u001b[90m━━━━━━━━━━━━━━━━━━━━━━━━━━━━━━━━━━━━━━━\u001b[0m \u001b[32m189.5/189.5 kB\u001b[0m \u001b[31m7.5 MB/s\u001b[0m eta \u001b[36m0:00:00\u001b[0m\n",
            "\u001b[?25hRequirement already satisfied: requests<3,>=2.0.0 in /usr/local/lib/python3.10/dist-packages (from wandb) (2.31.0)\n",
            "Requirement already satisfied: psutil>=5.0.0 in /usr/local/lib/python3.10/dist-packages (from wandb) (5.9.5)\n",
            "Collecting sentry-sdk>=1.0.0 (from wandb)\n",
            "  Downloading sentry_sdk-1.31.0-py2.py3-none-any.whl (224 kB)\n",
            "\u001b[2K     \u001b[90m━━━━━━━━━━━━━━━━━━━━━━━━━━━━━━━━━━━━━━━\u001b[0m \u001b[32m224.8/224.8 kB\u001b[0m \u001b[31m8.2 MB/s\u001b[0m eta \u001b[36m0:00:00\u001b[0m\n",
            "\u001b[?25hCollecting docker-pycreds>=0.4.0 (from wandb)\n",
            "  Downloading docker_pycreds-0.4.0-py2.py3-none-any.whl (9.0 kB)\n",
            "Requirement already satisfied: PyYAML in /usr/local/lib/python3.10/dist-packages (from wandb) (6.0.1)\n",
            "Collecting pathtools (from wandb)\n",
            "  Downloading pathtools-0.1.2.tar.gz (11 kB)\n",
            "  Preparing metadata (setup.py) ... \u001b[?25l\u001b[?25hdone\n",
            "Collecting setproctitle (from wandb)\n",
            "  Downloading setproctitle-1.3.2-cp310-cp310-manylinux_2_5_x86_64.manylinux1_x86_64.manylinux_2_17_x86_64.manylinux2014_x86_64.whl (30 kB)\n",
            "Requirement already satisfied: setuptools in /usr/local/lib/python3.10/dist-packages (from wandb) (67.7.2)\n",
            "Requirement already satisfied: appdirs>=1.4.3 in /usr/local/lib/python3.10/dist-packages (from wandb) (1.4.4)\n",
            "Requirement already satisfied: protobuf!=4.21.0,<5,>=3.19.0 in /usr/local/lib/python3.10/dist-packages (from wandb) (3.20.3)\n",
            "Requirement already satisfied: six>=1.4.0 in /usr/local/lib/python3.10/dist-packages (from docker-pycreds>=0.4.0->wandb) (1.16.0)\n",
            "Collecting gitdb<5,>=4.0.1 (from GitPython!=3.1.29,>=1.0.0->wandb)\n",
            "  Downloading gitdb-4.0.10-py3-none-any.whl (62 kB)\n",
            "\u001b[2K     \u001b[90m━━━━━━━━━━━━━━━━━━━━━━━━━━━━━━━━━━━━━━━━\u001b[0m \u001b[32m62.7/62.7 kB\u001b[0m \u001b[31m6.8 MB/s\u001b[0m eta \u001b[36m0:00:00\u001b[0m\n",
            "\u001b[?25hRequirement already satisfied: charset-normalizer<4,>=2 in /usr/local/lib/python3.10/dist-packages (from requests<3,>=2.0.0->wandb) (3.2.0)\n",
            "Requirement already satisfied: idna<4,>=2.5 in /usr/local/lib/python3.10/dist-packages (from requests<3,>=2.0.0->wandb) (3.4)\n",
            "Requirement already satisfied: urllib3<3,>=1.21.1 in /usr/local/lib/python3.10/dist-packages (from requests<3,>=2.0.0->wandb) (2.0.4)\n",
            "Requirement already satisfied: certifi>=2017.4.17 in /usr/local/lib/python3.10/dist-packages (from requests<3,>=2.0.0->wandb) (2023.7.22)\n",
            "Collecting smmap<6,>=3.0.1 (from gitdb<5,>=4.0.1->GitPython!=3.1.29,>=1.0.0->wandb)\n",
            "  Downloading smmap-5.0.0-py3-none-any.whl (24 kB)\n",
            "Building wheels for collected packages: pathtools\n",
            "  Building wheel for pathtools (setup.py) ... \u001b[?25l\u001b[?25hdone\n",
            "  Created wheel for pathtools: filename=pathtools-0.1.2-py3-none-any.whl size=8791 sha256=2332d2b2049b4e3d5bdf64e97e33eca7f5e829802528e6a1ed2abcdb0a506f28\n",
            "  Stored in directory: /root/.cache/pip/wheels/e7/f3/22/152153d6eb222ee7a56ff8617d80ee5207207a8c00a7aab794\n",
            "Successfully built pathtools\n",
            "Installing collected packages: pathtools, smmap, setproctitle, sentry-sdk, docker-pycreds, gitdb, GitPython, wandb\n",
            "Successfully installed GitPython-3.1.36 docker-pycreds-0.4.0 gitdb-4.0.10 pathtools-0.1.2 sentry-sdk-1.31.0 setproctitle-1.3.2 smmap-5.0.0 wandb-0.15.10\n"
          ]
        }
      ],
      "source": [
        "\n",
        "!pip install wandb"
      ]
    },
    {
      "cell_type": "code",
      "execution_count": null,
      "metadata": {
        "colab": {
          "base_uri": "https://localhost:8080/"
        },
        "id": "MQ0UXjbYR4kt",
        "outputId": "649f37d3-f146-4323-8439-bf1731f38a57"
      },
      "outputs": [
        {
          "name": "stdout",
          "output_type": "stream",
          "text": [
            "\u001b[34m\u001b[1mwandb\u001b[0m: Logging into wandb.ai. (Learn how to deploy a W&B server locally: https://wandb.me/wandb-server)\n",
            "\u001b[34m\u001b[1mwandb\u001b[0m: You can find your API key in your browser here: https://wandb.ai/authorize\n",
            "\u001b[34m\u001b[1mwandb\u001b[0m: Paste an API key from your profile and hit enter, or press ctrl+c to quit: \n",
            "\u001b[34m\u001b[1mwandb\u001b[0m: Appending key for api.wandb.ai to your netrc file: /root/.netrc\n"
          ]
        }
      ],
      "source": [
        "\n",
        "!wandb login"
      ]
    },
    {
      "cell_type": "code",
      "execution_count": null,
      "metadata": {
        "colab": {
          "base_uri": "https://localhost:8080/",
          "height": 164
        },
        "id": "_uoaWPxBR7eM",
        "outputId": "ba2fe04f-c36f-4c6d-fe81-50ad33aa5457"
      },
      "outputs": [
        {
          "name": "stderr",
          "output_type": "stream",
          "text": [
            "\u001b[34m\u001b[1mwandb\u001b[0m: Currently logged in as: \u001b[33mtracy110410\u001b[0m. Use \u001b[1m`wandb login --relogin`\u001b[0m to force relogin\n",
            "\u001b[34m\u001b[1mwandb\u001b[0m: Tracking run with wandb version 0.15.10\n",
            "\u001b[34m\u001b[1mwandb\u001b[0m: Run data is saved locally in \u001b[35m\u001b[1m/content/wandb/run-20230916_105340-x635znl7\u001b[0m\n",
            "\u001b[34m\u001b[1mwandb\u001b[0m: Run \u001b[1m`wandb offline`\u001b[0m to turn off syncing.\n",
            "\u001b[34m\u001b[1mwandb\u001b[0m: Syncing run \u001b[33mbright-donkey-14\u001b[0m\n",
            "\u001b[34m\u001b[1mwandb\u001b[0m: ⭐️ View project at \u001b[34m\u001b[4mhttps://wandb.ai/tracy110410/CJ_KoElectra\u001b[0m\n",
            "\u001b[34m\u001b[1mwandb\u001b[0m: 🚀 View run at \u001b[34m\u001b[4mhttps://wandb.ai/tracy110410/CJ_KoElectra/runs/x635znl7\u001b[0m\n"
          ]
        },
        {
          "data": {
            "text/html": [
              "<button onClick=\"this.nextSibling.style.display='block';this.style.display='none';\">Display W&B run</button><iframe src='https://wandb.ai/tracy110410/CJ_KoElectra/runs/x635znl7?jupyter=true' style='border:none;width:100%;height:420px;display:none;'></iframe>"
            ],
            "text/plain": [
              "<wandb.sdk.wandb_run.Run at 0x7e67f00f2a10>"
            ]
          },
          "execution_count": 22,
          "metadata": {},
          "output_type": "execute_result"
        }
      ],
      "source": [
        "import wandb\n",
        "wandb.init(project=\"CJ_KoElectra\", entity='tracy110410')\n"
      ]
    },
    {
      "cell_type": "code",
      "execution_count": null,
      "metadata": {
        "id": "4Olzt825dR0q"
      },
      "outputs": [],
      "source": [
        "# class ElectraClassification(pl.LightningModule) :\n",
        "#     def __init__(self, learning_rate) :\n",
        "#         super().__init__()\n",
        "#         self.learning_rate = learning_rate\n",
        "#         self.save_hyperparameters()\n",
        "\n",
        "#         self.electra = ElectraForSequenceClassification.from_pretrained(\"monologg/koelectra-small-v3-discriminator\")\n",
        "\n",
        "#         self.metric_acc = torchmetrics.Accuracy()\n",
        "#         self.metric_f1 = torchmetrics.F1(num_classes=7)\n",
        "#         self.metric_rec = torchmetrics.Recall(num_classes=7)\n",
        "#         self.metric_pre = torchmetrics.Precision(num_classes=7)\n",
        "\n",
        "#         self.loss_func = nn.CrossEntropyLoss()\n",
        "\n",
        "#     def forward(self, input_ids, attention_mask, labels=None) :\n",
        "#         output = self.electra(input_ids=input_ids,\n",
        "#                                 attention_mask=attention_mask,\n",
        "#                                 labels=labels)\n",
        "#         return output\n",
        "\n",
        "#     def training_step(self, batch, batch_idx) :\n",
        "#         '''\n",
        "#         ##########################################################\n",
        "#         electra forward input shape information\n",
        "#         * input_ids.shape (batch_size, max_length)\n",
        "#         * attention_mask.shape (batch_size, max_length)\n",
        "#         * label.shape (batch_size,)\n",
        "#         ##########################################################\n",
        "#         '''\n",
        "\n",
        "#         # change label shape (list -> torch.Tensor((batch_size, 1)))\n",
        "#         label = batch['label'].view([-1,1])\n",
        "\n",
        "#         output = self(input_ids=batch['input_ids'].to(device),\n",
        "#                         attention_mask=batch['attention_mask'].to(device),\n",
        "#                         labels=label.to(device))\n",
        "#         '''\n",
        "#         ##########################################################\n",
        "#         electra forward output shape information\n",
        "#         * loss.shape (1,)\n",
        "#         * logits.shape (batch_size, config.num_labels=2)\n",
        "#         '''\n",
        "#         logits = output.logits\n",
        "\n",
        "#         loss = output.loss\n",
        "#         # loss = self.loss_func(logits.to(device), batch['label'].to(device))\n",
        "\n",
        "#         softmax = nn.functional.softmax(logits, dim=1)\n",
        "#         preds = softmax.argmax(dim=1)\n",
        "\n",
        "#         self.log(\"train_loss\", loss, prog_bar=True)\n",
        "\n",
        "#         return {\n",
        "#             'loss' : loss,\n",
        "#             'pred' : preds,\n",
        "#             'label' : batch['label']\n",
        "#         }\n",
        "\n",
        "#     def training_epoch_end(self, outputs, state='train') :\n",
        "#         y_true = []\n",
        "#         y_pred = []\n",
        "#         for i in outputs :\n",
        "#             y_true += i['label'].tolist()\n",
        "#             y_pred += i['pred'].tolist()\n",
        "\n",
        "#         acc = accuracy_score(y_true, y_pred)\n",
        "#         prec = precision_score(y_true, y_pred)\n",
        "#         rec = recall_score(y_true, y_pred)\n",
        "#         f1 = f1_score(y_true, y_pred)\n",
        "\n",
        "#         # self.log(state+'_acc', acc, on_epoch=True, prog_bar=True)\n",
        "#         # self.log(state+'_precision', prec, on_epoch=True, prog_bar=True)\n",
        "#         # self.log(state+'_recall', rec, on_epoch=True, prog_bar=True)\n",
        "#         # self.log(state+'_f1', f1, on_epoch=True, prog_bar=True)\n",
        "#         print(f'[Epoch {self.trainer.current_epoch} {state.upper()}] Acc: {acc}, Prec: {prec}, Rec: {rec}, F1: {f1}')\n",
        "\n",
        "#     def validation_step(self, batch, batch_idx) :\n",
        "#         '''\n",
        "#         ##########################################################\n",
        "#         electra forward input shape information\n",
        "#         * input_ids.shape (batch_size, max_length)\n",
        "#         * attention_mask.shape (batch_size, max_length)\n",
        "#         ##########################################################\n",
        "#         '''\n",
        "#         output = self(input_ids=batch['input_ids'].to(device),\n",
        "#                         attention_mask=batch['attention_mask'].to(device))\n",
        "#         logits = output.logits\n",
        "#         preds = nn.functional.softmax(logits, dim=1).argmax(dim=1)\n",
        "\n",
        "#         labels = batch['label']\n",
        "#         accuracy = self.metric_acc(preds, labels)\n",
        "#         f1 = self.metric_f1(preds, labels)\n",
        "#         recall = self.metric_rec(preds, labels)\n",
        "#         precision = self.metric_pre(preds, labels)\n",
        "#         self.log('val_accuracy', accuracy, on_epoch=True, prog_bar=True)\n",
        "#         self.log('val_f1', f1, on_epoch=True, prog_bar=True)\n",
        "#         self.log('val_recall', recall, on_epoch=True, prog_bar=True)\n",
        "#         self.log('val_precision', precision, on_epoch=True, prog_bar=True)\n",
        "\n",
        "#         return {\n",
        "#             'accuracy' : accuracy,\n",
        "#             'f1' : f1,\n",
        "#             'recall' : recall,\n",
        "#             'precision' : precision\n",
        "#         }\n",
        "\n",
        "#     def validation_epoch_end(self, outputs) :\n",
        "#         val_acc = torch.stack([i['accuracy'] for i in outputs]).mean()\n",
        "#         val_f1 = torch.stack([i['f1'] for i in outputs]).mean()\n",
        "#         val_rec = torch.stack([i['recall'] for i in outputs]).mean()\n",
        "#         val_pre = torch.stack([i['precision'] for i in outputs]).mean()\n",
        "#         # self.log('val_f1', val_f1, on_epoch=True, prog_bar=True)\n",
        "#         # self.log('val_acc', val_acc, on_epoch=True, prog_bar=True)\n",
        "#         print(f'val_accuracy : {val_acc}, val_f1 : {val_f1}, val_recall : {val_rec}, val_precision : {val_pre}')\n",
        "\n",
        "\n",
        "#     def configure_optimizers(self) :\n",
        "#         optimizer = torch.optim.AdamW(self.electra.parameters(), lr=self.learning_rate)\n",
        "#         lr_scheduler = torch.optim.lr_scheduler.ExponentialLR(optimizer, gamma=0.95)\n",
        "\n",
        "#         return {\n",
        "#             'optimizer' : optimizer,\n",
        "#             'lr_scheduler' : lr_scheduler\n",
        "#         }"
      ]
    },
    {
      "cell_type": "markdown",
      "metadata": {
        "id": "OOnw_YZmi1p1"
      },
      "source": [
        "#  NSMCDataset 구성"
      ]
    },
    {
      "cell_type": "code",
      "execution_count": null,
      "metadata": {
        "id": "Rww8qackMczV"
      },
      "outputs": [],
      "source": [
        "class NSMCDataset(Dataset):\n",
        "\n",
        "    def __init__(self, texts, labels, tokenizer, max_length):\n",
        "        self.texts = texts\n",
        "        self.labels = labels\n",
        "        self.tokenizer = tokenizer\n",
        "        self.max_length = max_length\n",
        "\n",
        "    def __len__(self):\n",
        "        return len(self.texts)\n",
        "\n",
        "    def __getitem__(self, index):\n",
        "        text = self.texts[index]\n",
        "        label = self.labels[index]\n",
        "\n",
        "        encoding = self.tokenizer(text, padding='max_length', truncation=True, max_length=self.max_length, return_tensors='pt')\n",
        "        input_ids = encoding['input_ids'].squeeze()\n",
        "        attention_mask = encoding['attention_mask'].squeeze()\n",
        "\n",
        "        return {'input_ids': input_ids, 'attention_mask': attention_mask, 'label': label}\n"
      ]
    },
    {
      "cell_type": "code",
      "execution_count": null,
      "metadata": {
        "id": "f11yTTUUVhf_"
      },
      "outputs": [],
      "source": [
        "def check_label(label):\n",
        "  if label['공포'] == 0:\n",
        "    return 0\n",
        "  elif label['놀람'] == 1:\n",
        "    return 1\n",
        "  elif label['분노'] == 2:\n",
        "    return 2\n",
        "  elif label['슬픔'] == 3:\n",
        "    return 3\n",
        "  elif label['중립'] == 4:\n",
        "    return 4\n",
        "  elif label['행복'] == 5:\n",
        "    return 5\n",
        "  elif label['혐오'] == 6:\n",
        "    return 6"
      ]
    },
    {
      "cell_type": "code",
      "execution_count": null,
      "metadata": {
        "id": "t7CyWUbcsaUj"
      },
      "outputs": [],
      "source": []
    },
    {
      "cell_type": "markdown",
      "metadata": {
        "id": "KyTg77TRsxbc"
      },
      "source": [
        "### nsmc-huggingface-koelectra.ipynb 토크나이저\n",
        "![스크린샷 2023-09-14 오후 4.58.35.png](data:image/png;base64,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)"
      ]
    },
    {
      "cell_type": "markdown",
      "metadata": {
        "id": "uYCC40jrsa2q"
      },
      "source": [
        "https://colab.research.google.com/drive/1JZ-pXlmgRIYHm8yPLYY68Q28l9OYAL6H?usp=sharing&source=post_page-----1a23a0c704af--------------------------------#scrollTo=f7-jRPQXz2r5"
      ]
    },
    {
      "cell_type": "code",
      "execution_count": null,
      "metadata": {
        "colab": {
          "base_uri": "https://localhost:8080/",
          "height": 201,
          "referenced_widgets": [
            "30f1bf845f534562911aa929045943be",
            "cacabe959767446ea5ec304320ab4285",
            "b818663ffbe1444ca4297cba0466f290",
            "0a29c86a8c8941629e68006f17b6a2ca",
            "2e440779a69446b8b5ae4ddf7098a731",
            "6b8ec36f8c1042c5b3cef2a9bf79d627",
            "c6658b397e624825996c4e71dfa19cfd",
            "a578faee89c045f8b124459725c10e0f",
            "8527bad10432425b880a17ad96c38bdb",
            "73787b9459704fceb44d79c1e7c1bb74",
            "6f86bf34ee5c46a5b6dcaccb22038862",
            "3daafeb104434cb89b40ba76fd9dc776",
            "9191a7397d094cf28ceb07a32fbd3e82",
            "1be30225742d40d1b8e38d1f54e2f23f",
            "29e86d97dca14cbea7a929a8972c9a86",
            "3f21ecc1783f402998f3be0f211e3347",
            "487f35ffc9e64be2990e2e8815e7c30d",
            "35240f89cb9948b69780ab963b7bb1da",
            "95b75c65d0c54e1bb04828a9231abe4b",
            "f57d1245006f4b33bff6eff1ef40ae9c",
            "a8ea58d6102a47f9a8074504a2902ec7",
            "e41c51f742b842d2840add98fa40e4c4",
            "e8fab3e61cb9462d887a4ce4720f2fe3",
            "d6b6adb445624daeb1981d4e8949a787",
            "700a783b64064ce88a9db1e67eee87a1",
            "d84da62c27134a87b7176e95148318f5",
            "e5fd7d83215d4aca9c6052029beaacbf",
            "206cce79ba944811ba158546cc436dd5",
            "719c9a9d31a642fbaa63d861fe087c92",
            "4ddaa413605f4ce8a98113da0757cdd6",
            "ae6170e52a9541708d99f6f3e2f095b7",
            "44d9d60b41834918b8f25279e849742f",
            "63d5b3afbe514a5c9b6f8becc8a67cf8",
            "9d9a1d8b91ef4fec8a596a7a38ec19d3",
            "12683fda63254d93aae46d4368bd11c3",
            "c2515e857a2d4ffe8d6a1cbc32bafc4a",
            "28e92c69051046cba6ab75acf6826884",
            "c9c573ea39b94803822cfb15b40c5617",
            "1f89729cb27944288fb0b74824b528e6",
            "515a6b9d27634604a76bac0e2bf745be",
            "d8ec814e96bf4968ae2bb4be41dad31d",
            "3af4d73475ff4f51b1832b5deb02a2a2",
            "1c87a767f6044564af26bacaba2312d7",
            "faa4484f6a5e4205b0f921c6d80d0dd7"
          ]
        },
        "id": "dvhtTfS_O5c_",
        "outputId": "9f52fec9-7d33-4010-83bf-7b888d6202a2"
      },
      "outputs": [
        {
          "data": {
            "application/vnd.jupyter.widget-view+json": {
              "model_id": "30f1bf845f534562911aa929045943be",
              "version_major": 2,
              "version_minor": 0
            },
            "text/plain": [
              "Downloading (…)lve/main/config.json:   0%|          | 0.00/467 [00:00<?, ?B/s]"
            ]
          },
          "metadata": {},
          "output_type": "display_data"
        },
        {
          "data": {
            "application/vnd.jupyter.widget-view+json": {
              "model_id": "3daafeb104434cb89b40ba76fd9dc776",
              "version_major": 2,
              "version_minor": 0
            },
            "text/plain": [
              "Downloading pytorch_model.bin:   0%|          | 0.00/452M [00:00<?, ?B/s]"
            ]
          },
          "metadata": {},
          "output_type": "display_data"
        },
        {
          "name": "stderr",
          "output_type": "stream",
          "text": [
            "Some weights of ElectraForSequenceClassification were not initialized from the model checkpoint at monologg/koelectra-base-v3-discriminator and are newly initialized: ['classifier.dense.weight', 'classifier.dense.bias', 'classifier.out_proj.bias', 'classifier.out_proj.weight']\n",
            "You should probably TRAIN this model on a down-stream task to be able to use it for predictions and inference.\n"
          ]
        },
        {
          "data": {
            "application/vnd.jupyter.widget-view+json": {
              "model_id": "e8fab3e61cb9462d887a4ce4720f2fe3",
              "version_major": 2,
              "version_minor": 0
            },
            "text/plain": [
              "Downloading (…)solve/main/vocab.txt:   0%|          | 0.00/263k [00:00<?, ?B/s]"
            ]
          },
          "metadata": {},
          "output_type": "display_data"
        },
        {
          "data": {
            "application/vnd.jupyter.widget-view+json": {
              "model_id": "9d9a1d8b91ef4fec8a596a7a38ec19d3",
              "version_major": 2,
              "version_minor": 0
            },
            "text/plain": [
              "Downloading (…)okenizer_config.json:   0%|          | 0.00/61.0 [00:00<?, ?B/s]"
            ]
          },
          "metadata": {},
          "output_type": "display_data"
        }
      ],
      "source": [
        "# KcELECTRA 모델과 토크나이저 로드\n",
        "# model_name = \"monologg/koelectra-base-v2-discriminator\"\n",
        "# tokenizer = AutoTokenizer.from_pretrained(model_name)\n",
        "# model = ElectraForSequenceClassification.from_pretrained(model_name,num_labels=7)\n",
        "\n",
        "from transformers import ElectraModel, ElectraTokenizer\n",
        "model_name = \"monologg/koelectra-base-v3-discriminator\"\n",
        "model = ElectraForSequenceClassification.from_pretrained(model_name, num_labels=7)\n",
        "tokenizer = ElectraTokenizer.from_pretrained(model_name)\n",
        "\n"
      ]
    },
    {
      "cell_type": "code",
      "execution_count": null,
      "metadata": {
        "colab": {
          "base_uri": "https://localhost:8080/"
        },
        "id": "-zNO5isvQz2G",
        "outputId": "f14b9c99-008c-4970-eae1-dfff1725263b"
      },
      "outputs": [
        {
          "data": {
            "text/plain": [
              "ElectraForSequenceClassification(\n",
              "  (electra): ElectraModel(\n",
              "    (embeddings): ElectraEmbeddings(\n",
              "      (word_embeddings): Embedding(35000, 768, padding_idx=0)\n",
              "      (position_embeddings): Embedding(512, 768)\n",
              "      (token_type_embeddings): Embedding(2, 768)\n",
              "      (LayerNorm): LayerNorm((768,), eps=1e-12, elementwise_affine=True)\n",
              "      (dropout): Dropout(p=0.1, inplace=False)\n",
              "    )\n",
              "    (encoder): ElectraEncoder(\n",
              "      (layer): ModuleList(\n",
              "        (0-11): 12 x ElectraLayer(\n",
              "          (attention): ElectraAttention(\n",
              "            (self): ElectraSelfAttention(\n",
              "              (query): Linear(in_features=768, out_features=768, bias=True)\n",
              "              (key): Linear(in_features=768, out_features=768, bias=True)\n",
              "              (value): Linear(in_features=768, out_features=768, bias=True)\n",
              "              (dropout): Dropout(p=0.1, inplace=False)\n",
              "            )\n",
              "            (output): ElectraSelfOutput(\n",
              "              (dense): Linear(in_features=768, out_features=768, bias=True)\n",
              "              (LayerNorm): LayerNorm((768,), eps=1e-12, elementwise_affine=True)\n",
              "              (dropout): Dropout(p=0.1, inplace=False)\n",
              "            )\n",
              "          )\n",
              "          (intermediate): ElectraIntermediate(\n",
              "            (dense): Linear(in_features=768, out_features=3072, bias=True)\n",
              "            (intermediate_act_fn): GELUActivation()\n",
              "          )\n",
              "          (output): ElectraOutput(\n",
              "            (dense): Linear(in_features=3072, out_features=768, bias=True)\n",
              "            (LayerNorm): LayerNorm((768,), eps=1e-12, elementwise_affine=True)\n",
              "            (dropout): Dropout(p=0.1, inplace=False)\n",
              "          )\n",
              "        )\n",
              "      )\n",
              "    )\n",
              "  )\n",
              "  (classifier): ElectraClassificationHead(\n",
              "    (dense): Linear(in_features=768, out_features=768, bias=True)\n",
              "    (dropout): Dropout(p=0.1, inplace=False)\n",
              "    (out_proj): Linear(in_features=768, out_features=7, bias=True)\n",
              "  )\n",
              ")"
            ]
          },
          "execution_count": 27,
          "metadata": {},
          "output_type": "execute_result"
        }
      ],
      "source": [
        "model"
      ]
    },
    {
      "cell_type": "code",
      "execution_count": null,
      "metadata": {
        "id": "Rv0fvqIAQ3mW"
      },
      "outputs": [],
      "source": [
        "# Setting parameters\n",
        "max_length = 128\n",
        "learning_rate = 1e-5\n",
        "num_epochs = 5\n",
        "batch_size = 128\n",
        "random_seed=123"
      ]
    },
    {
      "cell_type": "code",
      "execution_count": null,
      "metadata": {
        "id": "64Nqy7uOPBSs"
      },
      "outputs": [],
      "source": [
        "labels = torch.tensor(labels, dtype=torch.long)\n",
        "dataset = NSMCDataset(texts, labels, tokenizer, max_length)"
      ]
    },
    {
      "cell_type": "code",
      "execution_count": null,
      "metadata": {
        "colab": {
          "base_uri": "https://localhost:8080/"
        },
        "id": "xt78uBcNYzL5",
        "outputId": "03253b67-971e-4fc2-e2db-c535c778cfb7"
      },
      "outputs": [
        {
          "data": {
            "text/plain": [
              "90116"
            ]
          },
          "execution_count": 30,
          "metadata": {},
          "output_type": "execute_result"
        }
      ],
      "source": [
        "len(dataset)"
      ]
    },
    {
      "cell_type": "code",
      "execution_count": null,
      "metadata": {
        "id": "GBoevK8DS5kz"
      },
      "outputs": [],
      "source": [
        "# config\n",
        "wandb.config ={\n",
        "  \"learning_rate\": learning_rate,\n",
        "  \"epochs\": num_epochs,\n",
        "  \"batch_size\": batch_size,\n",
        "  \"seed\": random_seed\n",
        "}"
      ]
    },
    {
      "cell_type": "code",
      "execution_count": null,
      "metadata": {
        "id": "mJ8Q1i-oPIFu"
      },
      "outputs": [],
      "source": [
        "# Train / Test set 분리\n",
        "from sklearn.model_selection import train_test_split\n",
        "train_data, test_data = train_test_split(dataset, test_size=0.2, random_state=42)"
      ]
    },
    {
      "cell_type": "code",
      "execution_count": null,
      "metadata": {
        "id": "XEhBKak0ijmY"
      },
      "outputs": [],
      "source": [
        "train_dataloader = DataLoader(train_data, batch_size=batch_size, shuffle=True)\n",
        "valid_dataloader = DataLoader(test_data, batch_size=batch_size, shuffle=True)"
      ]
    },
    {
      "cell_type": "code",
      "execution_count": null,
      "metadata": {
        "id": "Dzy9NlxgUuWX"
      },
      "outputs": [],
      "source": [
        "train_data"
      ]
    },
    {
      "cell_type": "code",
      "execution_count": null,
      "metadata": {
        "id": "lJQeHGxvTWs4"
      },
      "outputs": [],
      "source": [
        "data_train = NSMCDataset(train_data, labels, tokenizer, max_length)\n",
        "data_test = NSMCDataset(test_data, labels, tokenizer, max_length)"
      ]
    },
    {
      "cell_type": "code",
      "execution_count": null,
      "metadata": {
        "colab": {
          "base_uri": "https://localhost:8080/"
        },
        "id": "lCxKKmQHkVw8",
        "outputId": "34bb539e-ddd9-4133-9a4d-5996f6ab888b"
      },
      "outputs": [
        {
          "name": "stderr",
          "output_type": "stream",
          "text": [
            "/usr/local/lib/python3.10/dist-packages/transformers/optimization.py:411: FutureWarning: This implementation of AdamW is deprecated and will be removed in a future version. Use the PyTorch implementation torch.optim.AdamW instead, or set `no_deprecation_warning=True` to disable this warning\n",
            "  warnings.warn(\n"
          ]
        }
      ],
      "source": [
        "# 옵티마이저 및 손실 함수 설정\n",
        "optimizer = AdamW(model.parameters(), lr=learning_rate)\n",
        "criterion = nn.CrossEntropyLoss()"
      ]
    },
    {
      "cell_type": "code",
      "execution_count": null,
      "metadata": {
        "id": "YQctNnxklxu1"
      },
      "outputs": [],
      "source": [
        "# device = torch.device(\"cuda:0\" if torch.cuda.is_available() else \"cpu\")\n",
        "# model = model.to(device)"
      ]
    },
    {
      "cell_type": "code",
      "execution_count": null,
      "metadata": {
        "colab": {
          "base_uri": "https://localhost:8080/"
        },
        "id": "pRgeqFR0phr7",
        "outputId": "6d5344a7-4957-43d2-c4c6-e6eae7210e9a"
      },
      "outputs": [
        {
          "name": "stdout",
          "output_type": "stream",
          "text": [
            "No GPU available, using the CPU instead.\n"
          ]
        }
      ],
      "source": [
        "if torch.cuda.is_available():\n",
        "    device = torch.device(\"cuda\")\n",
        "    print('There are %d GPU(s) available.' % torch.cuda.device_count())\n",
        "    print('We will use the GPU:', torch.cuda.get_device_name(0))\n",
        "else:\n",
        "    device = torch.device(\"cpu\")\n",
        "    print('No GPU available, using the CPU instead.')\n",
        "\n",
        "model = model.to(device)"
      ]
    },
    {
      "cell_type": "markdown",
      "metadata": {
        "id": "aQ6jiLX702WJ"
      },
      "source": []
    },
    {
      "cell_type": "markdown",
      "metadata": {
        "id": "esZqU3lJiwBD"
      },
      "source": [
        "# 모델 재학습과 평가"
      ]
    },
    {
      "cell_type": "code",
      "execution_count": null,
      "metadata": {
        "colab": {
          "base_uri": "https://localhost:8080/",
          "height": 457
        },
        "id": "un6WsD4nQpVR",
        "outputId": "3ba4a9df-9172-4f88-c800-7ac6be18f19c"
      },
      "outputs": [
        {
          "ename": "KeyboardInterrupt",
          "evalue": "ignored",
          "output_type": "error",
          "traceback": [
            "\u001b[0;31m---------------------------------------------------------------------------\u001b[0m",
            "\u001b[0;31mKeyboardInterrupt\u001b[0m                         Traceback (most recent call last)",
            "\u001b[0;32m<ipython-input-39-68d3664933f3>\u001b[0m in \u001b[0;36m<cell line: 2>\u001b[0;34m()\u001b[0m\n\u001b[1;32m     24\u001b[0m         \u001b[0mloss\u001b[0m \u001b[0;34m=\u001b[0m \u001b[0mcriterion\u001b[0m\u001b[0;34m(\u001b[0m\u001b[0mlogits\u001b[0m\u001b[0;34m,\u001b[0m \u001b[0mlabels\u001b[0m\u001b[0;34m)\u001b[0m\u001b[0;34m\u001b[0m\u001b[0;34m\u001b[0m\u001b[0m\n\u001b[1;32m     25\u001b[0m         \u001b[0;31m# 역전파를 통해 그래디언트 계산\u001b[0m\u001b[0;34m\u001b[0m\u001b[0;34m\u001b[0m\u001b[0m\n\u001b[0;32m---> 26\u001b[0;31m         \u001b[0mloss\u001b[0m\u001b[0;34m.\u001b[0m\u001b[0mbackward\u001b[0m\u001b[0;34m(\u001b[0m\u001b[0;34m)\u001b[0m\u001b[0;34m\u001b[0m\u001b[0;34m\u001b[0m\u001b[0m\n\u001b[0m\u001b[1;32m     27\u001b[0m         \u001b[0;31m# 옵티마이저를 사용해 가중치를 업데이트\u001b[0m\u001b[0;34m\u001b[0m\u001b[0;34m\u001b[0m\u001b[0m\n\u001b[1;32m     28\u001b[0m         \u001b[0moptimizer\u001b[0m\u001b[0;34m.\u001b[0m\u001b[0mstep\u001b[0m\u001b[0;34m(\u001b[0m\u001b[0;34m)\u001b[0m\u001b[0;34m\u001b[0m\u001b[0;34m\u001b[0m\u001b[0m\n",
            "\u001b[0;32m/usr/local/lib/python3.10/dist-packages/torch/_tensor.py\u001b[0m in \u001b[0;36mbackward\u001b[0;34m(self, gradient, retain_graph, create_graph, inputs)\u001b[0m\n\u001b[1;32m    485\u001b[0m                 \u001b[0minputs\u001b[0m\u001b[0;34m=\u001b[0m\u001b[0minputs\u001b[0m\u001b[0;34m,\u001b[0m\u001b[0;34m\u001b[0m\u001b[0;34m\u001b[0m\u001b[0m\n\u001b[1;32m    486\u001b[0m             )\n\u001b[0;32m--> 487\u001b[0;31m         torch.autograd.backward(\n\u001b[0m\u001b[1;32m    488\u001b[0m             \u001b[0mself\u001b[0m\u001b[0;34m,\u001b[0m \u001b[0mgradient\u001b[0m\u001b[0;34m,\u001b[0m \u001b[0mretain_graph\u001b[0m\u001b[0;34m,\u001b[0m \u001b[0mcreate_graph\u001b[0m\u001b[0;34m,\u001b[0m \u001b[0minputs\u001b[0m\u001b[0;34m=\u001b[0m\u001b[0minputs\u001b[0m\u001b[0;34m\u001b[0m\u001b[0;34m\u001b[0m\u001b[0m\n\u001b[1;32m    489\u001b[0m         )\n",
            "\u001b[0;32m/usr/local/lib/python3.10/dist-packages/torch/autograd/__init__.py\u001b[0m in \u001b[0;36mbackward\u001b[0;34m(tensors, grad_tensors, retain_graph, create_graph, grad_variables, inputs)\u001b[0m\n\u001b[1;32m    198\u001b[0m     \u001b[0;31m# some Python versions print out the first line of a multi-line function\u001b[0m\u001b[0;34m\u001b[0m\u001b[0;34m\u001b[0m\u001b[0m\n\u001b[1;32m    199\u001b[0m     \u001b[0;31m# calls in the traceback and some print out the last line\u001b[0m\u001b[0;34m\u001b[0m\u001b[0;34m\u001b[0m\u001b[0m\n\u001b[0;32m--> 200\u001b[0;31m     Variable._execution_engine.run_backward(  # Calls into the C++ engine to run the backward pass\n\u001b[0m\u001b[1;32m    201\u001b[0m         \u001b[0mtensors\u001b[0m\u001b[0;34m,\u001b[0m \u001b[0mgrad_tensors_\u001b[0m\u001b[0;34m,\u001b[0m \u001b[0mretain_graph\u001b[0m\u001b[0;34m,\u001b[0m \u001b[0mcreate_graph\u001b[0m\u001b[0;34m,\u001b[0m \u001b[0minputs\u001b[0m\u001b[0;34m,\u001b[0m\u001b[0;34m\u001b[0m\u001b[0;34m\u001b[0m\u001b[0m\n\u001b[1;32m    202\u001b[0m         allow_unreachable=True, accumulate_grad=True)  # Calls into the C++ engine to run the backward pass\n",
            "\u001b[0;31mKeyboardInterrupt\u001b[0m: "
          ]
        }
      ],
      "source": [
        "\n",
        "# 모델 재학습\n",
        "for epoch in range(num_epochs):\n",
        "    model.train()\n",
        "    total_loss = 0\n",
        "\n",
        "    for batch in train_dataloader:\n",
        "        input_ids = batch['input_ids']\n",
        "        attention_mask = batch['attention_mask']\n",
        "        labels = batch['label']\n",
        "\n",
        "        input_ids = input_ids.to(device)\n",
        "        attention_mask = attention_mask.to(device)\n",
        "        labels = labels.to(device)\n",
        "\n",
        "        # 그래디언트 초기화\n",
        "        optimizer.zero_grad()\n",
        "        # 모델에 입력을 주어 예측을 생성합니다.\n",
        "        outputs = model(input_ids, attention_mask=attention_mask)\n",
        "        # 모델 출력에서 로짓(분류에 대한 점수)을 얻습니다.\n",
        "        # 모델 예측\n",
        "        logits = outputs.logits  # 최신 Transformers 라이브러리에서는 이렇게 사용할 수 있을 수 있음\n",
        "\n",
        "        # 손실을 계산합니다.\n",
        "        loss = criterion(logits, labels)\n",
        "        # 역전파를 통해 그래디언트 계산\n",
        "        loss.backward()\n",
        "        # 옵티마이저를 사용해 가중치를 업데이트\n",
        "        optimizer.step()\n",
        "        # 에포크 전체 손실을 누적합니다.\n",
        "        total_loss += loss.item()\n",
        "\n",
        "    # 에포크 평균 손실 계산\n",
        "    avg_loss = total_loss / len(train_dataloader)\n",
        "    # 에포크별 손실 출력\n",
        "    print(f\"Epoch {epoch+1}/{num_epochs} - Avg Loss: {avg_loss:.4f}\")\n",
        "\n",
        "    # 모델 평가\n",
        "    model.eval()\n",
        "    val_total_loss = 0\n",
        "    correct = 0\n",
        "    total = 0\n",
        "\n",
        "    with torch.no_grad():\n",
        "        for val_batch in valid_dataloader:\n",
        "            # Validation 데이터 가져오기\n",
        "            val_input_ids = val_batch['input_ids']\n",
        "            val_attention_mask = val_batch['attention_mask']\n",
        "            val_labels = val_batch['label']\n",
        "\n",
        "            val_input_ids = val_input_ids.to(device)\n",
        "            val_attention_mask = val_attention_mask.to(device)\n",
        "            val_labels = val_labels.to(device)\n",
        "\n",
        "            # 모델 예측\n",
        "            val_outputs = model(val_input_ids, attention_mask=val_attention_mask)\n",
        "            val_logits = val_outputs.logits\n",
        "\n",
        "            # 손실 계산\n",
        "            val_loss = criterion(val_logits, val_labels)\n",
        "            val_total_loss += val_loss.item()\n",
        "\n",
        "            # 정확도 계산\n",
        "            val_preds = val_logits.argmax(dim=1)\n",
        "            correct += (val_preds == val_labels).sum().item()\n",
        "            total += val_labels.size(0)\n",
        "\n",
        "    val_avg_loss = val_total_loss / len(valid_dataloader)\n",
        "    val_accuracy = correct / total\n",
        "    print(f\"Validation Loss: {val_avg_loss:.4f} - Validation Accuracy: {val_accuracy:.4f}\")"
      ]
    },
    {
      "cell_type": "code",
      "execution_count": null,
      "metadata": {
        "id": "yjUbI8NGnOPC"
      },
      "outputs": [],
      "source": [
        "KoELECTRA_y_preds =[] # confusion matrix\n",
        "KoELECTRA_label_list =[] # confusion matrix"
      ]
    },
    {
      "cell_type": "code",
      "execution_count": null,
      "metadata": {
        "id": "Mn8xK0tQseJQ"
      },
      "outputs": [],
      "source": [
        "log_interval = 200"
      ]
    },
    {
      "cell_type": "markdown",
      "source": [
        "![스크린샷 2023-09-16 오후 7.30.53.png](data:image/png;base64,iVBORw0KGgoAAAANSUhEUgAAAYsAAACqCAYAAABcZ2OsAAABVWlDQ1BJQ0MgUHJvZmlsZQAAKJF1kD1IQnEUxX+aZZ8S1VjgFBUWoUVQLSkkgYOY0gcUPF+mgemfp1Htjc1NDUHQFjQUTkGje1ARRNDS1BS49PG6Tyuz6MLl/DgcLpcDdoemVNoBrGfyRiTod88vLLqdjzTRTgejTGh6Tk2FwyGJ8KW1U7rCZunloHVrseepOJ4Nug7v7xoeIvs7f/M107ySyOmir7IDujLyYOsTDm/mlcVbwl2GPCW8a3GywgcWxyt8Ws5EIwHhonC7ntJWhG+EPfEffvIHr6c39M8frO9bE5nYrKhLtpsQ03gZI4pPOuCf7Eg5GyCLYhuDNZKkyONmShxFmoTwDBl0hvAIexmW9Vkd/+6u6uUUTB6D3V/1lhrhLAadJ1Wvdxna3uF8QmmG9t2oreTIrfq8FW4pQP2eaT7PgbMf3q5N86Vgmm9HUHcLF6UPK6FiClD+InEAAABWZVhJZk1NACoAAAAIAAGHaQAEAAAAAQAAABoAAAAAAAOShgAHAAAAEgAAAESgAgAEAAAAAQAAAYugAwAEAAAAAQAAAKoAAAAAQVNDSUkAAABTY3JlZW5zaG90W3hfwwAAAdZpVFh0WE1MOmNvbS5hZG9iZS54bXAAAAAAADx4OnhtcG1ldGEgeG1sbnM6eD0iYWRvYmU6bnM6bWV0YS8iIHg6eG1wdGs9IlhNUCBDb3JlIDYuMC4wIj4KICAgPHJkZjpSREYgeG1sbnM6cmRmPSJodHRwOi8vd3d3LnczLm9yZy8xOTk5LzAyLzIyLXJkZi1zeW50YXgtbnMjIj4KICAgICAgPHJkZjpEZXNjcmlwdGlvbiByZGY6YWJvdXQ9IiIKICAgICAgICAgICAgeG1sbnM6ZXhpZj0iaHR0cDovL25zLmFkb2JlLmNvbS9leGlmLzEuMC8iPgogICAgICAgICA8ZXhpZjpQaXhlbFlEaW1lbnNpb24+MTcwPC9leGlmOlBpeGVsWURpbWVuc2lvbj4KICAgICAgICAgPGV4aWY6UGl4ZWxYRGltZW5zaW9uPjM5NTwvZXhpZjpQaXhlbFhEaW1lbnNpb24+CiAgICAgICAgIDxleGlmOlVzZXJDb21tZW50PlNjcmVlbnNob3Q8L2V4aWY6VXNlckNvbW1lbnQ+CiAgICAgIDwvcmRmOkRlc2NyaXB0aW9uPgogICA8L3JkZjpSREY+CjwveDp4bXBtZXRhPgqgk1G8AABAAElEQVR4Ae3dCbx1ZVU/8GPlP6MoosFSihIoS0rLKMnKIq1IGkypaILSLJrBRCELbDCSskhNDIrKNCoazMrCBjVosLIom+d5nufBzn99l67zee5+9z773HvPvb7vfZ/1+dy799n7GdczrbWeZ/32Pf793/99uejUOdA50DnQOdA5sIYDr7fmXX/VOdA50DnQOdA5kBzoi0XvCJ0DnQOdA50Dsxzoi8Usi3qAzoHOgc6BzoG+WPQ+0DnQOdA50Dkwy4F7LINmQ/UAnQOdA50DnQMnNQe6ZnFSN3+vfOdA50DnwGYc6IvFZnzqoToHOgc6B05qDvTF4qRu/l75zoHOgc6BzTjQF4vN+NRDdQ50DnQOnNQc6IvFSd38vfKdA50DnQObcaAvFpvxqYfqHOgc6Bw4qTnQF4uTuvl75TsHOgc6BzbjQF8sNuNTD9U50DnQOXBSc+CEXSz++q//evHTP/3Ti//8z//cUwP+x3/8x+Jf/uVfJuP+3d/93eLjPu7jVu//7//+b/Hf//3f+fe///u/q+f95nA48Fd/9Ve7yujVr3714o/+6I8WY231X//1X/luKsGpvP7xH/9x8Q//8A9T0frzzoEjzYE32GbtfumXfmnxfd/3fcck+Xmf93mLt3zLtzzm+X4e/MEf/MHicz7ncxbf8R3fsXjnd37njZMyeXzap33a4mUve9niSU960uKzPuuzRuN++7d/++J93/d9V+8+8zM/c/GjP/qjizd+4zfOZy996UsXb/3Wb716v60bi9Q3fMM3LP7nf/5n8fZv//aLxz3ucdtK+ph0vvIrv3Jh0URv9VZvtfjcz/3cY8K8rh+8+MUvXjztaU9b/PEf//HiD//wDxf3uMc9Zov0e7/3e4vLLrts8TZv8zaLP/mTP8n4F1xwQcbThldfffXiHd/xHRf/9E//tLj11lsXb/d2b5fv1uX12Z/92Ytf+ZVfyXZ59KMfvXjiE584W44eoHPgSHEA3Me26G//9m+XT3nKU5Yx6SxjMs6/xzzmMcu777576V0M4mVIfMsYwMuYDI/J9rd+67eWoTEc81zYn//5n1+GpLj80z/902VI+Rnm4z/+4zPtX/iFX1j+8z//8zHxph7I47nPfe7yWc961miQf/3Xf12+x3u8R5a5AsTks/zN3/zN+nlgV3X9yZ/8yWUsFMt3eZd3WcYkmXmFVrP8nd/5nfwTBj/9jkVzVRZ8Ed773/3d313+/d///erd2A2e4uHXfd3XJR/Hwky1yd/8zd8sf+Znfmb527/92zvKIO+YVJevfOUrl6961auWyt1StV37bN29tvi3f/u35Ie+swnJ+wd/8Acz6E/91E8tP/zDP3wV7Tu/8zuXv/Ebv5G/v/qrv3oZC+bq3bq8fv/3fz/DxQKTZQmtdBWv33QOnAwc2Kpm8RZv8RaLd3qnd1rERLJ4t3d7t8Xtt9+++IiP+IjUKn74h394EQvJIibABRPS//t//2/xhCc8YXHxxRcvaCSkPZK6d2/7tm+7ePrTn57SLk3ly77syxZnnXXWgsRI8v65n/u5lBqt2iRImkUsSIsf+IEfWJx99tmzizkpep2E+j3f8z2Lj/7oj16oT0vf9E3ftDj11FPznfodBL3BG7zB4vVe7/UWH/MxH7M488wzF9/93d+9uPLKK7Pun/AJn7B4szd7s5SGf+zHfiz58v7v//6Lb/3Wb1284hWvWFxzzTVpdokJe/EXf/EXi6/92q/NdKbK+V7v9V7JR3V593d/9x3B1rVJLC6LmIQX55133uK7vuu7Fg9+8IMXN998c2opH/IhH7Lw92d/9mcLkrp2f8ADHpBpM+9ceOGFiwc+8IFZhx0ZTvwoTW7i9ejjWOgX/pA83/RN33QV7mM/9mNX93iEx0Xr8qKJxKK1+KEf+qHF/e53v5WGWXH7tXPgyHNg2yvit33bt6VU/qEf+qHLz//8z9+RPEnZe0TL8Js094mf+InLmHRWYcM0tPziL/7iZdiWM61f/dVfzXc0gvd7v/dbxgSQv0nFMbHnPek4zDerNOZuvvEbv3FUsyAZv8/7vM9Koq90YqFYkkrlR+v45V/+5Xo1eY3JKCVv0nf9baIBhXkttTJalLyUCcVEtfyoj/qovP/Lv/zLfBd7Nvk7FpeU9P2IRTPrkC9m/n3BF3zB8sd//MePCTXVJgJ++qd/+vLrv/7rl7/+67+e2taP/MiPZHy/P/ADP3D5sz/7s8swGS2/93u/dxk2/lXa2k2bx4S9erbpDU1rU82i0sRz/KNpDOmFL3xh9qUQPoavJrWYMGFlnDBBLcOceUy8/qBz4ChzYLHtylkMvuZrviYXAQOSiahUdhOFSa6IeeAlL3lJDk4TY5FJ+ZM/+ZPTjGGwT5HFokxDJqbWpDAVp55PLRahyRyzyFWcupooQ9upn5NXk6pJrv277bbbJsN7YXIV3qJo4nVvkkK1kJmU8bjMaBZV4Sy8KKT6PS8WFiOf2pXeWJtIn4nr8ssvX37wB39whmt5wbwX2mTmr73LjCYe2uskqzy7WSyY5/SdMke9JvfX/A+tLN8RWMZoXV7aQLvo1506B04mDhzYaSgq/Ud+5EcubBTHwF1paEwm1HkbxJ7bRHbqiLnF5nNMeIsyA73ru75rml1CcrWoLcJOv/jyL//y3JhcJbjFG3nEBLz4jM/4jGNSZf5CyhhaxTFmm2MixINYkHJT1sZs/bUnrMbiMHPYdGfmib2LTOP5z39+BmWi8o45DF+ZpRCTHvPKl3zJlyRfr7322ny+l3+xmC/uec97TraJNL/qq75qERrJgilMGZmgYiJfxB7G4s///M/zkENoF4vQLtMUVeVgnnzoQx+6ePzjH1+P9n299NJLF0xxNquLbGqHILG47rrrFo985CMXd9xxR71K/ticfsELXrC4z33us3j5y1++ejd1E9rgIvZf8rXTd/I65ZRTpoL3550DR5MD21wZSWykSZIZqc6f+5L+vfvCL/zClSmizB8xkS6ZQ5h/SNQ0BNIyiv2JNFNJy7uww+cGN4lR2swvNBdp+7O5uo7i+GNKhhVemiWR21j+lE/5lGOik7SF86eMNvDL/HNM4H08UHZ1Uja8sYktP89ikc2UldX7L/3SL92Rk3p9y7d8yzJOeqWJSLw5otlVfm17kf7XtYl4yuDwAu3ipptuyqyUWXr4pF1oKUxxRbRK8cqUVs/XXaVd/ciVRtgSLUaaZZr0jqajHPXnfRHzaD13ZfIsmsrLgQx1Kh7FflpF6dfOgZOGA4f68SOaQuw/LF7/9V9/dOWNSTmlZBL0kEhzNncPkvhtvPmbv3luwo/lY7P0jd7ojXZsmI6FO+hnNCybtjSKMXI81OY2jWy/NNYmjtve6173Sp8D5aj2Kl+UGD2pabzJm7zJMdnTzCr8MS/38KDy2maaU8WgGanvG77hG04F6c87B44sBw5tsYi9jEVsWi+cdw+pd8FvodN2ORB7JIvYT1jEMc9F7B0sPuzDPmy7GfTUOgc6B05aDhzaYsHmX96vp5122tad9E7aFmwqjr/2gzijHYak3WTdbzsHOgeOOAcObbE44nzs1esc6BzoHDjSHDiw01BHmmu9cp0DnQOdAycZB46LxcKGqc1lfwFRMdoEvIYdyxwjwHCObQaMw9jrXT9bl9euEzvBIzhK6zjzbshhhLF2tLldYIw2w1vShoD/psjhguORlKv6rvoNybFbCART5LCC+FN9eyre2PO5vMbi9Gf754A+DbvMYYvdEvN861ogfo0R1yGFn0+iIwyf+639D3KcbHWxAP3grL9z+Mimtt/hQJa/p/4ZMKAhhL3zzjtHg/3ET/zEjrP0bSBooPwOAONtQvwC1g3OdXltkv5cmHA6zLqqL5+I3U7Gc+lv6z3IFQcSwHVMtcswr+c85znpXxFHTdP/ot7/2q/9WkK2POhBD1r4k3aR01vnn39+wpo8/OEPT/C/eqdf8KN47/d+7z0Nxkpn7nr99ddnm5S/jwle+4wBY7ZpBT5XQoAAfARVMyQDWH/ihzJGJgrjIxxYx14f88whkSmay2sq3m6em9yKN7fccstuoh7JsHx6HvKQh+RhknAkHkU5Hqu4+QcgJb8rsEi10JgzzznnnBwjxkkcR19F5xNkLPAheuxjH7uKI4A+Brbngz7ogxbhNLyKs9WbKOTWCCyHs+tABBFPY+fwC8qD9yvwO74TY34K/Ct4fbdUccRzPyQ+EM7yy4vXdxHwOeUBYjj0/I2BPeqBO5cXHwfp8UMo4gsRA37Jz4FX71gZK2xdwVDEIrEM579lSJWjcfgkqPOQlCFwoLK+6tzSFLhfhdkNiB8/F34FIFb4z/DfmCM859OAF/jivvgBHqX1aWjT2iu4X5vGfu/5sfCl4J2O+Nzoy4AU0br+5D3fE57zLcXknW3IZ2WMYuJNXsm7harBO31JvxqSMo2141xeY/2Jd73n/EiAPm5C2rN4o32HHvrSkJY//RHfisQdAoICuyxP+tBIk1/6DxLXGJCOuMZey8t1fBrLSzrSi4k60wdM6rc5pGiMt/Vu7PrsZz97ecMNN+R8xrdozs9LGvLgawQJQjlb4kf0vOc9r320uodYYW41n+lv7fgHz+OdudC4Haa7SmQfN8c6NOxjKTr33HPTY5b0gQD2kZqDifmbVETCBAnNbMQPYA7mm3pHU7nrrruOAQoM1ND0xJU4H4yCmvab524MrFx9aR5ABql1vMqZq37xF38xweCAwvEqR+vyujY0AKt3DJCMz5P6kksuWQTMSHqVy6sgsUnh604jkRz4nDivT6JuyYmmwNRKKRWsu9/hgJdgfSSLL/qiL1pcdNFFyQ/giWW6mQL3q7RvvPHGPE7L+3uYZ4Vpr9ERE6BRGwoPvjw6eYIctuHaez4ZiA9G+dLwq4nOm89j4k0wSZqKdijgvr2C+2WiW/rHGx4Py3dFX9FvAWOisf40lzXzUsC7JPAlfhYx0xkLwB9pA/e+973TA9/7gFhJIEYSIuBMV1D6MQllvxDmAz7gA1wShBP8P5rKa11/ojkB5ZS/9iKZ8s9ZR/r1GNClOMa2visMs6Ij3BARgIlOAYLGBLe46qqrFvjjXj8VXjrALGMiXvDXUQ9lpL1BB5jik3JM5QUZgkZ7WYCPPvWpT03gzcANy/EPFJMJZ7dAl7H4LQL6JscyNAplngMZ1ZYhMC6gD+gDxlcLbBoQSDnH0Oof9rCHreaSWOxyzOC/ucZ8YD5i/lQP6UBfMBfFIjjpL4ZHe6J9LDSjUa1uPHsR8L0YgKtwVnBSMXwkYUiULY1pFvVeeFJAEckFRg/vbZI+aPRWsyC18Sim1ZCASnqx4pKSwWu7b7WESnssLx7RtVqTNkl4pDLkvtK3wkt7jtQ9vtNwTDB4T4HGu3oe5rWspwc8tEnngPFIRQFZsQo3Be5XAWBJKaf22YQAJgLMK8LD1hu7ng+vQBDxgCe8/EihiNTNs1qbqF8M2Hze/tsLuF8bv+6Vs4Ab60ryniOe2dVfaZ+0vqKp/lTvxzQL72LRyf5X4Vy1YyAJZ3+iKfIqbzULbYsXpExSYpH+h6fSdD+UgsfyWtef9KPq17FvmOVspezKd3idArqkKRvzSPnwEMhkaak0fTQEBFVHfEDGxTOe8Yy8909/1fdK82mtBGN8msvL2C80hK/4iq9YoQ/IKxaLzGs3QJfKXtpVfFtnGcKcpNbS93//92c7QoKQ15Of/ORVePXVF+DB0VRaxIKaC6Bg6AchRGc8fGgRG6QLTHTbtNU9C6uV1ZVERKqAvwPqG5Gm4AKxzbLfkqo92yu99KUvTfsdqYPEEeauVVJWdzZzqy0JkdctCQ6VZCSOe9c5otXEwrRa4Umb4MvbfQ8aCnqHd3iHtV/gm8oL5hWJg8al7EX4iZd4Bs799NNPTzh3Dnc+/OQ5In3SmGgAIMJJPC2BOZdOSaXtu7F7UO/RCfNVmAPyOqcFCsRe6kNBpU2C9kZwmEDUk5bYvGlppYF6zzZ7XWA50fLUcT9EYrb30f6BSp+jEBIy/1hsFgFRk86j4qzrT3Npjr0nOeqv+h/tSt8qsp8WE1r2LX2z5ZHwiGTpvpVGK/7wuq4/CQuaXlq0QX0a9tU6Ki2dhvtJn/RJWb7ak7G/VHWRprrAByPlIpYHRFuFfdb2p5jY8t3YP1powdyrO5ri01xeV1xxRWqQrAj2CtShSHlowrFg1aPZK6255gHaziYfYmMF8RkGYyUWg5wna4wZnzQVY9iYbssSQljWWxjWCZ9tQMaW+c1ch9TN+23Tazi/xVR1kstCzVNRna++F8AEgUlMKia6mrz3mrWNnsCHys1QadlcL2IGMvBjBV6853u+5zF5GRhhD87gYQPNSbrijl2VlxkrNIl8bbAb5HPq5lhaU8/Uwakwm15MWzoP9VK9mGlMHExI1GXmOyq/zmmBQVPgfpUfc4DyUns3IeqtgUc1x08LfQ1U8T1jSjNoWzKBGUDMfDp8tX9ogKvNPxOxwcI5E1n4dwvu1+Y5vDcAtWv7NwfgKA0Lm0HGtIPnVd+5/jTMf+63CZWphLCkDYFHFpl4TWi88UHPDEm/s4gTEixivhuyjtb1p3Xxpt5NAV3qn8wqJrfQKtIMpW8o4xwg6BlnnJFAjeI57LAJTfFpLi8Llu+4aF+TcplC5cnMs1ugS2npv8aufqLvt4QnQ6BLhzWMd2Pc4mueLAgZpwhr4cS7YXoWCPOCcIXQYM5VDqZIC9dBLRYKtnViBqA6tvDQ1FIbNJ77A3HtStVnKgqmpGrlmfva6I6FZ/XOc3/UZ2RjSXgqWZk9xKOW2az0zgY7dU682jiTZ+Uj3CZ52XSSFnWPuatMTVRZ+cdpmtyUdC+vdep82EtX5a46iWcTmDlAmsolL+YKG5CImU44Jg9/TFL4ivxWJyY05Sxwv3wZ/5RP3DIL1fN1V6CNxd+qb4W36S09X5srcmghbPFZbiYIppsiKrS0mFxiskxo+nq3F3C/irvtK/6oV7tZva4/hVC0o39qMxvTYWNfgQ9KTztrU/3Cpi7gTM+rzVzFY35w74/JRDzXIiaKem+T1CbnurzW9afiuzxjYs/yTB1CkH8IJqsyMyfaYFZf9WDawTP1UmbP3deYmwIElW4snDvqpH5Mvfq7++IfU2vROj6ty0v8Gv8xWVdyeWVWlt9ugC7VWX3FM1fVeKyEx4AuvWNqEwefmN6KmJCkZ4wwUZV52/s4fZbw/8a3dm+J+Qqf/LUmzTbMfu8PzIPbBletlu1KayVlFiqprX23l3srOmmWttBSMCZX7THpTDibtVZ2X77bDZGQdxtnN+lXWNIDSQtwYRE1E9+UW31b/uKDZzYCW3C/iusqTVLIbogZBBx3W46KP5YeqdfGfCuxVXgmDhuUDiJsYkKpeId9Heu7c/1pL2XUl/B2aArV7sowBsQoH+/xfqxNpsox1p+mwu73uf6pb471NdrUGCCoOuFxHTDYpAxzfJrKi5mSuZi5b0hjfXoYZvhbnFg4c9N5+E6daIFjvDBWjdlhOyq3seLgQUvGjr5CExmjEESy30zNeWNxdvPswBaL3RSih+0c6BzoHDhoDjgNxXTNhMVMPef/ddDlOdHS74vFidZivbydA50De+IAqwYNANHobAx32pwDfbHYnFc9ZOdA50DnwEnLga2fhjppOdkr3jnQOdA5cIQ50BeLI9y4vWqdA50DnQPb4sAJu1g4GeBc8ZwT0RijnE5wascphilyCqg9m+/0lNNI/tbFm0qvP987B/Dc2XEnS3ZD/GKcEhuSttT+TtOMkfblwAiqpiU2bydYOnUOnIwc2N05yhkOcSLhbDQkTk6OU26T4kz6ImAH0ot5E6/Jypt3eZyHXuE4BeRGehXX+7pCseU9XeQzsByG6kgoR5zWA7XC7fdqkYpz0jmRxZnpRfgr7DfJyfhxjn01mfKq5f19vBFUzzj3nkIBB8uAyhg9htiW22Kgvcqp8NZbb115Y1t4eMJyanRskZMZB8Gi8KdJ9GKYTI9//OMXD3zgA/MVr3QOkBYYjm6cCDt1DpxMHNiqZmFyq/PoBbUAgoJXoUmQtGYg81odk86Ba/GiHJKwgcKZ0iWPVXmEM0u61juPzlvYmfVNiOdkYLEsQFEDIhw7PuecONiJFgrAJHHHHXck4BnQs4NYKJTfGXQen/IPx50VXLf8fV/bH37gp3teykX4YnL13qI4JwU/4hGPyAnVuW2AZWM01SZOlQB0MyG3ZZA3yASCgwl5KL3vVjt40YtetADyJz1awibfLNEfaJ6OSD7zmc9Mz/eqm7LxVQkHyDw+2cKAAGbj/W0BCTTR1UIhLjQAEBX6AG/4odZR6fdr58BR5cBWFwuTDtwkDi+gJUB8QJCkVRiUpLXwNE7E0fBmzQkbY00EXNfhI8GE/9RP/dTVokFT4R4PzgLOFGm//cAHLcGkb/Ewec5ReEcmgqhw0uHANiTnseU1dH4BtwHXyIRzUMR5x2QGW4lka1FDJn8QBWAgLLb4Ep6cibfErAYDCO6SiRVv3Yc38tpiggiAXqmtYAS1tK5NoLMGaFzCHDDVhcd5RjWZa+MASkuEW21tsSnC7wc/+MHZvvVs7grjChYOJy9tr1xzBApBu3L8ozHRCGkUCF4Y/nD+km6LoUUD8YxgIo2WQIEQIiwkcMBKw2zD9PvOgSPNgZD0tkrx8Y50VwclEDDDO9Lm3u494sbuN7RJKKUgP4pADoCNCK0h04rJOV+FtJiQCTHp5G/wIdBREbTQ3bi5QyPlVl/QIZlI/AtJOF3ww0Zej/IKTZNbvvzEA80xR3tFP51C9YyJagVFAJpAOUBsIJAmBckBcRKMwCYEkgF0w5Cm2kS4KYRbEARgCkLjyO8OBMZVQlFU2tpNm4Mx2JTUsdpiU1RPPFF/6LbKAwKhUE0hdioXCuEi+1OVRRzlu/baa/MKfqMlEBMgO6DxhgbVvur3nQNHngNb1SxqVWW+IZ2TbpkEWpUduBwinZHWSMTU+3Z/gEmEaWMOQVI6hUbJBMZNfhOSNomYlhCT0Y4oPDx9+ar9NoYAoAFI9iR+mg/zyBztBf3UJirQwiGqp7zwzqYtU8zzn//8/FoWiZvUTBouYEPS+16JRkVDmGoT6U4h3MZEm9/4oGngrzq05sHDQvXEk8DKSc3L/gINsTQB+1s0M8SkWTzzW/mU/brrrlsE1tgxX6/Df9oabYQZq1PnwMnEgQNZLDDQ4AQtbKPYZnQRWzx13gax5xYJE0t9ztLCUmagOQTJSnM3VzZ9nyU0IfigDRt0UYgGaY9mYhmSPQLEJm+iGJpthuH93gv6KTNHaFY5WZuYpGFhQExU3jGH4SuTE2JSsZBZnPA1JON8vpd/FiMfUJlqE2lOIdxa+O1PMZHZzwjtMj+XW+U4LFRP+VkwbIjjoYMQRYQDexNO0VlQmOKKmPVqIbEnU/tS9rniewoZTDxCCQ/gTp0DJxUHtqk7QSKlxlP7mQ/8uQ9I6szGO2YAV6aIMn+EpJ8IlcwA1Hxok0xQaApBEqKttJlfQnrNNKULGXMd+QCPePUnTlFMLIleW7/rCilUufwpI2TIMv9UmG1c51A95cGcoswB9b4jy9BI8qM6EEp9rlE55whSLT5Ir20vJpZ1bTKFcKs9pYdP2gV6J1NcEdOZvA4a1RNKLFOevHzQiGmxKLSwNHt6h0fKVCSeZ/6g98YBgXwF9VedikfS7NQ5cLJx4FDhPmgKNoeHKJu1OkNNJCWPITROIUhW3G1c+W1AbIyJZDQ5G7QQIsc2xUcjHNBDUq8yTCF02tD1eUzfvdgvjbUJM9UYwm35osQgSqTNMdRUmtlY+64rpzjqbDN+SJVXm6YTWDSc+973vpN50aAcvGjjSVtetMgh4qd3NCN8p7V06hw42ThwaItFbGznd4ftY4TklufgTzZmH3R9nZRyIswR5ec+97mrj6McdL49/c6BzoGjz4FDWyxIa3Xu3xfStu2kd/Sbar6G+Gs/iAQ+lJjnY/cQnQOdA50D0xw4tMViugj9TedA50DnQOfA8c6BAzsNdbxXvJevc6BzoHOgc2BzDvTFYnNe9ZCdA50DnQMnLQeOi8XC6RonkfwNYRaqZUBMOOEyRvChnPHfBDdoLP7w2bq8hmGP+m+nhlqnyk3q6wRV+aUMwzvVpL2HBLIEsqwTVWMkPf4Oxxs5IVd910mqISkz588pwg/xp/r2VLyx53N5jcXpz/bPAU6xe0FFlrN+3fqhVWn0h6mxoJ+NoSKvG3eV7n6uW10sArIjHcM4bSEnoDiKjYH1tYU2YF784hdn2DvvvLN9tboHCjfloc3rmZMaFNVN6Oabb147ONfltUn6c2ECNiTrijcc6HY7Gc+lv6334U+QXvi85KfaZZiXU1icMXm5X3HFFavXOj4kWCi68ML0jSJ4T+edd146z/HeBx/eksHBs5xH+EHR9ddfn21SzqEmeO0zhqLclgHKAEdK9QJeOCQTuP5kMRwjE4Xx8cIXvnDs9THPAgbnmGf1YC6vCrefq8mteHPLLbfsJ6kjEZeTL8QH2HZw7cYEhrGKWgygC3B+vf3221fw+4QPzsIBVZMIBBAwWoKKzCFYn4EXVzQ17ur9Vq7bdCyB4cQpKzxjM1lYQeEVu8J94hwVgysd7cac2jjjxaDZUaSKI17rXFWBYjVNxy95RWPV42WcCloqz913372Mgbp67iYG9jLgMXY882MuLw5x0osOsYobC90yBvySU5w0x8q4CvzaG7hUsUgsw1N8GVLlaBzOYuo8JGV4xStesVRffy2FH0DiQ0lfmYYUE/bw0eTvwuWCx8XZkrPfHCmb9scLpO3xC6knZz6EZ5ziyvGS81s5wIWgsQxgyAxX/8LrP9sMZthBkTw43sGLQhw01SXAMPP3uv4kgLoFfEiGrX8xeWcbcnAco5h4k1fybnHN8EdfGmtDZRprx7m8xvoTzC3POR2Gh/pYEY95pn8Xb7Rh4Xa1AaXlT3/EtyJxAyplyfkxPOWzHmFJSJw4YUIYTH5V/xHXGJCOuPpSy8t1fBrLSzrSi4k6i6QcfptDisZ4W+/GroFOvLzhhhvSSZcj6pxTsDTkwTGV86xytgTjzjyIYJG14868qo+GVtFGSUfdqXG3I+A+f7zBVlac1yZy7rnn5qpI+kAQP0nN8JQQqQhsNdwlZiNOYwWpkAFG/lHvaCp33XVXYiadffbZq1DQZl/wghfkb9DeLZ6T1TkYuIJMh7dEXST1MldZsUGSwKgCQYLW5XVtaAAkRA574oPduOSSSxYBSpdoufJyZJWkQQpfd3T1nHPOWXBQ5Nx1/vnnZ971z/HXAGBMKdXxYr/DWzvRWsFUkK4vuuii5EcMnpUUznQGz4mETsODD0WDKrrxxhvT9wJUyDDPCtNeYyFKCHhtKLxvXUQnT0TcNlx7z2ERDpO20hakJ06OiJNbeHMn78Kjf4dToaPUCF/DYz9xuPJB/NOXtDH+0x4PikCn4GE5Ouor+i0UZTTWn+bKwrx02223ZZ3ws4iGbCzEop+mNbwB14LAjcCggt5LcnSFxeVbGvoFgoyLLr744oVvxaCpvNb1J5oTfsufoyycLM6c60i/LlTkM888M2F6rrzyyoxibCujMEzDTCXg3GmSNDQayVlnnZX10q7yBrly1VVXJfS/e/1UeOnQOGMiXnDuVA9lpL2Bkpnik4JM5QVGiLYMqfqpT33q4pprrkkUYuPfuCHVX3jhhQlND4F4E4ITdvnll+9ARW7xxsbS0JbQmC+99NLsA8YXhGTk2yrKH4JC1tP4K1KmQkU2351++un5at24q7hbue5zsTkmutUPVAKC1GqlLLKCk4pjAGUYKK4tjWkW9V6araRNcoEoCuqDpP+Upzxlh2ZBagM/Ac2WBATlFlnJrdaxWOV9qyWsywsEREkBpE0rOakMua/0obVKe47UPT68dEywGFyJllovYoLMevodH/5Zkq4h5ZKKYhKtYJNIsBUg1NYsp/bZhKDrQlctwsMWuqOeD69hmsh88AQsSklqtDtotZ77C7yrHVHx1nuQGqWNCBDfHlkGvH3WeVPNQjlpV+0fyXuOwHhUf6V90oaKpvpTvR/TLLwDL4J3LWnHmGCzP9HGIDS3moW2pWEHLljyo+LiEd5J033xtt6P5bWuP+lH1a9jHynL2UrZle7wOoWKTFM25pHy4WEIhLPo0docH5BxEd9xyXv/9Ff8K82ntRKM8ak04imkamOfJocCNHJ500035b1/sVhkXqCINiVlL+1qU1TkgPDPdjQ+5KWPF9GupFnjJASoepVthRfXhlXCtdU8p8bdKvIWbra6Z2H1AgxIIiJVkAjZmhFp6qEPfWjaZtlvSdWe7ZUA5vlIEKmDxAEErohEEupaSg0kRBAN7LmoJCNx3LvOEUk5FqaVtkDaJEGTnItoKMi3PFqk1Xo/d/UtDxIHjUvZi/ATL/GMJEmauPrqq9NGGp1zZQufQoKtdEh/0imptJ5PXWlwMRjzdZgD8jqnBQpHC9I2pEzt4PsRiDQofxI28EZ1AMpXpC2AJpJ2aYxIevpQLPqLUNmTN+o8R9Koj2/Vtf3I0VT8EEhSy6QB0X4gDaB1/WkqrXXPX/KSl2R/VWfarb5VRBuMCS37lr5JAi8SHpHs3Zc0Wu/Hruv6k/Ds39IC36JPt20ylp79wTFUZP3TvmPVRZrqAkwyhLxMiuUBkZZpwW1/irks3439Yw0odGl1R1N8msvLPhoNkhXBXkH7gTPlAUdkT3FTiol9NQ/Qdjb5aietgAahT+vz+niNsW/+5m9OnplD7cGaF4qUbwwVed24q7jbuL6G89tI6bVp6CSXhZpn8tL5qKrIh5AwyWRiM6gm79dG2/XFQgFOnNlHWkwvRcxABr6vm0EeHeZlYFDzUNhAc5KuuGNX5TVAQpPI1wa7QT6nbo6lNfVMGZ0SsunFtKUD2CxTLyYKEwcTEnWZ+c5krHNaYNAUEmzlxxygvEwfm1BILjnIqeb4aaGvgSq+Z0xpranLc3yxoLlapC3WSPkt7J6bLFxD+sx3BmgtsGFXzonLC+q1DT1mN4smSHtmmTkyALVr+2cjcY6kz0TItIPnVd+5/jSX7vC9CZWpgbCkDW2QFzF1mtBAt5QJr9654ptF3ORsEQOzvo7W9ad18abeTaEia19mFROtdmWG0jeUcQ49+owzzkhUX/Hgmm1CU3yay8uCBWlY+zIf4WeRvqef++jYpiQtwpGxq59YPFrCE3NVKxj7mJvxboxbfM2ThTeGj36bR5m18bFoChXZe/UYG3cVdyvXLWgnxyTBDEBNggxbRC31sSLP/UVD5ZWqz1RUqpd37muj+7LLLlu989xffbDIxpLwVLb4/kBexaOe2gjyziarjSfxauNMnpWPcJvkFZNWpkVtt5FepiaqrPzjNE1uSrqX1zp1Puylq3JXncTzQSXmAGkql7yYK2xAImY64Zg8/DHL4CvyW52Y69S5Va+9Vz5xbU5uSmG/XpWz6ltxbXpLb7gZTR1W9pgQE0m4TCWuzBeee88UU8TcIi31DXv1slW9hfG72jkmq4p2INfavG03q9f1pxCKdvRPdWAeCBt71lP7qpureusXNnV9dMrzajNX8WxquvfHZCKeaxFzVb23SeqQw7q81vUn5i9lkGdM7Hm/ztQXgsmqzEy8NpjVVxpMO3imXsrsufsac1Po0eoVC+eOOqkfU6/+7r74x0xZtI5P6/ISv8Z/TNaVXF6ZleV30KjIMmNqkxc+Mb0VKYMxoG2MlXbc6YfC+zPOtXvR1Lir99u4HhjchxWxVst2VbOSkjhLamvf7eXeik4dpy20FMzJVXtMOhMuJq9c2U899dQ22uw9CXi3cWYTHQlAqyBpka6LSOn4RiJR35a/+OCZjUD8JZkMSZpjz4fh2t/MIL7d0Jaj3k+lp+2ZM2iSQ9L+0quN5HqvrnxsxtBeK8xhXcf67lx/2kvZ9CW8IE22hBfKMIbaK5z3eD/WJm067f1Yf2rfb/Ne/9Q3x/oaCXusX6gTHg/7xbpyzfFpKi9mSuZi5r4hTfXpYbj2tzixcG6MilxxjVVjdqwdaTkOuAxNjfIyJsfGybpxV3nu53pgi8V+CtXjdg50DnQObJsDTkMxXTNhMVPP+X9tO/8TPb2+WJzoLdjL3znQObARB2i1NABEo7vPfe6zUbwe6DUc6ItF7wmdA50DnQOdA7Mc2PppqNkce4DOgc6BzoHOgROOA32xOOGarBe4c6BzoHPg8Dlwwi4W3P7jCNysE9EUSznUrXNAcuKgPZvv9JTTSP6cSOh0eBzAc05UTsvshtinnRIbklMjfBXGyAkaviVj5N0UKvJY+P6sc+AoceDY85X7qB0HHM5GQ+LktO3PqMaZ9EQp5dG7iddklckml5MQjvbx1OUlyct0SHCIOIIVQUzlMFROPBxxWg/UCrffq0UqztLn8cg4X55opvtNcyq+utdkylEO/tPxRpwu49x7LuwcLMM/Y/RIZltuC3v4C6QTJWyy8MHJP2G0Ie9xDngmf3g7hSkGh0h/0q48bDmV1fHP5zznOendzZmqnObaPPt958BR58BWNQuTW51HL5gF4HCkeJMguAcDmdfqmHQOXMv54iEJGyicKV3yWJVHOKbkIkFKBApYHsDDuMPfzq6bIHiihmPMwiQwJOfEgYu1UADOdIOpAFfh7yAWCuVwBp3Hp/yVz2SJ5B+IqPlXZ6395qVchC/Cew8uwDnudfSIRzwivbR5jIIGH6OpNiG1g/AAr9CWQd48sgkOvMyVu6XdagcvetGLFkD+pGdh05/mCEAdPgQGT3oUgx+nnSALBHgFxyiBxgVG1Sq5e97znotwyksPebwD3IjCkW7xzGc+MxcaMBXA9tSzU+fAycSBrS4WJh24SRxeQEuA+IAgSauAzQOqITyNE/k1vFkTsRKzTQQgNeCgwIT3LYRaNGgq3OPBWcCZIu23ZoLw8E4sIYuHyXOOSIokSWmA7YDOOiQTibzUpyVwG5AzTYYHRcrH8Q7iKdgB31dAJn8QBWAgLLb4wv0/ABQT+gEG0AUXXJATK966N/GtI1AFIAW0FYyglta1CWydAI1LmAOmOng1yGSujU3S8PW1tcWmCM/xW/tuSlA94VnRBLW9cs0RhyVao4XFhM9JsZy98PD+979/JiFMaYoehMdxLtYWAtAu9c5igThQlUPZQfaBzKz/6xw43jgQkt5WKT5qk+7+3NUDZnhH2tzbvUcx+aW7O7RJSK0gP4pADgSE8yxaJfgQ6KgIWmiL3FlpTV0DCjnzr/gVLiThdKcvJMl6Dk2TW77w4AxAc8wR2JMW+dR9mDHmoiUsBrTNWBQyL2VCoC4KigAsgHLEvku+A2lS0ACBY5V1yBcz/0AygG4Y0lSbCAd2ARY/qIkA3EtkUc/9BlEQGkd+dyAwrnZAEsRikTyPCVvwjUgdqy3CRLQMiPbZeIGbtBbhVgIgXsBvhMa7I73QfBPBGMSG+yJQJXhSsDJgQTp1DpxMHGDS2SpZDMBhWwQMSB9xCRNR5mGxMMkVwTMK6T6xX0yMRSZl+EtgiU0WU2SxMFkhExMsmd2QPOHO1IQrLpya4SI3TNNEGRrG8PExv02q0m//wLOvozB/ZHgTmYlXXDg4qBYykzIeg59GYYrLcAXzDKMHfswmNFwsLEbwi+Q71ibS9IEg2F4wqIRreREaRWLbyF9710RfZQmpvW43upq0LT4IFlgJG+siB0pwlg0/9A9lDK1nFQWulX5FYBmSjy/B5hniBlk4YAoVvHSY3oZR++/OgSPNga2aoVqtiQoPWthGsc3oIrZ4ewI2iD1nWmDKqM9ZxgBPezIz0ByCZKW5m6tTMPY9EFNXa2qKls6PtTCxDMmeC2KiCK3iGLPNMLzfe0E/nUL1lB4TlY1b5jB8ZctHTCzMKzBv8PXa+FDQXon5he1+qk2kO4VwyxRmf4qJzH6GgwNgq4vw+zBQPdch3OJPfKcj9y148Na+hDKCRrffgbfamxm1CEZPLDC5P+bjRIWmXO/7tXPgyHNgm0shiY00SZIjuflzX9K/dwEbvjJFlPmDlEbCJY2SqGkIpGU0hSAJ0VbazC80F2n7g4y5juQpnLz8tci4TAvMDEMiaSuXP3F8tKTVRobh9/p7DtVTuqRl5Q+o9x3ZxCmvRHIlidN8lHOOaHZ4KL22vUj/69pEPHGGCLd4Kz180i60FKa4IlqleGVKq+frrrQkZRMPAnGZ5CoOLcA7Jq4iWsAUwi3zqDLWX6Gsxob96lm9i0Ujk9TWzKJ46oM+Q9NV5duvnQNHmQOHCvdBU7AxOETZrBXZRiIpuY4r1nNXp1hqc7F9vpf7mExyA9PxyBbVkd8GlNqYfEaTtUELIdKG6euSnERqN22HZXE81Ikd373YL421iY3sMYRbfHXqKAZMbrqPoabSzMbad105xVFnm/FDqrzG0pxCuB2msclvGqmDGrXpvUmcHqZz4Chx4NAWi7A153eHndIJCW3Bb6HTdjngpJQTYY4oO43khFmnzoHOgc6BbXDg0BYLNuA693/aaadt3UlvG8w40dPAX/tBJPAxSftEr18vf+dA58DrjgOHtli87qrYc+4c6BzoHOgc2C8HDuw01H4L1uN3DnQOdA50Dhw/HOiLxfHTFr0knQOdA50Dxy0HjovFwukaJ5H8TaF6gphwhn+M4EM5478JbtBY/OGzdXkNwx713/wu+L7shpygKr+UsXjetb43FUY/cOKspTphdbyi/Spv9V2ntoYEeBBEzBQ55SX+VN+eijf2fC6vsTj92f45sFdUZDlPjQUoy2P9yanQ4RipGmj/qXcVZj/XrS4WAdmRjmGctpATUBzF5r51a8Bw3hL2zjvvHK2P7+Zi1Bg5IsmRCorqJgRNdN3gXJfXJunPhQkP9ayr+nKg2+1kPJf+tt4//elPT4ypBzzgAZPtMszLKSzOmPCfoLO2hOePfvSj0+Hv9ttvzyO27XvtB1uqJafmzjnnnMWDHvSgdIQETX8QBGxQe5RzqAnebw6G6wiQIkfK8L9YjJXNANafAoJkNBmLpvERaAej74cPw99j+Gj1ey6vVcB93Jjcije33HLLPlI6GlEBVj7kIQ/Jk4dw7cYm+LGaTo0Fz51ivPTSS3MstH0KKrLx4Z3x1ealj8F48z78rMay3P+zbTqRhA9FOjbBNUJgKUBCFO4Th6oYXOloN+bUxhkPREhLFUe8oUOWcBzmOH7JC0RIEbgG5bn77ruXsIJa4lgFhmRIc3lxiJNeNNIqaix0yxjwS05x0hwr4yrwa29gRMUisQxP8YSQGIvDgU2dh6QMr3jFK7K+6txSeEgnPpT0lWlInNU2JU6RnOGisy45W3L2myNl49CGF0jb4xeSN2c8DoNj9QXtol042LXEEa+cOtvn274PZIF0JgRlgjhoqkt4cefvdf1JAI6KHAhbisk723AKGiQm3uSVvFtcM31KXxprQ2Uaa8e5vMb6EygWz2PCS2idtuxT99queKOthnAu4mlLf/ojvhWJG8CQy/BZSSgZ9QhLwgp2JYTB5Ff1H3GNAemIqy+1vFzHp7G8pCO9mJCzSMrhtzmkaIy39W7s+uxnPzthaMxnHFHnnIKlsW4sBLrxMoS0zCoAOpf6RlH4Tq3GlrFUTs3ewy0z75oLjVv13zZt9XsW55577uKRj3zkygThGwmk5mBirmqkIrDVUF+ZjTiNzUF9U8doKoH3swiAvMXZZ5+9WiHBM4CbRhz26rsEfitHDKyUXmke4lIXSb3MVWDNOVjd7373SzhwcdbldW1oAFZvDnvig9245JJLFoFJlWi58nJklaRBO1p3dJWkzEERkur5558v6xU5/hrYVCmlcgLzO7y1E60VNEUA6S0uuuii5EcMntVHfJjOwGefd955CxoedFcaVFEAJ6bvBaiQYZ4Vpr3GQpQQ8NpQeN+6iE6eiLhtuPaewyL4FG2lLUhJnBxRDKJEoCUVxWKXaZZDZHTqrOPTnva0RClu03SvzKeeemoiAZOeDoJAp+BhodPqK/otFGU01p/mysG8FFhgCSGCn0U0ZGMBH2gDUHLBtaDA41qAEyEhQhp2fdKTnpT80y8QFF508cUXL3wrBk3lta4/0ZzAm8ifoyzecuZcR/p1oSKDPKGJXXnllRnF2FZGYZiG+fsEflm2KQ2NRnLWWWdlvWgo8o4JbnHVVVcl7L97/RRStXQgDJOmOXeqhzKStEHJTPFJQabygiZNWw4BZPHUpz51cc011yxe+cpX5vg3bphwwNY/8IEPzM8YrONDvYOKHDhpO1CR5/rourGgnvXtH3NjLAirb7FARUY0CubhchD1Wz2MU1A95qJYBCedi6vsu75ue/WxuoGBQJBaYwCusrCCk4qB6QkDMLClMc2i3gtPCigiuQDaA/VB0g+o7h2aBanNykurIQEVaJwVl5QModV9qyVU2mN5gXqo1Zq0ScIjlSH3lb4VXtpzpO4xOR4TDDjgE57whNVzkBPqieLDP0vwFNExUjqLhXIVbgoJtgIAHlRO7bMJQdcNDKVVUDxsoTtWLwY3YZrIfOQFFqUktQLg8wzq7JOf/ORVTO9i4srf8mlJH8Krw0D7JdFVf6XlxAS8KspUf6oAY5qFd7HoHKMtaceYYLM/0cZAkLSaBYmXhh3YYiklVh76H75K033xtt6P5bWuP+lH1a8BLeJ9K2VXusMrKBX9CNBkK8XSlLUXUj48DIFwFj1aGviAtHV8xyXv/ZOPchnvqLUSjPGpNGJWBUQzBj8TC0H+NvZLWie533TTTfncP2HkddCoyOvGgnriRyxk2dbgbFrS5uY69aj2xwftWGSMQZ7eNm11z8JKBRiQRESqIPUDBESkKSBybLPst6TqqT2IjDDzDyCcjwSROkgcvu1QRCKJDpKrLQkRNAYJDpVkJI571zkiKceEvdIWSJskaJJzEQ0F+ZbHph9iqriuvuVB4qBxKXsRfuIlnpEkTz/99PzSG7umr7p5jkifNB4aAMmUxNMS6U86JZW278buaXDRCfNVmAPyOqcFCkcL0jakTO1A4kE0P/Aq7KkAFvWNSjcmmEWYFxLgz7Prrrsu4/gXgyKlblI+O62PIc0Ribk+vlVX31OZoxASUsqMRXERpq9EGhBnXX+aS3Psve+o6K/6H+lQ3yqiDaqzvqVvksCLhEcke/elmdX7seu6/iS875hIC3yLPh3mlLFkVs9KS6fh+jiY8tWejH3Hqos01QWYJCkXsTwg2iotuO1PMbHlu7F/rAH2zZC6oyk+zeVlH40GyYpg36z9wJnygCOKBSvz2ORfTOyreYC2s8lXO9eNBfXUP3zD51GPetRKs62y0LRYFHyMq9ofIKb5zVyH1I31Ytv0Gs5vMVWd5LJQ80xeOl+hc0LwxCSTiYmuJu+9Zm2hCBDANPtIi+mliBnIwA/QwoVPcQ7zMjDCHpzBTVIm6XWkvMxYVD+kMQ3yOXVzXZrDd8roNJANYKYtkyb1Ur2YKEwcJlXqMvOdyVjnrLJPIcFWPswBysv0sQmFhJWDnGqOnxb6Gqjie8aU1pq6PMcXC5qrRbo6sM6vjuplwtE3CAxIn7AQMPWg9tvnNVnixUGi/crXp1YNMqYdPK/6zvUncXdDJlSmEsKSNrRBXmTirc+2lgmv3rniq0WckGARKwTlNkx7v64/teE2vZ9CRdY/mRhNtKFVpBlK31DGOfToM844YxESdcaDa7YJTfFpLi8Llo9+aV/mI/wsij2NQ0FFXjcWlMXY0BeZnfG0aAoV2ZyrTnWq7qAWCzb9rRNzBXWuRXSllvr+hOf+fA/BlarPVET1omJ75r42umPhWb3z3B/1Gfm+gfDi1UdpxKOWUT29s8lq40m82jiTZ+Uj3CZ5Pe95z8u0qHs20svURJWVf5ymyU1J9/Jap86HvXRV7qqTeD6oxBwgTeWSF3OFDUjETCcck4c/Jil8RX6rExOaOrfqtffKJ67NyU3Jhlrxt+pbcW16Sy86cD3KKzOUsseEmEjCpSp7ybwgPfVibmgpJr/V9zvUH+GhtIoX1OuxgxFtOvu9r83bdrN6XX8KoWhH/1S3EETyo0/KrX3xydVvdbKpC2XZ82ozV/F8u8S9P6YG8VyLmKvqvU1OhxzCzp1pj+W1rj8VAq88Y2LP8hQKb+XXXkMwWZWZidcGs/qqB9MOnqmXcnjuvsbcFHq09GPh3FEn9WPq1d/dF/+YWovW8WldXuLX+A/BpZLLK7Oy/A4aFVlmU2OB2c1cphzt/InX+ND+FSqy9MSrd61J07tt0YHBfdjgKsmxVkZXUiWJs6S29t1e7knj1DHaQkvBoMxrTDoTLiaxlHJtnO6GmJh2G2c36VdYkjQJzaZxESkd30jn6tvyFx88s0GGv6SNIUlz7PkwXPubZH/KKafsKEe9n0pP2zNn0CSHpHzK2dZrGGb4m3ZzmGi/Y313rj8Ny7zJb30Jb4em0JLMx1B7pes93u+Gh2P9aZMy7iWM/qlvjvU12tRYv1AnPK4DBpvkO8enqbyYKZmLmfuGNNWnh+Ha3+LEZL5rVOSxsaBP0MCZlsrM1Oa17j4EkdTopua8dXE3eXdgi8UmmfcwnQOdA50Dh8UBp6GYrpmwmKnn/L8Oq1wnSj59sThRWqqXs3Ogc2BfHGDVoAEgGh3pvdPmHOiLxea86iE7BzoHOgdOWg5s/TTUScvJXvHOgc6BzoEjzIG+WBzhxu1V6xzoHOgc2BYHTtjFgtu/c8VzTkTrGOW8uhMYY+QUUHve3+kpp5H8Of3Q6fA4gOfOjk+11VhJqq2m2ktafBycrR+Sth/65lQYznLS7NQ5cLJx4NjzlfvgAAcczkZD4uRUeCfDd3v9HWfSFwE7kF7Mm3hNDvMp56LwFxj1doRiy3u6CPoph6Fy4uGl3HqgVrj9Xk1UcU46j0fGuelEM91vmlPx4xx7OgJ6z6uW9/fxRrC24tx7CgUcLAMqY/RIZltuXt76BucmhKe+TQ43B3FM1J4cuDit8ZQtIghAHYByy0u2JYsL50R8gyXVqXPgZOLAVjULkxuJzamDglkAQUEaM2DBTZDQDbox6TzQUkclPWEDhTOlSx6r8ginn3StdyYeKOBuIDacRzYhAwxTniE5Jx5ORjugAJzpvuOOOxLwDCjcQSwUyuEMOu90+YfjTnqoey5/E54//KgJkAd6Eb6YXL0HueIc9zp6xCMekV7aJtWHPexho0Gn2sSpEoBu4BXaMsgbZALBgZe5crekjLshE7+JWXp8SfSnOdKuvK5BjYCX4TFbCwW+haNnQj4QCNqFQrpgSO5///uP9gtAh/r1WJ+ZK1N/3zlwonNgq4uFSQduEocX0BIgPiBI0ipg80DQDE/jRH4Nb9ZErMRAEwFIDfhIMOFBP5R5gKZisIOzIPGR9jlpFRn43OAtHibSTSi8m9ON/rTTThsN7jy2vEoyrUDgNiBnmgwPijgycbyDhfT4xz9+xSOTP4iC8GLNxRZf4AsFqFhCP8AAuuCCC3JixVv34Y28tpggAiDlaisYQS2taxPYOgEalxhQTHXhcZ1RTebaOIDSEuFWW1tsirQbNFztuynBuIJnxclL2yvXHBFaCoHYYqEPFoFSCe/Y7EN42pKFxGIx5qxl8VEGcCudOgdOSg6EpLdVig8epbs/KIGAGd6RNhd271EM1HRphzYJqRXkRxHIgYBwnkWrBB8CjRRBC93EzT2k4ITGCIk3YTuG30rwHFRB2MirOHmFpgmi4jDQT6dQPcN0toIiAE0AVqHgL0CaFCQHxEl12IRAMoBuGNJUmwg3hXALegLMR2gc+d2BmJgTiqLSjsUi2zwWvXo0e1XHaosATlwGgN1snAoQGkDCYIRmYGC40AAAI2lJREFUW48S7RYsApRb8BsQQIsg4YZQk3AyLexF7FEkMiw4i+c85zlL0C+dOgdONg5sVbOo1RaSI+mcdMtE5JsWRRBREZRWYFkkYgiU7f4Ak0hM6huhVRYaJWlyExTbAhy8+uqrE7wM4GFrKuHh6ctXJZlWuUmbJPuDRj9lwgNaOET1VA68A2bIFPP85z9/8djHPjalXRuuzHQFbEh63yvRqGgIU20i3SmEWxK7b3zQNGgc6tCaBw8L1bPqzgwlT2i3RbRJZfM9A1oiUxRieqRVxMKZyLj6JVRf5N6BCt96oDXZN4H82alz4GTiwIEsFhhoIxi0sMFoM7qILd7AtEHsuUXC4K3PWVpYygw0hyBZae7mCuY7vtOQCKcmEfbwsmeHpJAfa2FiGRITBWKTP0j009p4N1kzI4HztjAgJqqQeBN9Fl9rkxWejoUM5g2+XhsfatorWYzwY6pNpDuFcGtStT/FRGY/Azw12Oqiw0L1rPxM7PpgSwQRZbTvoE1rIYGzFBpDflhKnyTIMKkheyD2j6DiQi0lTNRHkdq0+33nwJHmwDZVKUikTE3UfOYDf+7L1ONdwIavTBFl/mAaYg5hOmEagDYZG9dZtCkESYiM0mZ+Cek105Q+ZMxNyId9xGcuK4I4CvFxSIeFfjqH6qlczHbqGbDeO4oZGkl+HAlCqU+XbmKGglSLB9Jr2ysWxDQjTbXJFMKt9pSeNtQu0DvbDyYdJqonc6J6teixGMakxMSGP0xmhWBczAytLeOpB7NfS8yQxa8yjbXv+33nwFHmwKHCfdAUbA4PUTZrNXZKiZS8G7TKiruNK78NiI0xyYwmd9jop6OFiIdOIkGWnULodMSXycR3L/ZLY20yhXBLWmcSiwGTm+5jqKk0s7H2XVdOcfaC6smkN3WIgQbFRLUt9ON15e/vOgeOAgcObbGIje387rB9jJDq8pz7UWDg8VQHJ6WcCHNE+bnPfW6eMDueytfL0jnQOXDicuDQFgv24Tr3T9rbtpPeidsE2ys5/toPchx2t9L79krRU+oc6Bw4ihw4tMXiKDKv16lzoHOgc+Bk4cCBnYY6WRjY69k50DnQOXAycKAvFidDK/c6dg50DnQO7JMDx8Vi4XSNk0j+4mP2o1UCMeF8/BjBh3LGfxPcoLH4w2fr8hqGPeq/nRpqnSo3qa8TVOWXMhbeu9b3psLoBy2USz13Gmqq7SvM6+qqvNV3lXNI0Gs5/02RU17ib6N+c3lNlaE/3x8HnADcLSpy5Tg1FqQ31p+gbI/1FWGVw99YvMpvP9etLha8ozmGcdpCTkD5PfetWwOG85awMHjGyHdzpzy0HZHkpAYNdBO6+eabRxlecdflVWH2c43z+llX9eVAt9vJeD957ybu05/+9PTC5yU/1S7D9JzC4ggH/+mKK67Y8Vonh/LK4e/2228/BnJc+5UjXEXk3Afw8AlPeEKmq60Pgq6//vpsk3IONcFrnzEU5TZ/QIocKR/3uMell3f7zr0JXH969atfPXyVvy2axgcMq00oYHAmg83lNRlxFy9MbsWbW265ZRcxj2ZQwJ2cNGHbwbXbdKKeGgueS+vSSy/NsQA5oMh8ymEUmoQx1OZ11llnJVIytGQoEwdC23QiCR+KdFp62ctelsnCCgqwuxXuE0epGFxLjnaFadTmzxkvBk37aFlxxHM/JA5zHL/kFY21eh2ngpbKE7AMyxioq+duYmAvAx5jxzM/5vLiECe9aKRV3FjoljHgl5zipDlWxlXg194EuN4yFolleIovQ6ocjcOBTZ2HpAwBsZ31VeeWwkM68aGkr0xDgpW0KXGK5KgXnXXJ2ZKz3xwpG6c1vEDaHr+QvDnpcRgc49GrXvWqbBeOdC1pU86SiCNiLPR5v+1/gSyQzoRx9DiTlqe6BBhm/l7XnwTgqDh0AIzJO9uQ0+kYxcSbvJJ3i2umT+lLY22oTGPtOJfXWH/iWOh5THhL/N+EtF3xRluNOSdKy5/+iG9F4gYw5DK+I7MM5OmsR1gSEidOmBAGk1/Vf8Q1BqQjrr7U8nIdn8byko70YkLOIimH3+aQojHe1rux67Of/ezlDTfckPMZR9RNnILXjYWAxV+GkJZZBWzOUt8owrPQHPJngGMuA+WhXqUj6erHAd1s9XsWoBBAIpA+kG8kkJprpSMVga2Gu8RsxGlsDuqbOkZTueuuuxIz6eyzz14tmtBm4fkg0N4tnpNyxMBK6ZU0Cm+JikbqZa6CWQWSBEYVCBK0Lq+Y3FNC5LAnPtgNOEhQTKHlysuRVZIGKXzd0dVzzjknv6UAxfT888/PvOuf468BwJhSquPFfsckmWitL3/5yxNv6aKLLkp+xOBZ+IATYjoDEQIVlYYHH4oGVXTjjTem7wXk3GGeFaa9xkKUEPDaUHjfuohOvtaJDWQGpF5tpS1ISZwcUQyiRKAlMfmehDTvcY975Lvo21lHEOAtQqyX0tNX8FcahX+VEbf4D3QKHpajo76i3xasx1h/msueeem2225bhHCU0PYVnoZsLOADbeDe9753wrV4D74fBhgNCyquKywuddcvEBReBLrGt2LQVF7r+hPNSdnkz1EWbzlzriP9ulCRzzzzzITpufLKKzOKsa2MwjAN8/d51rOelW1KQ6ORkIDVyxwh7xAsF1dddVXyx71+qg9IB8JwTMQLzp3qoYwkbdrmFJ8UZCovMEK0ZUjVsMGuueaahLE3/o0bJsULL7ww4V1uvfXWdWxYvYOKfPnll+9ARZ7ro+vGgnqWW4G5EVZZoEpkfve9731TQzUP4AP+F8XCujB+zGn6xX3uc596tb3rthchWsVjHvOYTBZSawzAVRZWcFJxDKAMAz6hpTHNot5Ls5W0SS7gGkB9kPQDqnuHZkFqAz8BzZYEBOUWkThIyTEB5X2rJazLCzyEuIi0ScIjlSH3lT4oCWnPkbpH4x4TLAbXMkwuq+dhXst6ehAAdktoqCAqSEWxUK7CTSHBVoAwdWQ5S+ur51NX6LogUYrwsIXuqOfDa5gmMh88iQVmJQVDd61nUGchvBZ5FxNX/pRPS6RJ8fyBEaG9zJFy0q7aP5L3HJHoqr/SPml9RVP9qd6PaRbekQSHddKOMcFmf1IfkDOtZqFtadiBC5baXeWh/+GDNN0PpeCxvNb1J/2o+nXsF2U5Wym78h1ep1CRacrGPFI+PAyBcBY9mgZb7WpcBA7XKkv9Ff9K82mtBGN8Ko2YVQHRjPWbWAjyt7Ff0jrJPT5XkM/9E0ZeB42KvG4sqCd+xEKWbU2DaCkW4NTQPacpFV0bloow5Scqsjpoz23TVvcsLGFsaiQHUgWpH4opIk35yhjbLPstqXpqDyIjzPwDmOcjQaQOEodvOxSRSKKDpNRAQgSNQYJDJRmJ4951jkjKsTCttAXSJomX5FxEQ0G+5dEirdb7uSvthMRBilb2IvzESzwjMZx++ukLiLnsmlBRPUdTSLCVDulPOiWV1vOpKw2utBZSC5rTAoWjBWkbUqZ2gPyKaH5A+8IMleCI+kalS9sJ80ICPHp23XXXZRz/SICkXX3K9zdKC1wFGLkhMdfHt+rqeypzFAJJph+LzSLwzBJpQJx1/WkuzbH3L3nJS7K/6n8kQX2riDbIJq1v6ZulpXsvPCLZuy/NLB9O/FvXn0TxHRNp3ete98o+PfeZ4tLSIQpDl1a+2pOx71h1kaa6AJMMIS9Lx/KAaKu04LY/xcSW78b+sQYUunTBs0zxaS4v+2g0SFYE+2bqUKQ84IjsKW5KMbGv5gHaziZf7Vw3FtRT//ANHx/mKs22ygPgEkAm6CT7a0XXxZgxJ/gCZH38q95t67r1xUInuSzUPJOXCbVUJR9CwiSTiUrV5L3XilgowIkz+0iroMelxwxk4Ado4cKnOId5GRhhD86sTVIm6XWkvMxYoUlkMI1pkM+pm+vSHL5TRqeBbAAzbZk0bWCpF0RZE4dJlbrMfGcy1jmr7FNIsJUPc4DyMn1sQiGd5CCnmuOnhb4Gqvie6bCtqctzfLGguVqkLdZI51dH9TLh6BsEBqRP2BBn6kE274r0J2q5K3NJSKz1avIKqVe7tn9tmlMRDUQmQqYdPK/6zvWnqfSmnptQmUoIS9rQBnmRideEBrqlTHj1zhVfLeKEBIuYL0euo3X9aV28qXdTqMj6JxOjiVYbMUPpG8o4hx59xhln5OcCxINrtglN8WkuLwsWoUP7Mh/hZ1FI6tnPfXRsU5IW4cjY1U8sHi3hibmqFYzXjQVxjQ19kblJfGQxZfIyJ/izSFfZ8a0EVGPMXGv8bp22rapIjxmAKgQZtigqtPSxIs/9RUPllarPVET1omJ75742umPhWb3z3F8hhdpYEl48aLGu4lFPqZ7e2WS18SRebZzJs/IRbpO8fPBGWtR2m65laqLKyjdO0+SmpHt5rVPnQ1pelbvqJF5An6f6KE3lkhdzhQ1IxEwnHJOHPyYpfEV+qxNznXK26rX3yieuzclNKST6VTmrvhXXprf0Yt+oHuWVGUrZY0JMJOHWVMK8oIzqxdzQUkx+GUea6l8UWl0+Z6qxQc6scJBUm7ftZvW6/hRC0Y7+qW42psP2nHzQvurkii/6hU1diL6eV5u5iheTZT7zm8lEPNci5irv/OGHQw7r8mKOmOpPeKoM8oyJPe/1qSkKwWRVZiZeG8zqKw2mHTxTL2X23H2NOYdamGiLD/pW9Y1YOHfUSd2YevV398U/ptaidXxal5f4Nf5DcKnk8sqsXHzd8WLND3VWJ/HMVTUeKwpzkXdlBqvnU2OB2c1cJs5w/sQ/z+XHxFdzjHbxXHt6x/R4EHRgcB8ki5Ic2xWOVEniLKmtfbeXeys6dZy20FIwKyXYMelMOJu1pNxTTz21jTZ7bwXfbZzZREcCkB5IDDaNi0jp+Kbc6tvyFx88s0GGvyTxIUlz7PkwXPubBHPKKafsKEe9n0pP2zNn0CSHpHzK2dZrGGb4W1spB/PFYdBY353rT3spl76Et0NTqHZXhjHUXvl4j/e74eFYf9pLmTeJo3/qm2N9jYQ91i/UCY/rgMEm+czxaSovZkrmYua+IU316WG49rc4sXDmAZf2uXt1ogWO8WJsLOgTtAMb1GNmRgeGpDfkoTIwXTL11vd5hmXZ7+8DWyz2W7Aev3Ogc6BzYJsccBqK6ZoJi5l6zv9rm3kfhbT6YnEUWrHXoXOgc2CWA6waNABEozuQ46WzpThxA/TF4sRtu17yzoHOgc6BQ+PA1k9DHVrJe0adA50DnQOdA4fGgb5YHBqre0adA50DnQMnLgdO2MWCu3scgctTN7tlv5MDThb5c9JmjJy+ac/mC1dxxO90eBzAd05UTpZsStVWrmPtBd3YaZqWNmljJ304fo2l2abV7zsHjhoHjj1fuY8acsDhbDQkTk6FdzJ8t9ffcSZ9EbAD6cW8iddk5cOZLXwSVg4tcFcCeqJer65QbHlPF/GM5DBUjjAccVoP1Aq336tFKs7S50QW58sTzXS/aU7Fj3Ps6UzkvWOp8J+ON+J0Gf4EKRRwsAyojNFjiG25X/SiF2Xf4NyE8NS3yR0p5MWungGrkM6PMLSK1rWxo8C8yfUBXskcPiv9it+vnQNHmQNbXSxMbqQ/55sdTUOBopjnf50Z9tz5ZueBx74THVg+6bU6PE9PiguHtZycnUl3iiGcftK13nl0oIDc4jfxf5AWIL5Ai5xsV9IjWAme2kWk0DvuuGMjd/6Ks5er89M8PnluWphMTED55F/wG3iIl85pO7/tN8J7HsHOWgvLk3rKz0R40N+OD4JYftjDHubRMTTVJk6VmIBNmCbhKgP+Alp0dWZeu7TnvpVx7Pz4MRm/9oGJH8ifCd5V2nOe8wV3gG8WG1AnVQZ9NBwsE/J8qKmsa2Me8OpMSODH0qlz4GTjwFbNUCYOk4OJw4Dmdg5BklYBmweCJqke1kt4s66wTWgkIDXgI8GEB/3A9R7RVLjHg7OAM0XaB0FRFF6TC+izFg+T1yakXAE8mFqJhWFIzmPLayg5gtuAnAk/5qDI5M/xDuIp2IHCf4GNBKIADIQFAV/gYakHJx0YQBdccEFOqHjrPryR1xYTVIFFW1vBCGppXZvA1gnQuJw4merCQzijcgzUxrBrfNdCW1tsirQbSV77bkogDuBZcfLS9so1RxaEQiCGRaYPFuGvRXSKxtoYfwk9+hhMIwJKp86Bk44DIV1tleIDHelyzvU8YIZ3pM0l3XsEpdVvaJPc2EF+FIEcCAjnWbRK8CHQURG00Ba5s9IaXrnnx4SfiLTQXbnotxTSZUIVhI28fZxomiAq5MelHjTHHO0V/XQK1TNweRLiQb6gCZSjvgsC0qQgOQLHKuswVz7vQTKAbhjSVJsIN4VwC3oCzEdASOd3BwLjKqEoKm2QB9o8Fr16NHtVx2qLAE5cBoDdbJwKEHsQCbERmmw9Wl21u28rtBQLRcKQDNtYn4kFKHmvz4DtCM2pjdrvOweOPAe2aoaqlRaSI8kTFjsTkT2Fgi6A1Y+gtALLIhGT1urret4xifC0nEKQFKao0ChJkzSGOWLCIo0j31S4//3vnzbt0iLkyyxTkmml10IDxOSxYB5h7lhHYAXYuFuCp99unLfv3HMcAlrI7EYKZm/ncYpv/oDuMcVA+HzsYx+bErdN3PhYzso809rhh+nP/aZRQbOdahPxgUTW1920EW2HuSwWgvzGB03DAQSwBep/2mmnZbaF6jmEt1hXplgs0mypPWhUu9mfgngrT2a5TWiqjWufyl6S/gPwkMajn3TqHDhZOLBVM1TLNAOMuclGsc3oInsBTD9sv54zLZg863OWsE/KDDSHIFlp7uYKe4U9HYGhNpHUZBaiQX6sxUI3JJM2EtdEPjTbDMP7vRf00ylUT+lZPELrSvRZfGXDR/YGmKgsTvga2Pb5fC//IOuy70+1iTSnEG4t/PajmMh8oMYCYlErOixUz8qPOUwf3JSm2tg+ElOoxUr7WwS3fWBj0zL2cJ0DrzMObFN3gkTKzEBlZz7w5z4m5czGuzhFsjJFlPkjoKTTHAKpkooPbTLswhlnCkESIqO0mV9iAcg0pQ+BcR35mJBwzGRMJrGJvQoOcRTi45CgOyqXP2X0UZ8y/wzD7uf3HKqntJntlD80jB1ZQfeMk0KJUOrTpco5R5Bq8VB6bXsxsaxrE/HEGSLcak/p4ZN2gYrKFFd0mKiezInKyITUkv6EN1VvH+xBc22sb0hPXB+m6dQ5cLJx4FDhPmgKNoenzBAxYFNKJkEPaQpBchhuk9+OQTKTMG20J3P4bTg9FJPCaDI2aCF9vq5PwziVowxTCJ1MPz4Y5LsX+6WxNplCuC0/hRhEuelepse2DCTzsfZtwwzvxVFnm/FDqrzG0mTSK61xGG/q97o2Vm9/6zbIp9LtzzsHTnQOHNpiERvb+d1hp3RCOssvOp3ozDveym/vwIkwvgROIzlh1qlzoHOgc2AbHDi0xYI9mF8AIu11m+82mm9nGvhrP2jMh2VnyP6rc6BzoHNgdxw4tMVid8XqoTsHOgc6BzoHjicOHNhpqOOpkr0snQOdA50DnQP740BfLPbHvx67c6BzoHPgpODAcbFYOGHiJJI/aKBjBGLCGf4xAr/gjD9ntW3Qury2kf6JlAa/C74vuyEnqMpnoY03hwTrZBNfhoJ6qbhOwjmldDySclXfdWprSHwyQMRMkVNe4k/17al4Y8/n8hqL05/tnwP69W5RkStX46T1Q6vn0hvrT+vGgr6oDxwUbXWxCMiOdAwrb2wnoDiKzX3r1oDhvCXsnXfeOVpXXswYNUaOSHJSg6K6Cd18881rB+e6vDZJfy5MwIZkXdWXA91uJ+O59Lf1nre502u85KfaZZiXU1gc4eA/XXHFFavXPN7POeec9Hrm+XzWWWftgAh/xStekbhREIDbvG644YbEmwKsKM2xAbTKZB83119/fbZJOYea4LXPGIpymw0Pdo6Uj3vc4/I4dvvOvcGrP8GXGiMTRXnDj70fPgsYnOGj1e+5vFYB93Fjcive3HLLLftI6WhEBVSpPzt5CNdu0/5JOHj0ox+dzq+33377Cn7fc2np73DWHPEvmhoLhG2oGeJAFwg/q4qy3es2HUvChyKdnV72spdlsrCCAuxuhfvEUSoG15Jj1JhTG2e8AH7bUaSKI577IXGm4vglr2is1es4FbRUnrvvvnsZA3X13E0M7GXAY+x45sdcXhzipBcdYhU3FrplDPglpzhpjpVxFfi1NwGut4xFYskhLKTK0Tgc2NR5SMoQE2vWV51bCok88aGkr0xDgpW0KXGK5KgXnXXJ2TKgMGajKhtnN7xA2h6/UKDgrjCeYD1x6CvCQw5v1W/quWv4i6zS4+RXjpxtmG3cB7JAOhPG0eNMjhOeugSETP5e158E4Kg4dACMyTvbkIPjGMXEm3WTd4trhh/60lgbKtNYO87lNdaftIPnMeEtA7J9rIjHPNO/izfaTBpDkpY//RHfisSFx6UvhAaZ9QhLQuLECRPCYPKr+o+4xoB0xNWXWl6u49NYXtKRXkzIWSTl8NscUjTG23o3dg306mVM4jmfcUSdcwqWhjz0Zc6zytlSAFYuQ0jLRwGbs9Q3iqbGAr7BxjPPuddH9K1t07Heb/tYi84999xc2UgfCNQ4qTmYmL9JRb4nwRmO2YjT2Nw3IahjNJW77rorMZPOPvvsTMs/aLMveMEL8jdIhhbPyQobTMsVm+YBb4m6SOplroJZBZIERhUIErQur2tDAyAhctgTH+zGJZdckt9EgJYrL0dWSRok4zEnscwk/pGwOShCUoVP1ZLjrwHAmBKF48V+w4OC9/Tyl798EUB6CbGOHzF4VrDlTGfwnM4777wFDU94GlTRjTfemL4XUFWHeVaY9hoLUeIwaUPhQYRHJ09E3DZce89hEcaWsmkLUlJBpONP0RAJNgAHk6/UaOi6tI6iADrMWxIbk1jhNNX7bV1Bp+BhOTrqK/otFGU01p/m8mZeuu222xYhHC3ws4iGbCzQpmgD9773vROuxXtmOBhgpEq8cIXFFZNQ9gthoPCiiy++eOFbMWgqr3X9ieakbPLnKAt9mDPnOtKvCxX5zDPPTJgeEPDI2NZ3hWEa5u8D2h3qLw2NRqJt1cscIe8QEBZXXXVV8se9fiq8dCAMk6Y5d6qHMpK0QclM8Uk5pvICI0RbDhDJ/DZJeOIv4IcZ/8aN/nfhhRcm5tutt94qqVmCEXb55ZfvQEWeg9DXltCYaQL6gPFVzsHqWW4F5kb4er65g6bGAgdd/ELM+MaIuWXrtO3Vh3RYUiMUTytekRWcVBwDKMNAcW1pTLOo99JsJW2SC7gOUB8k/QAH3KFZWFlJodBsSUBQbpGVnJQci1Xet1rCurzAPJQUQNq0epPKkPtKH1qrtOdI3Z/2tKcdEywG1xKyaRF4EvVE4Dwg8kYHT+ksFsoKNokEWwHC1JHlHJPeK0x7hbz6xCc+cfUID1vojtWLwU2YJjIfPAGLMpTU/AYHUtKd6GF6yjgxeeW7wHTakao42le7DdPbEfC1P/aK9kuiq/5K+6T1FU31p3o/pll4F4tO9r8K56odY4LN/kQbAz3TahYkXhp2YIuldldx9T98lab7IS/G8lrXn/Sj6tdhyshytlJ25Tu8TqEi05SNeaR8eBgC4Sx6NA0WH5Bx8YxnPCPv/dNf9b3SfForwRifSiNmVUA0Y/0tFoL8rQ+VtE5yv+mmm/K5f8LI66BRkfXvGh/y0v+L1BM/QMoIEwtnvcrrurGAh8KHkLgjzrZ+bHXPwkoGGJDkQKog9UMxRaSphz70oQtSJfutlc+zvRLAPB8JInWQOHzboYhEEh0kpQYSopWXBIdKMhLHvesckZRjwl5pC6RNEjTJuYiGgnzLA1jhbol2QuKgcSl7EX7iJZ6RJEFNXH311WnXhA7rOSJ90nhoACRTEk9LpD/plFTavhu7p8HFYMxXYQ7I65wWKBwtSNuQMrUDya0lv4dIsJw0ARf6Eh3p0/5TS6RLWpRvSpQE1r4f3pOYH/7wh+/48z2VOQqBJKXMWGwSZBLSAFrXn+bSHHvvo1r6q/5HCtS3imiDMaFl39I3S0v3XnhEsne/CS/W9SdpAcSU1r3uda/s06Bw1lFp6TRcdnLlqz0Z+45VF2mqCzDJEPIySZYHRFulBbf9KSa0fDf2jzWg0KXVHU3xaS4v+2g0SFYEewXqUKQ84IjsKW5KMbGv5gHaziaoyKwgAEztLQAbNU/WGFNP/QNw5aMe9aiVZlvlmRoL9i3smymP60HQazi/xZR1kstCzTN5mVCpqgh8OCaZTGzg1OS916wtFODEmX2kxfRSxAxk4Pv0pU9xDvMyMMIenMHDBpqTdMUduyovMxYzCNKYBvmcujmW1tQzZdTgNr2YZXQephf1gihr4mBCoi4z35mMdU4LDJpCgq38mAOUl9q7CYWElYOcao6fFvoaqOJ7xpRm0LaELxY0V4u0xbqlMSRYkPQW3pCacvJpIcWZGpkrLCAmpk1g6PeC9quMIPOZCJl28LzqO9ef2vptcm9CZSohLGlDG+RFJl4TGuiWMuHVO1d8tYgTEixi4PLX0br+tC7e1LspVGT9k1nFRBtaRZqh9A1lnEOPPuOMM/Izt+INIf2nyjHFp7m8LFg++qV9mY/wsyj2NLKf++jYpiQtwpGxq5+YrFvCE3NVKxhbCIx3Y9zia55szUZ+64vMzuIXTY0FCzwBgxB7bZjLCYptfhV/39dtqShtOswA1DnIsEXUUh8r8txfNFReqfpMRVQvapd37mujOxae1TvP/VGfkY0l4cWDFusqHvWU6umdTVYbT+LVxpk8Kx/hNskrPsWZaVHbbaSXqYkqK984TZObku7ltU6dDwl6Ve6qk3g+qMQcIE3lkhdzhQ1IxEwnHJOHPyYpfEV+qxNznTq36rX3yieuzclNyYZa8bfqW3FteksvOnA9yiszlLLHhJhIwq2pRFmlN9wIZj5hvlNf8ap9bWDKo/1jljtIqs3btozr+lMIRTv6pzqEIJIffcIH7av8rn7rFzZ1fXTK82ozV/FissxnfjOZiOdaxFzlnT+bpA45hJ070x7La11/Yv5SBnnGxJ73+tQUhWCyKjMTr/ZRX2kw7eCZeimH5+5rzMWCn21cfNC3qm/EwrmjTurG1Ku/uy/++ehW0To+rctL/Br/MVlXcnllVi6+7nix5oc6q5N45qoajxWFWci7MoPVc6Y2z/GJ6a2I2c1c5l07f64bC5Cz8aj9K6TvSncb1wOD+7DB1a6WtapZSUmcJbXV871erejUcdpCS8GcXLXHpDPhSLFW9k2+292my8S02zht/E3vaRXR8RLltuKQ0vFNudW35S8+eGaDDH9peEOS5tjzYbj2N2n+lFNO2VGOej+VnrYn7dAkh6T9p5BgaW5MAdvqG8O8N/091nfn+tOmabfh9CW8HZpCtbsyjKH2iu893jtQsCmN9adN4+42nP6pb471NRLvWL9QJzyuAwab5DnHp6m8mCmZi0njQ5rq08Nw7W9xYjLfNSqysWrMtu2oT9A6fGRrEzNjW46Dvj+wxeKgC97T7xzoHOgc2A0HnIZiumbCYqae8//aTdonQ9i+WJwMrdzr2DnQOZCWBhoAotGR3jttzoG+WGzOqx6yc6BzoHPgpOXA1k9DnbSc7BXvHOgc6Bw4whzoi8URbtxetc6BzoHOgW1xoC8W2+JkT6dzoHOgc+AIc6AvFke4cXvVOgc6BzoHtsWBvlhsi5M9nc6BzoHOgSPMgb5YHOHG7VXrHOgc6BzYFgf6YrEtTvZ0Ogc6BzoHjjAH+mJxhBu3V61zoHOgc2BbHOiLxbY42dPpHOgc6Bw4whzoi8URbtxetc6BzoHOgW1xoC8W2+JkT6dzoHOgc+AIc6AvFke4cXvVOgc6BzoHtsWBvlhsi5M9nc6BzoHOgSPMgb5YHOHG7VXrHOgc6BzYFgf6YrEtTvZ0Ogc6BzoHjjAH+mJxhBu3V61zoHOgc2BbHOiLxbY42dPpHOgc6Bw4whzoi8URbtxetc6BzoHOgW1xoC8W2+JkT6dzoHOgc+AIc+D/A0UqA95k++gSAAAAAElFTkSuQmCC)"
      ],
      "metadata": {
        "id": "1aR8CUI6Dhkg"
      }
    },
    {
      "cell_type": "code",
      "execution_count": null,
      "metadata": {
        "colab": {
          "base_uri": "https://localhost:8080/",
          "height": 514,
          "referenced_widgets": [
            "db4ac58bf8a446c5a3d4b2c60eee565e",
            "c5c1fba182d44fb5879012bce1a3328b",
            "2008fab4a2d34aa595e88e335a1c4c6f",
            "b76a7cb4007c444b951c4d0dc61c29c0",
            "b4af21676ad440408e3e5c518db22a61",
            "637afb4e8d2a4ecb88b26588c5d38e68",
            "2dbab8487cee44f5887bc30f943db9a2",
            "006db34c697c49e1a88d66ad1be671ed",
            "5e94c9a39f99428f90f586226daed82a",
            "4b8faa3b3d614c72a79fbbeca57f478b",
            "a2566eb779ae45379d297ac921aa00cd",
            "8f643882285545c6a2244ae8da31e682",
            "c37fe8eb607643b6932a1aa2c255da40",
            "75cb58e9f2554d54a409c7330b7ea85a",
            "2fbd3de345b740ada56c0719ac8ac0d0",
            "35cf46a2476a4ee095763b755eff85fe",
            "0c88344f5b6b4f5b85f081f5954b5acb",
            "d12eef1d3f924610a28f73f9221236b1",
            "75be019ef4a24fee992e15668f8be476",
            "f9c94b225e7c482ea7e14e49135c21b1",
            "8bb1833d46c24450822fa65e19a53b44",
            "25dadc573b3e46d4a0587aea78a2b219",
            "728125fc1f7448d186c922ce5eca58a8",
            "53e691bfe4fa4eeaae2e24b342054320",
            "d176ac15b92b4d71805462310cc5f07a"
          ]
        },
        "id": "Krbmg83BtgSW",
        "outputId": "3e502a01-bc09-4a4a-f703-efb32b2af60e"
      },
      "outputs": [
        {
          "data": {
            "application/vnd.jupyter.widget-view+json": {
              "model_id": "db4ac58bf8a446c5a3d4b2c60eee565e",
              "version_major": 2,
              "version_minor": 0
            },
            "text/plain": [
              "  0%|          | 0/564 [00:00<?, ?it/s]"
            ]
          },
          "metadata": {},
          "output_type": "display_data"
        },
        {
          "metadata": {
            "tags": null
          },
          "name": "stdout",
          "output_type": "stream",
          "text": [
            "Train Loss: 1.5560 - Train Accuracy: 0.4609\n",
            "Train Loss: 1.2962 - Train Accuracy: 0.5547\n",
            "Train Loss: 1.1786 - Train Accuracy: 0.5953\n",
            "Epoch 1/5 - Train Avg Loss: 1.1213 - Train Accuracy: 0.6121\n",
            "Validation Loss: 0.9300 - Validation Accuracy: 0.6678\n"
          ]
        },
        {
          "data": {
            "application/vnd.jupyter.widget-view+json": {
              "model_id": "8f643882285545c6a2244ae8da31e682",
              "version_major": 2,
              "version_minor": 0
            },
            "text/plain": [
              "  0%|          | 0/564 [00:00<?, ?it/s]"
            ]
          },
          "metadata": {},
          "output_type": "display_data"
        },
        {
          "metadata": {
            "tags": null
          },
          "name": "stdout",
          "output_type": "stream",
          "text": [
            "Train Loss: 0.9187 - Train Accuracy: 0.6562\n",
            "Train Loss: 0.9221 - Train Accuracy: 0.6729\n",
            "Train Loss: 0.9114 - Train Accuracy: 0.6759\n",
            "Epoch 2/5 - Train Avg Loss: 0.8998 - Train Accuracy: 0.6805\n",
            "Validation Loss: 0.8761 - Validation Accuracy: 0.6870\n"
          ]
        },
        {
          "data": {
            "application/vnd.jupyter.widget-view+json": {
              "model_id": "728125fc1f7448d186c922ce5eca58a8",
              "version_major": 2,
              "version_minor": 0
            },
            "text/plain": [
              "  0%|          | 0/564 [00:00<?, ?it/s]"
            ]
          },
          "metadata": {},
          "output_type": "display_data"
        },
        {
          "metadata": {
            "tags": null
          },
          "name": "stdout",
          "output_type": "stream",
          "text": [
            "Train Loss: 0.8904 - Train Accuracy: 0.6719\n",
            "Train Loss: 0.8295 - Train Accuracy: 0.7032\n",
            "Train Loss: 0.8307 - Train Accuracy: 0.7026\n",
            "Epoch 3/5 - Train Avg Loss: 0.8315 - Train Accuracy: 0.7034\n",
            "Validation Loss: 0.8618 - Validation Accuracy: 0.6917\n"
          ]
        },
        {
          "data": {
            "application/vnd.jupyter.widget-view+json": {
              "model_id": "53e691bfe4fa4eeaae2e24b342054320",
              "version_major": 2,
              "version_minor": 0
            },
            "text/plain": [
              "  0%|          | 0/564 [00:00<?, ?it/s]"
            ]
          },
          "metadata": {},
          "output_type": "display_data"
        },
        {
          "metadata": {
            "tags": null
          },
          "name": "stdout",
          "output_type": "stream",
          "text": [
            "Train Loss: 0.7166 - Train Accuracy: 0.7812\n",
            "Train Loss: 0.7731 - Train Accuracy: 0.7223\n",
            "Train Loss: 0.7788 - Train Accuracy: 0.7208\n",
            "Epoch 4/5 - Train Avg Loss: 0.7773 - Train Accuracy: 0.7228\n",
            "Validation Loss: 0.8594 - Validation Accuracy: 0.6960\n"
          ]
        },
        {
          "data": {
            "application/vnd.jupyter.widget-view+json": {
              "model_id": "d176ac15b92b4d71805462310cc5f07a",
              "version_major": 2,
              "version_minor": 0
            },
            "text/plain": [
              "  0%|          | 0/564 [00:00<?, ?it/s]"
            ]
          },
          "metadata": {},
          "output_type": "display_data"
        },
        {
          "metadata": {
            "tags": null
          },
          "name": "stdout",
          "output_type": "stream",
          "text": [
            "Train Loss: 0.7455 - Train Accuracy: 0.7578\n"
          ]
        }
      ],
      "source": [
        "wandb.watch(model)\n",
        "\n",
        "\n",
        "\n",
        "for epoch in range(num_epochs):\n",
        "    model.train()\n",
        "    train_total_loss = 0\n",
        "    train_correct = 0\n",
        "\n",
        "    for batch_id, batch in enumerate(tqdm(train_dataloader)):\n",
        "        input_ids = batch['input_ids'].to(device)\n",
        "        attention_mask = batch['attention_mask'].to(device)\n",
        "        labels = batch['label'].to(device)\n",
        "\n",
        "        optimizer.zero_grad()\n",
        "        outputs = model(input_ids, attention_mask=attention_mask)\n",
        "        logits = outputs.logits\n",
        "\n",
        "        loss = criterion(logits, labels)\n",
        "        loss.backward()\n",
        "        optimizer.step()\n",
        "        train_total_loss += loss.item()\n",
        "\n",
        "        train_pred = logits.argmax(dim=1)\n",
        "        train_correct += (train_pred == labels).sum().item()\n",
        "\n",
        "        if batch_id % log_interval == 0:\n",
        "            train_avg_loss = train_total_loss / (batch_id + 1)\n",
        "            train_accuracy = train_correct / ((batch_id + 1) * len(labels))\n",
        "            print(f\"Train Loss: {train_avg_loss:.4f} - Train Accuracy: {train_accuracy:.4f}\")\n",
        "\n",
        "    train_avg_loss = train_total_loss / len(train_dataloader)\n",
        "    train_accuracy = train_correct / len(train_dataloader.dataset)\n",
        "    print(f\"Epoch {epoch+1}/{num_epochs} - Train Avg Loss: {train_avg_loss:.4f} - Train Accuracy: {train_accuracy:.4f}\")\n",
        "\n",
        "    model.eval()\n",
        "    val_total_loss = 0\n",
        "    val_correct = 0\n",
        "\n",
        "    with torch.no_grad():\n",
        "        for val_batch in valid_dataloader:\n",
        "            val_input_ids = val_batch['input_ids'].to(device)\n",
        "            val_attention_mask = val_batch['attention_mask'].to(device)\n",
        "            val_labels = val_batch['label'].to(device)\n",
        "\n",
        "            val_outputs = model(val_input_ids, attention_mask=val_attention_mask)\n",
        "            val_logits = val_outputs.logits\n",
        "\n",
        "            val_loss = criterion(val_logits, val_labels)\n",
        "            val_total_loss += val_loss.item()\n",
        "\n",
        "            val_pred = val_logits.argmax(dim=1)\n",
        "            val_correct += (val_pred == val_labels).sum().item()\n",
        "\n",
        "    val_avg_loss = val_total_loss / len(valid_dataloader)\n",
        "    val_accuracy = val_correct / len(valid_dataloader.dataset)\n",
        "    print(f\"Validation Loss: {val_avg_loss:.4f} - Validation Accuracy: {val_accuracy:.4f}\")\n"
      ]
    },
    {
      "cell_type": "markdown",
      "metadata": {
        "id": "DS3o293dirmC"
      },
      "source": [
        "# 모델 저장 및 로드"
      ]
    },
    {
      "cell_type": "code",
      "execution_count": null,
      "metadata": {
        "id": "0J9uaIS9irNQ"
      },
      "outputs": [],
      "source": [
        "# # 모델 저장\n",
        "# model_save_path = \"kc_bert_emotion_classifier.pth\"\n",
        "# torch.save(model.state_dict(), model_save_path)\n",
        "\n",
        "# # 모델 아키텍처 생성\n",
        "# loaded_model = AutoModelForSequenceClassification.from_pretrained(\"beomi/kcbert-base\", num_labels=7)\n",
        "\n",
        "# # 저장된 가중치 불러오기\n",
        "# loaded_model.load_state_dict(torch.load(model_save_path))\n",
        "\n",
        "# # 모델을 평가 모드로 설정\n",
        "# loaded_model.eval()"
      ]
    },
    {
      "cell_type": "markdown",
      "metadata": {
        "id": "LK5Pt4nGilFd"
      },
      "source": [
        "#  모델 테스트 하기"
      ]
    },
    {
      "cell_type": "code",
      "execution_count": null,
      "metadata": {
        "id": "MehY_DmmURIK"
      },
      "outputs": [],
      "source": [
        "def valid_label(label):\n",
        "    if label == 0:\n",
        "        return '공포'\n",
        "    elif label == 1:\n",
        "        return '놀람'\n",
        "    elif label == 2:\n",
        "        return '분노'\n",
        "    elif label == 3:\n",
        "        return '슬픔'\n",
        "    elif label == 4:\n",
        "        return '중립'\n",
        "    elif label == 5:\n",
        "        return '행복'\n",
        "    elif label == 6:\n",
        "        return '혐오'"
      ]
    },
    {
      "cell_type": "code",
      "execution_count": null,
      "metadata": {
        "id": "7mTkYijuSUoR"
      },
      "outputs": [],
      "source": [
        "# 입력 데이터 준비\n",
        "input_data = [\n",
        "    \"만 개의 요리 레시피 감사합니다.\",\n",
        "    \"백종원은 우리집 요리사.\",\n",
        "    \"은근슬쩍 나올려고하네....?\",\n",
        "    \"한심하다 한심한 인간들 득실득실해 ㅋㅋ\",\n",
        "    \"가을이다...벌써 가을....\",\n",
        "    \"아이폰이 답이다.......\",\n",
        "    \"와...사진으로만으로도 압도되는데?.....\",\n",
        "    \"내부자들 현실판 미쳤다 현실세계 ㄷㄷㄷㄷㄷ\",\n",
        "    \"집에 가면 녹초가 된다고 너무 피곤해 요즘.....\",\n",
        "    \"밥 먹을 힘도 없다 ㅠㅠ..\",\n",
        "    \"너가 왠일이여???\",\n",
        "    \"배고파서 짜증나.....\",\n",
        "    \"아몬드브리즈 정말 맛있군\"\n",
        "    ]"
      ]
    },
    {
      "cell_type": "code",
      "execution_count": null,
      "metadata": {
        "id": "uBjnoIgwaYmC"
      },
      "outputs": [],
      "source": [
        "import torch\n",
        "\n",
        "# Set the device (CPU or GPU) based on the availability of GPUs\n",
        "device = torch.device(\"cuda:0\" if torch.cuda.is_available() else \"cpu\")\n",
        "\n",
        "# Move the model to the selected device\n",
        "model.to(device)\n",
        "\n",
        "# Tokenize and encode your input_data on the same device\n",
        "input_encodings = tokenizer(input_data, padding=True, truncation=True, return_tensors=\"pt\").to(device)\n",
        "\n",
        "# Ensure the model is in evaluation mode\n",
        "model.eval()\n",
        "\n",
        "# Pass the input data to the model\n",
        "with torch.no_grad():\n",
        "    output = model(**input_encodings)\n",
        "\n",
        "# The rest of your code for prediction remains the same\n",
        "logits = output.logits\n",
        "predicted_labels = logits.argmax(dim=1)\n",
        "\n",
        "for i, input_text in enumerate(input_data):\n",
        "    predicted_label = predicted_labels[i].item()\n",
        "    print(f\"Input: {input_text} - Predicted Label: {valid_label(predicted_label)}\")\n"
      ]
    },
    {
      "cell_type": "code",
      "execution_count": null,
      "metadata": {
        "id": "mJtNbb87SOuo"
      },
      "outputs": [],
      "source": [
        "def predict(sentence, model, tokenizer):\n",
        "    # Move the model to the device\n",
        "    device = next(model.parameters()).device\n",
        "\n",
        "    input_sentence = [sentence]\n",
        "    input_encodings = tokenizer(input_sentence, padding=True, truncation=True, return_tensors=\"pt\").to(device)\n",
        "\n",
        "    # 모델에 입력 데이터 전달\n",
        "    with torch.no_grad():\n",
        "        output = model(**input_encodings)\n",
        "\n",
        "    # 예측 결과 확인\n",
        "    logits = output.logits\n",
        "    predicted_labels = logits.argmax(dim=1)\n",
        "\n",
        "    # 예측 결과 출력\n",
        "    for i, input_text in enumerate(input_sentence):\n",
        "        predicted_label = predicted_labels[i].item()\n",
        "        print(f\"Input: {input_text} - Predicted Label: {valid_label(predicted_label)}\")\n"
      ]
    },
    {
      "cell_type": "code",
      "execution_count": null,
      "metadata": {
        "id": "eWrJqoUxLJmL"
      },
      "outputs": [],
      "source": [
        "\n",
        "#질문 무한반복하기! 0 입력시 종료\n",
        "while True:\n",
        "    sentence = input(\"하고싶은 말을 입력해주세요 : \")\n",
        "    if sentence == \"0\" :\n",
        "        print(\"감정 분석을 종료합니다.\")\n",
        "        break\n",
        "    predict(sentence, model, tokenizer)\n",
        "    print(\"\\n\")"
      ]
    }
  ],
  "metadata": {
    "accelerator": "TPU",
    "colab": {
      "machine_shape": "hm",
      "provenance": []
    },
    "kernelspec": {
      "display_name": "Python 3",
      "name": "python3"
    },
    "language_info": {
      "name": "python"
    },
    "widgets": {
      "application/vnd.jupyter.widget-state+json": {
        "006db34c697c49e1a88d66ad1be671ed": {
          "model_module": "@jupyter-widgets/base",
          "model_module_version": "1.2.0",
          "model_name": "LayoutModel",
          "state": {
            "_model_module": "@jupyter-widgets/base",
            "_model_module_version": "1.2.0",
            "_model_name": "LayoutModel",
            "_view_count": null,
            "_view_module": "@jupyter-widgets/base",
            "_view_module_version": "1.2.0",
            "_view_name": "LayoutView",
            "align_content": null,
            "align_items": null,
            "align_self": null,
            "border": null,
            "bottom": null,
            "display": null,
            "flex": null,
            "flex_flow": null,
            "grid_area": null,
            "grid_auto_columns": null,
            "grid_auto_flow": null,
            "grid_auto_rows": null,
            "grid_column": null,
            "grid_gap": null,
            "grid_row": null,
            "grid_template_areas": null,
            "grid_template_columns": null,
            "grid_template_rows": null,
            "height": null,
            "justify_content": null,
            "justify_items": null,
            "left": null,
            "margin": null,
            "max_height": null,
            "max_width": null,
            "min_height": null,
            "min_width": null,
            "object_fit": null,
            "object_position": null,
            "order": null,
            "overflow": null,
            "overflow_x": null,
            "overflow_y": null,
            "padding": null,
            "right": null,
            "top": null,
            "visibility": null,
            "width": null
          }
        },
        "0a29c86a8c8941629e68006f17b6a2ca": {
          "model_module": "@jupyter-widgets/controls",
          "model_module_version": "1.5.0",
          "model_name": "HTMLModel",
          "state": {
            "_dom_classes": [],
            "_model_module": "@jupyter-widgets/controls",
            "_model_module_version": "1.5.0",
            "_model_name": "HTMLModel",
            "_view_count": null,
            "_view_module": "@jupyter-widgets/controls",
            "_view_module_version": "1.5.0",
            "_view_name": "HTMLView",
            "description": "",
            "description_tooltip": null,
            "layout": "IPY_MODEL_73787b9459704fceb44d79c1e7c1bb74",
            "placeholder": "​",
            "style": "IPY_MODEL_6f86bf34ee5c46a5b6dcaccb22038862",
            "value": " 467/467 [00:00&lt;00:00, 33.1kB/s]"
          }
        },
        "0c88344f5b6b4f5b85f081f5954b5acb": {
          "model_module": "@jupyter-widgets/base",
          "model_module_version": "1.2.0",
          "model_name": "LayoutModel",
          "state": {
            "_model_module": "@jupyter-widgets/base",
            "_model_module_version": "1.2.0",
            "_model_name": "LayoutModel",
            "_view_count": null,
            "_view_module": "@jupyter-widgets/base",
            "_view_module_version": "1.2.0",
            "_view_name": "LayoutView",
            "align_content": null,
            "align_items": null,
            "align_self": null,
            "border": null,
            "bottom": null,
            "display": null,
            "flex": null,
            "flex_flow": null,
            "grid_area": null,
            "grid_auto_columns": null,
            "grid_auto_flow": null,
            "grid_auto_rows": null,
            "grid_column": null,
            "grid_gap": null,
            "grid_row": null,
            "grid_template_areas": null,
            "grid_template_columns": null,
            "grid_template_rows": null,
            "height": null,
            "justify_content": null,
            "justify_items": null,
            "left": null,
            "margin": null,
            "max_height": null,
            "max_width": null,
            "min_height": null,
            "min_width": null,
            "object_fit": null,
            "object_position": null,
            "order": null,
            "overflow": null,
            "overflow_x": null,
            "overflow_y": null,
            "padding": null,
            "right": null,
            "top": null,
            "visibility": null,
            "width": null
          }
        },
        "12683fda63254d93aae46d4368bd11c3": {
          "model_module": "@jupyter-widgets/controls",
          "model_module_version": "1.5.0",
          "model_name": "HTMLModel",
          "state": {
            "_dom_classes": [],
            "_model_module": "@jupyter-widgets/controls",
            "_model_module_version": "1.5.0",
            "_model_name": "HTMLModel",
            "_view_count": null,
            "_view_module": "@jupyter-widgets/controls",
            "_view_module_version": "1.5.0",
            "_view_name": "HTMLView",
            "description": "",
            "description_tooltip": null,
            "layout": "IPY_MODEL_1f89729cb27944288fb0b74824b528e6",
            "placeholder": "​",
            "style": "IPY_MODEL_515a6b9d27634604a76bac0e2bf745be",
            "value": "Downloading (…)okenizer_config.json: 100%"
          }
        },
        "1be30225742d40d1b8e38d1f54e2f23f": {
          "model_module": "@jupyter-widgets/controls",
          "model_module_version": "1.5.0",
          "model_name": "FloatProgressModel",
          "state": {
            "_dom_classes": [],
            "_model_module": "@jupyter-widgets/controls",
            "_model_module_version": "1.5.0",
            "_model_name": "FloatProgressModel",
            "_view_count": null,
            "_view_module": "@jupyter-widgets/controls",
            "_view_module_version": "1.5.0",
            "_view_name": "ProgressView",
            "bar_style": "success",
            "description": "",
            "description_tooltip": null,
            "layout": "IPY_MODEL_95b75c65d0c54e1bb04828a9231abe4b",
            "max": 451741507,
            "min": 0,
            "orientation": "horizontal",
            "style": "IPY_MODEL_f57d1245006f4b33bff6eff1ef40ae9c",
            "value": 451741507
          }
        },
        "1c87a767f6044564af26bacaba2312d7": {
          "model_module": "@jupyter-widgets/base",
          "model_module_version": "1.2.0",
          "model_name": "LayoutModel",
          "state": {
            "_model_module": "@jupyter-widgets/base",
            "_model_module_version": "1.2.0",
            "_model_name": "LayoutModel",
            "_view_count": null,
            "_view_module": "@jupyter-widgets/base",
            "_view_module_version": "1.2.0",
            "_view_name": "LayoutView",
            "align_content": null,
            "align_items": null,
            "align_self": null,
            "border": null,
            "bottom": null,
            "display": null,
            "flex": null,
            "flex_flow": null,
            "grid_area": null,
            "grid_auto_columns": null,
            "grid_auto_flow": null,
            "grid_auto_rows": null,
            "grid_column": null,
            "grid_gap": null,
            "grid_row": null,
            "grid_template_areas": null,
            "grid_template_columns": null,
            "grid_template_rows": null,
            "height": null,
            "justify_content": null,
            "justify_items": null,
            "left": null,
            "margin": null,
            "max_height": null,
            "max_width": null,
            "min_height": null,
            "min_width": null,
            "object_fit": null,
            "object_position": null,
            "order": null,
            "overflow": null,
            "overflow_x": null,
            "overflow_y": null,
            "padding": null,
            "right": null,
            "top": null,
            "visibility": null,
            "width": null
          }
        },
        "1f89729cb27944288fb0b74824b528e6": {
          "model_module": "@jupyter-widgets/base",
          "model_module_version": "1.2.0",
          "model_name": "LayoutModel",
          "state": {
            "_model_module": "@jupyter-widgets/base",
            "_model_module_version": "1.2.0",
            "_model_name": "LayoutModel",
            "_view_count": null,
            "_view_module": "@jupyter-widgets/base",
            "_view_module_version": "1.2.0",
            "_view_name": "LayoutView",
            "align_content": null,
            "align_items": null,
            "align_self": null,
            "border": null,
            "bottom": null,
            "display": null,
            "flex": null,
            "flex_flow": null,
            "grid_area": null,
            "grid_auto_columns": null,
            "grid_auto_flow": null,
            "grid_auto_rows": null,
            "grid_column": null,
            "grid_gap": null,
            "grid_row": null,
            "grid_template_areas": null,
            "grid_template_columns": null,
            "grid_template_rows": null,
            "height": null,
            "justify_content": null,
            "justify_items": null,
            "left": null,
            "margin": null,
            "max_height": null,
            "max_width": null,
            "min_height": null,
            "min_width": null,
            "object_fit": null,
            "object_position": null,
            "order": null,
            "overflow": null,
            "overflow_x": null,
            "overflow_y": null,
            "padding": null,
            "right": null,
            "top": null,
            "visibility": null,
            "width": null
          }
        },
        "2008fab4a2d34aa595e88e335a1c4c6f": {
          "model_module": "@jupyter-widgets/controls",
          "model_module_version": "1.5.0",
          "model_name": "FloatProgressModel",
          "state": {
            "_dom_classes": [],
            "_model_module": "@jupyter-widgets/controls",
            "_model_module_version": "1.5.0",
            "_model_name": "FloatProgressModel",
            "_view_count": null,
            "_view_module": "@jupyter-widgets/controls",
            "_view_module_version": "1.5.0",
            "_view_name": "ProgressView",
            "bar_style": "success",
            "description": "",
            "description_tooltip": null,
            "layout": "IPY_MODEL_006db34c697c49e1a88d66ad1be671ed",
            "max": 564,
            "min": 0,
            "orientation": "horizontal",
            "style": "IPY_MODEL_5e94c9a39f99428f90f586226daed82a",
            "value": 564
          }
        },
        "206cce79ba944811ba158546cc436dd5": {
          "model_module": "@jupyter-widgets/base",
          "model_module_version": "1.2.0",
          "model_name": "LayoutModel",
          "state": {
            "_model_module": "@jupyter-widgets/base",
            "_model_module_version": "1.2.0",
            "_model_name": "LayoutModel",
            "_view_count": null,
            "_view_module": "@jupyter-widgets/base",
            "_view_module_version": "1.2.0",
            "_view_name": "LayoutView",
            "align_content": null,
            "align_items": null,
            "align_self": null,
            "border": null,
            "bottom": null,
            "display": null,
            "flex": null,
            "flex_flow": null,
            "grid_area": null,
            "grid_auto_columns": null,
            "grid_auto_flow": null,
            "grid_auto_rows": null,
            "grid_column": null,
            "grid_gap": null,
            "grid_row": null,
            "grid_template_areas": null,
            "grid_template_columns": null,
            "grid_template_rows": null,
            "height": null,
            "justify_content": null,
            "justify_items": null,
            "left": null,
            "margin": null,
            "max_height": null,
            "max_width": null,
            "min_height": null,
            "min_width": null,
            "object_fit": null,
            "object_position": null,
            "order": null,
            "overflow": null,
            "overflow_x": null,
            "overflow_y": null,
            "padding": null,
            "right": null,
            "top": null,
            "visibility": null,
            "width": null
          }
        },
        "25dadc573b3e46d4a0587aea78a2b219": {
          "model_module": "@jupyter-widgets/controls",
          "model_module_version": "1.5.0",
          "model_name": "DescriptionStyleModel",
          "state": {
            "_model_module": "@jupyter-widgets/controls",
            "_model_module_version": "1.5.0",
            "_model_name": "DescriptionStyleModel",
            "_view_count": null,
            "_view_module": "@jupyter-widgets/base",
            "_view_module_version": "1.2.0",
            "_view_name": "StyleView",
            "description_width": ""
          }
        },
        "28e92c69051046cba6ab75acf6826884": {
          "model_module": "@jupyter-widgets/controls",
          "model_module_version": "1.5.0",
          "model_name": "HTMLModel",
          "state": {
            "_dom_classes": [],
            "_model_module": "@jupyter-widgets/controls",
            "_model_module_version": "1.5.0",
            "_model_name": "HTMLModel",
            "_view_count": null,
            "_view_module": "@jupyter-widgets/controls",
            "_view_module_version": "1.5.0",
            "_view_name": "HTMLView",
            "description": "",
            "description_tooltip": null,
            "layout": "IPY_MODEL_1c87a767f6044564af26bacaba2312d7",
            "placeholder": "​",
            "style": "IPY_MODEL_faa4484f6a5e4205b0f921c6d80d0dd7",
            "value": " 61.0/61.0 [00:00&lt;00:00, 5.33kB/s]"
          }
        },
        "29e86d97dca14cbea7a929a8972c9a86": {
          "model_module": "@jupyter-widgets/controls",
          "model_module_version": "1.5.0",
          "model_name": "HTMLModel",
          "state": {
            "_dom_classes": [],
            "_model_module": "@jupyter-widgets/controls",
            "_model_module_version": "1.5.0",
            "_model_name": "HTMLModel",
            "_view_count": null,
            "_view_module": "@jupyter-widgets/controls",
            "_view_module_version": "1.5.0",
            "_view_name": "HTMLView",
            "description": "",
            "description_tooltip": null,
            "layout": "IPY_MODEL_a8ea58d6102a47f9a8074504a2902ec7",
            "placeholder": "​",
            "style": "IPY_MODEL_e41c51f742b842d2840add98fa40e4c4",
            "value": " 452M/452M [00:05&lt;00:00, 94.2MB/s]"
          }
        },
        "2dbab8487cee44f5887bc30f943db9a2": {
          "model_module": "@jupyter-widgets/controls",
          "model_module_version": "1.5.0",
          "model_name": "DescriptionStyleModel",
          "state": {
            "_model_module": "@jupyter-widgets/controls",
            "_model_module_version": "1.5.0",
            "_model_name": "DescriptionStyleModel",
            "_view_count": null,
            "_view_module": "@jupyter-widgets/base",
            "_view_module_version": "1.2.0",
            "_view_name": "StyleView",
            "description_width": ""
          }
        },
        "2e440779a69446b8b5ae4ddf7098a731": {
          "model_module": "@jupyter-widgets/base",
          "model_module_version": "1.2.0",
          "model_name": "LayoutModel",
          "state": {
            "_model_module": "@jupyter-widgets/base",
            "_model_module_version": "1.2.0",
            "_model_name": "LayoutModel",
            "_view_count": null,
            "_view_module": "@jupyter-widgets/base",
            "_view_module_version": "1.2.0",
            "_view_name": "LayoutView",
            "align_content": null,
            "align_items": null,
            "align_self": null,
            "border": null,
            "bottom": null,
            "display": null,
            "flex": null,
            "flex_flow": null,
            "grid_area": null,
            "grid_auto_columns": null,
            "grid_auto_flow": null,
            "grid_auto_rows": null,
            "grid_column": null,
            "grid_gap": null,
            "grid_row": null,
            "grid_template_areas": null,
            "grid_template_columns": null,
            "grid_template_rows": null,
            "height": null,
            "justify_content": null,
            "justify_items": null,
            "left": null,
            "margin": null,
            "max_height": null,
            "max_width": null,
            "min_height": null,
            "min_width": null,
            "object_fit": null,
            "object_position": null,
            "order": null,
            "overflow": null,
            "overflow_x": null,
            "overflow_y": null,
            "padding": null,
            "right": null,
            "top": null,
            "visibility": null,
            "width": null
          }
        },
        "2fbd3de345b740ada56c0719ac8ac0d0": {
          "model_module": "@jupyter-widgets/controls",
          "model_module_version": "1.5.0",
          "model_name": "HTMLModel",
          "state": {
            "_dom_classes": [],
            "_model_module": "@jupyter-widgets/controls",
            "_model_module_version": "1.5.0",
            "_model_name": "HTMLModel",
            "_view_count": null,
            "_view_module": "@jupyter-widgets/controls",
            "_view_module_version": "1.5.0",
            "_view_name": "HTMLView",
            "description": "",
            "description_tooltip": null,
            "layout": "IPY_MODEL_8bb1833d46c24450822fa65e19a53b44",
            "placeholder": "​",
            "style": "IPY_MODEL_25dadc573b3e46d4a0587aea78a2b219",
            "value": " 505/564 [1:46:32&lt;13:24, 13.63s/it]"
          }
        },
        "30f1bf845f534562911aa929045943be": {
          "model_module": "@jupyter-widgets/controls",
          "model_module_version": "1.5.0",
          "model_name": "HBoxModel",
          "state": {
            "_dom_classes": [],
            "_model_module": "@jupyter-widgets/controls",
            "_model_module_version": "1.5.0",
            "_model_name": "HBoxModel",
            "_view_count": null,
            "_view_module": "@jupyter-widgets/controls",
            "_view_module_version": "1.5.0",
            "_view_name": "HBoxView",
            "box_style": "",
            "children": [
              "IPY_MODEL_cacabe959767446ea5ec304320ab4285",
              "IPY_MODEL_b818663ffbe1444ca4297cba0466f290",
              "IPY_MODEL_0a29c86a8c8941629e68006f17b6a2ca"
            ],
            "layout": "IPY_MODEL_2e440779a69446b8b5ae4ddf7098a731"
          }
        },
        "35240f89cb9948b69780ab963b7bb1da": {
          "model_module": "@jupyter-widgets/controls",
          "model_module_version": "1.5.0",
          "model_name": "DescriptionStyleModel",
          "state": {
            "_model_module": "@jupyter-widgets/controls",
            "_model_module_version": "1.5.0",
            "_model_name": "DescriptionStyleModel",
            "_view_count": null,
            "_view_module": "@jupyter-widgets/base",
            "_view_module_version": "1.2.0",
            "_view_name": "StyleView",
            "description_width": ""
          }
        },
        "35cf46a2476a4ee095763b755eff85fe": {
          "model_module": "@jupyter-widgets/base",
          "model_module_version": "1.2.0",
          "model_name": "LayoutModel",
          "state": {
            "_model_module": "@jupyter-widgets/base",
            "_model_module_version": "1.2.0",
            "_model_name": "LayoutModel",
            "_view_count": null,
            "_view_module": "@jupyter-widgets/base",
            "_view_module_version": "1.2.0",
            "_view_name": "LayoutView",
            "align_content": null,
            "align_items": null,
            "align_self": null,
            "border": null,
            "bottom": null,
            "display": null,
            "flex": null,
            "flex_flow": null,
            "grid_area": null,
            "grid_auto_columns": null,
            "grid_auto_flow": null,
            "grid_auto_rows": null,
            "grid_column": null,
            "grid_gap": null,
            "grid_row": null,
            "grid_template_areas": null,
            "grid_template_columns": null,
            "grid_template_rows": null,
            "height": null,
            "justify_content": null,
            "justify_items": null,
            "left": null,
            "margin": null,
            "max_height": null,
            "max_width": null,
            "min_height": null,
            "min_width": null,
            "object_fit": null,
            "object_position": null,
            "order": null,
            "overflow": null,
            "overflow_x": null,
            "overflow_y": null,
            "padding": null,
            "right": null,
            "top": null,
            "visibility": null,
            "width": null
          }
        },
        "3af4d73475ff4f51b1832b5deb02a2a2": {
          "model_module": "@jupyter-widgets/controls",
          "model_module_version": "1.5.0",
          "model_name": "ProgressStyleModel",
          "state": {
            "_model_module": "@jupyter-widgets/controls",
            "_model_module_version": "1.5.0",
            "_model_name": "ProgressStyleModel",
            "_view_count": null,
            "_view_module": "@jupyter-widgets/base",
            "_view_module_version": "1.2.0",
            "_view_name": "StyleView",
            "bar_color": null,
            "description_width": ""
          }
        },
        "3daafeb104434cb89b40ba76fd9dc776": {
          "model_module": "@jupyter-widgets/controls",
          "model_module_version": "1.5.0",
          "model_name": "HBoxModel",
          "state": {
            "_dom_classes": [],
            "_model_module": "@jupyter-widgets/controls",
            "_model_module_version": "1.5.0",
            "_model_name": "HBoxModel",
            "_view_count": null,
            "_view_module": "@jupyter-widgets/controls",
            "_view_module_version": "1.5.0",
            "_view_name": "HBoxView",
            "box_style": "",
            "children": [
              "IPY_MODEL_9191a7397d094cf28ceb07a32fbd3e82",
              "IPY_MODEL_1be30225742d40d1b8e38d1f54e2f23f",
              "IPY_MODEL_29e86d97dca14cbea7a929a8972c9a86"
            ],
            "layout": "IPY_MODEL_3f21ecc1783f402998f3be0f211e3347"
          }
        },
        "3f21ecc1783f402998f3be0f211e3347": {
          "model_module": "@jupyter-widgets/base",
          "model_module_version": "1.2.0",
          "model_name": "LayoutModel",
          "state": {
            "_model_module": "@jupyter-widgets/base",
            "_model_module_version": "1.2.0",
            "_model_name": "LayoutModel",
            "_view_count": null,
            "_view_module": "@jupyter-widgets/base",
            "_view_module_version": "1.2.0",
            "_view_name": "LayoutView",
            "align_content": null,
            "align_items": null,
            "align_self": null,
            "border": null,
            "bottom": null,
            "display": null,
            "flex": null,
            "flex_flow": null,
            "grid_area": null,
            "grid_auto_columns": null,
            "grid_auto_flow": null,
            "grid_auto_rows": null,
            "grid_column": null,
            "grid_gap": null,
            "grid_row": null,
            "grid_template_areas": null,
            "grid_template_columns": null,
            "grid_template_rows": null,
            "height": null,
            "justify_content": null,
            "justify_items": null,
            "left": null,
            "margin": null,
            "max_height": null,
            "max_width": null,
            "min_height": null,
            "min_width": null,
            "object_fit": null,
            "object_position": null,
            "order": null,
            "overflow": null,
            "overflow_x": null,
            "overflow_y": null,
            "padding": null,
            "right": null,
            "top": null,
            "visibility": null,
            "width": null
          }
        },
        "44d9d60b41834918b8f25279e849742f": {
          "model_module": "@jupyter-widgets/base",
          "model_module_version": "1.2.0",
          "model_name": "LayoutModel",
          "state": {
            "_model_module": "@jupyter-widgets/base",
            "_model_module_version": "1.2.0",
            "_model_name": "LayoutModel",
            "_view_count": null,
            "_view_module": "@jupyter-widgets/base",
            "_view_module_version": "1.2.0",
            "_view_name": "LayoutView",
            "align_content": null,
            "align_items": null,
            "align_self": null,
            "border": null,
            "bottom": null,
            "display": null,
            "flex": null,
            "flex_flow": null,
            "grid_area": null,
            "grid_auto_columns": null,
            "grid_auto_flow": null,
            "grid_auto_rows": null,
            "grid_column": null,
            "grid_gap": null,
            "grid_row": null,
            "grid_template_areas": null,
            "grid_template_columns": null,
            "grid_template_rows": null,
            "height": null,
            "justify_content": null,
            "justify_items": null,
            "left": null,
            "margin": null,
            "max_height": null,
            "max_width": null,
            "min_height": null,
            "min_width": null,
            "object_fit": null,
            "object_position": null,
            "order": null,
            "overflow": null,
            "overflow_x": null,
            "overflow_y": null,
            "padding": null,
            "right": null,
            "top": null,
            "visibility": null,
            "width": null
          }
        },
        "487f35ffc9e64be2990e2e8815e7c30d": {
          "model_module": "@jupyter-widgets/base",
          "model_module_version": "1.2.0",
          "model_name": "LayoutModel",
          "state": {
            "_model_module": "@jupyter-widgets/base",
            "_model_module_version": "1.2.0",
            "_model_name": "LayoutModel",
            "_view_count": null,
            "_view_module": "@jupyter-widgets/base",
            "_view_module_version": "1.2.0",
            "_view_name": "LayoutView",
            "align_content": null,
            "align_items": null,
            "align_self": null,
            "border": null,
            "bottom": null,
            "display": null,
            "flex": null,
            "flex_flow": null,
            "grid_area": null,
            "grid_auto_columns": null,
            "grid_auto_flow": null,
            "grid_auto_rows": null,
            "grid_column": null,
            "grid_gap": null,
            "grid_row": null,
            "grid_template_areas": null,
            "grid_template_columns": null,
            "grid_template_rows": null,
            "height": null,
            "justify_content": null,
            "justify_items": null,
            "left": null,
            "margin": null,
            "max_height": null,
            "max_width": null,
            "min_height": null,
            "min_width": null,
            "object_fit": null,
            "object_position": null,
            "order": null,
            "overflow": null,
            "overflow_x": null,
            "overflow_y": null,
            "padding": null,
            "right": null,
            "top": null,
            "visibility": null,
            "width": null
          }
        },
        "4b8faa3b3d614c72a79fbbeca57f478b": {
          "model_module": "@jupyter-widgets/base",
          "model_module_version": "1.2.0",
          "model_name": "LayoutModel",
          "state": {
            "_model_module": "@jupyter-widgets/base",
            "_model_module_version": "1.2.0",
            "_model_name": "LayoutModel",
            "_view_count": null,
            "_view_module": "@jupyter-widgets/base",
            "_view_module_version": "1.2.0",
            "_view_name": "LayoutView",
            "align_content": null,
            "align_items": null,
            "align_self": null,
            "border": null,
            "bottom": null,
            "display": null,
            "flex": null,
            "flex_flow": null,
            "grid_area": null,
            "grid_auto_columns": null,
            "grid_auto_flow": null,
            "grid_auto_rows": null,
            "grid_column": null,
            "grid_gap": null,
            "grid_row": null,
            "grid_template_areas": null,
            "grid_template_columns": null,
            "grid_template_rows": null,
            "height": null,
            "justify_content": null,
            "justify_items": null,
            "left": null,
            "margin": null,
            "max_height": null,
            "max_width": null,
            "min_height": null,
            "min_width": null,
            "object_fit": null,
            "object_position": null,
            "order": null,
            "overflow": null,
            "overflow_x": null,
            "overflow_y": null,
            "padding": null,
            "right": null,
            "top": null,
            "visibility": null,
            "width": null
          }
        },
        "4ddaa413605f4ce8a98113da0757cdd6": {
          "model_module": "@jupyter-widgets/base",
          "model_module_version": "1.2.0",
          "model_name": "LayoutModel",
          "state": {
            "_model_module": "@jupyter-widgets/base",
            "_model_module_version": "1.2.0",
            "_model_name": "LayoutModel",
            "_view_count": null,
            "_view_module": "@jupyter-widgets/base",
            "_view_module_version": "1.2.0",
            "_view_name": "LayoutView",
            "align_content": null,
            "align_items": null,
            "align_self": null,
            "border": null,
            "bottom": null,
            "display": null,
            "flex": null,
            "flex_flow": null,
            "grid_area": null,
            "grid_auto_columns": null,
            "grid_auto_flow": null,
            "grid_auto_rows": null,
            "grid_column": null,
            "grid_gap": null,
            "grid_row": null,
            "grid_template_areas": null,
            "grid_template_columns": null,
            "grid_template_rows": null,
            "height": null,
            "justify_content": null,
            "justify_items": null,
            "left": null,
            "margin": null,
            "max_height": null,
            "max_width": null,
            "min_height": null,
            "min_width": null,
            "object_fit": null,
            "object_position": null,
            "order": null,
            "overflow": null,
            "overflow_x": null,
            "overflow_y": null,
            "padding": null,
            "right": null,
            "top": null,
            "visibility": null,
            "width": null
          }
        },
        "515a6b9d27634604a76bac0e2bf745be": {
          "model_module": "@jupyter-widgets/controls",
          "model_module_version": "1.5.0",
          "model_name": "DescriptionStyleModel",
          "state": {
            "_model_module": "@jupyter-widgets/controls",
            "_model_module_version": "1.5.0",
            "_model_name": "DescriptionStyleModel",
            "_view_count": null,
            "_view_module": "@jupyter-widgets/base",
            "_view_module_version": "1.2.0",
            "_view_name": "StyleView",
            "description_width": ""
          }
        },
        "5e94c9a39f99428f90f586226daed82a": {
          "model_module": "@jupyter-widgets/controls",
          "model_module_version": "1.5.0",
          "model_name": "ProgressStyleModel",
          "state": {
            "_model_module": "@jupyter-widgets/controls",
            "_model_module_version": "1.5.0",
            "_model_name": "ProgressStyleModel",
            "_view_count": null,
            "_view_module": "@jupyter-widgets/base",
            "_view_module_version": "1.2.0",
            "_view_name": "StyleView",
            "bar_color": null,
            "description_width": ""
          }
        },
        "637afb4e8d2a4ecb88b26588c5d38e68": {
          "model_module": "@jupyter-widgets/base",
          "model_module_version": "1.2.0",
          "model_name": "LayoutModel",
          "state": {
            "_model_module": "@jupyter-widgets/base",
            "_model_module_version": "1.2.0",
            "_model_name": "LayoutModel",
            "_view_count": null,
            "_view_module": "@jupyter-widgets/base",
            "_view_module_version": "1.2.0",
            "_view_name": "LayoutView",
            "align_content": null,
            "align_items": null,
            "align_self": null,
            "border": null,
            "bottom": null,
            "display": null,
            "flex": null,
            "flex_flow": null,
            "grid_area": null,
            "grid_auto_columns": null,
            "grid_auto_flow": null,
            "grid_auto_rows": null,
            "grid_column": null,
            "grid_gap": null,
            "grid_row": null,
            "grid_template_areas": null,
            "grid_template_columns": null,
            "grid_template_rows": null,
            "height": null,
            "justify_content": null,
            "justify_items": null,
            "left": null,
            "margin": null,
            "max_height": null,
            "max_width": null,
            "min_height": null,
            "min_width": null,
            "object_fit": null,
            "object_position": null,
            "order": null,
            "overflow": null,
            "overflow_x": null,
            "overflow_y": null,
            "padding": null,
            "right": null,
            "top": null,
            "visibility": null,
            "width": null
          }
        },
        "63d5b3afbe514a5c9b6f8becc8a67cf8": {
          "model_module": "@jupyter-widgets/controls",
          "model_module_version": "1.5.0",
          "model_name": "DescriptionStyleModel",
          "state": {
            "_model_module": "@jupyter-widgets/controls",
            "_model_module_version": "1.5.0",
            "_model_name": "DescriptionStyleModel",
            "_view_count": null,
            "_view_module": "@jupyter-widgets/base",
            "_view_module_version": "1.2.0",
            "_view_name": "StyleView",
            "description_width": ""
          }
        },
        "6b8ec36f8c1042c5b3cef2a9bf79d627": {
          "model_module": "@jupyter-widgets/base",
          "model_module_version": "1.2.0",
          "model_name": "LayoutModel",
          "state": {
            "_model_module": "@jupyter-widgets/base",
            "_model_module_version": "1.2.0",
            "_model_name": "LayoutModel",
            "_view_count": null,
            "_view_module": "@jupyter-widgets/base",
            "_view_module_version": "1.2.0",
            "_view_name": "LayoutView",
            "align_content": null,
            "align_items": null,
            "align_self": null,
            "border": null,
            "bottom": null,
            "display": null,
            "flex": null,
            "flex_flow": null,
            "grid_area": null,
            "grid_auto_columns": null,
            "grid_auto_flow": null,
            "grid_auto_rows": null,
            "grid_column": null,
            "grid_gap": null,
            "grid_row": null,
            "grid_template_areas": null,
            "grid_template_columns": null,
            "grid_template_rows": null,
            "height": null,
            "justify_content": null,
            "justify_items": null,
            "left": null,
            "margin": null,
            "max_height": null,
            "max_width": null,
            "min_height": null,
            "min_width": null,
            "object_fit": null,
            "object_position": null,
            "order": null,
            "overflow": null,
            "overflow_x": null,
            "overflow_y": null,
            "padding": null,
            "right": null,
            "top": null,
            "visibility": null,
            "width": null
          }
        },
        "6f86bf34ee5c46a5b6dcaccb22038862": {
          "model_module": "@jupyter-widgets/controls",
          "model_module_version": "1.5.0",
          "model_name": "DescriptionStyleModel",
          "state": {
            "_model_module": "@jupyter-widgets/controls",
            "_model_module_version": "1.5.0",
            "_model_name": "DescriptionStyleModel",
            "_view_count": null,
            "_view_module": "@jupyter-widgets/base",
            "_view_module_version": "1.2.0",
            "_view_name": "StyleView",
            "description_width": ""
          }
        },
        "700a783b64064ce88a9db1e67eee87a1": {
          "model_module": "@jupyter-widgets/controls",
          "model_module_version": "1.5.0",
          "model_name": "FloatProgressModel",
          "state": {
            "_dom_classes": [],
            "_model_module": "@jupyter-widgets/controls",
            "_model_module_version": "1.5.0",
            "_model_name": "FloatProgressModel",
            "_view_count": null,
            "_view_module": "@jupyter-widgets/controls",
            "_view_module_version": "1.5.0",
            "_view_name": "ProgressView",
            "bar_style": "success",
            "description": "",
            "description_tooltip": null,
            "layout": "IPY_MODEL_4ddaa413605f4ce8a98113da0757cdd6",
            "max": 263326,
            "min": 0,
            "orientation": "horizontal",
            "style": "IPY_MODEL_ae6170e52a9541708d99f6f3e2f095b7",
            "value": 263326
          }
        },
        "719c9a9d31a642fbaa63d861fe087c92": {
          "model_module": "@jupyter-widgets/controls",
          "model_module_version": "1.5.0",
          "model_name": "DescriptionStyleModel",
          "state": {
            "_model_module": "@jupyter-widgets/controls",
            "_model_module_version": "1.5.0",
            "_model_name": "DescriptionStyleModel",
            "_view_count": null,
            "_view_module": "@jupyter-widgets/base",
            "_view_module_version": "1.2.0",
            "_view_name": "StyleView",
            "description_width": ""
          }
        },
        "73787b9459704fceb44d79c1e7c1bb74": {
          "model_module": "@jupyter-widgets/base",
          "model_module_version": "1.2.0",
          "model_name": "LayoutModel",
          "state": {
            "_model_module": "@jupyter-widgets/base",
            "_model_module_version": "1.2.0",
            "_model_name": "LayoutModel",
            "_view_count": null,
            "_view_module": "@jupyter-widgets/base",
            "_view_module_version": "1.2.0",
            "_view_name": "LayoutView",
            "align_content": null,
            "align_items": null,
            "align_self": null,
            "border": null,
            "bottom": null,
            "display": null,
            "flex": null,
            "flex_flow": null,
            "grid_area": null,
            "grid_auto_columns": null,
            "grid_auto_flow": null,
            "grid_auto_rows": null,
            "grid_column": null,
            "grid_gap": null,
            "grid_row": null,
            "grid_template_areas": null,
            "grid_template_columns": null,
            "grid_template_rows": null,
            "height": null,
            "justify_content": null,
            "justify_items": null,
            "left": null,
            "margin": null,
            "max_height": null,
            "max_width": null,
            "min_height": null,
            "min_width": null,
            "object_fit": null,
            "object_position": null,
            "order": null,
            "overflow": null,
            "overflow_x": null,
            "overflow_y": null,
            "padding": null,
            "right": null,
            "top": null,
            "visibility": null,
            "width": null
          }
        },
        "75be019ef4a24fee992e15668f8be476": {
          "model_module": "@jupyter-widgets/base",
          "model_module_version": "1.2.0",
          "model_name": "LayoutModel",
          "state": {
            "_model_module": "@jupyter-widgets/base",
            "_model_module_version": "1.2.0",
            "_model_name": "LayoutModel",
            "_view_count": null,
            "_view_module": "@jupyter-widgets/base",
            "_view_module_version": "1.2.0",
            "_view_name": "LayoutView",
            "align_content": null,
            "align_items": null,
            "align_self": null,
            "border": null,
            "bottom": null,
            "display": null,
            "flex": null,
            "flex_flow": null,
            "grid_area": null,
            "grid_auto_columns": null,
            "grid_auto_flow": null,
            "grid_auto_rows": null,
            "grid_column": null,
            "grid_gap": null,
            "grid_row": null,
            "grid_template_areas": null,
            "grid_template_columns": null,
            "grid_template_rows": null,
            "height": null,
            "justify_content": null,
            "justify_items": null,
            "left": null,
            "margin": null,
            "max_height": null,
            "max_width": null,
            "min_height": null,
            "min_width": null,
            "object_fit": null,
            "object_position": null,
            "order": null,
            "overflow": null,
            "overflow_x": null,
            "overflow_y": null,
            "padding": null,
            "right": null,
            "top": null,
            "visibility": null,
            "width": null
          }
        },
        "75cb58e9f2554d54a409c7330b7ea85a": {
          "model_module": "@jupyter-widgets/controls",
          "model_module_version": "1.5.0",
          "model_name": "FloatProgressModel",
          "state": {
            "_dom_classes": [],
            "_model_module": "@jupyter-widgets/controls",
            "_model_module_version": "1.5.0",
            "_model_name": "FloatProgressModel",
            "_view_count": null,
            "_view_module": "@jupyter-widgets/controls",
            "_view_module_version": "1.5.0",
            "_view_name": "ProgressView",
            "bar_style": "",
            "description": "",
            "description_tooltip": null,
            "layout": "IPY_MODEL_75be019ef4a24fee992e15668f8be476",
            "max": 564,
            "min": 0,
            "orientation": "horizontal",
            "style": "IPY_MODEL_f9c94b225e7c482ea7e14e49135c21b1",
            "value": 506
          }
        },
        "8527bad10432425b880a17ad96c38bdb": {
          "model_module": "@jupyter-widgets/controls",
          "model_module_version": "1.5.0",
          "model_name": "ProgressStyleModel",
          "state": {
            "_model_module": "@jupyter-widgets/controls",
            "_model_module_version": "1.5.0",
            "_model_name": "ProgressStyleModel",
            "_view_count": null,
            "_view_module": "@jupyter-widgets/base",
            "_view_module_version": "1.2.0",
            "_view_name": "StyleView",
            "bar_color": null,
            "description_width": ""
          }
        },
        "8bb1833d46c24450822fa65e19a53b44": {
          "model_module": "@jupyter-widgets/base",
          "model_module_version": "1.2.0",
          "model_name": "LayoutModel",
          "state": {
            "_model_module": "@jupyter-widgets/base",
            "_model_module_version": "1.2.0",
            "_model_name": "LayoutModel",
            "_view_count": null,
            "_view_module": "@jupyter-widgets/base",
            "_view_module_version": "1.2.0",
            "_view_name": "LayoutView",
            "align_content": null,
            "align_items": null,
            "align_self": null,
            "border": null,
            "bottom": null,
            "display": null,
            "flex": null,
            "flex_flow": null,
            "grid_area": null,
            "grid_auto_columns": null,
            "grid_auto_flow": null,
            "grid_auto_rows": null,
            "grid_column": null,
            "grid_gap": null,
            "grid_row": null,
            "grid_template_areas": null,
            "grid_template_columns": null,
            "grid_template_rows": null,
            "height": null,
            "justify_content": null,
            "justify_items": null,
            "left": null,
            "margin": null,
            "max_height": null,
            "max_width": null,
            "min_height": null,
            "min_width": null,
            "object_fit": null,
            "object_position": null,
            "order": null,
            "overflow": null,
            "overflow_x": null,
            "overflow_y": null,
            "padding": null,
            "right": null,
            "top": null,
            "visibility": null,
            "width": null
          }
        },
        "8f643882285545c6a2244ae8da31e682": {
          "model_module": "@jupyter-widgets/controls",
          "model_module_version": "1.5.0",
          "model_name": "HBoxModel",
          "state": {
            "_dom_classes": [],
            "_model_module": "@jupyter-widgets/controls",
            "_model_module_version": "1.5.0",
            "_model_name": "HBoxModel",
            "_view_count": null,
            "_view_module": "@jupyter-widgets/controls",
            "_view_module_version": "1.5.0",
            "_view_name": "HBoxView",
            "box_style": "",
            "children": [
              "IPY_MODEL_c37fe8eb607643b6932a1aa2c255da40",
              "IPY_MODEL_75cb58e9f2554d54a409c7330b7ea85a",
              "IPY_MODEL_2fbd3de345b740ada56c0719ac8ac0d0"
            ],
            "layout": "IPY_MODEL_35cf46a2476a4ee095763b755eff85fe"
          }
        },
        "9191a7397d094cf28ceb07a32fbd3e82": {
          "model_module": "@jupyter-widgets/controls",
          "model_module_version": "1.5.0",
          "model_name": "HTMLModel",
          "state": {
            "_dom_classes": [],
            "_model_module": "@jupyter-widgets/controls",
            "_model_module_version": "1.5.0",
            "_model_name": "HTMLModel",
            "_view_count": null,
            "_view_module": "@jupyter-widgets/controls",
            "_view_module_version": "1.5.0",
            "_view_name": "HTMLView",
            "description": "",
            "description_tooltip": null,
            "layout": "IPY_MODEL_487f35ffc9e64be2990e2e8815e7c30d",
            "placeholder": "​",
            "style": "IPY_MODEL_35240f89cb9948b69780ab963b7bb1da",
            "value": "Downloading pytorch_model.bin: 100%"
          }
        },
        "95b75c65d0c54e1bb04828a9231abe4b": {
          "model_module": "@jupyter-widgets/base",
          "model_module_version": "1.2.0",
          "model_name": "LayoutModel",
          "state": {
            "_model_module": "@jupyter-widgets/base",
            "_model_module_version": "1.2.0",
            "_model_name": "LayoutModel",
            "_view_count": null,
            "_view_module": "@jupyter-widgets/base",
            "_view_module_version": "1.2.0",
            "_view_name": "LayoutView",
            "align_content": null,
            "align_items": null,
            "align_self": null,
            "border": null,
            "bottom": null,
            "display": null,
            "flex": null,
            "flex_flow": null,
            "grid_area": null,
            "grid_auto_columns": null,
            "grid_auto_flow": null,
            "grid_auto_rows": null,
            "grid_column": null,
            "grid_gap": null,
            "grid_row": null,
            "grid_template_areas": null,
            "grid_template_columns": null,
            "grid_template_rows": null,
            "height": null,
            "justify_content": null,
            "justify_items": null,
            "left": null,
            "margin": null,
            "max_height": null,
            "max_width": null,
            "min_height": null,
            "min_width": null,
            "object_fit": null,
            "object_position": null,
            "order": null,
            "overflow": null,
            "overflow_x": null,
            "overflow_y": null,
            "padding": null,
            "right": null,
            "top": null,
            "visibility": null,
            "width": null
          }
        },
        "9d9a1d8b91ef4fec8a596a7a38ec19d3": {
          "model_module": "@jupyter-widgets/controls",
          "model_module_version": "1.5.0",
          "model_name": "HBoxModel",
          "state": {
            "_dom_classes": [],
            "_model_module": "@jupyter-widgets/controls",
            "_model_module_version": "1.5.0",
            "_model_name": "HBoxModel",
            "_view_count": null,
            "_view_module": "@jupyter-widgets/controls",
            "_view_module_version": "1.5.0",
            "_view_name": "HBoxView",
            "box_style": "",
            "children": [
              "IPY_MODEL_12683fda63254d93aae46d4368bd11c3",
              "IPY_MODEL_c2515e857a2d4ffe8d6a1cbc32bafc4a",
              "IPY_MODEL_28e92c69051046cba6ab75acf6826884"
            ],
            "layout": "IPY_MODEL_c9c573ea39b94803822cfb15b40c5617"
          }
        },
        "a2566eb779ae45379d297ac921aa00cd": {
          "model_module": "@jupyter-widgets/controls",
          "model_module_version": "1.5.0",
          "model_name": "DescriptionStyleModel",
          "state": {
            "_model_module": "@jupyter-widgets/controls",
            "_model_module_version": "1.5.0",
            "_model_name": "DescriptionStyleModel",
            "_view_count": null,
            "_view_module": "@jupyter-widgets/base",
            "_view_module_version": "1.2.0",
            "_view_name": "StyleView",
            "description_width": ""
          }
        },
        "a578faee89c045f8b124459725c10e0f": {
          "model_module": "@jupyter-widgets/base",
          "model_module_version": "1.2.0",
          "model_name": "LayoutModel",
          "state": {
            "_model_module": "@jupyter-widgets/base",
            "_model_module_version": "1.2.0",
            "_model_name": "LayoutModel",
            "_view_count": null,
            "_view_module": "@jupyter-widgets/base",
            "_view_module_version": "1.2.0",
            "_view_name": "LayoutView",
            "align_content": null,
            "align_items": null,
            "align_self": null,
            "border": null,
            "bottom": null,
            "display": null,
            "flex": null,
            "flex_flow": null,
            "grid_area": null,
            "grid_auto_columns": null,
            "grid_auto_flow": null,
            "grid_auto_rows": null,
            "grid_column": null,
            "grid_gap": null,
            "grid_row": null,
            "grid_template_areas": null,
            "grid_template_columns": null,
            "grid_template_rows": null,
            "height": null,
            "justify_content": null,
            "justify_items": null,
            "left": null,
            "margin": null,
            "max_height": null,
            "max_width": null,
            "min_height": null,
            "min_width": null,
            "object_fit": null,
            "object_position": null,
            "order": null,
            "overflow": null,
            "overflow_x": null,
            "overflow_y": null,
            "padding": null,
            "right": null,
            "top": null,
            "visibility": null,
            "width": null
          }
        },
        "a8ea58d6102a47f9a8074504a2902ec7": {
          "model_module": "@jupyter-widgets/base",
          "model_module_version": "1.2.0",
          "model_name": "LayoutModel",
          "state": {
            "_model_module": "@jupyter-widgets/base",
            "_model_module_version": "1.2.0",
            "_model_name": "LayoutModel",
            "_view_count": null,
            "_view_module": "@jupyter-widgets/base",
            "_view_module_version": "1.2.0",
            "_view_name": "LayoutView",
            "align_content": null,
            "align_items": null,
            "align_self": null,
            "border": null,
            "bottom": null,
            "display": null,
            "flex": null,
            "flex_flow": null,
            "grid_area": null,
            "grid_auto_columns": null,
            "grid_auto_flow": null,
            "grid_auto_rows": null,
            "grid_column": null,
            "grid_gap": null,
            "grid_row": null,
            "grid_template_areas": null,
            "grid_template_columns": null,
            "grid_template_rows": null,
            "height": null,
            "justify_content": null,
            "justify_items": null,
            "left": null,
            "margin": null,
            "max_height": null,
            "max_width": null,
            "min_height": null,
            "min_width": null,
            "object_fit": null,
            "object_position": null,
            "order": null,
            "overflow": null,
            "overflow_x": null,
            "overflow_y": null,
            "padding": null,
            "right": null,
            "top": null,
            "visibility": null,
            "width": null
          }
        },
        "ae6170e52a9541708d99f6f3e2f095b7": {
          "model_module": "@jupyter-widgets/controls",
          "model_module_version": "1.5.0",
          "model_name": "ProgressStyleModel",
          "state": {
            "_model_module": "@jupyter-widgets/controls",
            "_model_module_version": "1.5.0",
            "_model_name": "ProgressStyleModel",
            "_view_count": null,
            "_view_module": "@jupyter-widgets/base",
            "_view_module_version": "1.2.0",
            "_view_name": "StyleView",
            "bar_color": null,
            "description_width": ""
          }
        },
        "b4af21676ad440408e3e5c518db22a61": {
          "model_module": "@jupyter-widgets/base",
          "model_module_version": "1.2.0",
          "model_name": "LayoutModel",
          "state": {
            "_model_module": "@jupyter-widgets/base",
            "_model_module_version": "1.2.0",
            "_model_name": "LayoutModel",
            "_view_count": null,
            "_view_module": "@jupyter-widgets/base",
            "_view_module_version": "1.2.0",
            "_view_name": "LayoutView",
            "align_content": null,
            "align_items": null,
            "align_self": null,
            "border": null,
            "bottom": null,
            "display": null,
            "flex": null,
            "flex_flow": null,
            "grid_area": null,
            "grid_auto_columns": null,
            "grid_auto_flow": null,
            "grid_auto_rows": null,
            "grid_column": null,
            "grid_gap": null,
            "grid_row": null,
            "grid_template_areas": null,
            "grid_template_columns": null,
            "grid_template_rows": null,
            "height": null,
            "justify_content": null,
            "justify_items": null,
            "left": null,
            "margin": null,
            "max_height": null,
            "max_width": null,
            "min_height": null,
            "min_width": null,
            "object_fit": null,
            "object_position": null,
            "order": null,
            "overflow": null,
            "overflow_x": null,
            "overflow_y": null,
            "padding": null,
            "right": null,
            "top": null,
            "visibility": null,
            "width": null
          }
        },
        "b76a7cb4007c444b951c4d0dc61c29c0": {
          "model_module": "@jupyter-widgets/controls",
          "model_module_version": "1.5.0",
          "model_name": "HTMLModel",
          "state": {
            "_dom_classes": [],
            "_model_module": "@jupyter-widgets/controls",
            "_model_module_version": "1.5.0",
            "_model_name": "HTMLModel",
            "_view_count": null,
            "_view_module": "@jupyter-widgets/controls",
            "_view_module_version": "1.5.0",
            "_view_name": "HTMLView",
            "description": "",
            "description_tooltip": null,
            "layout": "IPY_MODEL_4b8faa3b3d614c72a79fbbeca57f478b",
            "placeholder": "​",
            "style": "IPY_MODEL_a2566eb779ae45379d297ac921aa00cd",
            "value": " 564/564 [2:18:45&lt;00:00, 12.33s/it]"
          }
        },
        "b818663ffbe1444ca4297cba0466f290": {
          "model_module": "@jupyter-widgets/controls",
          "model_module_version": "1.5.0",
          "model_name": "FloatProgressModel",
          "state": {
            "_dom_classes": [],
            "_model_module": "@jupyter-widgets/controls",
            "_model_module_version": "1.5.0",
            "_model_name": "FloatProgressModel",
            "_view_count": null,
            "_view_module": "@jupyter-widgets/controls",
            "_view_module_version": "1.5.0",
            "_view_name": "ProgressView",
            "bar_style": "success",
            "description": "",
            "description_tooltip": null,
            "layout": "IPY_MODEL_a578faee89c045f8b124459725c10e0f",
            "max": 467,
            "min": 0,
            "orientation": "horizontal",
            "style": "IPY_MODEL_8527bad10432425b880a17ad96c38bdb",
            "value": 467
          }
        },
        "c2515e857a2d4ffe8d6a1cbc32bafc4a": {
          "model_module": "@jupyter-widgets/controls",
          "model_module_version": "1.5.0",
          "model_name": "FloatProgressModel",
          "state": {
            "_dom_classes": [],
            "_model_module": "@jupyter-widgets/controls",
            "_model_module_version": "1.5.0",
            "_model_name": "FloatProgressModel",
            "_view_count": null,
            "_view_module": "@jupyter-widgets/controls",
            "_view_module_version": "1.5.0",
            "_view_name": "ProgressView",
            "bar_style": "success",
            "description": "",
            "description_tooltip": null,
            "layout": "IPY_MODEL_d8ec814e96bf4968ae2bb4be41dad31d",
            "max": 61,
            "min": 0,
            "orientation": "horizontal",
            "style": "IPY_MODEL_3af4d73475ff4f51b1832b5deb02a2a2",
            "value": 61
          }
        },
        "c37fe8eb607643b6932a1aa2c255da40": {
          "model_module": "@jupyter-widgets/controls",
          "model_module_version": "1.5.0",
          "model_name": "HTMLModel",
          "state": {
            "_dom_classes": [],
            "_model_module": "@jupyter-widgets/controls",
            "_model_module_version": "1.5.0",
            "_model_name": "HTMLModel",
            "_view_count": null,
            "_view_module": "@jupyter-widgets/controls",
            "_view_module_version": "1.5.0",
            "_view_name": "HTMLView",
            "description": "",
            "description_tooltip": null,
            "layout": "IPY_MODEL_0c88344f5b6b4f5b85f081f5954b5acb",
            "placeholder": "​",
            "style": "IPY_MODEL_d12eef1d3f924610a28f73f9221236b1",
            "value": " 90%"
          }
        },
        "c5c1fba182d44fb5879012bce1a3328b": {
          "model_module": "@jupyter-widgets/controls",
          "model_module_version": "1.5.0",
          "model_name": "HTMLModel",
          "state": {
            "_dom_classes": [],
            "_model_module": "@jupyter-widgets/controls",
            "_model_module_version": "1.5.0",
            "_model_name": "HTMLModel",
            "_view_count": null,
            "_view_module": "@jupyter-widgets/controls",
            "_view_module_version": "1.5.0",
            "_view_name": "HTMLView",
            "description": "",
            "description_tooltip": null,
            "layout": "IPY_MODEL_637afb4e8d2a4ecb88b26588c5d38e68",
            "placeholder": "​",
            "style": "IPY_MODEL_2dbab8487cee44f5887bc30f943db9a2",
            "value": "100%"
          }
        },
        "c6658b397e624825996c4e71dfa19cfd": {
          "model_module": "@jupyter-widgets/controls",
          "model_module_version": "1.5.0",
          "model_name": "DescriptionStyleModel",
          "state": {
            "_model_module": "@jupyter-widgets/controls",
            "_model_module_version": "1.5.0",
            "_model_name": "DescriptionStyleModel",
            "_view_count": null,
            "_view_module": "@jupyter-widgets/base",
            "_view_module_version": "1.2.0",
            "_view_name": "StyleView",
            "description_width": ""
          }
        },
        "c9c573ea39b94803822cfb15b40c5617": {
          "model_module": "@jupyter-widgets/base",
          "model_module_version": "1.2.0",
          "model_name": "LayoutModel",
          "state": {
            "_model_module": "@jupyter-widgets/base",
            "_model_module_version": "1.2.0",
            "_model_name": "LayoutModel",
            "_view_count": null,
            "_view_module": "@jupyter-widgets/base",
            "_view_module_version": "1.2.0",
            "_view_name": "LayoutView",
            "align_content": null,
            "align_items": null,
            "align_self": null,
            "border": null,
            "bottom": null,
            "display": null,
            "flex": null,
            "flex_flow": null,
            "grid_area": null,
            "grid_auto_columns": null,
            "grid_auto_flow": null,
            "grid_auto_rows": null,
            "grid_column": null,
            "grid_gap": null,
            "grid_row": null,
            "grid_template_areas": null,
            "grid_template_columns": null,
            "grid_template_rows": null,
            "height": null,
            "justify_content": null,
            "justify_items": null,
            "left": null,
            "margin": null,
            "max_height": null,
            "max_width": null,
            "min_height": null,
            "min_width": null,
            "object_fit": null,
            "object_position": null,
            "order": null,
            "overflow": null,
            "overflow_x": null,
            "overflow_y": null,
            "padding": null,
            "right": null,
            "top": null,
            "visibility": null,
            "width": null
          }
        },
        "cacabe959767446ea5ec304320ab4285": {
          "model_module": "@jupyter-widgets/controls",
          "model_module_version": "1.5.0",
          "model_name": "HTMLModel",
          "state": {
            "_dom_classes": [],
            "_model_module": "@jupyter-widgets/controls",
            "_model_module_version": "1.5.0",
            "_model_name": "HTMLModel",
            "_view_count": null,
            "_view_module": "@jupyter-widgets/controls",
            "_view_module_version": "1.5.0",
            "_view_name": "HTMLView",
            "description": "",
            "description_tooltip": null,
            "layout": "IPY_MODEL_6b8ec36f8c1042c5b3cef2a9bf79d627",
            "placeholder": "​",
            "style": "IPY_MODEL_c6658b397e624825996c4e71dfa19cfd",
            "value": "Downloading (…)lve/main/config.json: 100%"
          }
        },
        "d12eef1d3f924610a28f73f9221236b1": {
          "model_module": "@jupyter-widgets/controls",
          "model_module_version": "1.5.0",
          "model_name": "DescriptionStyleModel",
          "state": {
            "_model_module": "@jupyter-widgets/controls",
            "_model_module_version": "1.5.0",
            "_model_name": "DescriptionStyleModel",
            "_view_count": null,
            "_view_module": "@jupyter-widgets/base",
            "_view_module_version": "1.2.0",
            "_view_name": "StyleView",
            "description_width": ""
          }
        },
        "d6b6adb445624daeb1981d4e8949a787": {
          "model_module": "@jupyter-widgets/controls",
          "model_module_version": "1.5.0",
          "model_name": "HTMLModel",
          "state": {
            "_dom_classes": [],
            "_model_module": "@jupyter-widgets/controls",
            "_model_module_version": "1.5.0",
            "_model_name": "HTMLModel",
            "_view_count": null,
            "_view_module": "@jupyter-widgets/controls",
            "_view_module_version": "1.5.0",
            "_view_name": "HTMLView",
            "description": "",
            "description_tooltip": null,
            "layout": "IPY_MODEL_206cce79ba944811ba158546cc436dd5",
            "placeholder": "​",
            "style": "IPY_MODEL_719c9a9d31a642fbaa63d861fe087c92",
            "value": "Downloading (…)solve/main/vocab.txt: 100%"
          }
        },
        "d84da62c27134a87b7176e95148318f5": {
          "model_module": "@jupyter-widgets/controls",
          "model_module_version": "1.5.0",
          "model_name": "HTMLModel",
          "state": {
            "_dom_classes": [],
            "_model_module": "@jupyter-widgets/controls",
            "_model_module_version": "1.5.0",
            "_model_name": "HTMLModel",
            "_view_count": null,
            "_view_module": "@jupyter-widgets/controls",
            "_view_module_version": "1.5.0",
            "_view_name": "HTMLView",
            "description": "",
            "description_tooltip": null,
            "layout": "IPY_MODEL_44d9d60b41834918b8f25279e849742f",
            "placeholder": "​",
            "style": "IPY_MODEL_63d5b3afbe514a5c9b6f8becc8a67cf8",
            "value": " 263k/263k [00:00&lt;00:00, 5.54MB/s]"
          }
        },
        "d8ec814e96bf4968ae2bb4be41dad31d": {
          "model_module": "@jupyter-widgets/base",
          "model_module_version": "1.2.0",
          "model_name": "LayoutModel",
          "state": {
            "_model_module": "@jupyter-widgets/base",
            "_model_module_version": "1.2.0",
            "_model_name": "LayoutModel",
            "_view_count": null,
            "_view_module": "@jupyter-widgets/base",
            "_view_module_version": "1.2.0",
            "_view_name": "LayoutView",
            "align_content": null,
            "align_items": null,
            "align_self": null,
            "border": null,
            "bottom": null,
            "display": null,
            "flex": null,
            "flex_flow": null,
            "grid_area": null,
            "grid_auto_columns": null,
            "grid_auto_flow": null,
            "grid_auto_rows": null,
            "grid_column": null,
            "grid_gap": null,
            "grid_row": null,
            "grid_template_areas": null,
            "grid_template_columns": null,
            "grid_template_rows": null,
            "height": null,
            "justify_content": null,
            "justify_items": null,
            "left": null,
            "margin": null,
            "max_height": null,
            "max_width": null,
            "min_height": null,
            "min_width": null,
            "object_fit": null,
            "object_position": null,
            "order": null,
            "overflow": null,
            "overflow_x": null,
            "overflow_y": null,
            "padding": null,
            "right": null,
            "top": null,
            "visibility": null,
            "width": null
          }
        },
        "db4ac58bf8a446c5a3d4b2c60eee565e": {
          "model_module": "@jupyter-widgets/controls",
          "model_module_version": "1.5.0",
          "model_name": "HBoxModel",
          "state": {
            "_dom_classes": [],
            "_model_module": "@jupyter-widgets/controls",
            "_model_module_version": "1.5.0",
            "_model_name": "HBoxModel",
            "_view_count": null,
            "_view_module": "@jupyter-widgets/controls",
            "_view_module_version": "1.5.0",
            "_view_name": "HBoxView",
            "box_style": "",
            "children": [
              "IPY_MODEL_c5c1fba182d44fb5879012bce1a3328b",
              "IPY_MODEL_2008fab4a2d34aa595e88e335a1c4c6f",
              "IPY_MODEL_b76a7cb4007c444b951c4d0dc61c29c0"
            ],
            "layout": "IPY_MODEL_b4af21676ad440408e3e5c518db22a61"
          }
        },
        "e41c51f742b842d2840add98fa40e4c4": {
          "model_module": "@jupyter-widgets/controls",
          "model_module_version": "1.5.0",
          "model_name": "DescriptionStyleModel",
          "state": {
            "_model_module": "@jupyter-widgets/controls",
            "_model_module_version": "1.5.0",
            "_model_name": "DescriptionStyleModel",
            "_view_count": null,
            "_view_module": "@jupyter-widgets/base",
            "_view_module_version": "1.2.0",
            "_view_name": "StyleView",
            "description_width": ""
          }
        },
        "e5fd7d83215d4aca9c6052029beaacbf": {
          "model_module": "@jupyter-widgets/base",
          "model_module_version": "1.2.0",
          "model_name": "LayoutModel",
          "state": {
            "_model_module": "@jupyter-widgets/base",
            "_model_module_version": "1.2.0",
            "_model_name": "LayoutModel",
            "_view_count": null,
            "_view_module": "@jupyter-widgets/base",
            "_view_module_version": "1.2.0",
            "_view_name": "LayoutView",
            "align_content": null,
            "align_items": null,
            "align_self": null,
            "border": null,
            "bottom": null,
            "display": null,
            "flex": null,
            "flex_flow": null,
            "grid_area": null,
            "grid_auto_columns": null,
            "grid_auto_flow": null,
            "grid_auto_rows": null,
            "grid_column": null,
            "grid_gap": null,
            "grid_row": null,
            "grid_template_areas": null,
            "grid_template_columns": null,
            "grid_template_rows": null,
            "height": null,
            "justify_content": null,
            "justify_items": null,
            "left": null,
            "margin": null,
            "max_height": null,
            "max_width": null,
            "min_height": null,
            "min_width": null,
            "object_fit": null,
            "object_position": null,
            "order": null,
            "overflow": null,
            "overflow_x": null,
            "overflow_y": null,
            "padding": null,
            "right": null,
            "top": null,
            "visibility": null,
            "width": null
          }
        },
        "e8fab3e61cb9462d887a4ce4720f2fe3": {
          "model_module": "@jupyter-widgets/controls",
          "model_module_version": "1.5.0",
          "model_name": "HBoxModel",
          "state": {
            "_dom_classes": [],
            "_model_module": "@jupyter-widgets/controls",
            "_model_module_version": "1.5.0",
            "_model_name": "HBoxModel",
            "_view_count": null,
            "_view_module": "@jupyter-widgets/controls",
            "_view_module_version": "1.5.0",
            "_view_name": "HBoxView",
            "box_style": "",
            "children": [
              "IPY_MODEL_d6b6adb445624daeb1981d4e8949a787",
              "IPY_MODEL_700a783b64064ce88a9db1e67eee87a1",
              "IPY_MODEL_d84da62c27134a87b7176e95148318f5"
            ],
            "layout": "IPY_MODEL_e5fd7d83215d4aca9c6052029beaacbf"
          }
        },
        "f57d1245006f4b33bff6eff1ef40ae9c": {
          "model_module": "@jupyter-widgets/controls",
          "model_module_version": "1.5.0",
          "model_name": "ProgressStyleModel",
          "state": {
            "_model_module": "@jupyter-widgets/controls",
            "_model_module_version": "1.5.0",
            "_model_name": "ProgressStyleModel",
            "_view_count": null,
            "_view_module": "@jupyter-widgets/base",
            "_view_module_version": "1.2.0",
            "_view_name": "StyleView",
            "bar_color": null,
            "description_width": ""
          }
        },
        "f9c94b225e7c482ea7e14e49135c21b1": {
          "model_module": "@jupyter-widgets/controls",
          "model_module_version": "1.5.0",
          "model_name": "ProgressStyleModel",
          "state": {
            "_model_module": "@jupyter-widgets/controls",
            "_model_module_version": "1.5.0",
            "_model_name": "ProgressStyleModel",
            "_view_count": null,
            "_view_module": "@jupyter-widgets/base",
            "_view_module_version": "1.2.0",
            "_view_name": "StyleView",
            "bar_color": null,
            "description_width": ""
          }
        },
        "faa4484f6a5e4205b0f921c6d80d0dd7": {
          "model_module": "@jupyter-widgets/controls",
          "model_module_version": "1.5.0",
          "model_name": "DescriptionStyleModel",
          "state": {
            "_model_module": "@jupyter-widgets/controls",
            "_model_module_version": "1.5.0",
            "_model_name": "DescriptionStyleModel",
            "_view_count": null,
            "_view_module": "@jupyter-widgets/base",
            "_view_module_version": "1.2.0",
            "_view_name": "StyleView",
            "description_width": ""
          }
        }
      }
    }
  },
  "nbformat": 4,
  "nbformat_minor": 0
}
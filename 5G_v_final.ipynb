{
  "nbformat": 4,
  "nbformat_minor": 0,
  "metadata": {
    "colab": {
      "provenance": [],
      "gpuType": "T4",
      "authorship_tag": "ABX9TyNNse6kECVSADhwFvauCERy",
      "include_colab_link": true
    },
    "kernelspec": {
      "name": "python3",
      "display_name": "Python 3"
    },
    "language_info": {
      "name": "python"
    },
    "accelerator": "GPU"
  },
  "cells": [
    {
      "cell_type": "markdown",
      "metadata": {
        "id": "view-in-github",
        "colab_type": "text"
      },
      "source": [
        "<a href=\"https://colab.research.google.com/github/huijunam/CJ_AI_hackathon/blob/eunhy/5G_v_final.ipynb\" target=\"_parent\"><img src=\"https://colab.research.google.com/assets/colab-badge.svg\" alt=\"Open In Colab\"/></a>"
      ]
    },
    {
      "cell_type": "code",
      "execution_count": 1,
      "metadata": {
        "colab": {
          "base_uri": "https://localhost:8080/"
        },
        "id": "cAPk-wJVKMu3",
        "outputId": "cd03e4ac-487e-4f51-ca3d-aa61f4e025ed"
      },
      "outputs": [
        {
          "output_type": "stream",
          "name": "stdout",
          "text": [
            "Requirement already satisfied: mxnet in /usr/local/lib/python3.10/dist-packages (1.9.1)\n",
            "Requirement already satisfied: numpy<2.0.0,>1.16.0 in /usr/local/lib/python3.10/dist-packages (from mxnet) (1.23.5)\n",
            "Requirement already satisfied: requests<3,>=2.20.0 in /usr/local/lib/python3.10/dist-packages (from mxnet) (2.31.0)\n",
            "Requirement already satisfied: graphviz<0.9.0,>=0.8.1 in /usr/local/lib/python3.10/dist-packages (from mxnet) (0.8.4)\n",
            "Requirement already satisfied: charset-normalizer<4,>=2 in /usr/local/lib/python3.10/dist-packages (from requests<3,>=2.20.0->mxnet) (3.2.0)\n",
            "Requirement already satisfied: idna<4,>=2.5 in /usr/local/lib/python3.10/dist-packages (from requests<3,>=2.20.0->mxnet) (3.4)\n",
            "Requirement already satisfied: urllib3<3,>=1.21.1 in /usr/local/lib/python3.10/dist-packages (from requests<3,>=2.20.0->mxnet) (2.0.4)\n",
            "Requirement already satisfied: certifi>=2017.4.17 in /usr/local/lib/python3.10/dist-packages (from requests<3,>=2.20.0->mxnet) (2023.7.22)\n",
            "Requirement already satisfied: gluonnlp==0.8.0 in /usr/local/lib/python3.10/dist-packages (0.8.0)\n",
            "Requirement already satisfied: numpy in /usr/local/lib/python3.10/dist-packages (from gluonnlp==0.8.0) (1.23.5)\n",
            "Requirement already satisfied: tqdm in /usr/local/lib/python3.10/dist-packages (4.66.1)\n",
            "Requirement already satisfied: pandas in /usr/local/lib/python3.10/dist-packages (1.5.3)\n",
            "Requirement already satisfied: python-dateutil>=2.8.1 in /usr/local/lib/python3.10/dist-packages (from pandas) (2.8.2)\n",
            "Requirement already satisfied: pytz>=2020.1 in /usr/local/lib/python3.10/dist-packages (from pandas) (2023.3.post1)\n",
            "Requirement already satisfied: numpy>=1.21.0 in /usr/local/lib/python3.10/dist-packages (from pandas) (1.23.5)\n",
            "Requirement already satisfied: six>=1.5 in /usr/local/lib/python3.10/dist-packages (from python-dateutil>=2.8.1->pandas) (1.16.0)\n",
            "Requirement already satisfied: sentencepiece in /usr/local/lib/python3.10/dist-packages (0.1.99)\n",
            "Requirement already satisfied: ipyplot in /usr/local/lib/python3.10/dist-packages (1.1.1)\n",
            "Requirement already satisfied: IPython in /usr/local/lib/python3.10/dist-packages (from ipyplot) (7.34.0)\n",
            "Requirement already satisfied: numpy in /usr/local/lib/python3.10/dist-packages (from ipyplot) (1.23.5)\n",
            "Requirement already satisfied: pillow in /usr/local/lib/python3.10/dist-packages (from ipyplot) (9.4.0)\n",
            "Requirement already satisfied: shortuuid in /usr/local/lib/python3.10/dist-packages (from ipyplot) (1.0.11)\n",
            "Requirement already satisfied: setuptools>=18.5 in /usr/local/lib/python3.10/dist-packages (from IPython->ipyplot) (67.7.2)\n",
            "Requirement already satisfied: jedi>=0.16 in /usr/local/lib/python3.10/dist-packages (from IPython->ipyplot) (0.19.0)\n",
            "Requirement already satisfied: decorator in /usr/local/lib/python3.10/dist-packages (from IPython->ipyplot) (4.4.2)\n",
            "Requirement already satisfied: pickleshare in /usr/local/lib/python3.10/dist-packages (from IPython->ipyplot) (0.7.5)\n",
            "Requirement already satisfied: traitlets>=4.2 in /usr/local/lib/python3.10/dist-packages (from IPython->ipyplot) (5.7.1)\n",
            "Requirement already satisfied: prompt-toolkit!=3.0.0,!=3.0.1,<3.1.0,>=2.0.0 in /usr/local/lib/python3.10/dist-packages (from IPython->ipyplot) (3.0.39)\n",
            "Requirement already satisfied: pygments in /usr/local/lib/python3.10/dist-packages (from IPython->ipyplot) (2.16.1)\n",
            "Requirement already satisfied: backcall in /usr/local/lib/python3.10/dist-packages (from IPython->ipyplot) (0.2.0)\n",
            "Requirement already satisfied: matplotlib-inline in /usr/local/lib/python3.10/dist-packages (from IPython->ipyplot) (0.1.6)\n",
            "Requirement already satisfied: pexpect>4.3 in /usr/local/lib/python3.10/dist-packages (from IPython->ipyplot) (4.8.0)\n",
            "Requirement already satisfied: parso<0.9.0,>=0.8.3 in /usr/local/lib/python3.10/dist-packages (from jedi>=0.16->IPython->ipyplot) (0.8.3)\n",
            "Requirement already satisfied: ptyprocess>=0.5 in /usr/local/lib/python3.10/dist-packages (from pexpect>4.3->IPython->ipyplot) (0.7.0)\n",
            "Requirement already satisfied: wcwidth in /usr/local/lib/python3.10/dist-packages (from prompt-toolkit!=3.0.0,!=3.0.1,<3.1.0,>=2.0.0->IPython->ipyplot) (0.2.6)\n",
            "Requirement already satisfied: transformers in /usr/local/lib/python3.10/dist-packages (4.33.2)\n",
            "Requirement already satisfied: filelock in /usr/local/lib/python3.10/dist-packages (from transformers) (3.12.2)\n",
            "Requirement already satisfied: huggingface-hub<1.0,>=0.15.1 in /usr/local/lib/python3.10/dist-packages (from transformers) (0.17.2)\n",
            "Requirement already satisfied: numpy>=1.17 in /usr/local/lib/python3.10/dist-packages (from transformers) (1.23.5)\n",
            "Requirement already satisfied: packaging>=20.0 in /usr/local/lib/python3.10/dist-packages (from transformers) (23.1)\n",
            "Requirement already satisfied: pyyaml>=5.1 in /usr/local/lib/python3.10/dist-packages (from transformers) (6.0.1)\n",
            "Requirement already satisfied: regex!=2019.12.17 in /usr/local/lib/python3.10/dist-packages (from transformers) (2023.6.3)\n",
            "Requirement already satisfied: requests in /usr/local/lib/python3.10/dist-packages (from transformers) (2.31.0)\n",
            "Requirement already satisfied: tokenizers!=0.11.3,<0.14,>=0.11.1 in /usr/local/lib/python3.10/dist-packages (from transformers) (0.13.3)\n",
            "Requirement already satisfied: safetensors>=0.3.1 in /usr/local/lib/python3.10/dist-packages (from transformers) (0.3.3)\n",
            "Requirement already satisfied: tqdm>=4.27 in /usr/local/lib/python3.10/dist-packages (from transformers) (4.66.1)\n",
            "Requirement already satisfied: fsspec in /usr/local/lib/python3.10/dist-packages (from huggingface-hub<1.0,>=0.15.1->transformers) (2023.6.0)\n",
            "Requirement already satisfied: typing-extensions>=3.7.4.3 in /usr/local/lib/python3.10/dist-packages (from huggingface-hub<1.0,>=0.15.1->transformers) (4.5.0)\n",
            "Requirement already satisfied: charset-normalizer<4,>=2 in /usr/local/lib/python3.10/dist-packages (from requests->transformers) (3.2.0)\n",
            "Requirement already satisfied: idna<4,>=2.5 in /usr/local/lib/python3.10/dist-packages (from requests->transformers) (3.4)\n",
            "Requirement already satisfied: urllib3<3,>=1.21.1 in /usr/local/lib/python3.10/dist-packages (from requests->transformers) (2.0.4)\n",
            "Requirement already satisfied: certifi>=2017.4.17 in /usr/local/lib/python3.10/dist-packages (from requests->transformers) (2023.7.22)\n",
            "Requirement already satisfied: keybert in /usr/local/lib/python3.10/dist-packages (0.7.0)\n",
            "Requirement already satisfied: sentence-transformers>=0.3.8 in /usr/local/lib/python3.10/dist-packages (from keybert) (2.2.2)\n",
            "Requirement already satisfied: scikit-learn>=0.22.2 in /usr/local/lib/python3.10/dist-packages (from keybert) (1.2.2)\n",
            "Requirement already satisfied: numpy>=1.18.5 in /usr/local/lib/python3.10/dist-packages (from keybert) (1.23.5)\n",
            "Requirement already satisfied: rich>=10.4.0 in /usr/local/lib/python3.10/dist-packages (from keybert) (13.5.2)\n",
            "Requirement already satisfied: markdown-it-py>=2.2.0 in /usr/local/lib/python3.10/dist-packages (from rich>=10.4.0->keybert) (3.0.0)\n",
            "Requirement already satisfied: pygments<3.0.0,>=2.13.0 in /usr/local/lib/python3.10/dist-packages (from rich>=10.4.0->keybert) (2.16.1)\n",
            "Requirement already satisfied: scipy>=1.3.2 in /usr/local/lib/python3.10/dist-packages (from scikit-learn>=0.22.2->keybert) (1.11.2)\n",
            "Requirement already satisfied: joblib>=1.1.1 in /usr/local/lib/python3.10/dist-packages (from scikit-learn>=0.22.2->keybert) (1.3.2)\n",
            "Requirement already satisfied: threadpoolctl>=2.0.0 in /usr/local/lib/python3.10/dist-packages (from scikit-learn>=0.22.2->keybert) (3.2.0)\n",
            "Requirement already satisfied: transformers<5.0.0,>=4.6.0 in /usr/local/lib/python3.10/dist-packages (from sentence-transformers>=0.3.8->keybert) (4.33.2)\n",
            "Requirement already satisfied: tqdm in /usr/local/lib/python3.10/dist-packages (from sentence-transformers>=0.3.8->keybert) (4.66.1)\n",
            "Requirement already satisfied: torch>=1.6.0 in /usr/local/lib/python3.10/dist-packages (from sentence-transformers>=0.3.8->keybert) (2.0.1+cu118)\n",
            "Requirement already satisfied: torchvision in /usr/local/lib/python3.10/dist-packages (from sentence-transformers>=0.3.8->keybert) (0.15.2+cu118)\n",
            "Requirement already satisfied: nltk in /usr/local/lib/python3.10/dist-packages (from sentence-transformers>=0.3.8->keybert) (3.8.1)\n",
            "Requirement already satisfied: sentencepiece in /usr/local/lib/python3.10/dist-packages (from sentence-transformers>=0.3.8->keybert) (0.1.99)\n",
            "Requirement already satisfied: huggingface-hub>=0.4.0 in /usr/local/lib/python3.10/dist-packages (from sentence-transformers>=0.3.8->keybert) (0.17.2)\n",
            "Requirement already satisfied: filelock in /usr/local/lib/python3.10/dist-packages (from huggingface-hub>=0.4.0->sentence-transformers>=0.3.8->keybert) (3.12.2)\n",
            "Requirement already satisfied: fsspec in /usr/local/lib/python3.10/dist-packages (from huggingface-hub>=0.4.0->sentence-transformers>=0.3.8->keybert) (2023.6.0)\n",
            "Requirement already satisfied: requests in /usr/local/lib/python3.10/dist-packages (from huggingface-hub>=0.4.0->sentence-transformers>=0.3.8->keybert) (2.31.0)\n",
            "Requirement already satisfied: pyyaml>=5.1 in /usr/local/lib/python3.10/dist-packages (from huggingface-hub>=0.4.0->sentence-transformers>=0.3.8->keybert) (6.0.1)\n",
            "Requirement already satisfied: typing-extensions>=3.7.4.3 in /usr/local/lib/python3.10/dist-packages (from huggingface-hub>=0.4.0->sentence-transformers>=0.3.8->keybert) (4.5.0)\n",
            "Requirement already satisfied: packaging>=20.9 in /usr/local/lib/python3.10/dist-packages (from huggingface-hub>=0.4.0->sentence-transformers>=0.3.8->keybert) (23.1)\n",
            "Requirement already satisfied: mdurl~=0.1 in /usr/local/lib/python3.10/dist-packages (from markdown-it-py>=2.2.0->rich>=10.4.0->keybert) (0.1.2)\n",
            "Requirement already satisfied: sympy in /usr/local/lib/python3.10/dist-packages (from torch>=1.6.0->sentence-transformers>=0.3.8->keybert) (1.12)\n",
            "Requirement already satisfied: networkx in /usr/local/lib/python3.10/dist-packages (from torch>=1.6.0->sentence-transformers>=0.3.8->keybert) (3.1)\n",
            "Requirement already satisfied: jinja2 in /usr/local/lib/python3.10/dist-packages (from torch>=1.6.0->sentence-transformers>=0.3.8->keybert) (3.1.2)\n",
            "Requirement already satisfied: triton==2.0.0 in /usr/local/lib/python3.10/dist-packages (from torch>=1.6.0->sentence-transformers>=0.3.8->keybert) (2.0.0)\n",
            "Requirement already satisfied: cmake in /usr/local/lib/python3.10/dist-packages (from triton==2.0.0->torch>=1.6.0->sentence-transformers>=0.3.8->keybert) (3.27.4.1)\n",
            "Requirement already satisfied: lit in /usr/local/lib/python3.10/dist-packages (from triton==2.0.0->torch>=1.6.0->sentence-transformers>=0.3.8->keybert) (16.0.6)\n",
            "Requirement already satisfied: regex!=2019.12.17 in /usr/local/lib/python3.10/dist-packages (from transformers<5.0.0,>=4.6.0->sentence-transformers>=0.3.8->keybert) (2023.6.3)\n",
            "Requirement already satisfied: tokenizers!=0.11.3,<0.14,>=0.11.1 in /usr/local/lib/python3.10/dist-packages (from transformers<5.0.0,>=4.6.0->sentence-transformers>=0.3.8->keybert) (0.13.3)\n",
            "Requirement already satisfied: safetensors>=0.3.1 in /usr/local/lib/python3.10/dist-packages (from transformers<5.0.0,>=4.6.0->sentence-transformers>=0.3.8->keybert) (0.3.3)\n",
            "Requirement already satisfied: click in /usr/local/lib/python3.10/dist-packages (from nltk->sentence-transformers>=0.3.8->keybert) (8.1.7)\n",
            "Requirement already satisfied: pillow!=8.3.*,>=5.3.0 in /usr/local/lib/python3.10/dist-packages (from torchvision->sentence-transformers>=0.3.8->keybert) (9.4.0)\n",
            "Requirement already satisfied: MarkupSafe>=2.0 in /usr/local/lib/python3.10/dist-packages (from jinja2->torch>=1.6.0->sentence-transformers>=0.3.8->keybert) (2.1.3)\n",
            "Requirement already satisfied: charset-normalizer<4,>=2 in /usr/local/lib/python3.10/dist-packages (from requests->huggingface-hub>=0.4.0->sentence-transformers>=0.3.8->keybert) (3.2.0)\n",
            "Requirement already satisfied: idna<4,>=2.5 in /usr/local/lib/python3.10/dist-packages (from requests->huggingface-hub>=0.4.0->sentence-transformers>=0.3.8->keybert) (3.4)\n",
            "Requirement already satisfied: urllib3<3,>=1.21.1 in /usr/local/lib/python3.10/dist-packages (from requests->huggingface-hub>=0.4.0->sentence-transformers>=0.3.8->keybert) (2.0.4)\n",
            "Requirement already satisfied: certifi>=2017.4.17 in /usr/local/lib/python3.10/dist-packages (from requests->huggingface-hub>=0.4.0->sentence-transformers>=0.3.8->keybert) (2023.7.22)\n",
            "Requirement already satisfied: mpmath>=0.19 in /usr/local/lib/python3.10/dist-packages (from sympy->torch>=1.6.0->sentence-transformers>=0.3.8->keybert) (1.3.0)\n",
            "Requirement already satisfied: konlpy in /usr/local/lib/python3.10/dist-packages (0.6.0)\n",
            "Requirement already satisfied: JPype1>=0.7.0 in /usr/local/lib/python3.10/dist-packages (from konlpy) (1.4.1)\n",
            "Requirement already satisfied: lxml>=4.1.0 in /usr/local/lib/python3.10/dist-packages (from konlpy) (4.9.3)\n",
            "Requirement already satisfied: numpy>=1.6 in /usr/local/lib/python3.10/dist-packages (from konlpy) (1.23.5)\n",
            "Requirement already satisfied: packaging in /usr/local/lib/python3.10/dist-packages (from JPype1>=0.7.0->konlpy) (23.1)\n",
            "Collecting kobert_tokenizer\n",
            "  Cloning https://github.com/SKTBrain/KoBERT.git to /tmp/pip-install-_xl1g5km/kobert-tokenizer_560dd618cab244a4adfafdde8ac41161\n",
            "  Running command git clone --filter=blob:none --quiet https://github.com/SKTBrain/KoBERT.git /tmp/pip-install-_xl1g5km/kobert-tokenizer_560dd618cab244a4adfafdde8ac41161\n",
            "  Resolved https://github.com/SKTBrain/KoBERT.git to commit 47a69af87928fc24e20f571fe10c3cc9dd9af9a3\n",
            "  Preparing metadata (setup.py) ... \u001b[?25l\u001b[?25hdone\n"
          ]
        }
      ],
      "source": [
        "!pip install mxnet\n",
        "!pip install gluonnlp==0.8.0\n",
        "!pip install tqdm pandas\n",
        "!pip install sentencepiece\n",
        "!pip install ipyplot\n",
        "!pip install transformers\n",
        "!pip install torch>=1.8.1\n",
        "!pip install keybert\n",
        "!pip install konlpy\n",
        "!pip install 'git+https://github.com/SKTBrain/KoBERT.git#egg=kobert_tokenizer&subdirectory=kobert_hf'\n"
      ]
    },
    {
      "cell_type": "code",
      "source": [
        "from transformers import AdamW\n",
        "from transformers.optimization import get_cosine_schedule_with_warmup\n",
        "from transformers import AutoTokenizer, AutoModelForSequenceClassification\n",
        "from sklearn.model_selection import train_test_split\n",
        "from sklearn.metrics import confusion_matrix\n",
        "from mlxtend.plotting import plot_confusion_matrix\n",
        "import seaborn as sns\n",
        "import torch\n",
        "from torch import nn\n",
        "import torch.nn.functional as F\n",
        "import torch.optim as optim\n",
        "from torch.utils.data import Dataset, DataLoader\n",
        "import numpy as np\n",
        "from tqdm.notebook import tqdm\n",
        "import matplotlib.pyplot as plt\n",
        "import datetime\n",
        "import time\n",
        "import pandas as pd\n",
        "import re"
      ],
      "metadata": {
        "id": "fc6coGLrK9oj"
      },
      "execution_count": 2,
      "outputs": []
    },
    {
      "cell_type": "code",
      "source": [
        "from google.colab import drive\n",
        "import os\n",
        "drive.mount('/content/drive/')"
      ],
      "metadata": {
        "colab": {
          "base_uri": "https://localhost:8080/"
        },
        "id": "FWHp3Fc2MaOE",
        "outputId": "1be28adc-aec4-4a68-bd44-4a4af4cb9eb8"
      },
      "execution_count": 3,
      "outputs": [
        {
          "output_type": "stream",
          "name": "stdout",
          "text": [
            "Drive already mounted at /content/drive/; to attempt to forcibly remount, call drive.mount(\"/content/drive/\", force_remount=True).\n"
          ]
        }
      ]
    },
    {
      "cell_type": "code",
      "source": [
        "os.chdir('/content/drive/MyDrive/CJ')"
      ],
      "metadata": {
        "id": "jMG_ni9DMeX7"
      },
      "execution_count": 4,
      "outputs": []
    },
    {
      "cell_type": "code",
      "source": [
        "device_type = 'cuda' if torch.cuda.is_available() else 'cpu'\n",
        "device = torch.device(device_type)\n",
        "device"
      ],
      "metadata": {
        "colab": {
          "base_uri": "https://localhost:8080/"
        },
        "id": "3L-ElK9SLAoB",
        "outputId": "8728de97-e1a0-4940-823a-ddb3afbfc3c2"
      },
      "execution_count": 5,
      "outputs": [
        {
          "output_type": "execute_result",
          "data": {
            "text/plain": [
              "device(type='cuda')"
            ]
          },
          "metadata": {},
          "execution_count": 5
        }
      ]
    },
    {
      "cell_type": "code",
      "source": [
        "!git clone https://github.com/huijunam/CJ_AI_hackathon.git"
      ],
      "metadata": {
        "colab": {
          "base_uri": "https://localhost:8080/"
        },
        "id": "kMZTxXJJLB_Y",
        "outputId": "a5191f31-c64d-4521-98e5-c7eda3904747"
      },
      "execution_count": 6,
      "outputs": [
        {
          "output_type": "stream",
          "name": "stdout",
          "text": [
            "fatal: destination path 'CJ_AI_hackathon' already exists and is not an empty directory.\n"
          ]
        }
      ]
    },
    {
      "cell_type": "code",
      "source": [
        "target_classes ={\n",
        "    '공포': 0,\n",
        "    '놀람': 1,\n",
        "    '분노': 2,\n",
        "    '슬픔': 3,\n",
        "    '중립': 4,\n",
        "    '행복': 5,\n",
        "    '혐오': 6\n",
        "  }"
      ],
      "metadata": {
        "id": "_Kq2Km2XLDdq"
      },
      "execution_count": 7,
      "outputs": []
    },
    {
      "cell_type": "code",
      "source": [
        "reverse =dict(map(reversed, target_classes.items()))"
      ],
      "metadata": {
        "id": "EwnMr4ObOe4s"
      },
      "execution_count": 8,
      "outputs": []
    },
    {
      "cell_type": "code",
      "source": [
        "# 하이퍼 파라미터 설정\n",
        "max_length = 100\n",
        "batch_size = 64\n",
        "warmup_ratio = 0.1\n",
        "num_epochs = 5\n",
        "max_grad_norm = 1\n",
        "log_interval = 200\n",
        "learning_rate =  5e-5\n",
        "random_seed = 42"
      ],
      "metadata": {
        "id": "O1cLSkdbLcAS"
      },
      "execution_count": 9,
      "outputs": []
    },
    {
      "cell_type": "code",
      "source": [
        "model_name = \"beomi/KcELECTRA-base-v2022\"\n",
        "tokenizer = AutoTokenizer.from_pretrained(model_name)\n",
        "model = AutoModelForSequenceClassification.from_pretrained(model_name, num_labels =len(target_classes)).to(device)\n",
        "model.load_state_dict(torch.load('/content/drive/MyDrive/CJ/KcElectra10000_weights.pth'))"
      ],
      "metadata": {
        "colab": {
          "base_uri": "https://localhost:8080/"
        },
        "id": "Vkn9jP0HMVQe",
        "outputId": "5b3c411d-3f56-4b99-fcda-d5f81e5a916e"
      },
      "execution_count": 10,
      "outputs": [
        {
          "output_type": "stream",
          "name": "stderr",
          "text": [
            "Some weights of ElectraForSequenceClassification were not initialized from the model checkpoint at beomi/KcELECTRA-base-v2022 and are newly initialized: ['classifier.out_proj.weight', 'classifier.dense.bias', 'classifier.dense.weight', 'classifier.out_proj.bias']\n",
            "You should probably TRAIN this model on a down-stream task to be able to use it for predictions and inference.\n"
          ]
        },
        {
          "output_type": "execute_result",
          "data": {
            "text/plain": [
              "<All keys matched successfully>"
            ]
          },
          "metadata": {},
          "execution_count": 10
        }
      ]
    },
    {
      "cell_type": "code",
      "source": [
        "def classify_emotion(text):\n",
        "    # 텍스트를 토큰화하고 모델에 입력으로 전달\n",
        "    inputs = tokenizer(text, padding=True, truncation=True, return_tensors=\"pt\").to(device)\n",
        "    with torch.no_grad():\n",
        "        outputs = model(**inputs)\n",
        "\n",
        "    # 감정 분류 결과 가져오기\n",
        "    logits = outputs.logits\n",
        "    predicted_class = torch.argmax(logits, dim=1).cpu().numpy()[0]\n",
        "\n",
        "    # 예측된 감정 레이블 출력\n",
        "    #emotion = target_classes[predicted_class]\n",
        "    return predicted_class"
      ],
      "metadata": {
        "id": "ghDTLOLoZiLh"
      },
      "execution_count": 11,
      "outputs": []
    },
    {
      "cell_type": "code",
      "source": [
        "from keybert import KeyBERT"
      ],
      "metadata": {
        "id": "YcyeZJdTb6iQ"
      },
      "execution_count": 12,
      "outputs": []
    },
    {
      "cell_type": "code",
      "source": [
        "kw_model = KeyBERT()"
      ],
      "metadata": {
        "id": "aPmiJOOWcG3s"
      },
      "execution_count": 13,
      "outputs": []
    },
    {
      "cell_type": "code",
      "source": [
        "from konlpy.tag import Okt\n",
        "okt = Okt()"
      ],
      "metadata": {
        "id": "0BGz-iYpcJDo"
      },
      "execution_count": 14,
      "outputs": []
    },
    {
      "cell_type": "code",
      "source": [
        "s = pd.read_excel(\"/content/drive/MyDrive/CJ/stopwords.xlsx\")\n",
        "stop_words = set(list(s['stop_words']))"
      ],
      "metadata": {
        "id": "X2HjIQVwvXmO"
      },
      "execution_count": 15,
      "outputs": []
    },
    {
      "cell_type": "code",
      "source": [
        "def predict_and_keword(predict_sentence):\n",
        "    inputs = tokenizer(predict_sentence, padding=True, truncation=True, return_tensors=\"pt\").to(device)\n",
        "    with torch.no_grad():\n",
        "        outputs = model(**inputs)\n",
        "\n",
        "    # 감정 분류 결과 가져오기\n",
        "    logits = outputs.logits\n",
        "    predicted_class = torch.argmax(logits, dim=1).cpu().numpy()[0]\n",
        "    emotion = reverse.get(predicted_class)\n",
        "    print(emotion)\n",
        "\n",
        "    # 키워드 추출: 명사, 동사, 형용사 추출하기\n",
        "    predict_sentence = re.sub('[-=+,#/\\?:^.@*\\\"※~ㆍ!』‘|\\(\\)\\[\\]`\\'…》\\”\\“\\’·]', '', predict_sentence)\n",
        "\n",
        "    words = predict_sentence.split()\n",
        "    word_count = len(words)\n",
        "    number = math.ceil(word_count/2)\n",
        "\n",
        "    keywords = kw_model.extract_keywords(predict_sentence, keyphrase_ngram_range=(1, 2),use_maxsum = True, top_n=number) #use_maxsum = True\n",
        "    keyword = [x for x,y in keywords]\n",
        "    keyword = ' '.join(keyword)\n",
        "\n",
        "    key = [x for (x, y) in okt.pos(keyword, stem=True) if y in ['Noun',\"Verb\"]]\n",
        "    keyv1 = [word for word in set(key) if not word in stop_words]\n",
        "    print(keyv1)\n",
        "\n",
        "    if emotion != '중립':\n",
        "        keyv1.append(emotion)\n",
        "\n",
        "    return keyv1"
      ],
      "metadata": {
        "id": "bhFMk_etbmPs"
      },
      "execution_count": 43,
      "outputs": []
    },
    {
      "cell_type": "code",
      "source": [
        "import json\n",
        "import random\n",
        "from urllib import parse, request\n",
        "import re\n",
        "from IPython.display import Image\n",
        "import ipyplot\n",
        "\n",
        "url = \"http://api.giphy.com/v1/gifs/search\""
      ],
      "metadata": {
        "colab": {
          "base_uri": "https://localhost:8080/"
        },
        "id": "tsnaO6U2O-WR",
        "outputId": "9dcdfe72-1bc6-40ed-ef1a-304031396cd4"
      },
      "execution_count": 17,
      "outputs": [
        {
          "output_type": "stream",
          "name": "stdout",
          "text": [
            "\n",
            "        WARNING! Google Colab Environment detected!\n",
            "        You might encounter issues while running in Google Colab environment.\n",
            "        If images are not displaying properly please try setting `force_b64` param to `True`.\n",
            "        \n"
          ]
        }
      ]
    },
    {
      "cell_type": "code",
      "source": [
        "import math"
      ],
      "metadata": {
        "id": "QJyfUR3035g9"
      },
      "execution_count": 18,
      "outputs": []
    },
    {
      "cell_type": "code",
      "source": [
        "sentence = input()\n",
        "array = predict_and_keword(sentence)\n",
        "print(array)\n",
        "data_list = []\n",
        "for item in array:\n",
        "    params = parse.urlencode({\n",
        "        \"q\": item,\n",
        "        \"api_key\": \"P9SzTTpADkMNu3XjLkzRyMxVGm3MyKDQ\",\n",
        "        \"limit\": \"20\"\n",
        "        })\n",
        "\n",
        "    try:\n",
        "        with request.urlopen(\"\".join((url, \"?\", params))) as response:\n",
        "            data = json.loads(response.read())\n",
        "\n",
        "        get_nums = set()\n",
        "\n",
        "        while len(get_nums) < (len(data['data']))/2:\n",
        "            get_nums.add(random.randint(0,len(data['data'])+1))\n",
        "\n",
        "        for i in get_nums:\n",
        "            #print(data['data'][i]['images']['downsized']['url'])\n",
        "            data_list.append(data['data'][i]['images']['downsized']['url'])\n",
        "\n",
        "    except:\n",
        "        pass\n",
        "\n",
        "get_nums = set()\n",
        "while len(get_nums) != 10:\n",
        "    try:\n",
        "        get_nums.add(random.randint(0,len(data_list)-1))\n",
        "    except:\n",
        "        break\n",
        "\n",
        "data_gif = []\n",
        "for i in get_nums:\n",
        "    data_gif.append(data_list[i])\n",
        "\n",
        "\n",
        "for idx, value in enumerate(data_gif):\n",
        "    data_gif[idx] = re.sub('media+[0-9]', 'i', value)\n",
        "\n",
        "ipyplot.plot_images(data_gif,img_width=200,show_url=False)"
      ],
      "metadata": {
        "colab": {
          "base_uri": "https://localhost:8080/",
          "height": 643
        },
        "id": "vyRWsd8vvnHC",
        "outputId": "71f94e52-d8ea-47d7-b0c5-0ea0afc6b7fc"
      },
      "execution_count": 47,
      "outputs": [
        {
          "output_type": "stream",
          "name": "stdout",
          "text": [
            "그래서 난 제로칼로리 콜라가 좋음.\n",
            "행복\n",
            "['콜라', '제로', '칼로리']\n",
            "['콜라', '제로', '칼로리', '행복']\n"
          ]
        },
        {
          "output_type": "display_data",
          "data": {
            "text/plain": [
              "<IPython.core.display.HTML object>"
            ],
            "text/html": [
              "\n",
              "    <style>\n",
              "        #ipyplot-html-viewer-toggle-eY9G8NVesE5xS9fg4djGAL {\n",
              "            position: absolute;\n",
              "            top: -9999px;\n",
              "            left: -9999px;\n",
              "            visibility: hidden;\n",
              "        }\n",
              "\n",
              "        #ipyplot-html-viewer-label-eY9G8NVesE5xS9fg4djGAL { \n",
              "            position: relative;\n",
              "            display: inline-block;\n",
              "            cursor: pointer;\n",
              "            color: blue;\n",
              "            text-decoration: underline;\n",
              "        }\n",
              "\n",
              "        #ipyplot-html-viewer-textarea-eY9G8NVesE5xS9fg4djGAL {\n",
              "            background: lightgrey;\n",
              "            width: 100%;\n",
              "            height: 0px;\n",
              "            display: none;\n",
              "        }\n",
              "\n",
              "        #ipyplot-html-viewer-toggle-eY9G8NVesE5xS9fg4djGAL:checked ~ #ipyplot-html-viewer-textarea-eY9G8NVesE5xS9fg4djGAL {\n",
              "            height: 200px;\n",
              "            display: block;\n",
              "        }\n",
              "\n",
              "        #ipyplot-html-viewer-toggle-eY9G8NVesE5xS9fg4djGAL:checked + #ipyplot-html-viewer-label-eY9G8NVesE5xS9fg4djGAL:after {\n",
              "            content: \"hide html\";\n",
              "            position: absolute;\n",
              "            top: 0;\n",
              "            left: 0;\n",
              "            right: 0;\n",
              "            bottom: 0;\n",
              "            background: white;\n",
              "            cursor: pointer;\n",
              "            color: blue;\n",
              "            text-decoration: underline;\n",
              "        }\n",
              "    </style>\n",
              "    <div>\n",
              "        <input type=\"checkbox\" id=\"ipyplot-html-viewer-toggle-eY9G8NVesE5xS9fg4djGAL\">\n",
              "        <label id=\"ipyplot-html-viewer-label-eY9G8NVesE5xS9fg4djGAL\" for=\"ipyplot-html-viewer-toggle-eY9G8NVesE5xS9fg4djGAL\">show html</label>\n",
              "        <textarea id=\"ipyplot-html-viewer-textarea-eY9G8NVesE5xS9fg4djGAL\" readonly>\n",
              "            \n",
              "        <style>\n",
              "        #ipyplot-imgs-container-div-798F2QhrxWVBwuf28wuEGN {\n",
              "            width: 100%;\n",
              "            height: 100%;\n",
              "            margin: 0%;\n",
              "            overflow: auto;\n",
              "            position: relative;\n",
              "            overflow-y: scroll;\n",
              "        }\n",
              "\n",
              "        div.ipyplot-placeholder-div-798F2QhrxWVBwuf28wuEGN {\n",
              "            width: 200px;\n",
              "            display: inline-block;\n",
              "            margin: 3px;\n",
              "            position: relative;\n",
              "        }\n",
              "\n",
              "        div.ipyplot-content-div-798F2QhrxWVBwuf28wuEGN {\n",
              "            width: 200px;\n",
              "            background: white;\n",
              "            display: inline-block;\n",
              "            vertical-align: top;\n",
              "            text-align: center;\n",
              "            position: relative;\n",
              "            border: 2px solid #ddd;\n",
              "            top: 0;\n",
              "            left: 0;\n",
              "        }\n",
              "\n",
              "        div.ipyplot-content-div-798F2QhrxWVBwuf28wuEGN span.ipyplot-img-close {\n",
              "            display: none;\n",
              "        }\n",
              "\n",
              "        div.ipyplot-content-div-798F2QhrxWVBwuf28wuEGN span {\n",
              "            width: 100%;\n",
              "            height: 100%;\n",
              "            position: absolute;\n",
              "            top: 0;\n",
              "            left: 0;\n",
              "        }\n",
              "\n",
              "        div.ipyplot-content-div-798F2QhrxWVBwuf28wuEGN img {\n",
              "            width: 200px;\n",
              "        }\n",
              "\n",
              "        div.ipyplot-content-div-798F2QhrxWVBwuf28wuEGN span.ipyplot-img-close:hover {\n",
              "            cursor: zoom-out;\n",
              "        }\n",
              "        div.ipyplot-content-div-798F2QhrxWVBwuf28wuEGN span.ipyplot-img-expand:hover {\n",
              "            cursor: zoom-in;\n",
              "        }\n",
              "\n",
              "        div[id^=ipyplot-content-div-798F2QhrxWVBwuf28wuEGN]:target {\n",
              "            transform: scale(2.5);\n",
              "            transform-origin: left top;\n",
              "            z-index: 5000;\n",
              "            top: 0;\n",
              "            left: 0;\n",
              "            position: absolute;\n",
              "        }\n",
              "\n",
              "        div[id^=ipyplot-content-div-798F2QhrxWVBwuf28wuEGN]:target span.ipyplot-img-close {\n",
              "            display: block;\n",
              "        }\n",
              "\n",
              "        div[id^=ipyplot-content-div-798F2QhrxWVBwuf28wuEGN]:target span.ipyplot-img-expand {\n",
              "            display: none;\n",
              "        }\n",
              "        </style>\n",
              "    <div id=\"ipyplot-imgs-container-div-798F2QhrxWVBwuf28wuEGN\">\n",
              "    <div class=\"ipyplot-placeholder-div-798F2QhrxWVBwuf28wuEGN\">\n",
              "        <div id=\"ipyplot-content-div-798F2QhrxWVBwuf28wuEGN-VYfYQwmzLJaAtafjsBaVkE\" class=\"ipyplot-content-div-798F2QhrxWVBwuf28wuEGN\">\n",
              "            <h4 style=\"font-size: 12px; word-wrap: break-word;\">0</h4>\n",
              "            <img src=\"https://i.giphy.com/media/26BRNvGqtlcPlA5DG/giphy.gif?cid=a61aa47a1wzdvf5kxl4egk4d6jykfjlfhthr0hdjkbynwrxz&ep=v1_gifs_search&rid=giphy.gif&ct=g\"/>\n",
              "            <a href=\"#!\">\n",
              "                <span class=\"ipyplot-img-close\"/>\n",
              "            </a>\n",
              "            <a href=\"#ipyplot-content-div-798F2QhrxWVBwuf28wuEGN-VYfYQwmzLJaAtafjsBaVkE\">\n",
              "                <span class=\"ipyplot-img-expand\"/>\n",
              "            </a>\n",
              "        </div>\n",
              "    </div>\n",
              "    \n",
              "    <div class=\"ipyplot-placeholder-div-798F2QhrxWVBwuf28wuEGN\">\n",
              "        <div id=\"ipyplot-content-div-798F2QhrxWVBwuf28wuEGN-eKdftAzAsnrq2er6ha38N3\" class=\"ipyplot-content-div-798F2QhrxWVBwuf28wuEGN\">\n",
              "            <h4 style=\"font-size: 12px; word-wrap: break-word;\">1</h4>\n",
              "            <img src=\"https://i.giphy.com/media/XDoYZQE2Qu2FwPSWCC/giphy.gif?cid=a61aa47a1wzdvf5kxl4egk4d6jykfjlfhthr0hdjkbynwrxz&ep=v1_gifs_search&rid=giphy.gif&ct=g\"/>\n",
              "            <a href=\"#!\">\n",
              "                <span class=\"ipyplot-img-close\"/>\n",
              "            </a>\n",
              "            <a href=\"#ipyplot-content-div-798F2QhrxWVBwuf28wuEGN-eKdftAzAsnrq2er6ha38N3\">\n",
              "                <span class=\"ipyplot-img-expand\"/>\n",
              "            </a>\n",
              "        </div>\n",
              "    </div>\n",
              "    \n",
              "    <div class=\"ipyplot-placeholder-div-798F2QhrxWVBwuf28wuEGN\">\n",
              "        <div id=\"ipyplot-content-div-798F2QhrxWVBwuf28wuEGN-ZVZDFbjkkBWzZjec6C4Kzy\" class=\"ipyplot-content-div-798F2QhrxWVBwuf28wuEGN\">\n",
              "            <h4 style=\"font-size: 12px; word-wrap: break-word;\">2</h4>\n",
              "            <img src=\"https://i.giphy.com/media/WmMp1qmKaKuHPfCq3a/giphy.gif?cid=a61aa47a6t59lsk6xhg8vclpuvvvny9o57ild2pzktdr72xh&ep=v1_gifs_search&rid=giphy.gif&ct=g\"/>\n",
              "            <a href=\"#!\">\n",
              "                <span class=\"ipyplot-img-close\"/>\n",
              "            </a>\n",
              "            <a href=\"#ipyplot-content-div-798F2QhrxWVBwuf28wuEGN-ZVZDFbjkkBWzZjec6C4Kzy\">\n",
              "                <span class=\"ipyplot-img-expand\"/>\n",
              "            </a>\n",
              "        </div>\n",
              "    </div>\n",
              "    \n",
              "    <div class=\"ipyplot-placeholder-div-798F2QhrxWVBwuf28wuEGN\">\n",
              "        <div id=\"ipyplot-content-div-798F2QhrxWVBwuf28wuEGN-VD2WTYxoG3LysGsxogPtF7\" class=\"ipyplot-content-div-798F2QhrxWVBwuf28wuEGN\">\n",
              "            <h4 style=\"font-size: 12px; word-wrap: break-word;\">3</h4>\n",
              "            <img src=\"https://i.giphy.com/media/hoxa8E29qBqXkQQuso/giphy.gif?cid=a61aa47a6t59lsk6xhg8vclpuvvvny9o57ild2pzktdr72xh&ep=v1_gifs_search&rid=giphy.gif&ct=g\"/>\n",
              "            <a href=\"#!\">\n",
              "                <span class=\"ipyplot-img-close\"/>\n",
              "            </a>\n",
              "            <a href=\"#ipyplot-content-div-798F2QhrxWVBwuf28wuEGN-VD2WTYxoG3LysGsxogPtF7\">\n",
              "                <span class=\"ipyplot-img-expand\"/>\n",
              "            </a>\n",
              "        </div>\n",
              "    </div>\n",
              "    \n",
              "    <div class=\"ipyplot-placeholder-div-798F2QhrxWVBwuf28wuEGN\">\n",
              "        <div id=\"ipyplot-content-div-798F2QhrxWVBwuf28wuEGN-hTkLF2wjjw5NoH2gfvPsjL\" class=\"ipyplot-content-div-798F2QhrxWVBwuf28wuEGN\">\n",
              "            <h4 style=\"font-size: 12px; word-wrap: break-word;\">4</h4>\n",
              "            <img src=\"https://i.giphy.com/media/m8YFup5AVSW4/giphy.gif?cid=a61aa47a6t59lsk6xhg8vclpuvvvny9o57ild2pzktdr72xh&ep=v1_gifs_search&rid=giphy.gif&ct=g\"/>\n",
              "            <a href=\"#!\">\n",
              "                <span class=\"ipyplot-img-close\"/>\n",
              "            </a>\n",
              "            <a href=\"#ipyplot-content-div-798F2QhrxWVBwuf28wuEGN-hTkLF2wjjw5NoH2gfvPsjL\">\n",
              "                <span class=\"ipyplot-img-expand\"/>\n",
              "            </a>\n",
              "        </div>\n",
              "    </div>\n",
              "    \n",
              "    <div class=\"ipyplot-placeholder-div-798F2QhrxWVBwuf28wuEGN\">\n",
              "        <div id=\"ipyplot-content-div-798F2QhrxWVBwuf28wuEGN-2NggQ9knoqjibeswkhKttE\" class=\"ipyplot-content-div-798F2QhrxWVBwuf28wuEGN\">\n",
              "            <h4 style=\"font-size: 12px; word-wrap: break-word;\">5</h4>\n",
              "            <img src=\"https://i.giphy.com/media/8756ivWrhKmmMkThAZ/giphy-downsized.gif?cid=a61aa47a6t59lsk6xhg8vclpuvvvny9o57ild2pzktdr72xh&ep=v1_gifs_search&rid=giphy-downsized.gif&ct=g\"/>\n",
              "            <a href=\"#!\">\n",
              "                <span class=\"ipyplot-img-close\"/>\n",
              "            </a>\n",
              "            <a href=\"#ipyplot-content-div-798F2QhrxWVBwuf28wuEGN-2NggQ9knoqjibeswkhKttE\">\n",
              "                <span class=\"ipyplot-img-expand\"/>\n",
              "            </a>\n",
              "        </div>\n",
              "    </div>\n",
              "    \n",
              "    <div class=\"ipyplot-placeholder-div-798F2QhrxWVBwuf28wuEGN\">\n",
              "        <div id=\"ipyplot-content-div-798F2QhrxWVBwuf28wuEGN-EZqcPWMTeCBh534VEeAm6n\" class=\"ipyplot-content-div-798F2QhrxWVBwuf28wuEGN\">\n",
              "            <h4 style=\"font-size: 12px; word-wrap: break-word;\">6</h4>\n",
              "            <img src=\"https://i.giphy.com/media/ZUxwAQ1NMwoTK/giphy.gif?cid=a61aa47aqnffk2fqvqf9jrptahaz67vjet609elabaofwc02&ep=v1_gifs_search&rid=giphy.gif&ct=g\"/>\n",
              "            <a href=\"#!\">\n",
              "                <span class=\"ipyplot-img-close\"/>\n",
              "            </a>\n",
              "            <a href=\"#ipyplot-content-div-798F2QhrxWVBwuf28wuEGN-EZqcPWMTeCBh534VEeAm6n\">\n",
              "                <span class=\"ipyplot-img-expand\"/>\n",
              "            </a>\n",
              "        </div>\n",
              "    </div>\n",
              "    \n",
              "    <div class=\"ipyplot-placeholder-div-798F2QhrxWVBwuf28wuEGN\">\n",
              "        <div id=\"ipyplot-content-div-798F2QhrxWVBwuf28wuEGN-8MG4kWxrsFnGax4pfS5vVW\" class=\"ipyplot-content-div-798F2QhrxWVBwuf28wuEGN\">\n",
              "            <h4 style=\"font-size: 12px; word-wrap: break-word;\">7</h4>\n",
              "            <img src=\"https://i.giphy.com/media/SZe57aPbhaS5GDRPFI/giphy.gif?cid=a61aa47aqnffk2fqvqf9jrptahaz67vjet609elabaofwc02&ep=v1_gifs_search&rid=giphy.gif&ct=g\"/>\n",
              "            <a href=\"#!\">\n",
              "                <span class=\"ipyplot-img-close\"/>\n",
              "            </a>\n",
              "            <a href=\"#ipyplot-content-div-798F2QhrxWVBwuf28wuEGN-8MG4kWxrsFnGax4pfS5vVW\">\n",
              "                <span class=\"ipyplot-img-expand\"/>\n",
              "            </a>\n",
              "        </div>\n",
              "    </div>\n",
              "    \n",
              "    <div class=\"ipyplot-placeholder-div-798F2QhrxWVBwuf28wuEGN\">\n",
              "        <div id=\"ipyplot-content-div-798F2QhrxWVBwuf28wuEGN-GqxpJtPvwPN94YRDZdTLmq\" class=\"ipyplot-content-div-798F2QhrxWVBwuf28wuEGN\">\n",
              "            <h4 style=\"font-size: 12px; word-wrap: break-word;\">8</h4>\n",
              "            <img src=\"https://i.giphy.com/media/ZoSGXpuQMCxHAOqJvf/giphy.gif?cid=a61aa47aqnffk2fqvqf9jrptahaz67vjet609elabaofwc02&ep=v1_gifs_search&rid=giphy.gif&ct=g\"/>\n",
              "            <a href=\"#!\">\n",
              "                <span class=\"ipyplot-img-close\"/>\n",
              "            </a>\n",
              "            <a href=\"#ipyplot-content-div-798F2QhrxWVBwuf28wuEGN-GqxpJtPvwPN94YRDZdTLmq\">\n",
              "                <span class=\"ipyplot-img-expand\"/>\n",
              "            </a>\n",
              "        </div>\n",
              "    </div>\n",
              "    \n",
              "    <div class=\"ipyplot-placeholder-div-798F2QhrxWVBwuf28wuEGN\">\n",
              "        <div id=\"ipyplot-content-div-798F2QhrxWVBwuf28wuEGN-HUg7EwXrtFyWbvWZUPmQJy\" class=\"ipyplot-content-div-798F2QhrxWVBwuf28wuEGN\">\n",
              "            <h4 style=\"font-size: 12px; word-wrap: break-word;\">9</h4>\n",
              "            <img src=\"https://i.giphy.com/media/JkoX2zIhs2xq0k29xf/giphy-downsized.gif?cid=a61aa47aqnffk2fqvqf9jrptahaz67vjet609elabaofwc02&ep=v1_gifs_search&rid=giphy-downsized.gif&ct=g\"/>\n",
              "            <a href=\"#!\">\n",
              "                <span class=\"ipyplot-img-close\"/>\n",
              "            </a>\n",
              "            <a href=\"#ipyplot-content-div-798F2QhrxWVBwuf28wuEGN-HUg7EwXrtFyWbvWZUPmQJy\">\n",
              "                <span class=\"ipyplot-img-expand\"/>\n",
              "            </a>\n",
              "        </div>\n",
              "    </div>\n",
              "    </div>\n",
              "        </textarea>\n",
              "    </div>\n",
              "    "
            ]
          },
          "metadata": {}
        },
        {
          "output_type": "display_data",
          "data": {
            "text/plain": [
              "<IPython.core.display.HTML object>"
            ],
            "text/html": [
              "\n",
              "        <style>\n",
              "        #ipyplot-imgs-container-div-798F2QhrxWVBwuf28wuEGN {\n",
              "            width: 100%;\n",
              "            height: 100%;\n",
              "            margin: 0%;\n",
              "            overflow: auto;\n",
              "            position: relative;\n",
              "            overflow-y: scroll;\n",
              "        }\n",
              "\n",
              "        div.ipyplot-placeholder-div-798F2QhrxWVBwuf28wuEGN {\n",
              "            width: 200px;\n",
              "            display: inline-block;\n",
              "            margin: 3px;\n",
              "            position: relative;\n",
              "        }\n",
              "\n",
              "        div.ipyplot-content-div-798F2QhrxWVBwuf28wuEGN {\n",
              "            width: 200px;\n",
              "            background: white;\n",
              "            display: inline-block;\n",
              "            vertical-align: top;\n",
              "            text-align: center;\n",
              "            position: relative;\n",
              "            border: 2px solid #ddd;\n",
              "            top: 0;\n",
              "            left: 0;\n",
              "        }\n",
              "\n",
              "        div.ipyplot-content-div-798F2QhrxWVBwuf28wuEGN span.ipyplot-img-close {\n",
              "            display: none;\n",
              "        }\n",
              "\n",
              "        div.ipyplot-content-div-798F2QhrxWVBwuf28wuEGN span {\n",
              "            width: 100%;\n",
              "            height: 100%;\n",
              "            position: absolute;\n",
              "            top: 0;\n",
              "            left: 0;\n",
              "        }\n",
              "\n",
              "        div.ipyplot-content-div-798F2QhrxWVBwuf28wuEGN img {\n",
              "            width: 200px;\n",
              "        }\n",
              "\n",
              "        div.ipyplot-content-div-798F2QhrxWVBwuf28wuEGN span.ipyplot-img-close:hover {\n",
              "            cursor: zoom-out;\n",
              "        }\n",
              "        div.ipyplot-content-div-798F2QhrxWVBwuf28wuEGN span.ipyplot-img-expand:hover {\n",
              "            cursor: zoom-in;\n",
              "        }\n",
              "\n",
              "        div[id^=ipyplot-content-div-798F2QhrxWVBwuf28wuEGN]:target {\n",
              "            transform: scale(2.5);\n",
              "            transform-origin: left top;\n",
              "            z-index: 5000;\n",
              "            top: 0;\n",
              "            left: 0;\n",
              "            position: absolute;\n",
              "        }\n",
              "\n",
              "        div[id^=ipyplot-content-div-798F2QhrxWVBwuf28wuEGN]:target span.ipyplot-img-close {\n",
              "            display: block;\n",
              "        }\n",
              "\n",
              "        div[id^=ipyplot-content-div-798F2QhrxWVBwuf28wuEGN]:target span.ipyplot-img-expand {\n",
              "            display: none;\n",
              "        }\n",
              "        </style>\n",
              "    <div id=\"ipyplot-imgs-container-div-798F2QhrxWVBwuf28wuEGN\">\n",
              "    <div class=\"ipyplot-placeholder-div-798F2QhrxWVBwuf28wuEGN\">\n",
              "        <div id=\"ipyplot-content-div-798F2QhrxWVBwuf28wuEGN-VYfYQwmzLJaAtafjsBaVkE\" class=\"ipyplot-content-div-798F2QhrxWVBwuf28wuEGN\">\n",
              "            <h4 style=\"font-size: 12px; word-wrap: break-word;\">0</h4>\n",
              "            <img src=\"https://i.giphy.com/media/26BRNvGqtlcPlA5DG/giphy.gif?cid=a61aa47a1wzdvf5kxl4egk4d6jykfjlfhthr0hdjkbynwrxz&ep=v1_gifs_search&rid=giphy.gif&ct=g\"/>\n",
              "            <a href=\"#!\">\n",
              "                <span class=\"ipyplot-img-close\"/>\n",
              "            </a>\n",
              "            <a href=\"#ipyplot-content-div-798F2QhrxWVBwuf28wuEGN-VYfYQwmzLJaAtafjsBaVkE\">\n",
              "                <span class=\"ipyplot-img-expand\"/>\n",
              "            </a>\n",
              "        </div>\n",
              "    </div>\n",
              "    \n",
              "    <div class=\"ipyplot-placeholder-div-798F2QhrxWVBwuf28wuEGN\">\n",
              "        <div id=\"ipyplot-content-div-798F2QhrxWVBwuf28wuEGN-eKdftAzAsnrq2er6ha38N3\" class=\"ipyplot-content-div-798F2QhrxWVBwuf28wuEGN\">\n",
              "            <h4 style=\"font-size: 12px; word-wrap: break-word;\">1</h4>\n",
              "            <img src=\"https://i.giphy.com/media/XDoYZQE2Qu2FwPSWCC/giphy.gif?cid=a61aa47a1wzdvf5kxl4egk4d6jykfjlfhthr0hdjkbynwrxz&ep=v1_gifs_search&rid=giphy.gif&ct=g\"/>\n",
              "            <a href=\"#!\">\n",
              "                <span class=\"ipyplot-img-close\"/>\n",
              "            </a>\n",
              "            <a href=\"#ipyplot-content-div-798F2QhrxWVBwuf28wuEGN-eKdftAzAsnrq2er6ha38N3\">\n",
              "                <span class=\"ipyplot-img-expand\"/>\n",
              "            </a>\n",
              "        </div>\n",
              "    </div>\n",
              "    \n",
              "    <div class=\"ipyplot-placeholder-div-798F2QhrxWVBwuf28wuEGN\">\n",
              "        <div id=\"ipyplot-content-div-798F2QhrxWVBwuf28wuEGN-ZVZDFbjkkBWzZjec6C4Kzy\" class=\"ipyplot-content-div-798F2QhrxWVBwuf28wuEGN\">\n",
              "            <h4 style=\"font-size: 12px; word-wrap: break-word;\">2</h4>\n",
              "            <img src=\"https://i.giphy.com/media/WmMp1qmKaKuHPfCq3a/giphy.gif?cid=a61aa47a6t59lsk6xhg8vclpuvvvny9o57ild2pzktdr72xh&ep=v1_gifs_search&rid=giphy.gif&ct=g\"/>\n",
              "            <a href=\"#!\">\n",
              "                <span class=\"ipyplot-img-close\"/>\n",
              "            </a>\n",
              "            <a href=\"#ipyplot-content-div-798F2QhrxWVBwuf28wuEGN-ZVZDFbjkkBWzZjec6C4Kzy\">\n",
              "                <span class=\"ipyplot-img-expand\"/>\n",
              "            </a>\n",
              "        </div>\n",
              "    </div>\n",
              "    \n",
              "    <div class=\"ipyplot-placeholder-div-798F2QhrxWVBwuf28wuEGN\">\n",
              "        <div id=\"ipyplot-content-div-798F2QhrxWVBwuf28wuEGN-VD2WTYxoG3LysGsxogPtF7\" class=\"ipyplot-content-div-798F2QhrxWVBwuf28wuEGN\">\n",
              "            <h4 style=\"font-size: 12px; word-wrap: break-word;\">3</h4>\n",
              "            <img src=\"https://i.giphy.com/media/hoxa8E29qBqXkQQuso/giphy.gif?cid=a61aa47a6t59lsk6xhg8vclpuvvvny9o57ild2pzktdr72xh&ep=v1_gifs_search&rid=giphy.gif&ct=g\"/>\n",
              "            <a href=\"#!\">\n",
              "                <span class=\"ipyplot-img-close\"/>\n",
              "            </a>\n",
              "            <a href=\"#ipyplot-content-div-798F2QhrxWVBwuf28wuEGN-VD2WTYxoG3LysGsxogPtF7\">\n",
              "                <span class=\"ipyplot-img-expand\"/>\n",
              "            </a>\n",
              "        </div>\n",
              "    </div>\n",
              "    \n",
              "    <div class=\"ipyplot-placeholder-div-798F2QhrxWVBwuf28wuEGN\">\n",
              "        <div id=\"ipyplot-content-div-798F2QhrxWVBwuf28wuEGN-hTkLF2wjjw5NoH2gfvPsjL\" class=\"ipyplot-content-div-798F2QhrxWVBwuf28wuEGN\">\n",
              "            <h4 style=\"font-size: 12px; word-wrap: break-word;\">4</h4>\n",
              "            <img src=\"https://i.giphy.com/media/m8YFup5AVSW4/giphy.gif?cid=a61aa47a6t59lsk6xhg8vclpuvvvny9o57ild2pzktdr72xh&ep=v1_gifs_search&rid=giphy.gif&ct=g\"/>\n",
              "            <a href=\"#!\">\n",
              "                <span class=\"ipyplot-img-close\"/>\n",
              "            </a>\n",
              "            <a href=\"#ipyplot-content-div-798F2QhrxWVBwuf28wuEGN-hTkLF2wjjw5NoH2gfvPsjL\">\n",
              "                <span class=\"ipyplot-img-expand\"/>\n",
              "            </a>\n",
              "        </div>\n",
              "    </div>\n",
              "    \n",
              "    <div class=\"ipyplot-placeholder-div-798F2QhrxWVBwuf28wuEGN\">\n",
              "        <div id=\"ipyplot-content-div-798F2QhrxWVBwuf28wuEGN-2NggQ9knoqjibeswkhKttE\" class=\"ipyplot-content-div-798F2QhrxWVBwuf28wuEGN\">\n",
              "            <h4 style=\"font-size: 12px; word-wrap: break-word;\">5</h4>\n",
              "            <img src=\"https://i.giphy.com/media/8756ivWrhKmmMkThAZ/giphy-downsized.gif?cid=a61aa47a6t59lsk6xhg8vclpuvvvny9o57ild2pzktdr72xh&ep=v1_gifs_search&rid=giphy-downsized.gif&ct=g\"/>\n",
              "            <a href=\"#!\">\n",
              "                <span class=\"ipyplot-img-close\"/>\n",
              "            </a>\n",
              "            <a href=\"#ipyplot-content-div-798F2QhrxWVBwuf28wuEGN-2NggQ9knoqjibeswkhKttE\">\n",
              "                <span class=\"ipyplot-img-expand\"/>\n",
              "            </a>\n",
              "        </div>\n",
              "    </div>\n",
              "    \n",
              "    <div class=\"ipyplot-placeholder-div-798F2QhrxWVBwuf28wuEGN\">\n",
              "        <div id=\"ipyplot-content-div-798F2QhrxWVBwuf28wuEGN-EZqcPWMTeCBh534VEeAm6n\" class=\"ipyplot-content-div-798F2QhrxWVBwuf28wuEGN\">\n",
              "            <h4 style=\"font-size: 12px; word-wrap: break-word;\">6</h4>\n",
              "            <img src=\"https://i.giphy.com/media/ZUxwAQ1NMwoTK/giphy.gif?cid=a61aa47aqnffk2fqvqf9jrptahaz67vjet609elabaofwc02&ep=v1_gifs_search&rid=giphy.gif&ct=g\"/>\n",
              "            <a href=\"#!\">\n",
              "                <span class=\"ipyplot-img-close\"/>\n",
              "            </a>\n",
              "            <a href=\"#ipyplot-content-div-798F2QhrxWVBwuf28wuEGN-EZqcPWMTeCBh534VEeAm6n\">\n",
              "                <span class=\"ipyplot-img-expand\"/>\n",
              "            </a>\n",
              "        </div>\n",
              "    </div>\n",
              "    \n",
              "    <div class=\"ipyplot-placeholder-div-798F2QhrxWVBwuf28wuEGN\">\n",
              "        <div id=\"ipyplot-content-div-798F2QhrxWVBwuf28wuEGN-8MG4kWxrsFnGax4pfS5vVW\" class=\"ipyplot-content-div-798F2QhrxWVBwuf28wuEGN\">\n",
              "            <h4 style=\"font-size: 12px; word-wrap: break-word;\">7</h4>\n",
              "            <img src=\"https://i.giphy.com/media/SZe57aPbhaS5GDRPFI/giphy.gif?cid=a61aa47aqnffk2fqvqf9jrptahaz67vjet609elabaofwc02&ep=v1_gifs_search&rid=giphy.gif&ct=g\"/>\n",
              "            <a href=\"#!\">\n",
              "                <span class=\"ipyplot-img-close\"/>\n",
              "            </a>\n",
              "            <a href=\"#ipyplot-content-div-798F2QhrxWVBwuf28wuEGN-8MG4kWxrsFnGax4pfS5vVW\">\n",
              "                <span class=\"ipyplot-img-expand\"/>\n",
              "            </a>\n",
              "        </div>\n",
              "    </div>\n",
              "    \n",
              "    <div class=\"ipyplot-placeholder-div-798F2QhrxWVBwuf28wuEGN\">\n",
              "        <div id=\"ipyplot-content-div-798F2QhrxWVBwuf28wuEGN-GqxpJtPvwPN94YRDZdTLmq\" class=\"ipyplot-content-div-798F2QhrxWVBwuf28wuEGN\">\n",
              "            <h4 style=\"font-size: 12px; word-wrap: break-word;\">8</h4>\n",
              "            <img src=\"https://i.giphy.com/media/ZoSGXpuQMCxHAOqJvf/giphy.gif?cid=a61aa47aqnffk2fqvqf9jrptahaz67vjet609elabaofwc02&ep=v1_gifs_search&rid=giphy.gif&ct=g\"/>\n",
              "            <a href=\"#!\">\n",
              "                <span class=\"ipyplot-img-close\"/>\n",
              "            </a>\n",
              "            <a href=\"#ipyplot-content-div-798F2QhrxWVBwuf28wuEGN-GqxpJtPvwPN94YRDZdTLmq\">\n",
              "                <span class=\"ipyplot-img-expand\"/>\n",
              "            </a>\n",
              "        </div>\n",
              "    </div>\n",
              "    \n",
              "    <div class=\"ipyplot-placeholder-div-798F2QhrxWVBwuf28wuEGN\">\n",
              "        <div id=\"ipyplot-content-div-798F2QhrxWVBwuf28wuEGN-HUg7EwXrtFyWbvWZUPmQJy\" class=\"ipyplot-content-div-798F2QhrxWVBwuf28wuEGN\">\n",
              "            <h4 style=\"font-size: 12px; word-wrap: break-word;\">9</h4>\n",
              "            <img src=\"https://i.giphy.com/media/JkoX2zIhs2xq0k29xf/giphy-downsized.gif?cid=a61aa47aqnffk2fqvqf9jrptahaz67vjet609elabaofwc02&ep=v1_gifs_search&rid=giphy-downsized.gif&ct=g\"/>\n",
              "            <a href=\"#!\">\n",
              "                <span class=\"ipyplot-img-close\"/>\n",
              "            </a>\n",
              "            <a href=\"#ipyplot-content-div-798F2QhrxWVBwuf28wuEGN-HUg7EwXrtFyWbvWZUPmQJy\">\n",
              "                <span class=\"ipyplot-img-expand\"/>\n",
              "            </a>\n",
              "        </div>\n",
              "    </div>\n",
              "    </div>"
            ]
          },
          "metadata": {}
        }
      ]
    },
    {
      "cell_type": "code",
      "source": [],
      "metadata": {
        "id": "a_W7J0Vm2f3j"
      },
      "execution_count": 19,
      "outputs": []
    }
  ]
}
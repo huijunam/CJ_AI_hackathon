{
  "nbformat": 4,
  "nbformat_minor": 0,
  "metadata": {
    "colab": {
      "provenance": [],
      "gpuType": "T4"
    },
    "kernelspec": {
      "name": "python3",
      "display_name": "Python 3"
    },
    "language_info": {
      "name": "python"
    },
    "accelerator": "GPU",
    "widgets": {
      "application/vnd.jupyter.widget-state+json": {
        "e09dfe926aa14158991216201a11186e": {
          "model_module": "@jupyter-widgets/controls",
          "model_name": "HBoxModel",
          "model_module_version": "1.5.0",
          "state": {
            "_dom_classes": [],
            "_model_module": "@jupyter-widgets/controls",
            "_model_module_version": "1.5.0",
            "_model_name": "HBoxModel",
            "_view_count": null,
            "_view_module": "@jupyter-widgets/controls",
            "_view_module_version": "1.5.0",
            "_view_name": "HBoxView",
            "box_style": "",
            "children": [
              "IPY_MODEL_f5a018a03b724484b3bbf2386414bcaf",
              "IPY_MODEL_9b80a585dd304d119564c0d2f9471389",
              "IPY_MODEL_a2572a5647764fdab6fbb83eb43013b9"
            ],
            "layout": "IPY_MODEL_224ea4d8573d4983adbd734d770e9d49"
          }
        },
        "f5a018a03b724484b3bbf2386414bcaf": {
          "model_module": "@jupyter-widgets/controls",
          "model_name": "HTMLModel",
          "model_module_version": "1.5.0",
          "state": {
            "_dom_classes": [],
            "_model_module": "@jupyter-widgets/controls",
            "_model_module_version": "1.5.0",
            "_model_name": "HTMLModel",
            "_view_count": null,
            "_view_module": "@jupyter-widgets/controls",
            "_view_module_version": "1.5.0",
            "_view_name": "HTMLView",
            "description": "",
            "description_tooltip": null,
            "layout": "IPY_MODEL_9f515b84f920416db73a3ce79642802b",
            "placeholder": "​",
            "style": "IPY_MODEL_1d731c1d26d94df594f09637c1752da4",
            "value": "  0%"
          }
        },
        "9b80a585dd304d119564c0d2f9471389": {
          "model_module": "@jupyter-widgets/controls",
          "model_name": "FloatProgressModel",
          "model_module_version": "1.5.0",
          "state": {
            "_dom_classes": [],
            "_model_module": "@jupyter-widgets/controls",
            "_model_module_version": "1.5.0",
            "_model_name": "FloatProgressModel",
            "_view_count": null,
            "_view_module": "@jupyter-widgets/controls",
            "_view_module_version": "1.5.0",
            "_view_name": "ProgressView",
            "bar_style": "danger",
            "description": "",
            "description_tooltip": null,
            "layout": "IPY_MODEL_799741d93c904912ad64533018014b20",
            "max": 1,
            "min": 0,
            "orientation": "horizontal",
            "style": "IPY_MODEL_2b77f78a8c9c4efdb4429ec68f42353e",
            "value": 0
          }
        },
        "a2572a5647764fdab6fbb83eb43013b9": {
          "model_module": "@jupyter-widgets/controls",
          "model_name": "HTMLModel",
          "model_module_version": "1.5.0",
          "state": {
            "_dom_classes": [],
            "_model_module": "@jupyter-widgets/controls",
            "_model_module_version": "1.5.0",
            "_model_name": "HTMLModel",
            "_view_count": null,
            "_view_module": "@jupyter-widgets/controls",
            "_view_module_version": "1.5.0",
            "_view_name": "HTMLView",
            "description": "",
            "description_tooltip": null,
            "layout": "IPY_MODEL_3565bdd8aacb4e08a45b0257a41be48b",
            "placeholder": "​",
            "style": "IPY_MODEL_8a98b255e1f74ef4af271f2d3c0c7567",
            "value": " 0/1 [00:00&lt;?, ?it/s]"
          }
        },
        "224ea4d8573d4983adbd734d770e9d49": {
          "model_module": "@jupyter-widgets/base",
          "model_name": "LayoutModel",
          "model_module_version": "1.2.0",
          "state": {
            "_model_module": "@jupyter-widgets/base",
            "_model_module_version": "1.2.0",
            "_model_name": "LayoutModel",
            "_view_count": null,
            "_view_module": "@jupyter-widgets/base",
            "_view_module_version": "1.2.0",
            "_view_name": "LayoutView",
            "align_content": null,
            "align_items": null,
            "align_self": null,
            "border": null,
            "bottom": null,
            "display": null,
            "flex": null,
            "flex_flow": null,
            "grid_area": null,
            "grid_auto_columns": null,
            "grid_auto_flow": null,
            "grid_auto_rows": null,
            "grid_column": null,
            "grid_gap": null,
            "grid_row": null,
            "grid_template_areas": null,
            "grid_template_columns": null,
            "grid_template_rows": null,
            "height": null,
            "justify_content": null,
            "justify_items": null,
            "left": null,
            "margin": null,
            "max_height": null,
            "max_width": null,
            "min_height": null,
            "min_width": null,
            "object_fit": null,
            "object_position": null,
            "order": null,
            "overflow": null,
            "overflow_x": null,
            "overflow_y": null,
            "padding": null,
            "right": null,
            "top": null,
            "visibility": null,
            "width": null
          }
        },
        "9f515b84f920416db73a3ce79642802b": {
          "model_module": "@jupyter-widgets/base",
          "model_name": "LayoutModel",
          "model_module_version": "1.2.0",
          "state": {
            "_model_module": "@jupyter-widgets/base",
            "_model_module_version": "1.2.0",
            "_model_name": "LayoutModel",
            "_view_count": null,
            "_view_module": "@jupyter-widgets/base",
            "_view_module_version": "1.2.0",
            "_view_name": "LayoutView",
            "align_content": null,
            "align_items": null,
            "align_self": null,
            "border": null,
            "bottom": null,
            "display": null,
            "flex": null,
            "flex_flow": null,
            "grid_area": null,
            "grid_auto_columns": null,
            "grid_auto_flow": null,
            "grid_auto_rows": null,
            "grid_column": null,
            "grid_gap": null,
            "grid_row": null,
            "grid_template_areas": null,
            "grid_template_columns": null,
            "grid_template_rows": null,
            "height": null,
            "justify_content": null,
            "justify_items": null,
            "left": null,
            "margin": null,
            "max_height": null,
            "max_width": null,
            "min_height": null,
            "min_width": null,
            "object_fit": null,
            "object_position": null,
            "order": null,
            "overflow": null,
            "overflow_x": null,
            "overflow_y": null,
            "padding": null,
            "right": null,
            "top": null,
            "visibility": null,
            "width": null
          }
        },
        "1d731c1d26d94df594f09637c1752da4": {
          "model_module": "@jupyter-widgets/controls",
          "model_name": "DescriptionStyleModel",
          "model_module_version": "1.5.0",
          "state": {
            "_model_module": "@jupyter-widgets/controls",
            "_model_module_version": "1.5.0",
            "_model_name": "DescriptionStyleModel",
            "_view_count": null,
            "_view_module": "@jupyter-widgets/base",
            "_view_module_version": "1.2.0",
            "_view_name": "StyleView",
            "description_width": ""
          }
        },
        "799741d93c904912ad64533018014b20": {
          "model_module": "@jupyter-widgets/base",
          "model_name": "LayoutModel",
          "model_module_version": "1.2.0",
          "state": {
            "_model_module": "@jupyter-widgets/base",
            "_model_module_version": "1.2.0",
            "_model_name": "LayoutModel",
            "_view_count": null,
            "_view_module": "@jupyter-widgets/base",
            "_view_module_version": "1.2.0",
            "_view_name": "LayoutView",
            "align_content": null,
            "align_items": null,
            "align_self": null,
            "border": null,
            "bottom": null,
            "display": null,
            "flex": null,
            "flex_flow": null,
            "grid_area": null,
            "grid_auto_columns": null,
            "grid_auto_flow": null,
            "grid_auto_rows": null,
            "grid_column": null,
            "grid_gap": null,
            "grid_row": null,
            "grid_template_areas": null,
            "grid_template_columns": null,
            "grid_template_rows": null,
            "height": null,
            "justify_content": null,
            "justify_items": null,
            "left": null,
            "margin": null,
            "max_height": null,
            "max_width": null,
            "min_height": null,
            "min_width": null,
            "object_fit": null,
            "object_position": null,
            "order": null,
            "overflow": null,
            "overflow_x": null,
            "overflow_y": null,
            "padding": null,
            "right": null,
            "top": null,
            "visibility": null,
            "width": null
          }
        },
        "2b77f78a8c9c4efdb4429ec68f42353e": {
          "model_module": "@jupyter-widgets/controls",
          "model_name": "ProgressStyleModel",
          "model_module_version": "1.5.0",
          "state": {
            "_model_module": "@jupyter-widgets/controls",
            "_model_module_version": "1.5.0",
            "_model_name": "ProgressStyleModel",
            "_view_count": null,
            "_view_module": "@jupyter-widgets/base",
            "_view_module_version": "1.2.0",
            "_view_name": "StyleView",
            "bar_color": null,
            "description_width": ""
          }
        },
        "3565bdd8aacb4e08a45b0257a41be48b": {
          "model_module": "@jupyter-widgets/base",
          "model_name": "LayoutModel",
          "model_module_version": "1.2.0",
          "state": {
            "_model_module": "@jupyter-widgets/base",
            "_model_module_version": "1.2.0",
            "_model_name": "LayoutModel",
            "_view_count": null,
            "_view_module": "@jupyter-widgets/base",
            "_view_module_version": "1.2.0",
            "_view_name": "LayoutView",
            "align_content": null,
            "align_items": null,
            "align_self": null,
            "border": null,
            "bottom": null,
            "display": null,
            "flex": null,
            "flex_flow": null,
            "grid_area": null,
            "grid_auto_columns": null,
            "grid_auto_flow": null,
            "grid_auto_rows": null,
            "grid_column": null,
            "grid_gap": null,
            "grid_row": null,
            "grid_template_areas": null,
            "grid_template_columns": null,
            "grid_template_rows": null,
            "height": null,
            "justify_content": null,
            "justify_items": null,
            "left": null,
            "margin": null,
            "max_height": null,
            "max_width": null,
            "min_height": null,
            "min_width": null,
            "object_fit": null,
            "object_position": null,
            "order": null,
            "overflow": null,
            "overflow_x": null,
            "overflow_y": null,
            "padding": null,
            "right": null,
            "top": null,
            "visibility": null,
            "width": null
          }
        },
        "8a98b255e1f74ef4af271f2d3c0c7567": {
          "model_module": "@jupyter-widgets/controls",
          "model_name": "DescriptionStyleModel",
          "model_module_version": "1.5.0",
          "state": {
            "_model_module": "@jupyter-widgets/controls",
            "_model_module_version": "1.5.0",
            "_model_name": "DescriptionStyleModel",
            "_view_count": null,
            "_view_module": "@jupyter-widgets/base",
            "_view_module_version": "1.2.0",
            "_view_name": "StyleView",
            "description_width": ""
          }
        },
        "4b76c376f8ed4b91b8a92c8e0ed03de1": {
          "model_module": "@jupyter-widgets/controls",
          "model_name": "HBoxModel",
          "model_module_version": "1.5.0",
          "state": {
            "_dom_classes": [],
            "_model_module": "@jupyter-widgets/controls",
            "_model_module_version": "1.5.0",
            "_model_name": "HBoxModel",
            "_view_count": null,
            "_view_module": "@jupyter-widgets/controls",
            "_view_module_version": "1.5.0",
            "_view_name": "HBoxView",
            "box_style": "",
            "children": [
              "IPY_MODEL_82bca601f90e4c6bbf3c6939f216e6a0",
              "IPY_MODEL_d150e8c2c3a64ffbb5b7146f19bb4ec4",
              "IPY_MODEL_6bc74d42d8b547fe8f4070def0f1e3a2"
            ],
            "layout": "IPY_MODEL_3889fb7ebb2d47b183dc3c2c405c6dc5"
          }
        },
        "82bca601f90e4c6bbf3c6939f216e6a0": {
          "model_module": "@jupyter-widgets/controls",
          "model_name": "HTMLModel",
          "model_module_version": "1.5.0",
          "state": {
            "_dom_classes": [],
            "_model_module": "@jupyter-widgets/controls",
            "_model_module_version": "1.5.0",
            "_model_name": "HTMLModel",
            "_view_count": null,
            "_view_module": "@jupyter-widgets/controls",
            "_view_module_version": "1.5.0",
            "_view_name": "HTMLView",
            "description": "",
            "description_tooltip": null,
            "layout": "IPY_MODEL_82b7bb03477844ecb26364b12a199982",
            "placeholder": "​",
            "style": "IPY_MODEL_b407442571bc4e8db620fab7765c4d0c",
            "value": "  0%"
          }
        },
        "d150e8c2c3a64ffbb5b7146f19bb4ec4": {
          "model_module": "@jupyter-widgets/controls",
          "model_name": "FloatProgressModel",
          "model_module_version": "1.5.0",
          "state": {
            "_dom_classes": [],
            "_model_module": "@jupyter-widgets/controls",
            "_model_module_version": "1.5.0",
            "_model_name": "FloatProgressModel",
            "_view_count": null,
            "_view_module": "@jupyter-widgets/controls",
            "_view_module_version": "1.5.0",
            "_view_name": "ProgressView",
            "bar_style": "danger",
            "description": "",
            "description_tooltip": null,
            "layout": "IPY_MODEL_f1b2d28750b54757b29a1e0cc9befafa",
            "max": 1,
            "min": 0,
            "orientation": "horizontal",
            "style": "IPY_MODEL_1177420db68440178457af7a840eec4f",
            "value": 0
          }
        },
        "6bc74d42d8b547fe8f4070def0f1e3a2": {
          "model_module": "@jupyter-widgets/controls",
          "model_name": "HTMLModel",
          "model_module_version": "1.5.0",
          "state": {
            "_dom_classes": [],
            "_model_module": "@jupyter-widgets/controls",
            "_model_module_version": "1.5.0",
            "_model_name": "HTMLModel",
            "_view_count": null,
            "_view_module": "@jupyter-widgets/controls",
            "_view_module_version": "1.5.0",
            "_view_name": "HTMLView",
            "description": "",
            "description_tooltip": null,
            "layout": "IPY_MODEL_983f2e195a8843a29fa694dadba1aca8",
            "placeholder": "​",
            "style": "IPY_MODEL_80883e8b2034486e92922d492aa7a0a8",
            "value": " 0/1 [00:00&lt;?, ?it/s]"
          }
        },
        "3889fb7ebb2d47b183dc3c2c405c6dc5": {
          "model_module": "@jupyter-widgets/base",
          "model_name": "LayoutModel",
          "model_module_version": "1.2.0",
          "state": {
            "_model_module": "@jupyter-widgets/base",
            "_model_module_version": "1.2.0",
            "_model_name": "LayoutModel",
            "_view_count": null,
            "_view_module": "@jupyter-widgets/base",
            "_view_module_version": "1.2.0",
            "_view_name": "LayoutView",
            "align_content": null,
            "align_items": null,
            "align_self": null,
            "border": null,
            "bottom": null,
            "display": null,
            "flex": null,
            "flex_flow": null,
            "grid_area": null,
            "grid_auto_columns": null,
            "grid_auto_flow": null,
            "grid_auto_rows": null,
            "grid_column": null,
            "grid_gap": null,
            "grid_row": null,
            "grid_template_areas": null,
            "grid_template_columns": null,
            "grid_template_rows": null,
            "height": null,
            "justify_content": null,
            "justify_items": null,
            "left": null,
            "margin": null,
            "max_height": null,
            "max_width": null,
            "min_height": null,
            "min_width": null,
            "object_fit": null,
            "object_position": null,
            "order": null,
            "overflow": null,
            "overflow_x": null,
            "overflow_y": null,
            "padding": null,
            "right": null,
            "top": null,
            "visibility": null,
            "width": null
          }
        },
        "82b7bb03477844ecb26364b12a199982": {
          "model_module": "@jupyter-widgets/base",
          "model_name": "LayoutModel",
          "model_module_version": "1.2.0",
          "state": {
            "_model_module": "@jupyter-widgets/base",
            "_model_module_version": "1.2.0",
            "_model_name": "LayoutModel",
            "_view_count": null,
            "_view_module": "@jupyter-widgets/base",
            "_view_module_version": "1.2.0",
            "_view_name": "LayoutView",
            "align_content": null,
            "align_items": null,
            "align_self": null,
            "border": null,
            "bottom": null,
            "display": null,
            "flex": null,
            "flex_flow": null,
            "grid_area": null,
            "grid_auto_columns": null,
            "grid_auto_flow": null,
            "grid_auto_rows": null,
            "grid_column": null,
            "grid_gap": null,
            "grid_row": null,
            "grid_template_areas": null,
            "grid_template_columns": null,
            "grid_template_rows": null,
            "height": null,
            "justify_content": null,
            "justify_items": null,
            "left": null,
            "margin": null,
            "max_height": null,
            "max_width": null,
            "min_height": null,
            "min_width": null,
            "object_fit": null,
            "object_position": null,
            "order": null,
            "overflow": null,
            "overflow_x": null,
            "overflow_y": null,
            "padding": null,
            "right": null,
            "top": null,
            "visibility": null,
            "width": null
          }
        },
        "b407442571bc4e8db620fab7765c4d0c": {
          "model_module": "@jupyter-widgets/controls",
          "model_name": "DescriptionStyleModel",
          "model_module_version": "1.5.0",
          "state": {
            "_model_module": "@jupyter-widgets/controls",
            "_model_module_version": "1.5.0",
            "_model_name": "DescriptionStyleModel",
            "_view_count": null,
            "_view_module": "@jupyter-widgets/base",
            "_view_module_version": "1.2.0",
            "_view_name": "StyleView",
            "description_width": ""
          }
        },
        "f1b2d28750b54757b29a1e0cc9befafa": {
          "model_module": "@jupyter-widgets/base",
          "model_name": "LayoutModel",
          "model_module_version": "1.2.0",
          "state": {
            "_model_module": "@jupyter-widgets/base",
            "_model_module_version": "1.2.0",
            "_model_name": "LayoutModel",
            "_view_count": null,
            "_view_module": "@jupyter-widgets/base",
            "_view_module_version": "1.2.0",
            "_view_name": "LayoutView",
            "align_content": null,
            "align_items": null,
            "align_self": null,
            "border": null,
            "bottom": null,
            "display": null,
            "flex": null,
            "flex_flow": null,
            "grid_area": null,
            "grid_auto_columns": null,
            "grid_auto_flow": null,
            "grid_auto_rows": null,
            "grid_column": null,
            "grid_gap": null,
            "grid_row": null,
            "grid_template_areas": null,
            "grid_template_columns": null,
            "grid_template_rows": null,
            "height": null,
            "justify_content": null,
            "justify_items": null,
            "left": null,
            "margin": null,
            "max_height": null,
            "max_width": null,
            "min_height": null,
            "min_width": null,
            "object_fit": null,
            "object_position": null,
            "order": null,
            "overflow": null,
            "overflow_x": null,
            "overflow_y": null,
            "padding": null,
            "right": null,
            "top": null,
            "visibility": null,
            "width": null
          }
        },
        "1177420db68440178457af7a840eec4f": {
          "model_module": "@jupyter-widgets/controls",
          "model_name": "ProgressStyleModel",
          "model_module_version": "1.5.0",
          "state": {
            "_model_module": "@jupyter-widgets/controls",
            "_model_module_version": "1.5.0",
            "_model_name": "ProgressStyleModel",
            "_view_count": null,
            "_view_module": "@jupyter-widgets/base",
            "_view_module_version": "1.2.0",
            "_view_name": "StyleView",
            "bar_color": null,
            "description_width": ""
          }
        },
        "983f2e195a8843a29fa694dadba1aca8": {
          "model_module": "@jupyter-widgets/base",
          "model_name": "LayoutModel",
          "model_module_version": "1.2.0",
          "state": {
            "_model_module": "@jupyter-widgets/base",
            "_model_module_version": "1.2.0",
            "_model_name": "LayoutModel",
            "_view_count": null,
            "_view_module": "@jupyter-widgets/base",
            "_view_module_version": "1.2.0",
            "_view_name": "LayoutView",
            "align_content": null,
            "align_items": null,
            "align_self": null,
            "border": null,
            "bottom": null,
            "display": null,
            "flex": null,
            "flex_flow": null,
            "grid_area": null,
            "grid_auto_columns": null,
            "grid_auto_flow": null,
            "grid_auto_rows": null,
            "grid_column": null,
            "grid_gap": null,
            "grid_row": null,
            "grid_template_areas": null,
            "grid_template_columns": null,
            "grid_template_rows": null,
            "height": null,
            "justify_content": null,
            "justify_items": null,
            "left": null,
            "margin": null,
            "max_height": null,
            "max_width": null,
            "min_height": null,
            "min_width": null,
            "object_fit": null,
            "object_position": null,
            "order": null,
            "overflow": null,
            "overflow_x": null,
            "overflow_y": null,
            "padding": null,
            "right": null,
            "top": null,
            "visibility": null,
            "width": null
          }
        },
        "80883e8b2034486e92922d492aa7a0a8": {
          "model_module": "@jupyter-widgets/controls",
          "model_name": "DescriptionStyleModel",
          "model_module_version": "1.5.0",
          "state": {
            "_model_module": "@jupyter-widgets/controls",
            "_model_module_version": "1.5.0",
            "_model_name": "DescriptionStyleModel",
            "_view_count": null,
            "_view_module": "@jupyter-widgets/base",
            "_view_module_version": "1.2.0",
            "_view_name": "StyleView",
            "description_width": ""
          }
        },
        "0316476b7da748e1879846bfdc1f156a": {
          "model_module": "@jupyter-widgets/controls",
          "model_name": "HBoxModel",
          "model_module_version": "1.5.0",
          "state": {
            "_dom_classes": [],
            "_model_module": "@jupyter-widgets/controls",
            "_model_module_version": "1.5.0",
            "_model_name": "HBoxModel",
            "_view_count": null,
            "_view_module": "@jupyter-widgets/controls",
            "_view_module_version": "1.5.0",
            "_view_name": "HBoxView",
            "box_style": "",
            "children": [
              "IPY_MODEL_fb46346ae83c49699e71c7642e1bb2ac",
              "IPY_MODEL_9bd4e45f7f1f462c999e82cf2512efe3",
              "IPY_MODEL_19a1ed03df504c26a135a91adeefecd6"
            ],
            "layout": "IPY_MODEL_399c7ec582ad4cb4ae6d39e302698fd4"
          }
        },
        "fb46346ae83c49699e71c7642e1bb2ac": {
          "model_module": "@jupyter-widgets/controls",
          "model_name": "HTMLModel",
          "model_module_version": "1.5.0",
          "state": {
            "_dom_classes": [],
            "_model_module": "@jupyter-widgets/controls",
            "_model_module_version": "1.5.0",
            "_model_name": "HTMLModel",
            "_view_count": null,
            "_view_module": "@jupyter-widgets/controls",
            "_view_module_version": "1.5.0",
            "_view_name": "HTMLView",
            "description": "",
            "description_tooltip": null,
            "layout": "IPY_MODEL_c534592bf8524a4fa148fa18cf86c0b0",
            "placeholder": "​",
            "style": "IPY_MODEL_a8cb6fc7286a476ca2fc5fef5dff490b",
            "value": "  0%"
          }
        },
        "9bd4e45f7f1f462c999e82cf2512efe3": {
          "model_module": "@jupyter-widgets/controls",
          "model_name": "FloatProgressModel",
          "model_module_version": "1.5.0",
          "state": {
            "_dom_classes": [],
            "_model_module": "@jupyter-widgets/controls",
            "_model_module_version": "1.5.0",
            "_model_name": "FloatProgressModel",
            "_view_count": null,
            "_view_module": "@jupyter-widgets/controls",
            "_view_module_version": "1.5.0",
            "_view_name": "ProgressView",
            "bar_style": "danger",
            "description": "",
            "description_tooltip": null,
            "layout": "IPY_MODEL_c6c13ff81d134101b4b0ad66e27e1b5e",
            "max": 1,
            "min": 0,
            "orientation": "horizontal",
            "style": "IPY_MODEL_6dce92b9d0fc47dabb3cc25facdb5d1c",
            "value": 0
          }
        },
        "19a1ed03df504c26a135a91adeefecd6": {
          "model_module": "@jupyter-widgets/controls",
          "model_name": "HTMLModel",
          "model_module_version": "1.5.0",
          "state": {
            "_dom_classes": [],
            "_model_module": "@jupyter-widgets/controls",
            "_model_module_version": "1.5.0",
            "_model_name": "HTMLModel",
            "_view_count": null,
            "_view_module": "@jupyter-widgets/controls",
            "_view_module_version": "1.5.0",
            "_view_name": "HTMLView",
            "description": "",
            "description_tooltip": null,
            "layout": "IPY_MODEL_00b6530a715d4f7da6a2f7fb3353b871",
            "placeholder": "​",
            "style": "IPY_MODEL_ae98a36cf52e4afe95b3cbc2b0caed88",
            "value": " 0/1 [00:00&lt;?, ?it/s]"
          }
        },
        "399c7ec582ad4cb4ae6d39e302698fd4": {
          "model_module": "@jupyter-widgets/base",
          "model_name": "LayoutModel",
          "model_module_version": "1.2.0",
          "state": {
            "_model_module": "@jupyter-widgets/base",
            "_model_module_version": "1.2.0",
            "_model_name": "LayoutModel",
            "_view_count": null,
            "_view_module": "@jupyter-widgets/base",
            "_view_module_version": "1.2.0",
            "_view_name": "LayoutView",
            "align_content": null,
            "align_items": null,
            "align_self": null,
            "border": null,
            "bottom": null,
            "display": null,
            "flex": null,
            "flex_flow": null,
            "grid_area": null,
            "grid_auto_columns": null,
            "grid_auto_flow": null,
            "grid_auto_rows": null,
            "grid_column": null,
            "grid_gap": null,
            "grid_row": null,
            "grid_template_areas": null,
            "grid_template_columns": null,
            "grid_template_rows": null,
            "height": null,
            "justify_content": null,
            "justify_items": null,
            "left": null,
            "margin": null,
            "max_height": null,
            "max_width": null,
            "min_height": null,
            "min_width": null,
            "object_fit": null,
            "object_position": null,
            "order": null,
            "overflow": null,
            "overflow_x": null,
            "overflow_y": null,
            "padding": null,
            "right": null,
            "top": null,
            "visibility": null,
            "width": null
          }
        },
        "c534592bf8524a4fa148fa18cf86c0b0": {
          "model_module": "@jupyter-widgets/base",
          "model_name": "LayoutModel",
          "model_module_version": "1.2.0",
          "state": {
            "_model_module": "@jupyter-widgets/base",
            "_model_module_version": "1.2.0",
            "_model_name": "LayoutModel",
            "_view_count": null,
            "_view_module": "@jupyter-widgets/base",
            "_view_module_version": "1.2.0",
            "_view_name": "LayoutView",
            "align_content": null,
            "align_items": null,
            "align_self": null,
            "border": null,
            "bottom": null,
            "display": null,
            "flex": null,
            "flex_flow": null,
            "grid_area": null,
            "grid_auto_columns": null,
            "grid_auto_flow": null,
            "grid_auto_rows": null,
            "grid_column": null,
            "grid_gap": null,
            "grid_row": null,
            "grid_template_areas": null,
            "grid_template_columns": null,
            "grid_template_rows": null,
            "height": null,
            "justify_content": null,
            "justify_items": null,
            "left": null,
            "margin": null,
            "max_height": null,
            "max_width": null,
            "min_height": null,
            "min_width": null,
            "object_fit": null,
            "object_position": null,
            "order": null,
            "overflow": null,
            "overflow_x": null,
            "overflow_y": null,
            "padding": null,
            "right": null,
            "top": null,
            "visibility": null,
            "width": null
          }
        },
        "a8cb6fc7286a476ca2fc5fef5dff490b": {
          "model_module": "@jupyter-widgets/controls",
          "model_name": "DescriptionStyleModel",
          "model_module_version": "1.5.0",
          "state": {
            "_model_module": "@jupyter-widgets/controls",
            "_model_module_version": "1.5.0",
            "_model_name": "DescriptionStyleModel",
            "_view_count": null,
            "_view_module": "@jupyter-widgets/base",
            "_view_module_version": "1.2.0",
            "_view_name": "StyleView",
            "description_width": ""
          }
        },
        "c6c13ff81d134101b4b0ad66e27e1b5e": {
          "model_module": "@jupyter-widgets/base",
          "model_name": "LayoutModel",
          "model_module_version": "1.2.0",
          "state": {
            "_model_module": "@jupyter-widgets/base",
            "_model_module_version": "1.2.0",
            "_model_name": "LayoutModel",
            "_view_count": null,
            "_view_module": "@jupyter-widgets/base",
            "_view_module_version": "1.2.0",
            "_view_name": "LayoutView",
            "align_content": null,
            "align_items": null,
            "align_self": null,
            "border": null,
            "bottom": null,
            "display": null,
            "flex": null,
            "flex_flow": null,
            "grid_area": null,
            "grid_auto_columns": null,
            "grid_auto_flow": null,
            "grid_auto_rows": null,
            "grid_column": null,
            "grid_gap": null,
            "grid_row": null,
            "grid_template_areas": null,
            "grid_template_columns": null,
            "grid_template_rows": null,
            "height": null,
            "justify_content": null,
            "justify_items": null,
            "left": null,
            "margin": null,
            "max_height": null,
            "max_width": null,
            "min_height": null,
            "min_width": null,
            "object_fit": null,
            "object_position": null,
            "order": null,
            "overflow": null,
            "overflow_x": null,
            "overflow_y": null,
            "padding": null,
            "right": null,
            "top": null,
            "visibility": null,
            "width": null
          }
        },
        "6dce92b9d0fc47dabb3cc25facdb5d1c": {
          "model_module": "@jupyter-widgets/controls",
          "model_name": "ProgressStyleModel",
          "model_module_version": "1.5.0",
          "state": {
            "_model_module": "@jupyter-widgets/controls",
            "_model_module_version": "1.5.0",
            "_model_name": "ProgressStyleModel",
            "_view_count": null,
            "_view_module": "@jupyter-widgets/base",
            "_view_module_version": "1.2.0",
            "_view_name": "StyleView",
            "bar_color": null,
            "description_width": ""
          }
        },
        "00b6530a715d4f7da6a2f7fb3353b871": {
          "model_module": "@jupyter-widgets/base",
          "model_name": "LayoutModel",
          "model_module_version": "1.2.0",
          "state": {
            "_model_module": "@jupyter-widgets/base",
            "_model_module_version": "1.2.0",
            "_model_name": "LayoutModel",
            "_view_count": null,
            "_view_module": "@jupyter-widgets/base",
            "_view_module_version": "1.2.0",
            "_view_name": "LayoutView",
            "align_content": null,
            "align_items": null,
            "align_self": null,
            "border": null,
            "bottom": null,
            "display": null,
            "flex": null,
            "flex_flow": null,
            "grid_area": null,
            "grid_auto_columns": null,
            "grid_auto_flow": null,
            "grid_auto_rows": null,
            "grid_column": null,
            "grid_gap": null,
            "grid_row": null,
            "grid_template_areas": null,
            "grid_template_columns": null,
            "grid_template_rows": null,
            "height": null,
            "justify_content": null,
            "justify_items": null,
            "left": null,
            "margin": null,
            "max_height": null,
            "max_width": null,
            "min_height": null,
            "min_width": null,
            "object_fit": null,
            "object_position": null,
            "order": null,
            "overflow": null,
            "overflow_x": null,
            "overflow_y": null,
            "padding": null,
            "right": null,
            "top": null,
            "visibility": null,
            "width": null
          }
        },
        "ae98a36cf52e4afe95b3cbc2b0caed88": {
          "model_module": "@jupyter-widgets/controls",
          "model_name": "DescriptionStyleModel",
          "model_module_version": "1.5.0",
          "state": {
            "_model_module": "@jupyter-widgets/controls",
            "_model_module_version": "1.5.0",
            "_model_name": "DescriptionStyleModel",
            "_view_count": null,
            "_view_module": "@jupyter-widgets/base",
            "_view_module_version": "1.2.0",
            "_view_name": "StyleView",
            "description_width": ""
          }
        }
      }
    }
  },
  "cells": [
    {
      "cell_type": "markdown",
      "source": [
        "# 환경 설정 & KoBERT 설치\n",
        "- https://github.com/ChangZero/koBERT-finetuning-demo/blob/main/kobert_colab.ipynb"
      ],
      "metadata": {
        "id": "JQSEH5XXZtN5"
      }
    },
    {
      "cell_type": "code",
      "source": [
        "# wandb 설치\n",
        "!pip install wandb"
      ],
      "metadata": {
        "id": "CVTaRu61VP2Z",
        "colab": {
          "base_uri": "https://localhost:8080/"
        },
        "outputId": "f16b2316-193f-4220-cc6c-2c91fb1ce955"
      },
      "execution_count": 4,
      "outputs": [
        {
          "output_type": "stream",
          "name": "stdout",
          "text": [
            "Requirement already satisfied: wandb in /usr/local/lib/python3.10/dist-packages (0.15.10)\n",
            "Requirement already satisfied: Click!=8.0.0,>=7.1 in /usr/local/lib/python3.10/dist-packages (from wandb) (8.1.7)\n",
            "Requirement already satisfied: GitPython!=3.1.29,>=1.0.0 in /usr/local/lib/python3.10/dist-packages (from wandb) (3.1.36)\n",
            "Requirement already satisfied: requests<3,>=2.0.0 in /usr/local/lib/python3.10/dist-packages (from wandb) (2.31.0)\n",
            "Requirement already satisfied: psutil>=5.0.0 in /usr/local/lib/python3.10/dist-packages (from wandb) (5.9.5)\n",
            "Requirement already satisfied: sentry-sdk>=1.0.0 in /usr/local/lib/python3.10/dist-packages (from wandb) (1.31.0)\n",
            "Requirement already satisfied: docker-pycreds>=0.4.0 in /usr/local/lib/python3.10/dist-packages (from wandb) (0.4.0)\n",
            "Requirement already satisfied: PyYAML in /usr/local/lib/python3.10/dist-packages (from wandb) (6.0.1)\n",
            "Requirement already satisfied: pathtools in /usr/local/lib/python3.10/dist-packages (from wandb) (0.1.2)\n",
            "Requirement already satisfied: setproctitle in /usr/local/lib/python3.10/dist-packages (from wandb) (1.3.2)\n",
            "Requirement already satisfied: setuptools in /usr/local/lib/python3.10/dist-packages (from wandb) (67.7.2)\n",
            "Requirement already satisfied: appdirs>=1.4.3 in /usr/local/lib/python3.10/dist-packages (from wandb) (1.4.4)\n",
            "Requirement already satisfied: protobuf!=4.21.0,<5,>=3.19.0 in /usr/local/lib/python3.10/dist-packages (from wandb) (3.20.3)\n",
            "Requirement already satisfied: six>=1.4.0 in /usr/local/lib/python3.10/dist-packages (from docker-pycreds>=0.4.0->wandb) (1.16.0)\n",
            "Requirement already satisfied: gitdb<5,>=4.0.1 in /usr/local/lib/python3.10/dist-packages (from GitPython!=3.1.29,>=1.0.0->wandb) (4.0.10)\n",
            "Requirement already satisfied: charset-normalizer<4,>=2 in /usr/local/lib/python3.10/dist-packages (from requests<3,>=2.0.0->wandb) (3.2.0)\n",
            "Requirement already satisfied: idna<4,>=2.5 in /usr/local/lib/python3.10/dist-packages (from requests<3,>=2.0.0->wandb) (3.4)\n",
            "Requirement already satisfied: urllib3<3,>=1.21.1 in /usr/local/lib/python3.10/dist-packages (from requests<3,>=2.0.0->wandb) (2.0.4)\n",
            "Requirement already satisfied: certifi>=2017.4.17 in /usr/local/lib/python3.10/dist-packages (from requests<3,>=2.0.0->wandb) (2023.7.22)\n",
            "Requirement already satisfied: smmap<6,>=3.0.1 in /usr/local/lib/python3.10/dist-packages (from gitdb<5,>=4.0.1->GitPython!=3.1.29,>=1.0.0->wandb) (5.0.0)\n"
          ]
        }
      ]
    },
    {
      "cell_type": "code",
      "source": [
        "# # install and restart\n",
        "# !pip install mxnet\n",
        "# !pip install gluonnlp==0.8.0\n",
        "# !pip install tqdm pandas\n",
        "# !pip install sentencepiece\n",
        "# !pip install transformers\n",
        "# !pip install torch>=1.8.1\n",
        "# !pip install transformers\n",
        "# !pip install wandb # wandb 설치\n",
        "\n",
        "# !pip install 'git+https://github.com/SKTBrain/KoBERT.git#egg=kobert_tokenizer&subdirectory=kobert_hf'"
      ],
      "metadata": {
        "id": "6GF8eBGIAt9l"
      },
      "execution_count": 5,
      "outputs": []
    },
    {
      "cell_type": "code",
      "source": [
        "import gluonnlp as nlp\n",
        "from transformers import BertModel\n",
        "from kobert_tokenizer import KoBERTTokenizer\n",
        "from transformers import AdamW\n",
        "from transformers.optimization import get_cosine_schedule_with_warmup\n",
        "from transformers import AutoTokenizer, AutoModelForSequenceClassification\n",
        "from sklearn.model_selection import train_test_split\n",
        "from sklearn.metrics import confusion_matrix\n",
        "from mlxtend.plotting import plot_confusion_matrix\n",
        "import seaborn as sns\n",
        "import torch\n",
        "from torch import nn\n",
        "import torch.nn.functional as F\n",
        "import torch.optim as optim\n",
        "from torch.utils.data import Dataset, DataLoader\n",
        "import numpy as np\n",
        "from tqdm.notebook import tqdm\n",
        "import matplotlib.pyplot as plt\n",
        "import datetime\n",
        "import wandb\n",
        "import time"
      ],
      "metadata": {
        "id": "X0l4AioBe8mE"
      },
      "execution_count": 6,
      "outputs": []
    },
    {
      "cell_type": "code",
      "source": [
        "# torch GPU 설정\n",
        "device_type = 'cuda' if torch.cuda.is_available() else 'cpu'\n",
        "device = torch.device(device_type)\n",
        "device"
      ],
      "metadata": {
        "id": "4oaInDcCfUyQ",
        "colab": {
          "base_uri": "https://localhost:8080/"
        },
        "outputId": "cdd82d9e-6d95-41fa-883d-9454dbd51139"
      },
      "execution_count": 7,
      "outputs": [
        {
          "output_type": "execute_result",
          "data": {
            "text/plain": [
              "device(type='cuda')"
            ]
          },
          "metadata": {},
          "execution_count": 7
        }
      ]
    },
    {
      "cell_type": "markdown",
      "source": [
        "# git clone data"
      ],
      "metadata": {
        "id": "77GtjYo0CaIF"
      }
    },
    {
      "cell_type": "code",
      "execution_count": 8,
      "metadata": {
        "colab": {
          "base_uri": "https://localhost:8080/"
        },
        "id": "OuJ_x24Q9Kx1",
        "outputId": "8fb9f7d1-3bd0-404b-cff0-129bc2dca40e"
      },
      "outputs": [
        {
          "output_type": "stream",
          "name": "stdout",
          "text": [
            "fatal: destination path 'CJ_AI_hackathon' already exists and is not an empty directory.\n"
          ]
        }
      ],
      "source": [
        "!git clone https://github.com/huijunam/CJ_AI_hackathon.git"
      ]
    },
    {
      "cell_type": "code",
      "source": [
        "import pandas as pd\n",
        "df_data = pd.read_csv('/content/CJ_AI_hackathon/data/final_dataset.csv')"
      ],
      "metadata": {
        "id": "1Qkm1xC9uM1O"
      },
      "execution_count": 9,
      "outputs": []
    },
    {
      "cell_type": "code",
      "source": [
        "df_data"
      ],
      "metadata": {
        "colab": {
          "base_uri": "https://localhost:8080/",
          "height": 424
        },
        "id": "tgqxf8CtuiaC",
        "outputId": "7363fb50-86a7-40d4-c4dc-033f87539a96"
      },
      "execution_count": 10,
      "outputs": [
        {
          "output_type": "execute_result",
          "data": {
            "text/plain": [
              "                                                Sentence Emotion\n",
              "0                               언니 동생으로 부르는게 맞는 일인가요..??      공포\n",
              "1                                           그냥 내 느낌일뿐겠지?      공포\n",
              "2                                         아직너무초기라서 그런거죠?      공포\n",
              "3                                          유치원버스 사고 낫다던데      공포\n",
              "4                                            근데 원래이런거맞나요      공포\n",
              "...                                                  ...     ...\n",
              "90090                                      얘긴 다 끝났냐? 원예부      중립\n",
              "90091                   예. 그거 때문에, 부탁이 있......는......데요.      중립\n",
              "90092                                   여자 숨겨달라는거면 사절이다.      중립\n",
              "90093                                         아무래도 안되나요?      중립\n",
              "90094  그 여자랑 내가 무슨 상관인데? 아까는 탐정님이 부탁하기에 너 구하는 김에 주워왔지...      중립\n",
              "\n",
              "[90095 rows x 2 columns]"
            ],
            "text/html": [
              "\n",
              "  <div id=\"df-c17244c5-f6ce-432d-90ef-1224b46c2110\" class=\"colab-df-container\">\n",
              "    <div>\n",
              "<style scoped>\n",
              "    .dataframe tbody tr th:only-of-type {\n",
              "        vertical-align: middle;\n",
              "    }\n",
              "\n",
              "    .dataframe tbody tr th {\n",
              "        vertical-align: top;\n",
              "    }\n",
              "\n",
              "    .dataframe thead th {\n",
              "        text-align: right;\n",
              "    }\n",
              "</style>\n",
              "<table border=\"1\" class=\"dataframe\">\n",
              "  <thead>\n",
              "    <tr style=\"text-align: right;\">\n",
              "      <th></th>\n",
              "      <th>Sentence</th>\n",
              "      <th>Emotion</th>\n",
              "    </tr>\n",
              "  </thead>\n",
              "  <tbody>\n",
              "    <tr>\n",
              "      <th>0</th>\n",
              "      <td>언니 동생으로 부르는게 맞는 일인가요..??</td>\n",
              "      <td>공포</td>\n",
              "    </tr>\n",
              "    <tr>\n",
              "      <th>1</th>\n",
              "      <td>그냥 내 느낌일뿐겠지?</td>\n",
              "      <td>공포</td>\n",
              "    </tr>\n",
              "    <tr>\n",
              "      <th>2</th>\n",
              "      <td>아직너무초기라서 그런거죠?</td>\n",
              "      <td>공포</td>\n",
              "    </tr>\n",
              "    <tr>\n",
              "      <th>3</th>\n",
              "      <td>유치원버스 사고 낫다던데</td>\n",
              "      <td>공포</td>\n",
              "    </tr>\n",
              "    <tr>\n",
              "      <th>4</th>\n",
              "      <td>근데 원래이런거맞나요</td>\n",
              "      <td>공포</td>\n",
              "    </tr>\n",
              "    <tr>\n",
              "      <th>...</th>\n",
              "      <td>...</td>\n",
              "      <td>...</td>\n",
              "    </tr>\n",
              "    <tr>\n",
              "      <th>90090</th>\n",
              "      <td>얘긴 다 끝났냐? 원예부</td>\n",
              "      <td>중립</td>\n",
              "    </tr>\n",
              "    <tr>\n",
              "      <th>90091</th>\n",
              "      <td>예. 그거 때문에, 부탁이 있......는......데요.</td>\n",
              "      <td>중립</td>\n",
              "    </tr>\n",
              "    <tr>\n",
              "      <th>90092</th>\n",
              "      <td>여자 숨겨달라는거면 사절이다.</td>\n",
              "      <td>중립</td>\n",
              "    </tr>\n",
              "    <tr>\n",
              "      <th>90093</th>\n",
              "      <td>아무래도 안되나요?</td>\n",
              "      <td>중립</td>\n",
              "    </tr>\n",
              "    <tr>\n",
              "      <th>90094</th>\n",
              "      <td>그 여자랑 내가 무슨 상관인데? 아까는 탐정님이 부탁하기에 너 구하는 김에 주워왔지...</td>\n",
              "      <td>중립</td>\n",
              "    </tr>\n",
              "  </tbody>\n",
              "</table>\n",
              "<p>90095 rows × 2 columns</p>\n",
              "</div>\n",
              "    <div class=\"colab-df-buttons\">\n",
              "\n",
              "  <div class=\"colab-df-container\">\n",
              "    <button class=\"colab-df-convert\" onclick=\"convertToInteractive('df-c17244c5-f6ce-432d-90ef-1224b46c2110')\"\n",
              "            title=\"Convert this dataframe to an interactive table.\"\n",
              "            style=\"display:none;\">\n",
              "\n",
              "  <svg xmlns=\"http://www.w3.org/2000/svg\" height=\"24px\" viewBox=\"0 -960 960 960\">\n",
              "    <path d=\"M120-120v-720h720v720H120Zm60-500h600v-160H180v160Zm220 220h160v-160H400v160Zm0 220h160v-160H400v160ZM180-400h160v-160H180v160Zm440 0h160v-160H620v160ZM180-180h160v-160H180v160Zm440 0h160v-160H620v160Z\"/>\n",
              "  </svg>\n",
              "    </button>\n",
              "\n",
              "  <style>\n",
              "    .colab-df-container {\n",
              "      display:flex;\n",
              "      gap: 12px;\n",
              "    }\n",
              "\n",
              "    .colab-df-convert {\n",
              "      background-color: #E8F0FE;\n",
              "      border: none;\n",
              "      border-radius: 50%;\n",
              "      cursor: pointer;\n",
              "      display: none;\n",
              "      fill: #1967D2;\n",
              "      height: 32px;\n",
              "      padding: 0 0 0 0;\n",
              "      width: 32px;\n",
              "    }\n",
              "\n",
              "    .colab-df-convert:hover {\n",
              "      background-color: #E2EBFA;\n",
              "      box-shadow: 0px 1px 2px rgba(60, 64, 67, 0.3), 0px 1px 3px 1px rgba(60, 64, 67, 0.15);\n",
              "      fill: #174EA6;\n",
              "    }\n",
              "\n",
              "    .colab-df-buttons div {\n",
              "      margin-bottom: 4px;\n",
              "    }\n",
              "\n",
              "    [theme=dark] .colab-df-convert {\n",
              "      background-color: #3B4455;\n",
              "      fill: #D2E3FC;\n",
              "    }\n",
              "\n",
              "    [theme=dark] .colab-df-convert:hover {\n",
              "      background-color: #434B5C;\n",
              "      box-shadow: 0px 1px 3px 1px rgba(0, 0, 0, 0.15);\n",
              "      filter: drop-shadow(0px 1px 2px rgba(0, 0, 0, 0.3));\n",
              "      fill: #FFFFFF;\n",
              "    }\n",
              "  </style>\n",
              "\n",
              "    <script>\n",
              "      const buttonEl =\n",
              "        document.querySelector('#df-c17244c5-f6ce-432d-90ef-1224b46c2110 button.colab-df-convert');\n",
              "      buttonEl.style.display =\n",
              "        google.colab.kernel.accessAllowed ? 'block' : 'none';\n",
              "\n",
              "      async function convertToInteractive(key) {\n",
              "        const element = document.querySelector('#df-c17244c5-f6ce-432d-90ef-1224b46c2110');\n",
              "        const dataTable =\n",
              "          await google.colab.kernel.invokeFunction('convertToInteractive',\n",
              "                                                    [key], {});\n",
              "        if (!dataTable) return;\n",
              "\n",
              "        const docLinkHtml = 'Like what you see? Visit the ' +\n",
              "          '<a target=\"_blank\" href=https://colab.research.google.com/notebooks/data_table.ipynb>data table notebook</a>'\n",
              "          + ' to learn more about interactive tables.';\n",
              "        element.innerHTML = '';\n",
              "        dataTable['output_type'] = 'display_data';\n",
              "        await google.colab.output.renderOutput(dataTable, element);\n",
              "        const docLink = document.createElement('div');\n",
              "        docLink.innerHTML = docLinkHtml;\n",
              "        element.appendChild(docLink);\n",
              "      }\n",
              "    </script>\n",
              "  </div>\n",
              "\n",
              "\n",
              "<div id=\"df-7dbb0117-5cec-4e6c-b884-e88206e7b4eb\">\n",
              "  <button class=\"colab-df-quickchart\" onclick=\"quickchart('df-7dbb0117-5cec-4e6c-b884-e88206e7b4eb')\"\n",
              "            title=\"Suggest charts.\"\n",
              "            style=\"display:none;\">\n",
              "\n",
              "<svg xmlns=\"http://www.w3.org/2000/svg\" height=\"24px\"viewBox=\"0 0 24 24\"\n",
              "     width=\"24px\">\n",
              "    <g>\n",
              "        <path d=\"M19 3H5c-1.1 0-2 .9-2 2v14c0 1.1.9 2 2 2h14c1.1 0 2-.9 2-2V5c0-1.1-.9-2-2-2zM9 17H7v-7h2v7zm4 0h-2V7h2v10zm4 0h-2v-4h2v4z\"/>\n",
              "    </g>\n",
              "</svg>\n",
              "  </button>\n",
              "\n",
              "<style>\n",
              "  .colab-df-quickchart {\n",
              "      --bg-color: #E8F0FE;\n",
              "      --fill-color: #1967D2;\n",
              "      --hover-bg-color: #E2EBFA;\n",
              "      --hover-fill-color: #174EA6;\n",
              "      --disabled-fill-color: #AAA;\n",
              "      --disabled-bg-color: #DDD;\n",
              "  }\n",
              "\n",
              "  [theme=dark] .colab-df-quickchart {\n",
              "      --bg-color: #3B4455;\n",
              "      --fill-color: #D2E3FC;\n",
              "      --hover-bg-color: #434B5C;\n",
              "      --hover-fill-color: #FFFFFF;\n",
              "      --disabled-bg-color: #3B4455;\n",
              "      --disabled-fill-color: #666;\n",
              "  }\n",
              "\n",
              "  .colab-df-quickchart {\n",
              "    background-color: var(--bg-color);\n",
              "    border: none;\n",
              "    border-radius: 50%;\n",
              "    cursor: pointer;\n",
              "    display: none;\n",
              "    fill: var(--fill-color);\n",
              "    height: 32px;\n",
              "    padding: 0;\n",
              "    width: 32px;\n",
              "  }\n",
              "\n",
              "  .colab-df-quickchart:hover {\n",
              "    background-color: var(--hover-bg-color);\n",
              "    box-shadow: 0 1px 2px rgba(60, 64, 67, 0.3), 0 1px 3px 1px rgba(60, 64, 67, 0.15);\n",
              "    fill: var(--button-hover-fill-color);\n",
              "  }\n",
              "\n",
              "  .colab-df-quickchart-complete:disabled,\n",
              "  .colab-df-quickchart-complete:disabled:hover {\n",
              "    background-color: var(--disabled-bg-color);\n",
              "    fill: var(--disabled-fill-color);\n",
              "    box-shadow: none;\n",
              "  }\n",
              "\n",
              "  .colab-df-spinner {\n",
              "    border: 2px solid var(--fill-color);\n",
              "    border-color: transparent;\n",
              "    border-bottom-color: var(--fill-color);\n",
              "    animation:\n",
              "      spin 1s steps(1) infinite;\n",
              "  }\n",
              "\n",
              "  @keyframes spin {\n",
              "    0% {\n",
              "      border-color: transparent;\n",
              "      border-bottom-color: var(--fill-color);\n",
              "      border-left-color: var(--fill-color);\n",
              "    }\n",
              "    20% {\n",
              "      border-color: transparent;\n",
              "      border-left-color: var(--fill-color);\n",
              "      border-top-color: var(--fill-color);\n",
              "    }\n",
              "    30% {\n",
              "      border-color: transparent;\n",
              "      border-left-color: var(--fill-color);\n",
              "      border-top-color: var(--fill-color);\n",
              "      border-right-color: var(--fill-color);\n",
              "    }\n",
              "    40% {\n",
              "      border-color: transparent;\n",
              "      border-right-color: var(--fill-color);\n",
              "      border-top-color: var(--fill-color);\n",
              "    }\n",
              "    60% {\n",
              "      border-color: transparent;\n",
              "      border-right-color: var(--fill-color);\n",
              "    }\n",
              "    80% {\n",
              "      border-color: transparent;\n",
              "      border-right-color: var(--fill-color);\n",
              "      border-bottom-color: var(--fill-color);\n",
              "    }\n",
              "    90% {\n",
              "      border-color: transparent;\n",
              "      border-bottom-color: var(--fill-color);\n",
              "    }\n",
              "  }\n",
              "</style>\n",
              "\n",
              "  <script>\n",
              "    async function quickchart(key) {\n",
              "      const quickchartButtonEl =\n",
              "        document.querySelector('#' + key + ' button');\n",
              "      quickchartButtonEl.disabled = true;  // To prevent multiple clicks.\n",
              "      quickchartButtonEl.classList.add('colab-df-spinner');\n",
              "      try {\n",
              "        const charts = await google.colab.kernel.invokeFunction(\n",
              "            'suggestCharts', [key], {});\n",
              "      } catch (error) {\n",
              "        console.error('Error during call to suggestCharts:', error);\n",
              "      }\n",
              "      quickchartButtonEl.classList.remove('colab-df-spinner');\n",
              "      quickchartButtonEl.classList.add('colab-df-quickchart-complete');\n",
              "    }\n",
              "    (() => {\n",
              "      let quickchartButtonEl =\n",
              "        document.querySelector('#df-7dbb0117-5cec-4e6c-b884-e88206e7b4eb button');\n",
              "      quickchartButtonEl.style.display =\n",
              "        google.colab.kernel.accessAllowed ? 'block' : 'none';\n",
              "    })();\n",
              "  </script>\n",
              "</div>\n",
              "    </div>\n",
              "  </div>\n"
            ]
          },
          "metadata": {},
          "execution_count": 10
        }
      ]
    },
    {
      "cell_type": "code",
      "source": [
        "df_data.info()"
      ],
      "metadata": {
        "colab": {
          "base_uri": "https://localhost:8080/"
        },
        "id": "KhNWs18fUB6K",
        "outputId": "3927a335-2939-4b66-8920-5f91f65e8982"
      },
      "execution_count": 11,
      "outputs": [
        {
          "output_type": "stream",
          "name": "stdout",
          "text": [
            "<class 'pandas.core.frame.DataFrame'>\n",
            "RangeIndex: 90095 entries, 0 to 90094\n",
            "Data columns (total 2 columns):\n",
            " #   Column    Non-Null Count  Dtype \n",
            "---  ------    --------------  ----- \n",
            " 0   Sentence  90095 non-null  object\n",
            " 1   Emotion   90095 non-null  object\n",
            "dtypes: object(2)\n",
            "memory usage: 1.4+ MB\n"
          ]
        }
      ]
    },
    {
      "cell_type": "markdown",
      "source": [
        "# target classes"
      ],
      "metadata": {
        "id": "-jf_si18iv1f"
      }
    },
    {
      "cell_type": "code",
      "source": [
        "target_classes ={\n",
        "    '공포': 0,\n",
        "    '놀람': 1,\n",
        "    '분노': 2,\n",
        "    '슬픔': 3,\n",
        "    '중립': 4,\n",
        "    '행복': 5,\n",
        "    '혐오': 6\n",
        "  }"
      ],
      "metadata": {
        "id": "_6529WA2ivOC"
      },
      "execution_count": 12,
      "outputs": []
    },
    {
      "cell_type": "code",
      "source": [
        "# 레이블링\n",
        "for cls in target_classes:\n",
        "  df_data.loc[(df_data['Emotion'] == cls), 'Emotion'] = target_classes[cls]"
      ],
      "metadata": {
        "id": "TR5k9eVLkSIp"
      },
      "execution_count": 13,
      "outputs": []
    },
    {
      "cell_type": "code",
      "source": [
        "data_list =[]\n",
        "# ['sentence', 'class'] 형태로 변환\n",
        "for q, label in zip(df_data['Sentence'], df_data['Emotion']):\n",
        "  data =[]\n",
        "  data.append(q)\n",
        "  data.append(str(label))\n",
        "\n",
        "  data_list.append(data)"
      ],
      "metadata": {
        "id": "HQPm03Wtk6L_"
      },
      "execution_count": 14,
      "outputs": []
    },
    {
      "cell_type": "code",
      "source": [
        "print(data_list[6000])"
      ],
      "metadata": {
        "colab": {
          "base_uri": "https://localhost:8080/"
        },
        "id": "NhpkGwkelRa3",
        "outputId": "9674e4dd-4078-4c76-d206-16ab61aa95b6"
      },
      "execution_count": 15,
      "outputs": [
        {
          "output_type": "stream",
          "name": "stdout",
          "text": [
            "['36도라고...미쳤다', '1']\n"
          ]
        }
      ]
    },
    {
      "cell_type": "code",
      "source": [
        "model_list =['koBERT','KoELECTRA', 'KcBERT', 'KcELECTRA']"
      ],
      "metadata": {
        "id": "UUwBKWR_eYQ7"
      },
      "execution_count": 16,
      "outputs": []
    },
    {
      "cell_type": "code",
      "source": [
        "# 하이퍼 파라미터 설정\n",
        "max_length = 100\n",
        "batch_size = 64\n",
        "warmup_ratio = 0.1\n",
        "num_epochs = 5\n",
        "max_grad_norm = 1\n",
        "log_interval = 200\n",
        "learning_rate =  5e-5\n",
        "random_seed = 42"
      ],
      "metadata": {
        "id": "_Wlut2b7cnBa"
      },
      "execution_count": 17,
      "outputs": []
    },
    {
      "cell_type": "markdown",
      "source": [
        "# wandb 설정"
      ],
      "metadata": {
        "id": "Lxe4XhatYhAt"
      }
    },
    {
      "cell_type": "code",
      "source": [
        "!wandb login 09b76e2d7910cb85b58be240c8cf088ff601d126"
      ],
      "metadata": {
        "colab": {
          "base_uri": "https://localhost:8080/"
        },
        "id": "FW-Lo1YXVVL_",
        "outputId": "11ab2470-48e2-4472-b2d0-489cc46e91d2"
      },
      "execution_count": 48,
      "outputs": [
        {
          "output_type": "stream",
          "name": "stdout",
          "text": [
            "\u001b[34m\u001b[1mwandb\u001b[0m: Appending key for api.wandb.ai to your netrc file: /root/.netrc\n"
          ]
        }
      ]
    },
    {
      "cell_type": "code",
      "source": [
        "# # config\n",
        "# wandb.config ={\n",
        "#   \"learning_rate\": learning_rate,\n",
        "#   \"epochs\": num_epochs,\n",
        "#   \"batch_size\": batch_size,\n",
        "#   \"seed\": random_seed\n",
        "# }"
      ],
      "metadata": {
        "id": "MLXbUqZu0IrS"
      },
      "execution_count": 24,
      "outputs": []
    },
    {
      "cell_type": "code",
      "source": [
        "# wandb init function\n",
        "def wandb_init(model,max_length=100,\n",
        "               batch_size=64,num_epochs=5,\n",
        "               log_interval=200,learning_rate=5e-5,extra='',random_seed=42):\n",
        "\n",
        "  # config\n",
        "  wandb.config ={\n",
        "    \"learning_rate\": learning_rate,\n",
        "    \"epochs\": num_epochs,\n",
        "    \"batch_size\": batch_size,\n",
        "    \"seed\": random_seed\n",
        "  }\n",
        "  # project: 폴더 이름, entity: team_5g (팀), name: 기록명\n",
        "  test_time = datetime.datetime.now()\n",
        "  extra ='' # 원본 데이터 일 경우\n",
        "  # extra ='drop_data_' # drop data 일 경우\n",
        "  wandb.init(project=\"KoBERT\",name=f\"{model}_epoch_{num_epochs}_{extra}_batch_size_{batch_size}_learning_rate_{learning_rate}/{test_time}\",notes=f\"koBERT-epoch_{num_epochs}-batch_size_{batch_size}-random_seed{random_seed}-learning_rate_{learning_rate}\", entity='team_5g')\n",
        "  # loss 추적\n",
        "  wandb.define_metric('train_loss', summary='min')\n",
        "  wandb.define_metric('val_loss', summary='min')\n",
        "  # accuracy score 추적\n",
        "  wandb.define_metric('train_accuracy', summary='max')\n",
        "  wandb.define_metric('val_accuracy', summary='max')\n"
      ],
      "metadata": {
        "id": "ADfsOpJSdjcL"
      },
      "execution_count": 19,
      "outputs": []
    },
    {
      "cell_type": "code",
      "source": [
        "# # project: 폴더 이름, entity: team_5g (팀), name: 기록명\n",
        "# test_time = datetime.datetime.now()\n",
        "# extra ='' # 원본 데이터 일 경우\n",
        "# # extra ='drop_data_' # drop data 일 경우\n",
        "# wandb.init(project=\"KoBERT\",name=f\"{model}_epoch_{num_epochs}_{extra}batch_size_{batch_size}_learning_rate_{learning_rate}/{test_time}\",notes=f\"koBERT-epoch_{num_epochs}-batch_size_{batch_size}-random_seed{random_seed}-learning_rate_{learning_rate}\", entity='team_5g')\n",
        "# # loss 추적\n",
        "# wandb.define_metric('train_loss', summary='min')\n",
        "# wandb.define_metric('val_loss', summary='min')\n",
        "# # accuracy score 추적\n",
        "# wandb.define_metric('train_accuracy', summary='max')\n",
        "# wandb.define_metric('val_accuracy', summary='max')"
      ],
      "metadata": {
        "id": "0nztricOV46y"
      },
      "execution_count": 26,
      "outputs": []
    },
    {
      "cell_type": "code",
      "source": [
        "# BERTSentenceTransform 수정\n",
        "class BERTSentenceTransform:\n",
        "    r\"\"\"BERT style data transformation.\n",
        "\n",
        "    Parameters\n",
        "    ----------\n",
        "    tokenizer : BERTTokenizer.\n",
        "        Tokenizer for the sentences.\n",
        "    max_seq_length : int.\n",
        "        Maximum sequence length of the sentences.\n",
        "    pad : bool, default True\n",
        "        Whether to pad the sentences to maximum length.\n",
        "    pair : bool, default True\n",
        "        Whether to transform sentences or sentence pairs.\n",
        "    \"\"\"\n",
        "\n",
        "    def __init__(self, tokenizer, max_seq_length, vocab, pad=True, pair=True):\n",
        "        self._tokenizer = tokenizer\n",
        "        self._max_seq_length = max_seq_length\n",
        "        self._pad = pad\n",
        "        self._pair = pair\n",
        "        self._vocab = vocab\n",
        "\n",
        "    def __call__(self, line):\n",
        "        \"\"\"Perform transformation for sequence pairs or single sequences.\n",
        "\n",
        "        The transformation is processed in the following steps:\n",
        "        - tokenize the input sequences\n",
        "        - insert [CLS], [SEP] as necessary\n",
        "        - generate type ids to indicate whether a token belongs to the first\n",
        "        sequence or the second sequence.\n",
        "        - generate valid length\n",
        "\n",
        "        For sequence pairs, the input is a tuple of 2 strings:\n",
        "        text_a, text_b.\n",
        "\n",
        "        Inputs:\n",
        "            text_a: 'is this jacksonville ?'\n",
        "            text_b: 'no it is not'\n",
        "        Tokenization:\n",
        "            text_a: 'is this jack ##son ##ville ?'\n",
        "            text_b: 'no it is not .'\n",
        "        Processed:\n",
        "            tokens: '[CLS] is this jack ##son ##ville ? [SEP] no it is not . [SEP]'\n",
        "            type_ids: 0     0  0    0    0     0       0 0     1  1  1  1   1 1\n",
        "            valid_length: 14\n",
        "\n",
        "        For single sequences, the input is a tuple of single string:\n",
        "        text_a.\n",
        "\n",
        "        Inputs:\n",
        "            text_a: 'the dog is hairy .'\n",
        "        Tokenization:\n",
        "            text_a: 'the dog is hairy .'\n",
        "        Processed:\n",
        "            text_a: '[CLS] the dog is hairy . [SEP]'\n",
        "            type_ids: 0     0   0   0  0     0 0\n",
        "            valid_length: 7\n",
        "\n",
        "        Parameters\n",
        "        ----------\n",
        "        line: tuple of str\n",
        "            Input strings. For sequence pairs, the input is a tuple of 2 strings:\n",
        "            (text_a, text_b). For single sequences, the input is a tuple of single\n",
        "            string: (text_a,).\n",
        "\n",
        "        Returns\n",
        "        -------\n",
        "        np.array: input token ids in 'int32', shape (batch_size, seq_length)\n",
        "        np.array: valid length in 'int32', shape (batch_size,)\n",
        "        np.array: input token type ids in 'int32', shape (batch_size, seq_length)\n",
        "\n",
        "        \"\"\"\n",
        "\n",
        "        # convert to unicode\n",
        "        text_a = line[0]\n",
        "        if self._pair:\n",
        "            assert len(line) == 2\n",
        "            text_b = line[1]\n",
        "\n",
        "        tokens_a = self._tokenizer.tokenize(text_a) # 수정한 부분\n",
        "        tokens_b = None\n",
        "\n",
        "        if self._pair:\n",
        "            tokens_b = self._tokenizer(text_b)\n",
        "\n",
        "        if tokens_b:\n",
        "            # Modifies `tokens_a` and `tokens_b` in place so that the total\n",
        "            # length is less than the specified length.\n",
        "            # Account for [CLS], [SEP], [SEP] with \"- 3\"\n",
        "            self._truncate_seq_pair(tokens_a, tokens_b,\n",
        "                                    self._max_seq_length - 3)\n",
        "        else:\n",
        "            # Account for [CLS] and [SEP] with \"- 2\"\n",
        "            if len(tokens_a) > self._max_seq_length - 2:\n",
        "                tokens_a = tokens_a[0:(self._max_seq_length - 2)]\n",
        "\n",
        "        # The embedding vectors for `type=0` and `type=1` were learned during\n",
        "        # pre-training and are added to the wordpiece embedding vector\n",
        "        # (and position vector). This is not *strictly* necessary since\n",
        "        # the [SEP] token unambiguously separates the sequences, but it makes\n",
        "        # it easier for the model to learn the concept of sequences.\n",
        "\n",
        "        # For classification tasks, the first vector (corresponding to [CLS]) is\n",
        "        # used as as the \"sentence vector\". Note that this only makes sense because\n",
        "        # the entire model is fine-tuned.\n",
        "        #vocab = self._tokenizer.vocab\n",
        "        vocab = self._vocab\n",
        "        tokens = []\n",
        "        tokens.append(vocab.cls_token)\n",
        "        tokens.extend(tokens_a)\n",
        "        tokens.append(vocab.sep_token)\n",
        "        segment_ids = [0] * len(tokens)\n",
        "\n",
        "        if tokens_b:\n",
        "            tokens.extend(tokens_b)\n",
        "            tokens.append(vocab.sep_token)\n",
        "            segment_ids.extend([1] * (len(tokens) - len(segment_ids)))\n",
        "\n",
        "        input_ids = self._tokenizer.convert_tokens_to_ids(tokens)\n",
        "\n",
        "        # The valid length of sentences. Only real  tokens are attended to.\n",
        "        valid_length = len(input_ids)\n",
        "\n",
        "        if self._pad:\n",
        "            # Zero-pad up to the sequence length.\n",
        "            padding_length = self._max_seq_length - valid_length\n",
        "            # use padding tokens for the rest\n",
        "            input_ids.extend([vocab[vocab.padding_token]] * padding_length)\n",
        "            segment_ids.extend([0] * padding_length)\n",
        "\n",
        "        return np.array(input_ids, dtype='int32'), np.array(valid_length, dtype='int32'),\\\n",
        "            np.array(segment_ids, dtype='int32')"
      ],
      "metadata": {
        "id": "vjbRoilfcZ82"
      },
      "execution_count": 25,
      "outputs": []
    },
    {
      "cell_type": "code",
      "source": [
        "class BERTDataset(Dataset):\n",
        "    def __init__(self, dataset, sent_idx, label_idx, bert_tokenizer, vocab, max_len,\n",
        "                 pad, pair):\n",
        "        transform = BERTSentenceTransform(bert_tokenizer, max_seq_length=max_len,vocab=vocab, pad=pad, pair=pair)\n",
        "        #transform = nlp.data.BERTSentenceTransform(\n",
        "        #    tokenizer, max_seq_length=max_len, pad=pad, pair=pair)\n",
        "        self.sentences = [transform([i[sent_idx]]) for i in dataset]\n",
        "        self.labels = [np.int32(i[label_idx]) for i in dataset]\n",
        "\n",
        "    def __getitem__(self, i):\n",
        "        return (self.sentences[i] + (self.labels[i], ))\n",
        "\n",
        "    def __len__(self):\n",
        "        return (len(self.labels))"
      ],
      "metadata": {
        "id": "Kqgyz-hicjxF"
      },
      "execution_count": 26,
      "outputs": []
    },
    {
      "cell_type": "code",
      "source": [
        "# kobert 공식 git에 있는 get_kobert_model 선언\n",
        "def get_kobert_model(model_path, ctx=device):\n",
        "    tokenizer = KoBERTTokenizer.from_pretrained(model_path)\n",
        "    bertmodel = BertModel.from_pretrained(model_path)\n",
        "    device = torch.device(ctx)\n",
        "    bertmodel.to(device)\n",
        "    bertmodel.eval()\n",
        "    vocab_b_obj = nlp.vocab.BERTVocab.from_sentencepiece(tokenizer.vocab_file,\n",
        "                                                         padding_token='[PAD]')\n",
        "    return bertmodel, vocab_b_obj, tokenizer"
      ],
      "metadata": {
        "id": "XgfxhQDWct5n"
      },
      "execution_count": 27,
      "outputs": []
    },
    {
      "cell_type": "code",
      "source": [
        "bertmodel, vocab, tokenizer = get_kobert_model('skt/kobert-base-v1')\n",
        "# tok = nlp.data.BERTSPTokenizer(tokenizer, vocab, lower = False)"
      ],
      "metadata": {
        "id": "E_W4zHl3cxLx",
        "colab": {
          "base_uri": "https://localhost:8080/"
        },
        "outputId": "26303eba-e028-4fa2-8472-ded8673ea6e3"
      },
      "execution_count": 28,
      "outputs": [
        {
          "output_type": "stream",
          "name": "stderr",
          "text": [
            "The tokenizer class you load from this checkpoint is not the same type as the class this function is called from. It may result in unexpected tokenization. \n",
            "The tokenizer class you load from this checkpoint is 'XLNetTokenizer'. \n",
            "The class this function is called from is 'KoBERTTokenizer'.\n"
          ]
        }
      ]
    },
    {
      "cell_type": "code",
      "source": [
        "train_list, test_list = train_test_split(data_list, test_size = 0.2, shuffle = True, random_state = random_seed)"
      ],
      "metadata": {
        "id": "ndgf067EdEGX"
      },
      "execution_count": 29,
      "outputs": []
    },
    {
      "cell_type": "code",
      "source": [
        "data_train = BERTDataset(train_list, 0, 1, tokenizer, vocab, max_length, True, False)\n",
        "data_test = BERTDataset(test_list, 0, 1, tokenizer, vocab, max_length, True, False)"
      ],
      "metadata": {
        "id": "Aq2O4O4gc0kH"
      },
      "execution_count": 30,
      "outputs": []
    },
    {
      "cell_type": "code",
      "source": [
        "data_train[0] # 토큰화와 패딩 확인"
      ],
      "metadata": {
        "colab": {
          "base_uri": "https://localhost:8080/"
        },
        "id": "ESl0Wkj7uJrf",
        "outputId": "72e68581-a7d7-4281-9a7d-bb7f586d0443"
      },
      "execution_count": 31,
      "outputs": [
        {
          "output_type": "execute_result",
          "data": {
            "text/plain": [
              "(array([   2, 2926, 7670, 6122, 7523,  680,  329,  329,  835,  202,    0,\n",
              "          93, 6844, 4128, 6295, 7266, 2135, 6037, 5659,  835, 3990, 6459,\n",
              "        6825,  786,    3,    1,    1,    1,    1,    1,    1,    1,    1,\n",
              "           1,    1,    1,    1,    1,    1,    1,    1,    1,    1,    1,\n",
              "           1,    1,    1,    1,    1,    1,    1,    1,    1,    1,    1,\n",
              "           1,    1,    1,    1,    1,    1,    1,    1,    1,    1,    1,\n",
              "           1,    1,    1,    1,    1,    1,    1,    1,    1,    1,    1,\n",
              "           1,    1,    1,    1,    1,    1,    1,    1,    1,    1,    1,\n",
              "           1,    1,    1,    1,    1,    1,    1,    1,    1,    1,    1,\n",
              "           1], dtype=int32),\n",
              " array(25, dtype=int32),\n",
              " array([0, 0, 0, 0, 0, 0, 0, 0, 0, 0, 0, 0, 0, 0, 0, 0, 0, 0, 0, 0, 0, 0,\n",
              "        0, 0, 0, 0, 0, 0, 0, 0, 0, 0, 0, 0, 0, 0, 0, 0, 0, 0, 0, 0, 0, 0,\n",
              "        0, 0, 0, 0, 0, 0, 0, 0, 0, 0, 0, 0, 0, 0, 0, 0, 0, 0, 0, 0, 0, 0,\n",
              "        0, 0, 0, 0, 0, 0, 0, 0, 0, 0, 0, 0, 0, 0, 0, 0, 0, 0, 0, 0, 0, 0,\n",
              "        0, 0, 0, 0, 0, 0, 0, 0, 0, 0, 0, 0], dtype=int32),\n",
              " 2)"
            ]
          },
          "metadata": {},
          "execution_count": 31
        }
      ]
    },
    {
      "cell_type": "code",
      "source": [
        "train_dataloader = torch.utils.data.DataLoader(data_train, batch_size = batch_size, num_workers = 2)\n",
        "test_dataloader = torch.utils.data.DataLoader(data_test, batch_size = batch_size, num_workers = 2)"
      ],
      "metadata": {
        "id": "gC80SWoJgQFK"
      },
      "execution_count": 32,
      "outputs": []
    },
    {
      "cell_type": "code",
      "source": [
        "class BERTClassifier(nn.Module):\n",
        "    def __init__(self,\n",
        "                 bert,\n",
        "                 hidden_size = 768,\n",
        "                 num_classes = len(target_classes),   # 클래스 현재 7개\n",
        "                 dr_rate = None,\n",
        "                 params = None):\n",
        "        super(BERTClassifier, self).__init__()\n",
        "        self.bert = bert\n",
        "        self.dr_rate = dr_rate\n",
        "\n",
        "        self.classifier = nn.Linear(hidden_size , num_classes)\n",
        "        if dr_rate:\n",
        "            self.dropout = nn.Dropout(p = dr_rate)\n",
        "\n",
        "    def gen_attention_mask(self, token_ids, valid_length):\n",
        "        attention_mask = torch.zeros_like(token_ids)\n",
        "        for i, v in enumerate(valid_length):\n",
        "            attention_mask[i][:v] = 1\n",
        "        return attention_mask.float()\n",
        "\n",
        "    def forward(self, token_ids, valid_length, segment_ids):\n",
        "        attention_mask = self.gen_attention_mask(token_ids, valid_length)\n",
        "\n",
        "        _, pooler = self.bert(input_ids = token_ids, token_type_ids = segment_ids.long(), attention_mask = attention_mask.float().to(token_ids.device),return_dict = False)\n",
        "        if self.dr_rate:\n",
        "            out = self.dropout(pooler)\n",
        "        return self.classifier(out)"
      ],
      "metadata": {
        "id": "FL7TDEzYgT0t"
      },
      "execution_count": 33,
      "outputs": []
    },
    {
      "cell_type": "code",
      "source": [
        "model = BERTClassifier(bertmodel, dr_rate = 0.5).to(device)"
      ],
      "metadata": {
        "id": "1Ebbw_HMgaVS"
      },
      "execution_count": 34,
      "outputs": []
    },
    {
      "cell_type": "code",
      "source": [
        "no_decay = ['bias', 'LayerNorm.weight']\n",
        "optimizer_grouped_parameters = [\n",
        "    {'params': [p for n, p in model.named_parameters() if not any(nd in n for nd in no_decay)], 'weight_decay': 0.01},\n",
        "    {'params': [p for n, p in model.named_parameters() if any(nd in n for nd in no_decay)], 'weight_decay': 0.0}\n",
        "]\n",
        "optimizer = torch.optim.AdamW(optimizer_grouped_parameters, lr = learning_rate)\n",
        "loss_fn = nn.CrossEntropyLoss() # 다중분류를 위한 loss function\n",
        "\n",
        "t_total = len(train_dataloader) * num_epochs\n",
        "warmup_step = int(t_total * warmup_ratio)\n",
        "\n",
        "scheduler = get_cosine_schedule_with_warmup(optimizer, num_warmup_steps = warmup_step, num_training_steps = t_total)"
      ],
      "metadata": {
        "id": "tUXM-srRgmAp"
      },
      "execution_count": 35,
      "outputs": []
    },
    {
      "cell_type": "code",
      "source": [
        "def calc_accuracy(X,Y):\n",
        "    max_vals, max_indices = torch.max(X, 1)\n",
        "    train_acc = (max_indices == Y).sum().data.cpu().numpy()/max_indices.size()[0]\n",
        "    return train_acc"
      ],
      "metadata": {
        "id": "DbOoG75Vgol5"
      },
      "execution_count": 34,
      "outputs": []
    },
    {
      "cell_type": "markdown",
      "source": [
        "# KoBERT 모델 학습"
      ],
      "metadata": {
        "id": "Hav7BYp7gqr5"
      }
    },
    {
      "cell_type": "code",
      "source": [
        "KoBERT_y_preds =[]\n",
        "KoBERT_label_list =[]\n",
        "\n",
        "# results ={\n",
        "#       \"train_loss\": [],\n",
        "#       \"train_acc\": [],\n",
        "#       \"val_loss\": [],\n",
        "#       \"val_acc\": []\n",
        "#   }\n",
        "# wandb_init\n",
        "wandb_init(model='koBERT') # model_list =['koBERT','KoELECTRA', 'KcBERT', 'KcELECTRA']\n",
        "# watch model\n",
        "wandb.watch(model)\n",
        "for e in range(num_epochs):\n",
        "  train_acc = 0.0\n",
        "  test_acc = 0.0\n",
        "  train_loss =0.0\n",
        "  test_loss =0.0\n",
        "\n",
        "  model.train() #train\n",
        "  start_time = time.time() # time\n",
        "\n",
        "  for batch_id, (token_ids, valid_length, segment_ids, labels) in enumerate(tqdm(train_dataloader)):\n",
        "    optimizer.zero_grad()\n",
        "    token_ids = token_ids.long().to(device)\n",
        "    segment_ids = segment_ids.long().to(device)\n",
        "    valid_length= valid_length\n",
        "    labels = labels.long().to(device)\n",
        "\n",
        "    y_pred = model(token_ids, valid_length, segment_ids)\n",
        "\n",
        "    loss = loss_fn(y_pred, labels)\n",
        "    loss.backward()\n",
        "    # 에포크 전체 손실을 누적합니다.\n",
        "    train_loss += loss.item()\n",
        "\n",
        "    torch.nn.utils.clip_grad_norm_(model.parameters(), max_grad_norm)\n",
        "    optimizer.step()\n",
        "    scheduler.step()  # Update learning rate schedule\n",
        "    train_acc += calc_accuracy(y_pred, labels)\n",
        "\n",
        "    if batch_id % log_interval == 0:\n",
        "      print(\"epoch {} batch id {} loss {:.4f} train acc {:.4f}\".format(e+1,batch_id+1,train_loss/(batch_id+1),train_acc/(batch_id+1)))\n",
        "  # results[\"train_loss\"].append(train_loss.data.cpu().numpy()/len(train_dataloader))\n",
        "  # results[\"train_acc\"].append(train_acc/len(train_dataloader))\n",
        "\n",
        "    # wandb log\n",
        "    wandb.log({\"train_acc\": train_acc/len(train_dataloader)}, commit=False)\n",
        "    wandb.log({\"train_loss\": train_loss/len(train_dataloader)}, commit=False)\n",
        "\n",
        "  print(\"epoch {} train acc {:.4f}\".format(e+1, train_acc / len(train_dataloader)))\n",
        "\n",
        "  model.eval() # inference\n",
        "  for batch_id, (token_ids, valid_length, segment_ids, labels) in enumerate(tqdm(test_dataloader)):\n",
        "    token_ids = token_ids.long().to(device)\n",
        "    segment_ids = segment_ids.long().to(device)\n",
        "    valid_length = valid_length\n",
        "    labels = labels.long().to(device)\n",
        "    test_pred = model(token_ids, valid_length, segment_ids)\n",
        "\n",
        "    KoBERT_y_preds.extend(test_pred.cpu().detach().numpy()) # for confusion matrix\n",
        "    KoBERT_label_list.extend(labels.cpu().numpy()) # for confusion matrix true label\n",
        "\n",
        "    loss = loss_fn(test_pred, labels)\n",
        "    loss.backward()\n",
        "    test_loss += loss.item()\n",
        "    test_acc += calc_accuracy(test_pred, labels)\n",
        "\n",
        "\n",
        "  # results[\"val_loss\"].append(test_loss.data.cpu().numpy()/len(test_dataloader))\n",
        "  # results[\"val_acc\"].append(test_acc/ len(test_dataloader))\n",
        "\n",
        "  end_time = time.time()\n",
        "\n",
        "  # wandb log\n",
        "  wandb.log({\"val_acc\": test_acc/len(test_dataloader)}, commit=False)\n",
        "  wandb.log({\"val_loss\": test_loss/len(test_dataloader)})\n",
        "\n",
        "  print(\"epoch {} test acc {:.4f}\".format(e+1, test_acc / len(test_dataloader)))\n",
        "  print(\"Time: {:.4f}sec\".format((end_time - start_time)))\n",
        "\n",
        "KoBERT_label_list = np.array(KoBERT_label_list)\n",
        "KoBERT_y_preds = np.array(KoBERT_y_preds)"
      ],
      "metadata": {
        "id": "VKO2w3ZMgvBh"
      },
      "execution_count": null,
      "outputs": []
    },
    {
      "cell_type": "code",
      "source": [
        "# torch.save(model.state_dict(), \"./base_model_koBERT_epoch3_.pt\")"
      ],
      "metadata": {
        "id": "I4KOA6Aym-DS"
      },
      "execution_count": null,
      "outputs": []
    },
    {
      "cell_type": "markdown",
      "source": [
        "# KcBERT 모델\n",
        "https://github.com/Beomi/KcBERT"
      ],
      "metadata": {
        "id": "tlosUCi7SmZO"
      }
    },
    {
      "cell_type": "markdown",
      "source": [
        "# KcELECTRA 모델\n",
        "https://github.com/Beomi/KcELECTRA"
      ],
      "metadata": {
        "id": "KxM4WnKKSyZt"
      }
    },
    {
      "cell_type": "markdown",
      "source": [
        "# KoELECTRA 모델\n",
        "https://github.com/monologg/KoELECTRA"
      ],
      "metadata": {
        "id": "U3sblEYwAnpE"
      }
    },
    {
      "cell_type": "markdown",
      "source": [
        "## Dataset"
      ],
      "metadata": {
        "id": "FM-YRT2oLfxb"
      }
    },
    {
      "cell_type": "code",
      "source": [
        "# Define a custom dataset class\n",
        "class custom_dataset(Dataset):\n",
        "  def __init__(self, texts, labels, tokenizer, max_length):\n",
        "    self.texts = texts\n",
        "    self.labels = labels\n",
        "    self.tokenizer = tokenizer\n",
        "    self.max_length = max_length\n",
        "\n",
        "  def __len__(self):\n",
        "    return len(self.texts)\n",
        "\n",
        "  def __getitem__(self, idx):\n",
        "    text = self.texts[idx]\n",
        "    label = self.labels[idx]\n",
        "    encoding = self.tokenizer(text,padding='max_length', truncation=True, max_length=self.max_length, return_tensors='pt')\n",
        "    input_ids = encoding['input_ids'].squeeze() #\n",
        "    attention_mask = encoding['attention_mask'].squeeze() #\n",
        "\n",
        "    return {\n",
        "        'input_ids': input_ids,\n",
        "        'attention_mask': attention_mask,\n",
        "        # 'label': label\n",
        "        # 'labels': torch.tensor(int(label), dtype=torch.float)\n",
        "        'labels': torch.tensor(int(label), dtype=torch.long)\n",
        "    }"
      ],
      "metadata": {
        "id": "3YwJfYMNIQ_k"
      },
      "execution_count": 21,
      "outputs": []
    },
    {
      "cell_type": "code",
      "source": [
        "# # Define the custom collate function\n",
        "# def collate_fn(batch):\n",
        "#  input_ids = [item['input_ids'] for item in batch]\n",
        "#  attention_masks = [item['attention_mask'] for item in batch]\n",
        "#  labels = [item['labels'] for item in batch]\n",
        "\n",
        "#  # Pad or truncate sequences to the same length within each batch\n",
        "#  input_ids = torch.nn.utils.rnn.pad_sequence(input_ids, batch_first=True)\n",
        "#  attention_masks = torch.nn.utils.rnn.pad_sequence(attention_masks, batch_first=True)\n",
        "#  labels = torch.stack(labels)\n",
        "\n",
        "#  return {\n",
        "#  'input_ids': input_ids,\n",
        "#  'attention_mask': attention_masks,\n",
        "#  'labels': labels\n",
        "#  }"
      ],
      "metadata": {
        "id": "HjHCaazvNC8s"
      },
      "execution_count": 40,
      "outputs": []
    },
    {
      "cell_type": "code",
      "source": [
        "train_list, test_list = train_test_split(data_list, test_size = 0.2, shuffle = True, random_state = random_seed)\n",
        "train_list = pd.DataFrame(train_list, columns=['Sentence', 'Emotion'])\n",
        "test_list = pd.DataFrame(test_list, columns=['Sentence', 'Emotion'])\n",
        "\n",
        "# Load your training data\n",
        "X_train = train_list['Sentence']\n",
        "Y_train = train_list['Emotion']\n",
        "\n",
        "# Load your testing data\n",
        "X_test = test_list['Sentence']\n",
        "Y_test = test_list['Emotion']"
      ],
      "metadata": {
        "id": "oO2h9mF9JaiX"
      },
      "execution_count": 22,
      "outputs": []
    },
    {
      "cell_type": "code",
      "source": [
        "# dataset\n",
        "train_dataset = custom_dataset(X_train, Y_train, tokenizer, max_length)\n",
        "test_dataset = custom_dataset(X_test, Y_test, tokenizer, max_length)\n",
        "\n",
        "# dataloader\n",
        "train_data_loader = DataLoader(train_dataset,batch_size=batch_size,shuffle=True)\n",
        "test_data_loader = DataLoader(test_dataset,batch_size=batch_size,shuffle=True)"
      ],
      "metadata": {
        "id": "Zb7qe6VaMlca"
      },
      "execution_count": 23,
      "outputs": []
    },
    {
      "cell_type": "code",
      "source": [
        "# text, attention_mask, y = train_dataset[0]\n",
        "# attention_mask.shape"
      ],
      "metadata": {
        "id": "f6DXB-gDORJf"
      },
      "execution_count": 53,
      "outputs": []
    },
    {
      "cell_type": "markdown",
      "source": [
        "# 학습"
      ],
      "metadata": {
        "id": "MD0__-lWVsMh"
      }
    },
    {
      "cell_type": "code",
      "source": [
        "# Load the pre-trained LLM model and tokenizer\n",
        "model_name = \"monologg/koelectra-small-v3-discriminator\"\n",
        "tokenizer = AutoTokenizer.from_pretrained(model_name)\n",
        "\n",
        "model = AutoModelForSequenceClassification.from_pretrained(model_name, num_labels =len(target_classes))\n",
        "model.to(device)"
      ],
      "metadata": {
        "id": "fhs-bWZqHISr",
        "colab": {
          "base_uri": "https://localhost:8080/"
        },
        "outputId": "919ff64b-c5a2-4f91-f8b5-939009e06049"
      },
      "execution_count": 49,
      "outputs": [
        {
          "output_type": "stream",
          "name": "stderr",
          "text": [
            "Some weights of ElectraForSequenceClassification were not initialized from the model checkpoint at monologg/koelectra-small-v3-discriminator and are newly initialized: ['classifier.dense.weight', 'classifier.out_proj.weight', 'classifier.out_proj.bias', 'classifier.dense.bias']\n",
            "You should probably TRAIN this model on a down-stream task to be able to use it for predictions and inference.\n"
          ]
        },
        {
          "output_type": "execute_result",
          "data": {
            "text/plain": [
              "ElectraForSequenceClassification(\n",
              "  (electra): ElectraModel(\n",
              "    (embeddings): ElectraEmbeddings(\n",
              "      (word_embeddings): Embedding(35000, 128, padding_idx=0)\n",
              "      (position_embeddings): Embedding(512, 128)\n",
              "      (token_type_embeddings): Embedding(2, 128)\n",
              "      (LayerNorm): LayerNorm((128,), eps=1e-12, elementwise_affine=True)\n",
              "      (dropout): Dropout(p=0.1, inplace=False)\n",
              "    )\n",
              "    (embeddings_project): Linear(in_features=128, out_features=256, bias=True)\n",
              "    (encoder): ElectraEncoder(\n",
              "      (layer): ModuleList(\n",
              "        (0-11): 12 x ElectraLayer(\n",
              "          (attention): ElectraAttention(\n",
              "            (self): ElectraSelfAttention(\n",
              "              (query): Linear(in_features=256, out_features=256, bias=True)\n",
              "              (key): Linear(in_features=256, out_features=256, bias=True)\n",
              "              (value): Linear(in_features=256, out_features=256, bias=True)\n",
              "              (dropout): Dropout(p=0.1, inplace=False)\n",
              "            )\n",
              "            (output): ElectraSelfOutput(\n",
              "              (dense): Linear(in_features=256, out_features=256, bias=True)\n",
              "              (LayerNorm): LayerNorm((256,), eps=1e-12, elementwise_affine=True)\n",
              "              (dropout): Dropout(p=0.1, inplace=False)\n",
              "            )\n",
              "          )\n",
              "          (intermediate): ElectraIntermediate(\n",
              "            (dense): Linear(in_features=256, out_features=1024, bias=True)\n",
              "            (intermediate_act_fn): GELUActivation()\n",
              "          )\n",
              "          (output): ElectraOutput(\n",
              "            (dense): Linear(in_features=1024, out_features=256, bias=True)\n",
              "            (LayerNorm): LayerNorm((256,), eps=1e-12, elementwise_affine=True)\n",
              "            (dropout): Dropout(p=0.1, inplace=False)\n",
              "          )\n",
              "        )\n",
              "      )\n",
              "    )\n",
              "  )\n",
              "  (classifier): ElectraClassificationHead(\n",
              "    (dense): Linear(in_features=256, out_features=256, bias=True)\n",
              "    (dropout): Dropout(p=0.1, inplace=False)\n",
              "    (out_proj): Linear(in_features=256, out_features=7, bias=True)\n",
              "  )\n",
              ")"
            ]
          },
          "metadata": {},
          "execution_count": 49
        }
      ]
    },
    {
      "cell_type": "code",
      "source": [
        "KoELECTRA_y_preds =[] # confusion matrix\n",
        "KoELECTRA_label_list =[] # confusion matrix"
      ],
      "metadata": {
        "id": "b6ObWjTWcUJk"
      },
      "execution_count": 50,
      "outputs": []
    },
    {
      "cell_type": "code",
      "source": [
        "optimizer = torch.optim.AdamW(model.parameters(), lr=learning_rate)\n",
        "criterion = nn.CrossEntropyLoss()"
      ],
      "metadata": {
        "id": "frlJhTx8O_LJ"
      },
      "execution_count": 51,
      "outputs": []
    },
    {
      "cell_type": "code",
      "source": [
        "# wandb_init\n",
        "wandb_init(model='KoELECTRA') # model_list =['koBERT','KoELECTRA', 'KcBERT', 'KcELECTRA']\n",
        "\n",
        "# watch model\n",
        "wandb.watch(model)\n",
        "for e in range(num_epochs):\n",
        "  train_acc = 0.0\n",
        "  test_acc = 0.0\n",
        "  train_loss =0.0\n",
        "  test_loss =0.0\n",
        "\n",
        "  start_time = time.time() # time\n",
        "\n",
        "  model.train() #train\n",
        "  for batch_id, batch in enumerate(tqdm(train_data_loader)):\n",
        "    input_ids = batch['input_ids']\n",
        "    attention_mask = batch['attention_mask']\n",
        "    labels = batch['labels']\n",
        "\n",
        "    input_ids = input_ids.to(device)\n",
        "    attention_mask = attention_mask.to(device)\n",
        "    labels = labels.to(device)\n",
        "\n",
        "    # 그래디언트 초기화\n",
        "    optimizer.zero_grad()\n",
        "    # 모델에 입력을 주어 예측을 생성합니다.\n",
        "    outputs = model(input_ids, attention_mask=attention_mask)\n",
        "    # 모델 출력에서 로짓(분류에 대한 점수)을 얻습니다.\n",
        "    # 모델 예측\n",
        "    logits = outputs.logits  # 최신 Transformers 라이브러리에서는 이렇게 사용할 수 있을 수 있음\n",
        "    # 손실을 계산합니다.\n",
        "    loss = criterion(logits, labels)\n",
        "    # 역전파를 통해 그래디언트 계산\n",
        "    loss.backward()\n",
        "    # 에포크 전체 손실을 누적합니다.\n",
        "    train_loss += loss.item()\n",
        "    # 옵티마이저를 사용해 가중치를 업데이트\n",
        "    optimizer.step()\n",
        "    # 정확도\n",
        "    # train_acc += calc_accuracy(np.argmax(logits.cpu().detach().numpy()), label)\n",
        "    train_acc += (logits.argmax(dim=1)==labels).sum().item() / ((labels.size(0))*(batch_id+1))\n",
        "\n",
        "    if batch_id % log_interval == 0:\n",
        "      print(\"epoch {} batch id {} loss {:.4f} train acc {:.4f}\".format(e+1, batch_id+1,train_loss/(batch_id+1),train_acc))\n",
        "\n",
        "  # # wandb log\n",
        "  wandb.log({\"train_acc\": train_acc/len(train_data_loader)}, commit=False)\n",
        "  wandb.log({\"train_loss\": train_loss/len(train_data_loader)},commit=False)\n",
        "\n",
        "  print(\"epoch {} train acc {:.4f}\".format(e+1, train_acc / len(train_data_loader)))\n",
        "\n",
        "  # 모델 평가\n",
        "  model.eval()\n",
        "  with torch.no_grad():\n",
        "    for batch_id, batch in enumerate(test_data_loader):\n",
        "      # Validation 데이터 가져오기\n",
        "      input_ids = batch['input_ids']\n",
        "      attention_mask = batch['attention_mask']\n",
        "      labels = batch['labels']\n",
        "\n",
        "      input_ids = input_ids.to(device)\n",
        "      attention_mask = attention_mask.to(device)\n",
        "      labels = labels.to(device)\n",
        "\n",
        "      # 모델 예측\n",
        "      outputs = model(input_ids, attention_mask=attention_mask)\n",
        "      logits = outputs.logits\n",
        "\n",
        "      KoELECTRA_y_preds.extend(logits.argmax(dim=1)) # for confusion matrix\n",
        "      KoELECTRA_label_list.extend(labels.cpu().numpy()) # for confusion matrix true label\n",
        "\n",
        "      # 손실 계산\n",
        "      loss = criterion(logits,labels)\n",
        "      test_loss += loss.item()\n",
        "\n",
        "      # 정확도 계산\n",
        "      # preds = logits.argmax(dim=1)\n",
        "      # test_acc += calc_accuracy(np.argmax(logits), label)\n",
        "      test_acc += (logits.argmax(dim=1)==labels).sum().item() /((labels.size(0))*(batch_id+1))\n",
        "      if batch_id % log_interval == 0:\n",
        "        print(\"epoch {} batch id {} loss {:.4f} train acc {:.4f}\".format(e+1, batch_id+1,test_loss/(batch_id+1),test_acc))\n",
        "\n",
        "    end_time = time.time()\n",
        "    # wandb log\n",
        "    wandb.log({\"val_acc\": test_acc/len(test_data_loader)}, commit=False)\n",
        "    wandb.log({\"val_loss\": test_loss/len(test_data_loader)})\n",
        "\n",
        "    print(\"epoch {} test acc {:.4f}\".format(e+1, test_acc / len(test_data_loader)))\n",
        "    print(\"Time: {:.4f}sec\".format((end_time - start_time)))\n",
        "\n",
        "  # val_avg_loss = val_total_loss / len(test_data_loader)\n",
        "  # val_accuracy = correct / total\n",
        "  # print(f\"Validation Loss: {val_avg_loss:.4f} - Validation Accuracy: {val_accuracy:.4f}\")\n",
        "\n",
        "KoELECTRA_label_list = np.array(KoELECTRA_label_list)\n",
        "KoELECTRA_y_preds = np.array(KoELECTRA_y_preds)"
      ],
      "metadata": {
        "id": "n4Xx8CXzWrQu"
      },
      "execution_count": null,
      "outputs": []
    },
    {
      "cell_type": "code",
      "source": [
        "torch.save(model.state_dict(), \"./KoELECTRA_small_v3_epoch5_.pt\")"
      ],
      "metadata": {
        "id": "vMNpaoYp6NCy"
      },
      "execution_count": null,
      "outputs": []
    },
    {
      "cell_type": "markdown",
      "source": [
        "# 평가"
      ],
      "metadata": {
        "id": "ryMLVNiskLug"
      }
    },
    {
      "cell_type": "code",
      "source": [
        "cm = confusion_matrix(KoELECTRA_label_list, KoELECTRA_y_preds)\n",
        "# Define class labels (assuming 7 classes in this example)\n",
        "class_labels = list(dict(map(reversed, target_classes.items())).keys()) # true label\n",
        "\n",
        "plt.figure(figsize=(8, 6))\n",
        "fig, ax = plot_confusion_matrix(conf_mat=cm, colorbar=True,\n",
        "show_absolute=False, show_normed=True, class_names=class_labels)\n",
        "plt.show()\n",
        "\n",
        "# Create a heatmap for the confusion matrix\n",
        "# plt.figure(figsize=(8, 6))\n",
        "# sns.heatmap(cm, annot=True, fmt='d', cmap='Blues', xticklabels=class_labels, yticklabels=class_labels)\n",
        "# plt.xlabel('Predicted Labels')\n",
        "# plt.ylabel('True Labels')\n",
        "# plt.title('Confusion Matrix')\n",
        "# plt.show()"
      ],
      "metadata": {
        "id": "MFJ8wvlikNb9"
      },
      "execution_count": null,
      "outputs": []
    },
    {
      "cell_type": "code",
      "source": [
        "# wandb_img = wandb.Image(cm, caption=f\"basemodel_epoch_{num_epochs}_figure\")\n",
        "\n",
        "# wandb.log({\"Confusion Matrix\": wandb_img})"
      ],
      "metadata": {
        "id": "2xuxOD-zQhSw"
      },
      "execution_count": null,
      "outputs": []
    },
    {
      "cell_type": "markdown",
      "source": [
        "# 키워드 추출\n",
        "- 명사, 동사, 형용사"
      ],
      "metadata": {
        "id": "NUx9q5EAQYrQ"
      }
    },
    {
      "cell_type": "code",
      "source": [
        "# !pip install konlpy"
      ],
      "metadata": {
        "id": "tnMm0SlxSpZt"
      },
      "execution_count": null,
      "outputs": []
    },
    {
      "cell_type": "code",
      "source": [
        "# from konlpy.tag import Okt"
      ],
      "metadata": {
        "id": "DRGHOl35OQ_m"
      },
      "execution_count": null,
      "outputs": []
    },
    {
      "cell_type": "code",
      "source": [
        "# okt = Okt()\n",
        "# kor_sentence = '너무 배고파 ㅜㅜ'\n",
        "# print('OKT 품사 태깅 :', okt.pos(kor_sentence))"
      ],
      "metadata": {
        "id": "_5k8m-a9QfrM",
        "colab": {
          "base_uri": "https://localhost:8080/"
        },
        "outputId": "5ac9c8d2-ef7e-487e-98ae-6ddd68052878"
      },
      "execution_count": null,
      "outputs": [
        {
          "output_type": "stream",
          "name": "stdout",
          "text": [
            "OKT 품사 태깅 : [('너무', 'Adverb'), ('배고파', 'Adjective'), ('ㅜㅜ', 'KoreanParticle')]\n"
          ]
        }
      ]
    },
    {
      "cell_type": "code",
      "source": [
        "# # 명사, 동사, 형용사 추출하기\n",
        "# keyword = [x for (x, y) in okt.pos(kor_sentence) if y in ['Verb', 'Noun', 'Adjective']]\n",
        "# print('\\nOKT 명사, 동사, 형용사 추출 :', keyword)"
      ],
      "metadata": {
        "id": "RKYjiR48QtGt",
        "colab": {
          "base_uri": "https://localhost:8080/"
        },
        "outputId": "918f9bc6-7a11-488d-c32e-a1f9290c24b3"
      },
      "execution_count": null,
      "outputs": [
        {
          "output_type": "stream",
          "name": "stdout",
          "text": [
            "\n",
            "OKT 명사, 동사, 형용사 추출 : ['배고파']\n"
          ]
        }
      ]
    },
    {
      "cell_type": "markdown",
      "source": [
        "# 새로운 문장 테스트"
      ],
      "metadata": {
        "id": "2abTvWrLrfv_"
      }
    },
    {
      "cell_type": "code",
      "source": [
        "# target_classes ={\n",
        "#     '공포': 0,\n",
        "#     '놀람': 1,\n",
        "#     '분노': 2,\n",
        "#     '슬픔': 3,\n",
        "#     '중립': 4,\n",
        "#     '행복': 5,\n",
        "#     '혐오': 6\n",
        "#   }"
      ],
      "metadata": {
        "id": "7y2tuAbitY4T"
      },
      "execution_count": null,
      "outputs": []
    },
    {
      "cell_type": "code",
      "source": [
        "# reverse =dict(map(reversed, target_classes.items()))\n",
        "# print(reverse)"
      ],
      "metadata": {
        "id": "mH7p0gYTvG3L",
        "colab": {
          "base_uri": "https://localhost:8080/"
        },
        "outputId": "08bede72-075c-4e34-ca79-33f9a6f64624"
      },
      "execution_count": null,
      "outputs": [
        {
          "output_type": "stream",
          "name": "stdout",
          "text": [
            "{0: '공포', 1: '놀람', 2: '분노', 3: '슬픔', 4: '중립', 5: '행복', 6: '혐오'}\n"
          ]
        }
      ]
    },
    {
      "cell_type": "code",
      "source": [
        "# list(reverse.keys())"
      ],
      "metadata": {
        "colab": {
          "base_uri": "https://localhost:8080/"
        },
        "id": "_H42Fn7OhmTM",
        "outputId": "568d6c03-62ca-40e5-a9c9-6394283aaad2"
      },
      "execution_count": null,
      "outputs": [
        {
          "output_type": "execute_result",
          "data": {
            "text/plain": [
              "[0, 1, 2, 3, 4, 5, 6]"
            ]
          },
          "metadata": {},
          "execution_count": 67
        }
      ]
    },
    {
      "cell_type": "code",
      "source": [
        "# # 토큰화\n",
        "# tokenizer = KoBERTTokenizer.from_pretrained('skt/kobert-base-v1')\n",
        "# # tok = nlp.data.BERTSPTokenizer(tokenizer, vocab, lower = False)\n",
        "\n",
        "# def predict_and_keword(predict_sentence):\n",
        "#   new_data =[[predict_sentence, '0']]\n",
        "#   # print(new_data)\n",
        "\n",
        "#   new_dataset = BERTDataset(new_data, 0, 1, tokenizer, vocab ,max_length, True, False)\n",
        "#   new_dataloader = torch.utils.data.DataLoader(new_dataset, batch_size = batch_size, num_workers =5)\n",
        "\n",
        "#   model.eval()\n",
        "#   for batch_id, (token_ids, valid_length, segment_ids, label) in enumerate(tqdm(new_dataloader)):\n",
        "#     token_ids = token_ids.long().to(device)\n",
        "#     segment_ids = segment_ids.long().to(device)\n",
        "#     valid_length = valid_length\n",
        "#     label = label.long().to(device)\n",
        "#     out = model(token_ids, valid_length, segment_ids)\n",
        "\n",
        "#     test_eval =[]\n",
        "#     for logit in out:\n",
        "#       test_eval.append(reverse[np.argmax(logit.detach().cpu().numpy())])\n",
        "\n",
        "#     # 키워드 추출: 명사, 동사, 형용사 추출하기\n",
        "#     keyword = [x for (x, y) in okt.pos(predict_sentence) if y in ['Verb', 'Noun', 'Adjective']]\n",
        "#     print('\\nOKT 명사, 동사, 형용사 추출 :', keyword)\n",
        "#     test_eval += keyword\n",
        "\n",
        "#     return test_eval"
      ],
      "metadata": {
        "id": "z2HFLxguTJeR",
        "colab": {
          "base_uri": "https://localhost:8080/"
        },
        "outputId": "92c52d54-23ab-4a7a-cc2d-79b283893ed4"
      },
      "execution_count": null,
      "outputs": [
        {
          "output_type": "stream",
          "name": "stderr",
          "text": [
            "The tokenizer class you load from this checkpoint is not the same type as the class this function is called from. It may result in unexpected tokenization. \n",
            "The tokenizer class you load from this checkpoint is 'XLNetTokenizer'. \n",
            "The class this function is called from is 'KoBERTTokenizer'.\n"
          ]
        }
      ]
    },
    {
      "cell_type": "code",
      "source": [
        "# predict_and_keword('어제 헤어졌어 ㅜ')"
      ],
      "metadata": {
        "id": "5ajZa1pzwSjh",
        "colab": {
          "base_uri": "https://localhost:8080/",
          "height": 158,
          "referenced_widgets": [
            "e09dfe926aa14158991216201a11186e",
            "f5a018a03b724484b3bbf2386414bcaf",
            "9b80a585dd304d119564c0d2f9471389",
            "a2572a5647764fdab6fbb83eb43013b9",
            "224ea4d8573d4983adbd734d770e9d49",
            "9f515b84f920416db73a3ce79642802b",
            "1d731c1d26d94df594f09637c1752da4",
            "799741d93c904912ad64533018014b20",
            "2b77f78a8c9c4efdb4429ec68f42353e",
            "3565bdd8aacb4e08a45b0257a41be48b",
            "8a98b255e1f74ef4af271f2d3c0c7567"
          ]
        },
        "outputId": "1fe1c54c-55a8-4456-b544-88e72b1dd92c"
      },
      "execution_count": null,
      "outputs": [
        {
          "output_type": "stream",
          "name": "stderr",
          "text": [
            "/usr/local/lib/python3.10/dist-packages/torch/utils/data/dataloader.py:560: UserWarning: This DataLoader will create 5 worker processes in total. Our suggested max number of worker in current system is 2, which is smaller than what this DataLoader is going to create. Please be aware that excessive worker creation might get DataLoader running slow or even freeze, lower the worker number to avoid potential slowness/freeze if necessary.\n",
            "  warnings.warn(_create_warning_msg(\n"
          ]
        },
        {
          "output_type": "display_data",
          "data": {
            "text/plain": [
              "  0%|          | 0/1 [00:00<?, ?it/s]"
            ],
            "application/vnd.jupyter.widget-view+json": {
              "version_major": 2,
              "version_minor": 0,
              "model_id": "e09dfe926aa14158991216201a11186e"
            }
          },
          "metadata": {}
        },
        {
          "output_type": "stream",
          "name": "stdout",
          "text": [
            "\n",
            "OKT 명사, 동사, 형용사 추출 : ['어제', '헤어졌어']\n"
          ]
        },
        {
          "output_type": "execute_result",
          "data": {
            "text/plain": [
              "['슬픔', '어제', '헤어졌어']"
            ]
          },
          "metadata": {},
          "execution_count": 69
        }
      ]
    },
    {
      "cell_type": "code",
      "source": [
        "# predict_and_keword('진짜 짜증나')"
      ],
      "metadata": {
        "colab": {
          "base_uri": "https://localhost:8080/",
          "height": 103,
          "referenced_widgets": [
            "4b76c376f8ed4b91b8a92c8e0ed03de1",
            "82bca601f90e4c6bbf3c6939f216e6a0",
            "d150e8c2c3a64ffbb5b7146f19bb4ec4",
            "6bc74d42d8b547fe8f4070def0f1e3a2",
            "3889fb7ebb2d47b183dc3c2c405c6dc5",
            "82b7bb03477844ecb26364b12a199982",
            "b407442571bc4e8db620fab7765c4d0c",
            "f1b2d28750b54757b29a1e0cc9befafa",
            "1177420db68440178457af7a840eec4f",
            "983f2e195a8843a29fa694dadba1aca8",
            "80883e8b2034486e92922d492aa7a0a8"
          ]
        },
        "id": "0FXpgLwtnhQm",
        "outputId": "f56c81a7-9187-40a6-eb3f-5bc397d46a65"
      },
      "execution_count": null,
      "outputs": [
        {
          "output_type": "display_data",
          "data": {
            "text/plain": [
              "  0%|          | 0/1 [00:00<?, ?it/s]"
            ],
            "application/vnd.jupyter.widget-view+json": {
              "version_major": 2,
              "version_minor": 0,
              "model_id": "4b76c376f8ed4b91b8a92c8e0ed03de1"
            }
          },
          "metadata": {}
        },
        {
          "output_type": "stream",
          "name": "stdout",
          "text": [
            "\n",
            "OKT 명사, 동사, 형용사 추출 : ['진짜', '짜증나']\n"
          ]
        },
        {
          "output_type": "execute_result",
          "data": {
            "text/plain": [
              "['분노', '진짜', '짜증나']"
            ]
          },
          "metadata": {},
          "execution_count": 70
        }
      ]
    },
    {
      "cell_type": "code",
      "source": [
        "# predict_and_keword('너무 무서워')"
      ],
      "metadata": {
        "id": "JYyWc5udnuDY",
        "outputId": "16651ff4-ae8b-4bc1-cd78-4f35144e772d",
        "colab": {
          "base_uri": "https://localhost:8080/",
          "height": 103,
          "referenced_widgets": [
            "0316476b7da748e1879846bfdc1f156a",
            "fb46346ae83c49699e71c7642e1bb2ac",
            "9bd4e45f7f1f462c999e82cf2512efe3",
            "19a1ed03df504c26a135a91adeefecd6",
            "399c7ec582ad4cb4ae6d39e302698fd4",
            "c534592bf8524a4fa148fa18cf86c0b0",
            "a8cb6fc7286a476ca2fc5fef5dff490b",
            "c6c13ff81d134101b4b0ad66e27e1b5e",
            "6dce92b9d0fc47dabb3cc25facdb5d1c",
            "00b6530a715d4f7da6a2f7fb3353b871",
            "ae98a36cf52e4afe95b3cbc2b0caed88"
          ]
        }
      },
      "execution_count": null,
      "outputs": [
        {
          "output_type": "display_data",
          "data": {
            "text/plain": [
              "  0%|          | 0/1 [00:00<?, ?it/s]"
            ],
            "application/vnd.jupyter.widget-view+json": {
              "version_major": 2,
              "version_minor": 0,
              "model_id": "0316476b7da748e1879846bfdc1f156a"
            }
          },
          "metadata": {}
        },
        {
          "output_type": "stream",
          "name": "stdout",
          "text": [
            "\n",
            "OKT 명사, 동사, 형용사 추출 : ['무서워']\n"
          ]
        },
        {
          "output_type": "execute_result",
          "data": {
            "text/plain": [
              "['공포', '무서워']"
            ]
          },
          "metadata": {},
          "execution_count": 71
        }
      ]
    },
    {
      "cell_type": "markdown",
      "source": [
        "## 1. 중립 데이터 제거"
      ],
      "metadata": {
        "id": "ibHFpLPut_jM"
      }
    },
    {
      "cell_type": "code",
      "source": [
        "# df_data_neut = df_data[df_data['Emotion'] == '중립'] # 확인"
      ],
      "metadata": {
        "id": "6BrGl2uft4ga"
      },
      "execution_count": null,
      "outputs": []
    },
    {
      "cell_type": "code",
      "source": [
        "# df_data_drop = df_data[df_data['Emotion'] != '중립']\n",
        "# df_data_drop # 중복 데이터 제거한 데이터"
      ],
      "metadata": {
        "colab": {
          "base_uri": "https://localhost:8080/",
          "height": 424
        },
        "id": "LsCTq_bLuFld",
        "outputId": "a546da8d-6b82-4013-fdad-cce05fb5ce26"
      },
      "execution_count": null,
      "outputs": [
        {
          "output_type": "execute_result",
          "data": {
            "text/plain": [
              "                                         Sentence Emotion\n",
              "0                        언니 동생으로 부르는게 맞는 일인가요..??      공포\n",
              "1                                    그냥 내 느낌일뿐겠지?      공포\n",
              "2                                  아직너무초기라서 그런거죠?      공포\n",
              "3                                   유치원버스 사고 낫다던데      공포\n",
              "4                                     근데 원래이런거맞나요      공포\n",
              "...                                           ...     ...\n",
              "94132                              뭐? 다시 한 번 말해봐.      분노\n",
              "94152                                     어? 정말요?      놀람\n",
              "94154                         혹시, 다들 은행 계좌없는 거예요?      놀람\n",
              "94169  자네는 대체 뭘 하러 왔나! 젖은 생쥐 꼴이 된 나를 보면서 비웃으러 왔나?      분노\n",
              "94175                                         정말?      놀람\n",
              "\n",
              "[45578 rows x 2 columns]"
            ],
            "text/html": [
              "\n",
              "  <div id=\"df-7d61c4a1-7b9a-48a8-ad94-6169847829c9\" class=\"colab-df-container\">\n",
              "    <div>\n",
              "<style scoped>\n",
              "    .dataframe tbody tr th:only-of-type {\n",
              "        vertical-align: middle;\n",
              "    }\n",
              "\n",
              "    .dataframe tbody tr th {\n",
              "        vertical-align: top;\n",
              "    }\n",
              "\n",
              "    .dataframe thead th {\n",
              "        text-align: right;\n",
              "    }\n",
              "</style>\n",
              "<table border=\"1\" class=\"dataframe\">\n",
              "  <thead>\n",
              "    <tr style=\"text-align: right;\">\n",
              "      <th></th>\n",
              "      <th>Sentence</th>\n",
              "      <th>Emotion</th>\n",
              "    </tr>\n",
              "  </thead>\n",
              "  <tbody>\n",
              "    <tr>\n",
              "      <th>0</th>\n",
              "      <td>언니 동생으로 부르는게 맞는 일인가요..??</td>\n",
              "      <td>공포</td>\n",
              "    </tr>\n",
              "    <tr>\n",
              "      <th>1</th>\n",
              "      <td>그냥 내 느낌일뿐겠지?</td>\n",
              "      <td>공포</td>\n",
              "    </tr>\n",
              "    <tr>\n",
              "      <th>2</th>\n",
              "      <td>아직너무초기라서 그런거죠?</td>\n",
              "      <td>공포</td>\n",
              "    </tr>\n",
              "    <tr>\n",
              "      <th>3</th>\n",
              "      <td>유치원버스 사고 낫다던데</td>\n",
              "      <td>공포</td>\n",
              "    </tr>\n",
              "    <tr>\n",
              "      <th>4</th>\n",
              "      <td>근데 원래이런거맞나요</td>\n",
              "      <td>공포</td>\n",
              "    </tr>\n",
              "    <tr>\n",
              "      <th>...</th>\n",
              "      <td>...</td>\n",
              "      <td>...</td>\n",
              "    </tr>\n",
              "    <tr>\n",
              "      <th>94132</th>\n",
              "      <td>뭐? 다시 한 번 말해봐.</td>\n",
              "      <td>분노</td>\n",
              "    </tr>\n",
              "    <tr>\n",
              "      <th>94152</th>\n",
              "      <td>어? 정말요?</td>\n",
              "      <td>놀람</td>\n",
              "    </tr>\n",
              "    <tr>\n",
              "      <th>94154</th>\n",
              "      <td>혹시, 다들 은행 계좌없는 거예요?</td>\n",
              "      <td>놀람</td>\n",
              "    </tr>\n",
              "    <tr>\n",
              "      <th>94169</th>\n",
              "      <td>자네는 대체 뭘 하러 왔나! 젖은 생쥐 꼴이 된 나를 보면서 비웃으러 왔나?</td>\n",
              "      <td>분노</td>\n",
              "    </tr>\n",
              "    <tr>\n",
              "      <th>94175</th>\n",
              "      <td>정말?</td>\n",
              "      <td>놀람</td>\n",
              "    </tr>\n",
              "  </tbody>\n",
              "</table>\n",
              "<p>45578 rows × 2 columns</p>\n",
              "</div>\n",
              "    <div class=\"colab-df-buttons\">\n",
              "\n",
              "  <div class=\"colab-df-container\">\n",
              "    <button class=\"colab-df-convert\" onclick=\"convertToInteractive('df-7d61c4a1-7b9a-48a8-ad94-6169847829c9')\"\n",
              "            title=\"Convert this dataframe to an interactive table.\"\n",
              "            style=\"display:none;\">\n",
              "\n",
              "  <svg xmlns=\"http://www.w3.org/2000/svg\" height=\"24px\" viewBox=\"0 -960 960 960\">\n",
              "    <path d=\"M120-120v-720h720v720H120Zm60-500h600v-160H180v160Zm220 220h160v-160H400v160Zm0 220h160v-160H400v160ZM180-400h160v-160H180v160Zm440 0h160v-160H620v160ZM180-180h160v-160H180v160Zm440 0h160v-160H620v160Z\"/>\n",
              "  </svg>\n",
              "    </button>\n",
              "\n",
              "  <style>\n",
              "    .colab-df-container {\n",
              "      display:flex;\n",
              "      gap: 12px;\n",
              "    }\n",
              "\n",
              "    .colab-df-convert {\n",
              "      background-color: #E8F0FE;\n",
              "      border: none;\n",
              "      border-radius: 50%;\n",
              "      cursor: pointer;\n",
              "      display: none;\n",
              "      fill: #1967D2;\n",
              "      height: 32px;\n",
              "      padding: 0 0 0 0;\n",
              "      width: 32px;\n",
              "    }\n",
              "\n",
              "    .colab-df-convert:hover {\n",
              "      background-color: #E2EBFA;\n",
              "      box-shadow: 0px 1px 2px rgba(60, 64, 67, 0.3), 0px 1px 3px 1px rgba(60, 64, 67, 0.15);\n",
              "      fill: #174EA6;\n",
              "    }\n",
              "\n",
              "    .colab-df-buttons div {\n",
              "      margin-bottom: 4px;\n",
              "    }\n",
              "\n",
              "    [theme=dark] .colab-df-convert {\n",
              "      background-color: #3B4455;\n",
              "      fill: #D2E3FC;\n",
              "    }\n",
              "\n",
              "    [theme=dark] .colab-df-convert:hover {\n",
              "      background-color: #434B5C;\n",
              "      box-shadow: 0px 1px 3px 1px rgba(0, 0, 0, 0.15);\n",
              "      filter: drop-shadow(0px 1px 2px rgba(0, 0, 0, 0.3));\n",
              "      fill: #FFFFFF;\n",
              "    }\n",
              "  </style>\n",
              "\n",
              "    <script>\n",
              "      const buttonEl =\n",
              "        document.querySelector('#df-7d61c4a1-7b9a-48a8-ad94-6169847829c9 button.colab-df-convert');\n",
              "      buttonEl.style.display =\n",
              "        google.colab.kernel.accessAllowed ? 'block' : 'none';\n",
              "\n",
              "      async function convertToInteractive(key) {\n",
              "        const element = document.querySelector('#df-7d61c4a1-7b9a-48a8-ad94-6169847829c9');\n",
              "        const dataTable =\n",
              "          await google.colab.kernel.invokeFunction('convertToInteractive',\n",
              "                                                    [key], {});\n",
              "        if (!dataTable) return;\n",
              "\n",
              "        const docLinkHtml = 'Like what you see? Visit the ' +\n",
              "          '<a target=\"_blank\" href=https://colab.research.google.com/notebooks/data_table.ipynb>data table notebook</a>'\n",
              "          + ' to learn more about interactive tables.';\n",
              "        element.innerHTML = '';\n",
              "        dataTable['output_type'] = 'display_data';\n",
              "        await google.colab.output.renderOutput(dataTable, element);\n",
              "        const docLink = document.createElement('div');\n",
              "        docLink.innerHTML = docLinkHtml;\n",
              "        element.appendChild(docLink);\n",
              "      }\n",
              "    </script>\n",
              "  </div>\n",
              "\n",
              "\n",
              "<div id=\"df-a60ddfb6-e181-4a09-a6af-9c5130312e87\">\n",
              "  <button class=\"colab-df-quickchart\" onclick=\"quickchart('df-a60ddfb6-e181-4a09-a6af-9c5130312e87')\"\n",
              "            title=\"Suggest charts.\"\n",
              "            style=\"display:none;\">\n",
              "\n",
              "<svg xmlns=\"http://www.w3.org/2000/svg\" height=\"24px\"viewBox=\"0 0 24 24\"\n",
              "     width=\"24px\">\n",
              "    <g>\n",
              "        <path d=\"M19 3H5c-1.1 0-2 .9-2 2v14c0 1.1.9 2 2 2h14c1.1 0 2-.9 2-2V5c0-1.1-.9-2-2-2zM9 17H7v-7h2v7zm4 0h-2V7h2v10zm4 0h-2v-4h2v4z\"/>\n",
              "    </g>\n",
              "</svg>\n",
              "  </button>\n",
              "\n",
              "<style>\n",
              "  .colab-df-quickchart {\n",
              "      --bg-color: #E8F0FE;\n",
              "      --fill-color: #1967D2;\n",
              "      --hover-bg-color: #E2EBFA;\n",
              "      --hover-fill-color: #174EA6;\n",
              "      --disabled-fill-color: #AAA;\n",
              "      --disabled-bg-color: #DDD;\n",
              "  }\n",
              "\n",
              "  [theme=dark] .colab-df-quickchart {\n",
              "      --bg-color: #3B4455;\n",
              "      --fill-color: #D2E3FC;\n",
              "      --hover-bg-color: #434B5C;\n",
              "      --hover-fill-color: #FFFFFF;\n",
              "      --disabled-bg-color: #3B4455;\n",
              "      --disabled-fill-color: #666;\n",
              "  }\n",
              "\n",
              "  .colab-df-quickchart {\n",
              "    background-color: var(--bg-color);\n",
              "    border: none;\n",
              "    border-radius: 50%;\n",
              "    cursor: pointer;\n",
              "    display: none;\n",
              "    fill: var(--fill-color);\n",
              "    height: 32px;\n",
              "    padding: 0;\n",
              "    width: 32px;\n",
              "  }\n",
              "\n",
              "  .colab-df-quickchart:hover {\n",
              "    background-color: var(--hover-bg-color);\n",
              "    box-shadow: 0 1px 2px rgba(60, 64, 67, 0.3), 0 1px 3px 1px rgba(60, 64, 67, 0.15);\n",
              "    fill: var(--button-hover-fill-color);\n",
              "  }\n",
              "\n",
              "  .colab-df-quickchart-complete:disabled,\n",
              "  .colab-df-quickchart-complete:disabled:hover {\n",
              "    background-color: var(--disabled-bg-color);\n",
              "    fill: var(--disabled-fill-color);\n",
              "    box-shadow: none;\n",
              "  }\n",
              "\n",
              "  .colab-df-spinner {\n",
              "    border: 2px solid var(--fill-color);\n",
              "    border-color: transparent;\n",
              "    border-bottom-color: var(--fill-color);\n",
              "    animation:\n",
              "      spin 1s steps(1) infinite;\n",
              "  }\n",
              "\n",
              "  @keyframes spin {\n",
              "    0% {\n",
              "      border-color: transparent;\n",
              "      border-bottom-color: var(--fill-color);\n",
              "      border-left-color: var(--fill-color);\n",
              "    }\n",
              "    20% {\n",
              "      border-color: transparent;\n",
              "      border-left-color: var(--fill-color);\n",
              "      border-top-color: var(--fill-color);\n",
              "    }\n",
              "    30% {\n",
              "      border-color: transparent;\n",
              "      border-left-color: var(--fill-color);\n",
              "      border-top-color: var(--fill-color);\n",
              "      border-right-color: var(--fill-color);\n",
              "    }\n",
              "    40% {\n",
              "      border-color: transparent;\n",
              "      border-right-color: var(--fill-color);\n",
              "      border-top-color: var(--fill-color);\n",
              "    }\n",
              "    60% {\n",
              "      border-color: transparent;\n",
              "      border-right-color: var(--fill-color);\n",
              "    }\n",
              "    80% {\n",
              "      border-color: transparent;\n",
              "      border-right-color: var(--fill-color);\n",
              "      border-bottom-color: var(--fill-color);\n",
              "    }\n",
              "    90% {\n",
              "      border-color: transparent;\n",
              "      border-bottom-color: var(--fill-color);\n",
              "    }\n",
              "  }\n",
              "</style>\n",
              "\n",
              "  <script>\n",
              "    async function quickchart(key) {\n",
              "      const quickchartButtonEl =\n",
              "        document.querySelector('#' + key + ' button');\n",
              "      quickchartButtonEl.disabled = true;  // To prevent multiple clicks.\n",
              "      quickchartButtonEl.classList.add('colab-df-spinner');\n",
              "      try {\n",
              "        const charts = await google.colab.kernel.invokeFunction(\n",
              "            'suggestCharts', [key], {});\n",
              "      } catch (error) {\n",
              "        console.error('Error during call to suggestCharts:', error);\n",
              "      }\n",
              "      quickchartButtonEl.classList.remove('colab-df-spinner');\n",
              "      quickchartButtonEl.classList.add('colab-df-quickchart-complete');\n",
              "    }\n",
              "    (() => {\n",
              "      let quickchartButtonEl =\n",
              "        document.querySelector('#df-a60ddfb6-e181-4a09-a6af-9c5130312e87 button');\n",
              "      quickchartButtonEl.style.display =\n",
              "        google.colab.kernel.accessAllowed ? 'block' : 'none';\n",
              "    })();\n",
              "  </script>\n",
              "</div>\n",
              "    </div>\n",
              "  </div>\n"
            ]
          },
          "metadata": {},
          "execution_count": 168
        }
      ]
    },
    {
      "cell_type": "code",
      "source": [
        "# len(df_data), len(df_data_neut)+len(df_data_drop) # 확인"
      ],
      "metadata": {
        "colab": {
          "base_uri": "https://localhost:8080/"
        },
        "id": "lu_JM3QOul4k",
        "outputId": "c805cbe9-eadf-43ca-ffd0-8dfe0cdc5ddc"
      },
      "execution_count": null,
      "outputs": [
        {
          "output_type": "execute_result",
          "data": {
            "text/plain": [
              "45578"
            ]
          },
          "metadata": {},
          "execution_count": 206
        }
      ]
    },
    {
      "cell_type": "code",
      "source": [
        "# df_data = df_data_drop"
      ],
      "metadata": {
        "id": "35ctjGExwyIr"
      },
      "execution_count": null,
      "outputs": []
    },
    {
      "cell_type": "code",
      "source": [
        "# target_classes ={\n",
        "#     '공포': 0,\n",
        "#     '놀람': 1,\n",
        "#     '분노': 2,\n",
        "#     '슬픔': 3,\n",
        "#     # '중립': 4,\n",
        "#     '행복': 4,\n",
        "#     '혐오': 5\n",
        "#   }"
      ],
      "metadata": {
        "id": "CmOmShDevj5W"
      },
      "execution_count": null,
      "outputs": []
    }
  ]
}
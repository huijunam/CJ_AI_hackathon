{
  "nbformat": 4,
  "nbformat_minor": 0,
  "metadata": {
    "colab": {
      "provenance": [],
      "gpuType": "V100"
    },
    "kernelspec": {
      "name": "python3",
      "display_name": "Python 3"
    },
    "language_info": {
      "name": "python"
    },
    "accelerator": "GPU"
  },
  "cells": [
    {
      "cell_type": "markdown",
      "source": [
        "# KcELECTRA: Korean comments ELECTRA\n",
        "\n",
        "-깃헙 블로그 주소:  https://github.com/Beomi/KcELECTRA\n",
        "\n",
        "\n",
        "- KcELECTRA는 위와 같은 특성의 데이터셋에 적용하기 위해, 온라인 뉴스에서 댓글과 대댓글을 수집해,  토크나이저와 ELECTRA모델을 처음부터 학습한 Pretrained ELECTRA 모델입니다.\n",
        "- 기존 KcBERT 대비 데이터셋 증가 및 vocab 확장을 통해 상당한 수준으로 성능이 향상되었습니다.\n",
        "- KcELECTRA는 Huggingface의 Transformers 라이브러리를 통해 간편히 불러와 사용할 수 있습니다. (별도의 파일 다운로드가 필요하지 않습니다.)"
      ],
      "metadata": {
        "id": "Q5usmPIrs9zV"
      }
    },
    {
      "cell_type": "code",
      "source": [
        "!pip install transformers"
      ],
      "metadata": {
        "colab": {
          "base_uri": "https://localhost:8080/"
        },
        "id": "oBBqRxtiMlXq",
        "outputId": "af7d543e-7cc1-4eff-abd2-b5ad66633dab"
      },
      "execution_count": 1,
      "outputs": [
        {
          "output_type": "stream",
          "name": "stdout",
          "text": [
            "Requirement already satisfied: transformers in /usr/local/lib/python3.10/dist-packages (4.33.1)\n",
            "Requirement already satisfied: filelock in /usr/local/lib/python3.10/dist-packages (from transformers) (3.12.2)\n",
            "Requirement already satisfied: huggingface-hub<1.0,>=0.15.1 in /usr/local/lib/python3.10/dist-packages (from transformers) (0.17.1)\n",
            "Requirement already satisfied: numpy>=1.17 in /usr/local/lib/python3.10/dist-packages (from transformers) (1.23.5)\n",
            "Requirement already satisfied: packaging>=20.0 in /usr/local/lib/python3.10/dist-packages (from transformers) (23.1)\n",
            "Requirement already satisfied: pyyaml>=5.1 in /usr/local/lib/python3.10/dist-packages (from transformers) (6.0.1)\n",
            "Requirement already satisfied: regex!=2019.12.17 in /usr/local/lib/python3.10/dist-packages (from transformers) (2023.6.3)\n",
            "Requirement already satisfied: requests in /usr/local/lib/python3.10/dist-packages (from transformers) (2.31.0)\n",
            "Requirement already satisfied: tokenizers!=0.11.3,<0.14,>=0.11.1 in /usr/local/lib/python3.10/dist-packages (from transformers) (0.13.3)\n",
            "Requirement already satisfied: safetensors>=0.3.1 in /usr/local/lib/python3.10/dist-packages (from transformers) (0.3.3)\n",
            "Requirement already satisfied: tqdm>=4.27 in /usr/local/lib/python3.10/dist-packages (from transformers) (4.66.1)\n",
            "Requirement already satisfied: fsspec in /usr/local/lib/python3.10/dist-packages (from huggingface-hub<1.0,>=0.15.1->transformers) (2023.6.0)\n",
            "Requirement already satisfied: typing-extensions>=3.7.4.3 in /usr/local/lib/python3.10/dist-packages (from huggingface-hub<1.0,>=0.15.1->transformers) (4.5.0)\n",
            "Requirement already satisfied: charset-normalizer<4,>=2 in /usr/local/lib/python3.10/dist-packages (from requests->transformers) (3.2.0)\n",
            "Requirement already satisfied: idna<4,>=2.5 in /usr/local/lib/python3.10/dist-packages (from requests->transformers) (3.4)\n",
            "Requirement already satisfied: urllib3<3,>=1.21.1 in /usr/local/lib/python3.10/dist-packages (from requests->transformers) (2.0.4)\n",
            "Requirement already satisfied: certifi>=2017.4.17 in /usr/local/lib/python3.10/dist-packages (from requests->transformers) (2023.7.22)\n"
          ]
        }
      ]
    },
    {
      "cell_type": "code",
      "execution_count": 2,
      "metadata": {
        "id": "0pkbSHibMOZg"
      },
      "outputs": [],
      "source": [
        "import pandas as pd\n",
        "import numpy as np\n",
        "import torch\n",
        "import torch.nn as nn\n",
        "import torch.nn.functional as F\n",
        "import torch.optim as optim\n",
        "from torch.utils.data import Dataset, DataLoader\n",
        "from transformers import AutoTokenizer, AutoModelForSequenceClassification, AdamW\n",
        "from sklearn.model_selection import train_test_split"
      ]
    },
    {
      "cell_type": "code",
      "source": [
        "#드라이브 연동\n",
        "from google.colab import drive\n",
        "drive.mount('/content/drive')\n"
      ],
      "metadata": {
        "colab": {
          "base_uri": "https://localhost:8080/"
        },
        "id": "a4nkBogqNOAo",
        "outputId": "b90975a9-f683-45df-d040-6ce041897db8"
      },
      "execution_count": 3,
      "outputs": [
        {
          "output_type": "stream",
          "name": "stdout",
          "text": [
            "Drive already mounted at /content/drive; to attempt to forcibly remount, call drive.mount(\"/content/drive\", force_remount=True).\n"
          ]
        }
      ]
    },
    {
      "cell_type": "code",
      "source": [
        "# # Torch GPU 설정\n",
        "# device_type = 'cuda' if torch.cuda.is_available() else 'cpu'\n",
        "# device = torch.device(device_type)"
      ],
      "metadata": {
        "id": "9Ar2OciyNrrj"
      },
      "execution_count": 4,
      "outputs": []
    },
    {
      "cell_type": "markdown",
      "source": [
        "# 데이터 전처리"
      ],
      "metadata": {
        "id": "kMFCkHewi5tt"
      }
    },
    {
      "cell_type": "code",
      "source": [
        "data1 = pd.read_excel(\"/content/drive/MyDrive/Prog_All/Data/ko_단발성_대화_데이터셋.xlsx\", engine='openpyxl')\n",
        "data2 = pd.read_excel(\"/content/drive/MyDrive/Prog_All/Data/ko_연속적_대화_데이터셋.xlsx\", engine='openpyxl')"
      ],
      "metadata": {
        "id": "Jo-gulw3N1ZG"
      },
      "execution_count": 5,
      "outputs": []
    },
    {
      "cell_type": "code",
      "source": [
        "data1 = data1[['Sentence','Emotion']]\n",
        "data2 = data2[['Unnamed: 1','Unnamed: 2']]\n",
        "data2.drop([0],axis=0,inplace=True)\n",
        "data2.rename(columns={'Unnamed: 1':'Sentence','Unnamed: 2':'Emotion'},inplace=True)\n",
        "data2.replace('ㅍ','공포',inplace=True)\n",
        "data2.replace(['분','분ㄴ'],'분노',inplace=True)\n",
        "data2.replace(['ㅈ중립','중림','ㄴ중립','줄'],'분노',inplace=True)\n"
      ],
      "metadata": {
        "id": "bRuxBCOOONYM"
      },
      "execution_count": 6,
      "outputs": []
    },
    {
      "cell_type": "code",
      "source": [
        "# nan 제거\n",
        "data2 = data2.dropna(how='any')"
      ],
      "metadata": {
        "id": "v7t_U5SeOhMf"
      },
      "execution_count": 7,
      "outputs": []
    },
    {
      "cell_type": "code",
      "source": [
        "data1['Emotion'].unique()\n",
        "data2['Emotion'].unique()"
      ],
      "metadata": {
        "colab": {
          "base_uri": "https://localhost:8080/"
        },
        "id": "nIqARhPMOY-R",
        "outputId": "f6b46c1d-096f-4cd5-e0fd-9353e8f08483"
      },
      "execution_count": 8,
      "outputs": [
        {
          "output_type": "execute_result",
          "data": {
            "text/plain": [
              "array(['분노', '혐오', '중립', '놀람', '행복', '공포', '슬픔'], dtype=object)"
            ]
          },
          "metadata": {},
          "execution_count": 8
        }
      ]
    },
    {
      "cell_type": "code",
      "source": [
        "data = pd.concat([data1,data2])\n",
        "data.sample(n=10)"
      ],
      "metadata": {
        "colab": {
          "base_uri": "https://localhost:8080/",
          "height": 363
        },
        "id": "oQ_rM9cSOoMU",
        "outputId": "208faec1-666a-4acf-d263-bbf0ace00138"
      },
      "execution_count": 9,
      "outputs": [
        {
          "output_type": "execute_result",
          "data": {
            "text/plain": [
              "                                             Sentence Emotion\n",
              "20751                             이것저것 여러 가지 하고 있습니다.      중립\n",
              "36526  당분간 내가 집중공략 해야 하는 고객이 계시거든? 아침에 꼭 들렸다가 나와야하거든.      중립\n",
              "1460                                  형이 무섭긴 무섭구나. 응?      분노\n",
              "54725    아이들도 쉽게 만들 수 있는 거, 말이지…… 그런데 너, 집안일은 다 잘했잖아?      중립\n",
              "50466                     그랬나. 서두르지 않으면 돌이킬 수 없게 될거야.      중립\n",
              "11411                         애라이 저거 훔쳐가는 놈들 , 천벌 받는다      분노\n",
              "16768                         이래도 좌좀 좌빨 소리 지껄이는건 참 대단      분노\n",
              "30849                  아뇨. 원랜 되게 좋아하는데.. 오늘은 컨디션이 좀..      중립\n",
              "35373               저번 모임에도 안 나오시고, 한달에 반은 인도에 있다면서요?      중립\n",
              "7794                       남녀평등 수준이 한국보다 높은 나라들이 저 정도      놀람"
            ],
            "text/html": [
              "\n",
              "  <div id=\"df-cd537db8-411c-4f6c-9095-6b37ab5cb0b4\" class=\"colab-df-container\">\n",
              "    <div>\n",
              "<style scoped>\n",
              "    .dataframe tbody tr th:only-of-type {\n",
              "        vertical-align: middle;\n",
              "    }\n",
              "\n",
              "    .dataframe tbody tr th {\n",
              "        vertical-align: top;\n",
              "    }\n",
              "\n",
              "    .dataframe thead th {\n",
              "        text-align: right;\n",
              "    }\n",
              "</style>\n",
              "<table border=\"1\" class=\"dataframe\">\n",
              "  <thead>\n",
              "    <tr style=\"text-align: right;\">\n",
              "      <th></th>\n",
              "      <th>Sentence</th>\n",
              "      <th>Emotion</th>\n",
              "    </tr>\n",
              "  </thead>\n",
              "  <tbody>\n",
              "    <tr>\n",
              "      <th>20751</th>\n",
              "      <td>이것저것 여러 가지 하고 있습니다.</td>\n",
              "      <td>중립</td>\n",
              "    </tr>\n",
              "    <tr>\n",
              "      <th>36526</th>\n",
              "      <td>당분간 내가 집중공략 해야 하는 고객이 계시거든? 아침에 꼭 들렸다가 나와야하거든.</td>\n",
              "      <td>중립</td>\n",
              "    </tr>\n",
              "    <tr>\n",
              "      <th>1460</th>\n",
              "      <td>형이 무섭긴 무섭구나. 응?</td>\n",
              "      <td>분노</td>\n",
              "    </tr>\n",
              "    <tr>\n",
              "      <th>54725</th>\n",
              "      <td>아이들도 쉽게 만들 수 있는 거, 말이지…… 그런데 너, 집안일은 다 잘했잖아?</td>\n",
              "      <td>중립</td>\n",
              "    </tr>\n",
              "    <tr>\n",
              "      <th>50466</th>\n",
              "      <td>그랬나. 서두르지 않으면 돌이킬 수 없게 될거야.</td>\n",
              "      <td>중립</td>\n",
              "    </tr>\n",
              "    <tr>\n",
              "      <th>11411</th>\n",
              "      <td>애라이 저거 훔쳐가는 놈들 , 천벌 받는다</td>\n",
              "      <td>분노</td>\n",
              "    </tr>\n",
              "    <tr>\n",
              "      <th>16768</th>\n",
              "      <td>이래도 좌좀 좌빨 소리 지껄이는건 참 대단</td>\n",
              "      <td>분노</td>\n",
              "    </tr>\n",
              "    <tr>\n",
              "      <th>30849</th>\n",
              "      <td>아뇨. 원랜 되게 좋아하는데.. 오늘은 컨디션이 좀..</td>\n",
              "      <td>중립</td>\n",
              "    </tr>\n",
              "    <tr>\n",
              "      <th>35373</th>\n",
              "      <td>저번 모임에도 안 나오시고, 한달에 반은 인도에 있다면서요?</td>\n",
              "      <td>중립</td>\n",
              "    </tr>\n",
              "    <tr>\n",
              "      <th>7794</th>\n",
              "      <td>남녀평등 수준이 한국보다 높은 나라들이 저 정도</td>\n",
              "      <td>놀람</td>\n",
              "    </tr>\n",
              "  </tbody>\n",
              "</table>\n",
              "</div>\n",
              "    <div class=\"colab-df-buttons\">\n",
              "\n",
              "  <div class=\"colab-df-container\">\n",
              "    <button class=\"colab-df-convert\" onclick=\"convertToInteractive('df-cd537db8-411c-4f6c-9095-6b37ab5cb0b4')\"\n",
              "            title=\"Convert this dataframe to an interactive table.\"\n",
              "            style=\"display:none;\">\n",
              "\n",
              "  <svg xmlns=\"http://www.w3.org/2000/svg\" height=\"24px\" viewBox=\"0 -960 960 960\">\n",
              "    <path d=\"M120-120v-720h720v720H120Zm60-500h600v-160H180v160Zm220 220h160v-160H400v160Zm0 220h160v-160H400v160ZM180-400h160v-160H180v160Zm440 0h160v-160H620v160ZM180-180h160v-160H180v160Zm440 0h160v-160H620v160Z\"/>\n",
              "  </svg>\n",
              "    </button>\n",
              "\n",
              "  <style>\n",
              "    .colab-df-container {\n",
              "      display:flex;\n",
              "      gap: 12px;\n",
              "    }\n",
              "\n",
              "    .colab-df-convert {\n",
              "      background-color: #E8F0FE;\n",
              "      border: none;\n",
              "      border-radius: 50%;\n",
              "      cursor: pointer;\n",
              "      display: none;\n",
              "      fill: #1967D2;\n",
              "      height: 32px;\n",
              "      padding: 0 0 0 0;\n",
              "      width: 32px;\n",
              "    }\n",
              "\n",
              "    .colab-df-convert:hover {\n",
              "      background-color: #E2EBFA;\n",
              "      box-shadow: 0px 1px 2px rgba(60, 64, 67, 0.3), 0px 1px 3px 1px rgba(60, 64, 67, 0.15);\n",
              "      fill: #174EA6;\n",
              "    }\n",
              "\n",
              "    .colab-df-buttons div {\n",
              "      margin-bottom: 4px;\n",
              "    }\n",
              "\n",
              "    [theme=dark] .colab-df-convert {\n",
              "      background-color: #3B4455;\n",
              "      fill: #D2E3FC;\n",
              "    }\n",
              "\n",
              "    [theme=dark] .colab-df-convert:hover {\n",
              "      background-color: #434B5C;\n",
              "      box-shadow: 0px 1px 3px 1px rgba(0, 0, 0, 0.15);\n",
              "      filter: drop-shadow(0px 1px 2px rgba(0, 0, 0, 0.3));\n",
              "      fill: #FFFFFF;\n",
              "    }\n",
              "  </style>\n",
              "\n",
              "    <script>\n",
              "      const buttonEl =\n",
              "        document.querySelector('#df-cd537db8-411c-4f6c-9095-6b37ab5cb0b4 button.colab-df-convert');\n",
              "      buttonEl.style.display =\n",
              "        google.colab.kernel.accessAllowed ? 'block' : 'none';\n",
              "\n",
              "      async function convertToInteractive(key) {\n",
              "        const element = document.querySelector('#df-cd537db8-411c-4f6c-9095-6b37ab5cb0b4');\n",
              "        const dataTable =\n",
              "          await google.colab.kernel.invokeFunction('convertToInteractive',\n",
              "                                                    [key], {});\n",
              "        if (!dataTable) return;\n",
              "\n",
              "        const docLinkHtml = 'Like what you see? Visit the ' +\n",
              "          '<a target=\"_blank\" href=https://colab.research.google.com/notebooks/data_table.ipynb>data table notebook</a>'\n",
              "          + ' to learn more about interactive tables.';\n",
              "        element.innerHTML = '';\n",
              "        dataTable['output_type'] = 'display_data';\n",
              "        await google.colab.output.renderOutput(dataTable, element);\n",
              "        const docLink = document.createElement('div');\n",
              "        docLink.innerHTML = docLinkHtml;\n",
              "        element.appendChild(docLink);\n",
              "      }\n",
              "    </script>\n",
              "  </div>\n",
              "\n",
              "\n",
              "<div id=\"df-d3435e18-056f-40de-b728-f5e3509e8e39\">\n",
              "  <button class=\"colab-df-quickchart\" onclick=\"quickchart('df-d3435e18-056f-40de-b728-f5e3509e8e39')\"\n",
              "            title=\"Suggest charts.\"\n",
              "            style=\"display:none;\">\n",
              "\n",
              "<svg xmlns=\"http://www.w3.org/2000/svg\" height=\"24px\"viewBox=\"0 0 24 24\"\n",
              "     width=\"24px\">\n",
              "    <g>\n",
              "        <path d=\"M19 3H5c-1.1 0-2 .9-2 2v14c0 1.1.9 2 2 2h14c1.1 0 2-.9 2-2V5c0-1.1-.9-2-2-2zM9 17H7v-7h2v7zm4 0h-2V7h2v10zm4 0h-2v-4h2v4z\"/>\n",
              "    </g>\n",
              "</svg>\n",
              "  </button>\n",
              "\n",
              "<style>\n",
              "  .colab-df-quickchart {\n",
              "      --bg-color: #E8F0FE;\n",
              "      --fill-color: #1967D2;\n",
              "      --hover-bg-color: #E2EBFA;\n",
              "      --hover-fill-color: #174EA6;\n",
              "      --disabled-fill-color: #AAA;\n",
              "      --disabled-bg-color: #DDD;\n",
              "  }\n",
              "\n",
              "  [theme=dark] .colab-df-quickchart {\n",
              "      --bg-color: #3B4455;\n",
              "      --fill-color: #D2E3FC;\n",
              "      --hover-bg-color: #434B5C;\n",
              "      --hover-fill-color: #FFFFFF;\n",
              "      --disabled-bg-color: #3B4455;\n",
              "      --disabled-fill-color: #666;\n",
              "  }\n",
              "\n",
              "  .colab-df-quickchart {\n",
              "    background-color: var(--bg-color);\n",
              "    border: none;\n",
              "    border-radius: 50%;\n",
              "    cursor: pointer;\n",
              "    display: none;\n",
              "    fill: var(--fill-color);\n",
              "    height: 32px;\n",
              "    padding: 0;\n",
              "    width: 32px;\n",
              "  }\n",
              "\n",
              "  .colab-df-quickchart:hover {\n",
              "    background-color: var(--hover-bg-color);\n",
              "    box-shadow: 0 1px 2px rgba(60, 64, 67, 0.3), 0 1px 3px 1px rgba(60, 64, 67, 0.15);\n",
              "    fill: var(--button-hover-fill-color);\n",
              "  }\n",
              "\n",
              "  .colab-df-quickchart-complete:disabled,\n",
              "  .colab-df-quickchart-complete:disabled:hover {\n",
              "    background-color: var(--disabled-bg-color);\n",
              "    fill: var(--disabled-fill-color);\n",
              "    box-shadow: none;\n",
              "  }\n",
              "\n",
              "  .colab-df-spinner {\n",
              "    border: 2px solid var(--fill-color);\n",
              "    border-color: transparent;\n",
              "    border-bottom-color: var(--fill-color);\n",
              "    animation:\n",
              "      spin 1s steps(1) infinite;\n",
              "  }\n",
              "\n",
              "  @keyframes spin {\n",
              "    0% {\n",
              "      border-color: transparent;\n",
              "      border-bottom-color: var(--fill-color);\n",
              "      border-left-color: var(--fill-color);\n",
              "    }\n",
              "    20% {\n",
              "      border-color: transparent;\n",
              "      border-left-color: var(--fill-color);\n",
              "      border-top-color: var(--fill-color);\n",
              "    }\n",
              "    30% {\n",
              "      border-color: transparent;\n",
              "      border-left-color: var(--fill-color);\n",
              "      border-top-color: var(--fill-color);\n",
              "      border-right-color: var(--fill-color);\n",
              "    }\n",
              "    40% {\n",
              "      border-color: transparent;\n",
              "      border-right-color: var(--fill-color);\n",
              "      border-top-color: var(--fill-color);\n",
              "    }\n",
              "    60% {\n",
              "      border-color: transparent;\n",
              "      border-right-color: var(--fill-color);\n",
              "    }\n",
              "    80% {\n",
              "      border-color: transparent;\n",
              "      border-right-color: var(--fill-color);\n",
              "      border-bottom-color: var(--fill-color);\n",
              "    }\n",
              "    90% {\n",
              "      border-color: transparent;\n",
              "      border-bottom-color: var(--fill-color);\n",
              "    }\n",
              "  }\n",
              "</style>\n",
              "\n",
              "  <script>\n",
              "    async function quickchart(key) {\n",
              "      const quickchartButtonEl =\n",
              "        document.querySelector('#' + key + ' button');\n",
              "      quickchartButtonEl.disabled = true;  // To prevent multiple clicks.\n",
              "      quickchartButtonEl.classList.add('colab-df-spinner');\n",
              "      try {\n",
              "        const charts = await google.colab.kernel.invokeFunction(\n",
              "            'suggestCharts', [key], {});\n",
              "      } catch (error) {\n",
              "        console.error('Error during call to suggestCharts:', error);\n",
              "      }\n",
              "      quickchartButtonEl.classList.remove('colab-df-spinner');\n",
              "      quickchartButtonEl.classList.add('colab-df-quickchart-complete');\n",
              "    }\n",
              "    (() => {\n",
              "      let quickchartButtonEl =\n",
              "        document.querySelector('#df-d3435e18-056f-40de-b728-f5e3509e8e39 button');\n",
              "      quickchartButtonEl.style.display =\n",
              "        google.colab.kernel.accessAllowed ? 'block' : 'none';\n",
              "    })();\n",
              "  </script>\n",
              "</div>\n",
              "    </div>\n",
              "  </div>\n"
            ]
          },
          "metadata": {},
          "execution_count": 9
        }
      ]
    },
    {
      "cell_type": "code",
      "source": [
        "data.drop_duplicates(['Sentence','Emotion'],inplace=True) # 중복행 제거\n",
        "len(data)"
      ],
      "metadata": {
        "colab": {
          "base_uri": "https://localhost:8080/"
        },
        "id": "mB1ibzn2Osiw",
        "outputId": "800840d1-d73d-49fd-d58f-d8e119e08b77"
      },
      "execution_count": 10,
      "outputs": [
        {
          "output_type": "execute_result",
          "data": {
            "text/plain": [
              "90116"
            ]
          },
          "metadata": {},
          "execution_count": 10
        }
      ]
    },
    {
      "cell_type": "code",
      "source": [
        "num_labeling_dics ={\n",
        "    '공포': 0,\n",
        "    '놀람': 1,\n",
        "    '분노': 2,\n",
        "    '슬픔': 3,\n",
        "    '중립': 4,\n",
        "    '행복': 5,\n",
        "    '혐오': 6\n",
        "  }"
      ],
      "metadata": {
        "id": "JCiq0G8qOwWQ"
      },
      "execution_count": 11,
      "outputs": []
    },
    {
      "cell_type": "code",
      "source": [
        "# 감정 -> 숫자 레이블링\n",
        "for label_class in num_labeling_dics:\n",
        "    data.loc[(data['Emotion'] == label_class), 'Emotion'] = num_labeling_dics[label_class]"
      ],
      "metadata": {
        "id": "79ik5R5SPW7d"
      },
      "execution_count": 12,
      "outputs": []
    },
    {
      "cell_type": "code",
      "source": [
        "# data_list = []\n",
        "# for q, label in zip(data['Sentence'], data['Emotion'])  :\n",
        "#     check_data = []\n",
        "#     check_data.append(q)\n",
        "#     check_data.append(str(label))\n",
        "#     data_list.append(check_data)"
      ],
      "metadata": {
        "id": "-5FXfXvIPYYs"
      },
      "execution_count": 13,
      "outputs": []
    },
    {
      "cell_type": "code",
      "source": [
        "texts = []\n",
        "labels = []\n",
        "for q, label in zip(data['Sentence'], data['Emotion'])  :\n",
        "    texts.append(q)\n",
        "    labels.append((label))"
      ],
      "metadata": {
        "id": "XJquWr4fhVxc"
      },
      "execution_count": 14,
      "outputs": []
    },
    {
      "cell_type": "code",
      "source": [
        "texts"
      ],
      "metadata": {
        "id": "QOhEakD7hfYF"
      },
      "execution_count": null,
      "outputs": []
    },
    {
      "cell_type": "code",
      "source": [
        "labels"
      ],
      "metadata": {
        "id": "h0ObFwt9hlJw"
      },
      "execution_count": null,
      "outputs": []
    },
    {
      "cell_type": "code",
      "source": [
        "# print(data_list[0])\n",
        "# print(data_list[6000])\n",
        "# print(data_list[12000])\n",
        "# print(data_list[18000])\n",
        "# print(data_list[24000])\n",
        "# print(data_list[30000])\n",
        "# print(data_list[-1])"
      ],
      "metadata": {
        "id": "Rl-2m4s2Pdb-"
      },
      "execution_count": 17,
      "outputs": []
    },
    {
      "cell_type": "code",
      "source": [
        "data['Emotion'].value_counts()"
      ],
      "metadata": {
        "colab": {
          "base_uri": "https://localhost:8080/"
        },
        "id": "y2flpEFtP-gO",
        "outputId": "95c3370c-2792-4968-88d3-33540f69c9fe"
      },
      "execution_count": 18,
      "outputs": [
        {
          "output_type": "execute_result",
          "data": {
            "text/plain": [
              "4    45641\n",
              "1     9866\n",
              "2     9238\n",
              "3     7167\n",
              "5     7015\n",
              "6     5621\n",
              "0     5568\n",
              "Name: Emotion, dtype: int64"
            ]
          },
          "metadata": {},
          "execution_count": 18
        }
      ]
    },
    {
      "cell_type": "markdown",
      "source": [
        "# WandB"
      ],
      "metadata": {
        "id": "ClZT5rjwR1_1"
      }
    },
    {
      "cell_type": "code",
      "source": [
        "\n",
        "!pip install wandb"
      ],
      "metadata": {
        "colab": {
          "base_uri": "https://localhost:8080/"
        },
        "id": "rwbDFZdYR1Mx",
        "outputId": "eb8e4407-b09c-4665-ca55-e7edb54d9fed"
      },
      "execution_count": 19,
      "outputs": [
        {
          "output_type": "stream",
          "name": "stdout",
          "text": [
            "Requirement already satisfied: wandb in /usr/local/lib/python3.10/dist-packages (0.15.10)\n",
            "Requirement already satisfied: Click!=8.0.0,>=7.1 in /usr/local/lib/python3.10/dist-packages (from wandb) (8.1.7)\n",
            "Requirement already satisfied: GitPython!=3.1.29,>=1.0.0 in /usr/local/lib/python3.10/dist-packages (from wandb) (3.1.36)\n",
            "Requirement already satisfied: requests<3,>=2.0.0 in /usr/local/lib/python3.10/dist-packages (from wandb) (2.31.0)\n",
            "Requirement already satisfied: psutil>=5.0.0 in /usr/local/lib/python3.10/dist-packages (from wandb) (5.9.5)\n",
            "Requirement already satisfied: sentry-sdk>=1.0.0 in /usr/local/lib/python3.10/dist-packages (from wandb) (1.31.0)\n",
            "Requirement already satisfied: docker-pycreds>=0.4.0 in /usr/local/lib/python3.10/dist-packages (from wandb) (0.4.0)\n",
            "Requirement already satisfied: PyYAML in /usr/local/lib/python3.10/dist-packages (from wandb) (6.0.1)\n",
            "Requirement already satisfied: pathtools in /usr/local/lib/python3.10/dist-packages (from wandb) (0.1.2)\n",
            "Requirement already satisfied: setproctitle in /usr/local/lib/python3.10/dist-packages (from wandb) (1.3.2)\n",
            "Requirement already satisfied: setuptools in /usr/local/lib/python3.10/dist-packages (from wandb) (67.7.2)\n",
            "Requirement already satisfied: appdirs>=1.4.3 in /usr/local/lib/python3.10/dist-packages (from wandb) (1.4.4)\n",
            "Requirement already satisfied: protobuf!=4.21.0,<5,>=3.19.0 in /usr/local/lib/python3.10/dist-packages (from wandb) (3.20.3)\n",
            "Requirement already satisfied: six>=1.4.0 in /usr/local/lib/python3.10/dist-packages (from docker-pycreds>=0.4.0->wandb) (1.16.0)\n",
            "Requirement already satisfied: gitdb<5,>=4.0.1 in /usr/local/lib/python3.10/dist-packages (from GitPython!=3.1.29,>=1.0.0->wandb) (4.0.10)\n",
            "Requirement already satisfied: charset-normalizer<4,>=2 in /usr/local/lib/python3.10/dist-packages (from requests<3,>=2.0.0->wandb) (3.2.0)\n",
            "Requirement already satisfied: idna<4,>=2.5 in /usr/local/lib/python3.10/dist-packages (from requests<3,>=2.0.0->wandb) (3.4)\n",
            "Requirement already satisfied: urllib3<3,>=1.21.1 in /usr/local/lib/python3.10/dist-packages (from requests<3,>=2.0.0->wandb) (2.0.4)\n",
            "Requirement already satisfied: certifi>=2017.4.17 in /usr/local/lib/python3.10/dist-packages (from requests<3,>=2.0.0->wandb) (2023.7.22)\n",
            "Requirement already satisfied: smmap<6,>=3.0.1 in /usr/local/lib/python3.10/dist-packages (from gitdb<5,>=4.0.1->GitPython!=3.1.29,>=1.0.0->wandb) (5.0.0)\n"
          ]
        }
      ]
    },
    {
      "cell_type": "code",
      "source": [
        "\n",
        "!wandb login"
      ],
      "metadata": {
        "colab": {
          "base_uri": "https://localhost:8080/"
        },
        "id": "MQ0UXjbYR4kt",
        "outputId": "9555c3fd-98d7-4a1f-beb0-257109a70c20"
      },
      "execution_count": 20,
      "outputs": [
        {
          "output_type": "stream",
          "name": "stdout",
          "text": [
            "\u001b[34m\u001b[1mwandb\u001b[0m: Currently logged in as: \u001b[33mtracy110410\u001b[0m (\u001b[33mteam_5g\u001b[0m). Use \u001b[1m`wandb login --relogin`\u001b[0m to force relogin\n"
          ]
        }
      ]
    },
    {
      "cell_type": "code",
      "source": [
        "import wandb\n",
        "wandb.init(project=\"CJ_kcBERT\", entity='tracy110410')\n"
      ],
      "metadata": {
        "colab": {
          "base_uri": "https://localhost:8080/",
          "height": 141
        },
        "id": "_uoaWPxBR7eM",
        "outputId": "36545610-d115-4009-eb6a-8554bad64528"
      },
      "execution_count": 21,
      "outputs": [
        {
          "output_type": "stream",
          "name": "stderr",
          "text": [
            "\u001b[34m\u001b[1mwandb\u001b[0m: Currently logged in as: \u001b[33mtracy110410\u001b[0m. Use \u001b[1m`wandb login --relogin`\u001b[0m to force relogin\n"
          ]
        },
        {
          "output_type": "display_data",
          "data": {
            "text/plain": [
              "<IPython.core.display.HTML object>"
            ],
            "text/html": [
              "Tracking run with wandb version 0.15.10"
            ]
          },
          "metadata": {}
        },
        {
          "output_type": "display_data",
          "data": {
            "text/plain": [
              "<IPython.core.display.HTML object>"
            ],
            "text/html": [
              "Run data is saved locally in <code>/content/wandb/run-20230913_162500-nmo831sv</code>"
            ]
          },
          "metadata": {}
        },
        {
          "output_type": "display_data",
          "data": {
            "text/plain": [
              "<IPython.core.display.HTML object>"
            ],
            "text/html": [
              "Syncing run <strong><a href='https://wandb.ai/tracy110410/CJ_kcBERT/runs/nmo831sv' target=\"_blank\">rare-elevator-6</a></strong> to <a href='https://wandb.ai/tracy110410/CJ_kcBERT' target=\"_blank\">Weights & Biases</a> (<a href='https://wandb.me/run' target=\"_blank\">docs</a>)<br/>"
            ]
          },
          "metadata": {}
        },
        {
          "output_type": "display_data",
          "data": {
            "text/plain": [
              "<IPython.core.display.HTML object>"
            ],
            "text/html": [
              " View project at <a href='https://wandb.ai/tracy110410/CJ_kcBERT' target=\"_blank\">https://wandb.ai/tracy110410/CJ_kcBERT</a>"
            ]
          },
          "metadata": {}
        },
        {
          "output_type": "display_data",
          "data": {
            "text/plain": [
              "<IPython.core.display.HTML object>"
            ],
            "text/html": [
              " View run at <a href='https://wandb.ai/tracy110410/CJ_kcBERT/runs/nmo831sv' target=\"_blank\">https://wandb.ai/tracy110410/CJ_kcBERT/runs/nmo831sv</a>"
            ]
          },
          "metadata": {}
        },
        {
          "output_type": "execute_result",
          "data": {
            "text/html": [
              "<button onClick=\"this.nextSibling.style.display='block';this.style.display='none';\">Display W&B run</button><iframe src='https://wandb.ai/tracy110410/CJ_kcBERT/runs/nmo831sv?jupyter=true' style='border:none;width:100%;height:420px;display:none;'></iframe>"
            ],
            "text/plain": [
              "<wandb.sdk.wandb_run.Run at 0x7b0b889d7dc0>"
            ]
          },
          "metadata": {},
          "execution_count": 21
        }
      ]
    },
    {
      "cell_type": "code",
      "source": [],
      "metadata": {
        "id": "z26mA48Ui1J8"
      },
      "execution_count": null,
      "outputs": []
    },
    {
      "cell_type": "markdown",
      "source": [
        "# Custom DataSet 구성"
      ],
      "metadata": {
        "id": "OOnw_YZmi1p1"
      }
    },
    {
      "cell_type": "code",
      "source": [
        "class CustomDataset(Dataset):\n",
        "    def __init__(self, texts, labels, tokenizer, max_length):\n",
        "        self.texts = texts\n",
        "        self.labels = labels\n",
        "        self.tokenizer = tokenizer\n",
        "        self.max_length = max_length\n",
        "\n",
        "    def __len__(self):\n",
        "        return len(self.texts)\n",
        "\n",
        "    def __getitem__(self, index):\n",
        "        text = self.texts[index]\n",
        "        label = self.labels[index]\n",
        "\n",
        "        encoding = self.tokenizer(text, padding='max_length', truncation=True, max_length=self.max_length, return_tensors='pt')\n",
        "        input_ids = encoding['input_ids'].squeeze()\n",
        "        attention_mask = encoding['attention_mask'].squeeze()\n",
        "\n",
        "        return {'input_ids': input_ids, 'attention_mask': attention_mask, 'label': label}\n"
      ],
      "metadata": {
        "id": "Rww8qackMczV"
      },
      "execution_count": 22,
      "outputs": []
    },
    {
      "cell_type": "code",
      "source": [
        "def check_label(label):\n",
        "  if label['공포'] == 0:\n",
        "    return 0\n",
        "  elif label['놀람'] == 1:\n",
        "    return 1\n",
        "  elif label['분노'] == 2:\n",
        "    return 2\n",
        "  elif label['슬픔'] == 3:\n",
        "    return 3\n",
        "  elif label['중립'] == 4:\n",
        "    return 4\n",
        "  elif label['행복'] == 5:\n",
        "    return 5\n",
        "  elif label['혐오'] == 6:\n",
        "    return 6"
      ],
      "metadata": {
        "id": "f11yTTUUVhf_"
      },
      "execution_count": 23,
      "outputs": []
    },
    {
      "cell_type": "code",
      "source": [
        "# KcELECTRA 모델과 토크나이저 로드\n",
        "model_name = \"beomi/KcELECTRA-base-v2022\"\n",
        "tokenizer = AutoTokenizer.from_pretrained(model_name)\n",
        "model = AutoModelForSequenceClassification.from_pretrained(model_name, num_labels=7)\n"
      ],
      "metadata": {
        "colab": {
          "base_uri": "https://localhost:8080/"
        },
        "id": "dvhtTfS_O5c_",
        "outputId": "92028c08-b140-493a-8aa9-bd1881444980"
      },
      "execution_count": 24,
      "outputs": [
        {
          "output_type": "stream",
          "name": "stderr",
          "text": [
            "Some weights of ElectraForSequenceClassification were not initialized from the model checkpoint at beomi/KcELECTRA-base-v2022 and are newly initialized: ['classifier.dense.bias', 'classifier.out_proj.bias', 'classifier.dense.weight', 'classifier.out_proj.weight']\n",
            "You should probably TRAIN this model on a down-stream task to be able to use it for predictions and inference.\n"
          ]
        }
      ]
    },
    {
      "cell_type": "code",
      "source": [
        "# Setting parameters\n",
        "max_length = 128\n",
        "learning_rate = 1e-5\n",
        "num_epochs = 5\n",
        "batch_size = 64\n",
        "random_seed=123"
      ],
      "metadata": {
        "id": "Rv0fvqIAQ3mW"
      },
      "execution_count": 25,
      "outputs": []
    },
    {
      "cell_type": "code",
      "source": [
        "labels = torch.tensor(labels, dtype=torch.long)\n",
        "dataset = CustomDataset(texts, labels, tokenizer, max_length)"
      ],
      "metadata": {
        "id": "64Nqy7uOPBSs"
      },
      "execution_count": 26,
      "outputs": []
    },
    {
      "cell_type": "code",
      "source": [
        "# config\n",
        "wandb.config ={\n",
        "  \"learning_rate\": learning_rate,\n",
        "  \"epochs\": num_epochs,\n",
        "  \"batch_size\": batch_size,\n",
        "  \"seed\": random_seed\n",
        "}"
      ],
      "metadata": {
        "id": "GBoevK8DS5kz"
      },
      "execution_count": 27,
      "outputs": []
    },
    {
      "cell_type": "code",
      "source": [
        "# Train / Test set 분리\n",
        "from sklearn.model_selection import train_test_split\n",
        "train_data, test_data = train_test_split(dataset, test_size=0.2, random_state=42)"
      ],
      "metadata": {
        "id": "mJ8Q1i-oPIFu"
      },
      "execution_count": 28,
      "outputs": []
    },
    {
      "cell_type": "code",
      "source": [
        "train_dataloader = DataLoader(train_data, batch_size=batch_size, shuffle=True)\n",
        "valid_dataloader = DataLoader(test_data, batch_size=batch_size, shuffle=True)"
      ],
      "metadata": {
        "id": "XEhBKak0ijmY"
      },
      "execution_count": 29,
      "outputs": []
    },
    {
      "cell_type": "code",
      "source": [
        "train_data"
      ],
      "metadata": {
        "id": "Dzy9NlxgUuWX"
      },
      "execution_count": null,
      "outputs": []
    },
    {
      "cell_type": "code",
      "source": [
        "data_train = CustomDataset(train_data, labels, tokenizer, max_length)\n",
        "data_test = CustomDataset(test_data, labels, tokenizer, max_length)"
      ],
      "metadata": {
        "id": "lJQeHGxvTWs4"
      },
      "execution_count": 31,
      "outputs": []
    },
    {
      "cell_type": "code",
      "source": [
        "\n",
        "# 옵티마이저 및 손실 함수 설정\n",
        "optimizer = AdamW(model.parameters(), lr=learning_rate)\n",
        "criterion = nn.CrossEntropyLoss()"
      ],
      "metadata": {
        "colab": {
          "base_uri": "https://localhost:8080/"
        },
        "id": "lCxKKmQHkVw8",
        "outputId": "650f708f-af9d-47f9-a1aa-5029c657a28d"
      },
      "execution_count": 32,
      "outputs": [
        {
          "output_type": "stream",
          "name": "stderr",
          "text": [
            "/usr/local/lib/python3.10/dist-packages/transformers/optimization.py:411: FutureWarning: This implementation of AdamW is deprecated and will be removed in a future version. Use the PyTorch implementation torch.optim.AdamW instead, or set `no_deprecation_warning=True` to disable this warning\n",
            "  warnings.warn(\n"
          ]
        }
      ]
    },
    {
      "cell_type": "code",
      "source": [
        "# device = torch.device(\"cuda:0\" if torch.cuda.is_available() else \"cpu\")\n",
        "# model = model.to(device)"
      ],
      "metadata": {
        "id": "YQctNnxklxu1"
      },
      "execution_count": 33,
      "outputs": []
    },
    {
      "cell_type": "code",
      "source": [
        "if torch.cuda.is_available():\n",
        "    device = torch.device(\"cuda\")\n",
        "    print('There are %d GPU(s) available.' % torch.cuda.device_count())\n",
        "    print('We will use the GPU:', torch.cuda.get_device_name(0))\n",
        "else:\n",
        "    device = torch.device(\"cpu\")\n",
        "    print('No GPU available, using the CPU instead.')\n",
        "\n",
        "model = model.to(device)"
      ],
      "metadata": {
        "id": "pRgeqFR0phr7",
        "colab": {
          "base_uri": "https://localhost:8080/"
        },
        "outputId": "b4c0de05-31ff-4745-80b6-3f1d00429314"
      },
      "execution_count": 34,
      "outputs": [
        {
          "output_type": "stream",
          "name": "stdout",
          "text": [
            "There are 1 GPU(s) available.\n",
            "We will use the GPU: Tesla V100-SXM2-16GB\n"
          ]
        }
      ]
    },
    {
      "cell_type": "markdown",
      "source": [
        "https://breezymind.com/kcbert-find-tuning/"
      ],
      "metadata": {
        "id": "aQ6jiLX702WJ"
      }
    },
    {
      "cell_type": "markdown",
      "source": [
        "# 모델 재학습과 평가"
      ],
      "metadata": {
        "id": "esZqU3lJiwBD"
      }
    },
    {
      "cell_type": "code",
      "source": [
        "\n",
        "# 모델 재학습\n",
        "for epoch in range(num_epochs):\n",
        "    model.train()\n",
        "    total_loss = 0\n",
        "\n",
        "    for batch in train_dataloader:\n",
        "        input_ids = batch['input_ids']\n",
        "        attention_mask = batch['attention_mask']\n",
        "        labels = batch['label']\n",
        "\n",
        "        input_ids = input_ids.to(device)\n",
        "        attention_mask = attention_mask.to(device)\n",
        "        labels = labels.to(device)\n",
        "\n",
        "        # 그래디언트 초기화\n",
        "        optimizer.zero_grad()\n",
        "        # 모델에 입력을 주어 예측을 생성합니다.\n",
        "        outputs = model(input_ids, attention_mask=attention_mask)\n",
        "        # 모델 출력에서 로짓(분류에 대한 점수)을 얻습니다.\n",
        "        logits = outputs.logits\n",
        "        # 손실을 계산합니다.\n",
        "        loss = criterion(logits, labels)\n",
        "        # 역전파를 통해 그래디언트 계산\n",
        "        loss.backward()\n",
        "        # 옵티마이저를 사용해 가중치를 업데이트\n",
        "        optimizer.step()\n",
        "        # 에포크 전체 손실을 누적합니다.\n",
        "        total_loss += loss.item()\n",
        "\n",
        "    # 에포크 평균 손실 계산\n",
        "    avg_loss = total_loss / len(train_dataloader)\n",
        "    # 에포크별 손실 출력\n",
        "    print(f\"Epoch {epoch+1}/{num_epochs} - Avg Loss: {avg_loss:.4f}\")\n",
        "\n",
        "    # 모델 평가\n",
        "    model.eval()\n",
        "    val_total_loss = 0\n",
        "    correct = 0\n",
        "    total = 0\n",
        "\n",
        "    with torch.no_grad():\n",
        "        for val_batch in valid_dataloader:\n",
        "            # Validation 데이터 가져오기\n",
        "            val_input_ids = val_batch['input_ids']\n",
        "            val_attention_mask = val_batch['attention_mask']\n",
        "            val_labels = val_batch['label']\n",
        "\n",
        "            val_input_ids = val_input_ids.to(device)\n",
        "            val_attention_mask = val_attention_mask.to(device)\n",
        "            val_labels = val_labels.to(device)\n",
        "\n",
        "            # 모델 예측\n",
        "            val_outputs = model(val_input_ids, attention_mask=val_attention_mask)\n",
        "            val_logits = val_outputs.logits\n",
        "\n",
        "            # 손실 계산\n",
        "            val_loss = criterion(val_logits, val_labels)\n",
        "            val_total_loss += val_loss.item()\n",
        "\n",
        "            # 정확도 계산\n",
        "            val_preds = val_logits.argmax(dim=1)\n",
        "            correct += (val_preds == val_labels).sum().item()\n",
        "            total += val_labels.size(0)\n",
        "\n",
        "    val_avg_loss = val_total_loss / len(valid_dataloader)\n",
        "    val_accuracy = correct / total\n",
        "    print(f\"Validation Loss: {val_avg_loss:.4f} - Validation Accuracy: {val_accuracy:.4f}\")"
      ],
      "metadata": {
        "colab": {
          "base_uri": "https://localhost:8080/"
        },
        "id": "un6WsD4nQpVR",
        "outputId": "0be5bda3-ad3d-461f-e056-1a96b484d6fa"
      },
      "execution_count": 35,
      "outputs": [
        {
          "output_type": "stream",
          "name": "stdout",
          "text": [
            "Epoch 1/5 - Avg Loss: 1.0225\n",
            "Validation Loss: 0.8280 - Validation Accuracy: 0.7022\n",
            "Epoch 2/5 - Avg Loss: 0.7718\n",
            "Validation Loss: 0.8002 - Validation Accuracy: 0.7118\n",
            "Epoch 3/5 - Avg Loss: 0.6907\n",
            "Validation Loss: 0.8055 - Validation Accuracy: 0.7116\n",
            "Epoch 4/5 - Avg Loss: 0.6152\n",
            "Validation Loss: 0.8356 - Validation Accuracy: 0.7074\n",
            "Epoch 5/5 - Avg Loss: 0.5743\n",
            "Validation Loss: 0.8774 - Validation Accuracy: 0.7052\n"
          ]
        }
      ]
    },
    {
      "cell_type": "markdown",
      "source": [
        "# 모델 저장 및 로드"
      ],
      "metadata": {
        "id": "DS3o293dirmC"
      }
    },
    {
      "cell_type": "code",
      "source": [
        "# 모델 저장\n",
        "model_save_path = \"kc_bert_emotion_classifier.pth\"\n",
        "torch.save(model.state_dict(), model_save_path)\n",
        "\n",
        "# 모델 아키텍처 생성\n",
        "loaded_model = AutoModelForSequenceClassification.from_pretrained(\"beomi/kcbert-base\", num_labels=11)\n",
        "\n",
        "# 저장된 가중치 불러오기\n",
        "loaded_model.load_state_dict(torch.load(model_save_path))\n",
        "\n",
        "# 모델을 평가 모드로 설정\n",
        "loaded_model.eval()"
      ],
      "metadata": {
        "id": "0J9uaIS9irNQ"
      },
      "execution_count": null,
      "outputs": []
    },
    {
      "cell_type": "markdown",
      "source": [
        "#  모델 테스트 하기"
      ],
      "metadata": {
        "id": "LK5Pt4nGilFd"
      }
    },
    {
      "cell_type": "code",
      "source": [
        "def valid_label(label):\n",
        "    if label == 0:\n",
        "        return '공포'\n",
        "    elif label == 1:\n",
        "        return '놀람'\n",
        "    elif label == 2:\n",
        "        return '분노'\n",
        "    elif label == 3:\n",
        "        return '슬픔'\n",
        "    elif label == 4:\n",
        "        return '중립'\n",
        "    elif label == 5:\n",
        "        return '행복'\n",
        "    elif label == 6:\n",
        "        return '혐오'"
      ],
      "metadata": {
        "id": "MehY_DmmURIK"
      },
      "execution_count": 38,
      "outputs": []
    },
    {
      "cell_type": "code",
      "source": [
        "# 입력 데이터 준비\n",
        "input_data = [\n",
        "    \"만 개의 요리 레시피 감사합니다.\",\n",
        "    \"백종원은 우리집 요리사.\",\n",
        "    \"은근슬쩍 나올려고하네....?\",\n",
        "    \"한심하다 한심한 인간들 득실득실해 ㅋㅋ\",\n",
        "    \"가을이다...벌써 가을....\",\n",
        "    \"아이폰이 답이다.......\",\n",
        "    \"와...사진으로만으로도 압도되는데?.....\",\n",
        "    \"내부자들 현실판 미쳤다 현실세계 ㄷㄷㄷㄷㄷ\",\n",
        "    \"집에 가면 녹초가 된다고 너무 피곤해 요즘.....\",\n",
        "    \"밥 먹을 힘도 없다 ㅠㅠ..\",\n",
        "    \"너가 왠일이여???\",\n",
        "    \"배고파서 짜증나.....\",\n",
        "    \"아몬드브리즈 정말 맛있군\"\n",
        "    ]"
      ],
      "metadata": {
        "id": "7mTkYijuSUoR"
      },
      "execution_count": 45,
      "outputs": []
    },
    {
      "cell_type": "code",
      "source": [
        "import torch\n",
        "\n",
        "# Set the device (CPU or GPU) based on the availability of GPUs\n",
        "device = torch.device(\"cuda:0\" if torch.cuda.is_available() else \"cpu\")\n",
        "\n",
        "# Move the model to the selected device\n",
        "model.to(device)\n",
        "\n",
        "# Tokenize and encode your input_data on the same device\n",
        "input_encodings = tokenizer(input_data, padding=True, truncation=True, return_tensors=\"pt\").to(device)\n",
        "\n",
        "# Ensure the model is in evaluation mode\n",
        "model.eval()\n",
        "\n",
        "# Pass the input data to the model\n",
        "with torch.no_grad():\n",
        "    output = model(**input_encodings)\n",
        "\n",
        "# The rest of your code for prediction remains the same\n",
        "logits = output.logits\n",
        "predicted_labels = logits.argmax(dim=1)\n",
        "\n",
        "for i, input_text in enumerate(input_data):\n",
        "    predicted_label = predicted_labels[i].item()\n",
        "    print(f\"Input: {input_text} - Predicted Label: {valid_label(predicted_label)}\")\n"
      ],
      "metadata": {
        "colab": {
          "base_uri": "https://localhost:8080/"
        },
        "id": "uBjnoIgwaYmC",
        "outputId": "761d3f54-cd84-4e43-c791-efcc597a3bb5"
      },
      "execution_count": 46,
      "outputs": [
        {
          "output_type": "stream",
          "name": "stdout",
          "text": [
            "Input: 만 개의 요리 레시피 감사합니다. - Predicted Label: 행복\n",
            "Input: 백종원은 우리집 요리사. - Predicted Label: 중립\n",
            "Input: 은근슬쩍 나올려고하네....? - Predicted Label: 놀람\n",
            "Input: 한심하다 한심한 인간들 득실득실해 ㅋㅋ - Predicted Label: 혐오\n",
            "Input: 가을이다...벌써 가을.... - Predicted Label: 중립\n",
            "Input: 아이폰이 답이다....... - Predicted Label: 중립\n",
            "Input: 와...사진으로만으로도 압도되는데?..... - Predicted Label: 놀람\n",
            "Input: 내부자들 현실판 미쳤다 현실세계 ㄷㄷㄷㄷㄷ - Predicted Label: 놀람\n",
            "Input: 집에 가면 녹초가 된다고 너무 피곤해 요즘..... - Predicted Label: 슬픔\n",
            "Input: 밥 먹을 힘도 없다 ㅠㅠ.. - Predicted Label: 슬픔\n",
            "Input: 너가 왠일이여??? - Predicted Label: 놀람\n",
            "Input: 배고파서 짜증나..... - Predicted Label: 슬픔\n",
            "Input: 아몬드브리즈 정말 맛있군 - Predicted Label: 행복\n"
          ]
        }
      ]
    },
    {
      "cell_type": "code",
      "source": [
        "def predict(sentence, model, tokenizer):\n",
        "    # Move the model to the device\n",
        "    device = next(model.parameters()).device\n",
        "\n",
        "    input_sentence = [sentence]\n",
        "    input_encodings = tokenizer(input_sentence, padding=True, truncation=True, return_tensors=\"pt\").to(device)\n",
        "\n",
        "    # 모델에 입력 데이터 전달\n",
        "    with torch.no_grad():\n",
        "        output = model(**input_encodings)\n",
        "\n",
        "    # 예측 결과 확인\n",
        "    logits = output.logits\n",
        "    predicted_labels = logits.argmax(dim=1)\n",
        "\n",
        "    # 예측 결과 출력\n",
        "    for i, input_text in enumerate(input_sentence):\n",
        "        predicted_label = predicted_labels[i].item()\n",
        "        print(f\"Input: {input_text} - Predicted Label: {valid_label(predicted_label)}\")\n"
      ],
      "metadata": {
        "id": "mJtNbb87SOuo"
      },
      "execution_count": 50,
      "outputs": []
    },
    {
      "cell_type": "code",
      "source": [
        "\n",
        "#질문 무한반복하기! 0 입력시 종료\n",
        "while True:\n",
        "    sentence = input(\"하고싶은 말을 입력해주세요 : \")\n",
        "    if sentence == \"0\" :\n",
        "        print(\"감정 분석을 종료합니다.\")\n",
        "        break\n",
        "    predict(sentence, model, tokenizer)\n",
        "    print(\"\\n\")"
      ],
      "metadata": {
        "colab": {
          "base_uri": "https://localhost:8080/"
        },
        "id": "eWrJqoUxLJmL",
        "outputId": "1f3bdff6-5e23-45e9-af4f-463d1990981d"
      },
      "execution_count": 51,
      "outputs": [
        {
          "output_type": "stream",
          "name": "stdout",
          "text": [
            "하고싶은 말을 입력해주세요 : 아몬드 브리즈는 너무 맛있지만 약간 비싸서\n",
            "Input: 아몬드 브리즈는 너무 맛있지만 약간 비싸서 - Predicted Label: 행복\n",
            "\n",
            "\n",
            "하고싶은 말을 입력해주세요 : 반갑습니다. 오늘 아침에는 뭐 드셨어요?\n",
            "Input: 반갑습니다. 오늘 아침에는 뭐 드셨어요? - Predicted Label: 중립\n",
            "\n",
            "\n",
            "하고싶은 말을 입력해주세요 : 지금 잠도 못자고 모델 돌리고 있는 나의 모습.....너무 피곤하고 자고 싶어!!!!ㅜㅜㅜㅜ\n",
            "Input: 지금 잠도 못자고 모델 돌리고 있는 나의 모습.....너무 피곤하고 자고 싶어!!!!ㅜㅜㅜㅜ - Predicted Label: 슬픔\n",
            "\n",
            "\n",
            "하고싶은 말을 입력해주세요 : 어쩌라고 세상아\n",
            "Input: 어쩌라고 세상아 - Predicted Label: 분노\n",
            "\n",
            "\n",
            "하고싶은 말을 입력해주세요 : 0\n",
            "감정 분석을 종료합니다.\n"
          ]
        }
      ]
    }
  ]
}